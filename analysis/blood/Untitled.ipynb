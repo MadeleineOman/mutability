{
 "cells": [
  {
   "cell_type": "code",
   "execution_count": null,
   "id": "306c5339-35ae-40b9-b849-7d52f97e4d43",
   "metadata": {},
   "outputs": [],
   "source": []
  },
  {
   "cell_type": "markdown",
   "id": "95ac12e0-712e-4aaf-9c86-844edf804c37",
   "metadata": {},
   "source": [
    "# **Lets create the big dataframe for blood**\n"
   ]
  },
  {
   "cell_type": "markdown",
   "id": "98bc222a-72b7-4bc4-9c67-e83df5583598",
   "metadata": {},
   "source": [
    "**strucutre of this notebook :**\n",
    "1. **Blood sites on blood data**\n",
    "    - 1.1 imports \n",
    "    - 1.2 get all mutant sites \n",
    "    - 1.3 append non-mut sites --> no overlap with mutant sites (takes 20mins) \n",
    "    - 1.4 basic declarations for the loop --> nte that still not using all tracks (ie hapmap ) \n",
    "    - 1.5 diagnostics (Xed out for script: was an interactive chunk) \n",
    "    - 1.6 big daddy loop \n",
    "    - 1.7 loop print error lists "
   ]
  },
  {
   "cell_type": "code",
   "execution_count": 1,
   "id": "e2c71662-0893-4ccb-a4ad-4aa409963fe8",
   "metadata": {},
   "outputs": [],
   "source": [
    "dnase_file = \"data/blood/track_data/DNAse/wgEncodeUwDnaseSeqRawSignalRep1Gm12878.bed.gz\"\n",
    "h3k27ac_file = \"data/blood/track_data/H3k27/wgEncodeBroadChipSeqSignalGm12878H3k27ac.bed.gz\"\n",
    "h3k4me1_file = \"data/blood/track_data/H3k4me1/wgEncodeBroadChipSeqSignalGm12878H3k4me1.bed.gz\"\n",
    "h3k4me3_file = \"data/blood/track_data/H3k4me3/wgEncodeBroadChipSeqSignalGm12878H3k4me3.bed.gz\"\n",
    "# methylationCHG_file = \"bgzip  data/blood/track_data/methylation/methylation_CHG.bed.gz\"\n",
    "# methylationCHH_file = \"bgzip data/blood/track_data/methylation/methylation_CHH.bed.gz\"\n",
    "# methylationCpG_file = \"bgzip data/blood/track_data/methylation/methylation_CpG.bed.g\n",
    "laminB1_file = \"data/global/track_data/laminB1/hg18.laminB1.bed.gz\"\n",
    "recombination_file = \"data/global/track_data/recombination/recombination.bed.gz\"\n",
    "repeats_file = \"data/global/track_data/repeats/repeats.bed.gz\"\n",
    "replication_file = \"data/global/track_data/replication/replication.bed.gz\"\n",
    "# phastcons_fileLoc = \"data/global/track_data/phastcons/\"\n",
    "\n",
    "#dictionry where i specify which col contains the information in the datafile , 0 indexed \n",
    "tracksColFile_dict = {\"H3k27\":[4,\"../../data/blood/track_data/H3k27/wgEncodeBroadChipSeqSignalGm12878H3k27ac.bed.gz\"], \n",
    "                      \"H3k4me1\":[4,\"../../data/blood/track_data/H3k4me1/wgEncodeBroadChipSeqSignalGm12878H3k4me1.bed.gz\"], \n",
    "                       \"H3k4me3\":[4,\"../../data/blood/track_data/H3k4me3/wgEncodeBroadChipSeqSignalGm12878H3k4me3.bed.gz\"], \n",
    "                      \"DNAse\":[4,\"../../data/blood/track_data/DNAse/wgEncodeUwDnaseSeqRawSignalRep1Gm12878.bed.gz\"], \n",
    "                      \"laminB1\":[4,\"../../data/global/track_data/laminB1/hg18.laminB1.bed.gz\"], \n",
    "                      \"recombination\": [4,\"../../data/global/track_data/recombination/recombination.bed.gz\"],\n",
    "                       \"Repeats\":[\"binary\", \"../../data/global/track_data/repeats/repeats.bed.gz\"],\n",
    "                      \"Replication\":[3,\"../../data/global/track_data/replication/replication.bed.gz\"]} #remove nucmec/dennis, phastcons, "
   ]
  },
  {
   "cell_type": "markdown",
   "id": "2d618911-cddb-4edf-95d4-e7e3428a225c",
   "metadata": {},
   "source": [
    "## **1.1 imports** "
   ]
  },
  {
   "cell_type": "code",
   "execution_count": 10,
   "id": "85e900c2-49f5-4540-9c12-339eae122b35",
   "metadata": {},
   "outputs": [],
   "source": [
    "import random\n",
    "import pandas as pd\n",
    "import numpy as np \n",
    "from numpy.random import choice\n",
    "import matplotlib.pyplot as plt\n",
    "import collections\n",
    "from Bio import AlignIO\n",
    "import pysam \n",
    "from tqdm import tqdm \n",
    "from datetime import datetime\n",
    "import gzip "
   ]
  },
  {
   "cell_type": "markdown",
   "id": "2cd9cd2f-1fca-4f56-98dc-e45f4f97ad5d",
   "metadata": {},
   "source": [
    "## **1.2  mutant sites list** "
   ]
  },
  {
   "cell_type": "code",
   "execution_count": 3,
   "id": "47089aca-4b25-40f2-80f0-1a09ab4fb141",
   "metadata": {},
   "outputs": [],
   "source": [
    "mutations_lines = open('../../data/blood/mutations/blood_mutations_hg18_sorted_tabdelim.bed').readlines()"
   ]
  },
  {
   "cell_type": "code",
   "execution_count": 4,
   "id": "66f1507d-3301-4278-a37d-ae8bb4aae49c",
   "metadata": {},
   "outputs": [
    {
     "data": {
      "text/plain": [
       "'chr1\\t1212518\\t1212519\\tID_1_individual_2_single-cell_1\\tC\\tT\\t0.59\\tSCNN1D\\texon\\tY=>Y\\t-\\thuman\\tfemale\\t39\\tblood(hematopoietic_stem/progenitor_cells,HSPCs)\\twhole_genome_sequencing(single-stem-cell_clonal_culture)\\tbone_marrow_mononuclear_cells\\n'"
      ]
     },
     "execution_count": 4,
     "metadata": {},
     "output_type": "execute_result"
    }
   ],
   "source": [
    "mutations_lines[1]"
   ]
  },
  {
   "cell_type": "code",
   "execution_count": 5,
   "id": "11860bc6-b442-4f5d-8cab-bb362fc119bd",
   "metadata": {},
   "outputs": [
    {
     "name": "stdout",
     "output_type": "stream",
     "text": [
      "387   non chrN muts (ommited) from these lables: ['chr17_random' 'chr21_random' 'chrX' 'chrY']\n",
      "number included mutations = 8776\n"
     ]
    }
   ],
   "source": [
    "#create a dictionary where each chrom key will have a n empty list  \n",
    "muts_bychrom_dict = {}\n",
    "for x in range(1,23): \n",
    "    key_string = 'chr{n}'.format(n=x)\n",
    "    muts_bychrom_dict[key_string] = []\n",
    "    \n",
    "#fill each chromosome's empty list  with the sites for that chrom \n",
    "non_chrnMuts = []#create list of chrom names that dont belong to chrN format --> disgnostic \n",
    "for x in range(1,len(mutations_lines)): \n",
    "    chrom_mut = mutations_lines[x].split()[0]\n",
    "    mut_startSite = mutations_lines[x].split()[1]\n",
    "    if chrom_mut in muts_bychrom_dict.keys():                  #controlling for chrX/chrY\n",
    "        muts_bychrom_dict[chrom_mut].append(mut_startSite)\n",
    "    else: \n",
    "        non_chrnMuts.append(chrom_mut)\n",
    "\n",
    "        \n",
    "#testing making usre the only sites that dont make it are sex chromosome mutations \n",
    "print(len(non_chrnMuts),\"  non chrN muts (ommited) from these lables:\", np.unique(non_chrnMuts))\n",
    "\n",
    "#add the sites infro from file \n",
    "sites = []#sites = list of sites \n",
    "for chrom_key in muts_bychrom_dict.keys(): \n",
    "    for mutation_element in muts_bychrom_dict[chrom_key]: \n",
    "        sites.append([chrom_key, int(mutation_element),1]) #the 1 is for mutation status column. 1 = yes \n",
    "        \n",
    "print(\"number included mutations = \" +str(len(sites)))"
   ]
  },
  {
   "cell_type": "markdown",
   "id": "c3502061-efc3-4f52-93cc-7895b78a7ec8",
   "metadata": {},
   "source": [
    "## **1.3 append non-mutations to sites list** "
   ]
  },
  {
   "cell_type": "code",
   "execution_count": 6,
   "id": "8357e23c-7596-4ea2-9fa3-cca2c9a7f666",
   "metadata": {
    "tags": []
   },
   "outputs": [
    {
     "name": "stderr",
     "output_type": "stream",
     "text": [
      "100%|█████████████████████████████████████████████████████████████████████████████████████████| 8776/8776 [00:01<00:00, 6506.18it/s]\n"
     ]
    }
   ],
   "source": [
    "#get chrom length information so I can perform weighted choice for non-mut site selection \n",
    "ChromLengths = pd.read_csv('../../data/global/sequence/hg38_chromosomelengths.csv') #read in the csv file of hg38 chrom lengths I found on the internets \n",
    "total_length=0 #lets sum (get the total length) \n",
    "for length in list(ChromLengths.Length): \n",
    "    total_length+=int(length.replace(\",\",\"\"))\n",
    "\n",
    "#build dictionary to store porbability \n",
    "dict_lengths = {}#creat emepty dictionary \n",
    "for x in range (0,22): \n",
    "        tmp_index = x +1\n",
    "        length = str(ChromLengths[x:x+1]).split()[4]\n",
    "        length = length.replace(\",\", \"\")\n",
    "        length = int(length)\n",
    "        dict_lengths[\"chr\"+str(tmp_index)] = length\n",
    "\n",
    "#make the porbability of choosing a chrom based on length \n",
    "list_0chroms = ['chr01', 'chr02', 'chr03','chr04','chr05','chr06','chr07','chr08','chr09','chr10','chr11','chr12','chr13','chr14','chr15','chr16','chr17','chr18','chr19','chr20','chr21','chr22']\n",
    "list_chroms = ['chr' + str(i) for i in range(1, 23)]\n",
    "list_chrom_probabilities = []\n",
    "for chrom in list_chroms: \n",
    "    list_chrom_probabilities.append(dict_lengths[chrom]/total_length)\n",
    "\n",
    "#maing sure the probability list sums to one (arbitrarily add the rounding error to chr1)\n",
    "list_chrom_probabilities[0] = list_chrom_probabilities[0]+1-sum(list_chrom_probabilities) # adds the 0.00000001 left from rounding errors to the chr1 so sum adds perfectly to 1. \n",
    "assert(sum(list_chrom_probabilities)==1)\n",
    "\n",
    "#perfrom the non-mutant site draw \n",
    "number_nonmuts = len(sites)\n",
    "chrom_draw = choice(list_chroms, number_nonmuts,p=list_chrom_probabilities)\n",
    "\n",
    "#visualize the draw: \n",
    "#print(collections.Counter(draw))\n",
    "\n",
    "#make the sites list with the chr# and site \n",
    "for chrom in tqdm(chrom_draw): \n",
    "    site_draw = random.randrange(1,dict_lengths[chrom])\n",
    "    if [chrom,site_draw] not in sites: \n",
    "        sites.append([chrom,site_draw,0]) # the 0 if for the mutation status column. 0 = no \n",
    "# print(len(sites))\n",
    "#haha there was one mutation overlap!! "
   ]
  },
  {
   "cell_type": "markdown",
   "id": "cb1d6e95-2656-4685-a67d-74bd34133294",
   "metadata": {},
   "source": [
    "## **1.4 basic declarations for the loop** "
   ]
  },
  {
   "cell_type": "markdown",
   "id": "462ded14-0669-4346-859e-f9a6dbf2e28c",
   "metadata": {},
   "source": [
    "**tissue specific declarations (may chnage b/t somatic models )** "
   ]
  },
  {
   "cell_type": "code",
   "execution_count": 7,
   "id": "c77c20cd-37d3-4446-b878-b8f1637f8dbf",
   "metadata": {},
   "outputs": [],
   "source": [
    "mutations_df = pd.read_table('../../data/blood/mutations/blood_mutations_hg18_sorted_tabdelim.bed', header = None)"
   ]
  },
  {
   "cell_type": "code",
   "execution_count": 8,
   "id": "48fb94d2-6efb-419d-b316-74402d68aaa8",
   "metadata": {
    "tags": []
   },
   "outputs": [],
   "source": [
    "#rename header for easier access down the line \n",
    "#replace space with underscore, / with Or, and Age(yars) with AgeInYears\n",
    "mutations_df.columns = ['chromosome',  'start',  'fake_end', 'file_ID',  'Reference_allele', 'Variant_allele', 'VAF', 'Gene_name', 'Region',\n",
    " 'AA', 'COSMIC', 'Species', 'Gender', 'Age(years)', 'Tissue/Cell_type', 'Single-cell_genomics_biotechnology/Method', 'Control_sample/tissue']\n",
    "\n",
    "\n",
    "mutations_list = mutations_df.start.values.tolist()  # may need to chnage the name ofwhich coloumn has the mutations "
   ]
  },
  {
   "cell_type": "markdown",
   "id": "0a5ff554-1ad2-4d5d-9c33-04072a89f9a6",
   "metadata": {},
   "source": [
    "**declarations that should stay the same for all tissues** "
   ]
  },
  {
   "cell_type": "code",
   "execution_count": 12,
   "id": "e91efb8e-6c0e-43f3-806c-09c1ae1ae557",
   "metadata": {},
   "outputs": [
    {
     "name": "stderr",
     "output_type": "stream",
     "text": [
      "100%|███████████████████████████████████████████████████████████████████████████████████████████████| 22/22 [00:53<00:00,  2.42s/it]\n"
     ]
    }
   ],
   "source": [
    "#basic declarations (constants) \n",
    "list_tissueSpecific_tracks = [\"Transcription\", \"DNAse\", \"H3k4me1\", \"H3k4me3\", \"H3k27\"]\n",
    "\n",
    "row =[] #final product that gets printed to file (after str conversion)\n",
    "\n",
    "alignment_discordant = []                                    #used to collect all the instances where the hg18 fasta result doesnt match the mutation dataset \"Ref\" column \n",
    "tracks_NA_is_zero = [\"Transcription\", \"laminB1\", \"Repeats\", \"H3k4me1\", \"H3k4me3\", \"H3k27\", \"DNAse\"] #remove nucmec/dennis\n",
    "list_no_seq_at_site = []\n",
    "list_sites_outOfBufferRange = []\n",
    "\n",
    "fastas_dict = {}   # creating dictionary with fasta alignment, length of seq, \n",
    "for chrom in tqdm(list_chroms):\n",
    "    filename_tmp = \"../../data/global/sequence/{c}.fa.gz\".format(c=chrom)\n",
    "    fastas_dict[chrom] = []\n",
    "    with gzip.open(filename_tmp, \"rt\") as handle:\n",
    "        fastas_dict[chrom].append(AlignIO.read(handle,\"fasta\"))\n",
    "        alignment_tmp = fastas_dict[chrom][0]\n",
    "        fastas_dict[chrom].append(len(str(alignment_tmp[0].seq)))\n",
    "\n",
    "\n",
    "#variable declaration  \n",
    "list_of_surrounding_contexts = [0,100,10000] #note if you chnagee/ increase this, then you oncrese the buffer zone (not using sites in the buffer, len(dna)-max_distance )\n",
    "distance_max = max(list_of_surrounding_contexts)"
   ]
  },
  {
   "cell_type": "markdown",
   "id": "b3ebc873-2014-4784-93ca-339af04da908",
   "metadata": {},
   "source": [
    "# **1.6 big daddy loop** "
   ]
  },
  {
   "cell_type": "markdown",
   "id": "905d7fe9-df7e-4241-9e9e-4b181b3fc893",
   "metadata": {},
   "source": [
    "**table creation notes** \n",
    "1. no overlapping non-muts sites \n",
    "2. sites are picked allover the genome (ind of buffer) but then sites outside buffer excluded from table \n",
    "    - can keep track of sites in \"list_sites_outOfBufferrange\n",
    "3. if the site was mutant, then triplet centre base chnages (not good!) "
   ]
  },
  {
   "cell_type": "code",
   "execution_count": null,
   "id": "7fcb5ec7-1bc3-46b6-a22f-47adb4f9f27f",
   "metadata": {},
   "outputs": [
    {
     "name": "stderr",
     "output_type": "stream",
     "text": [
      "  5%|████▋                                                                                    | 930/17552 [15:11<4:26:42,  1.04it/s]"
     ]
    }
   ],
   "source": [
    "#code: \n",
    "timestamp = datetime.now().strftime(\"%Y/%m/%d\").replace(\"/\", \"_\").replace(\":\", \"_\")\n",
    "with open('../../data/blood/predictorDf_{t}_updatedTriplet_refTriplet.txt'.format(t=timestamp), 'w') as f:                                                    # opening line to write to a file \n",
    "    \n",
    "    header = \"Chromosome\"+ \"\\t\"+\"site\"+\"\\t\" +\"triplet\"+\"\\t\"+\"mutation_status\"                        # creating the begining of the header \n",
    "    for trackname in tracksColFile_dict.keys():                                                     # the rest of the header is a function of tracks \n",
    "        for distance in list_of_surrounding_contexts:                                                # and distance (need a col for every track and for every distance value within ) \n",
    "            header = header + \"\\t\"+str(trackname)+\"-\"+str(distance)\n",
    "    for distance in list_of_surrounding_contexts:                                                    # creating the end of the header assoc with no track (the seqeunce at different \n",
    "        header = header + \"\\t\"+\"Apercent-\"+str(distance)+ \"\\t\"+\"Gpercent-\"+str(distance)+ \"\\t\"+\"Cpercent-\"+str(distance)+ \"\\t\"+\"Tpercent-\"+str(distance)   # distace values) \n",
    "    header = header +\"\\n\"                                                                            # obviously needs to end with a \\n \n",
    "    f.write(header)                                                                                  #write header to file \n",
    "\n",
    "    \n",
    "    for site in tqdm(sites): \n",
    "        if site[1] <= distance_max or site[1]+distance_max >= fastas_dict[site[0]][1]:               # only use sites that will have values for site +- max distance (buffer). second element in fastas dict is the length \n",
    "            list_sites_outOfBufferRange.append(site)\n",
    "        \n",
    "        else: \n",
    "            row = []\n",
    "            row.extend([site[0], site[1]])\n",
    "            alignment = fastas_dict[site[0]][0]                                                       #create the alingment from the list of fastas \n",
    "            \n",
    "            \n",
    "            #makes the triplet depending on itf mutant or nah \n",
    "            if site[2] ==1:                                     #muts_by-chrom_dict is literally a dictionary containing list of sites that are mutations in that chrom. \n",
    "                mutation_row = mutations_df[(mutations_df.chromosome == site[0]) & (mutations_df.start == site[1])]  #get the row containing mut info out of the df \n",
    "\n",
    "                mutation_bp = mutation_row.Variant_allele.values[0]\n",
    "                mutated_triplet = str(alignment[0,site[1]-1])+str(mutation_bp)+str(alignment[0,site[1]+1]).upper()\n",
    "\n",
    "                old_bp = mutation_row.Reference_allele.values[0]\n",
    "                old_triplet = str(alignment[0,site[1]-1])+str(old_bp)+str(alignment[0,site[1]+1]).upper()\n",
    "\n",
    "                row.extend([old_triplet, 1])#usin the old/ref triplet in the df instead (the mutation happened to the old triplet! )\n",
    "\n",
    "                seq_triplet = str(alignment[0,site[1]-1:site[1]+2].seq)\n",
    "                if old_triplet.upper() != seq_triplet.upper(): \n",
    "                    alignment_discordant.append(old_triplet+\" \"+str(mutation_row)+\" \"+str(sites.index(site))+\" \"+str(site))\n",
    "                    \n",
    "            else: \n",
    "                triplet= str(alignment[0,site[1]-1:site[1]+2].seq).upper()\n",
    "                row.extend([triplet,0])\n",
    "            \n",
    "            #converting fro 0 to nomral chrom lists so can get correct files \n",
    "#             index_chromConversion = list_chroms.index(site[0])                                        #takes the first element of site (chr from tabix) and searches for the index within the list. \n",
    "#             chrom_forFiles = list_0chroms[index_chromConversion]                                      #used the previous index to get out the ch 0 number needed for the files : chr01 \n",
    "\n",
    "            #track stuff \n",
    "            for trackname,track_val in tracksColFile_dict.items():                 \n",
    "                \n",
    "                filename = track_val[1]                   \n",
    "                    \n",
    "                for distance in list_of_surrounding_contexts: \n",
    "                    #track_output = [record for record in pysam.Tabixfile(filename).fetch(site[0], site[1]-distance, site[1]+distance+1)]\n",
    "                    if not [record for record in pysam.Tabixfile(filename).fetch(site[0], site[1]-distance, site[1]+distance+1)]:                #if no value at that site \n",
    "                        if trackname in tracks_NA_is_zero: \n",
    "                            row.append(0)\n",
    "                        else: \n",
    "                            row.extend([\"NA\"])                                                                                      \n",
    "\n",
    "                    else:                                                   \n",
    "                        track_output = [record for record in pysam.Tabixfile(filename).fetch(site[0], site[1]-distance, site[1]+distance+1)]\n",
    "                        multiple_values = []\n",
    "                        if tracksColFile_dict[trackname][0] == 4:\n",
    "                            for element in track_output: \n",
    "                                multiple_values.append(float(element.split()[4]))\n",
    "                            #print(multiple_values)\n",
    "                            average_value = sum(multiple_values)/len(multiple_values) \n",
    "                            row.append(average_value)\n",
    "                        elif tracksColFile_dict[trackname][0] == 3: \n",
    "                            for element in track_output: \n",
    "                                multiple_values.append(float(element.split()[3]))\n",
    "                            #print(multiple_values)\n",
    "                            average_value = sum(multiple_values)/len(multiple_values) \n",
    "                            row.append(average_value)\n",
    "                        elif tracksColFile_dict[trackname][0] == 'binary': \n",
    "                            row.append(len(track_output))\n",
    "                        else: \n",
    "                            print(\"ERROR: track coloumns not 4 or 5 or binary\")\n",
    "                            print(tracksColFile_dict[trackname])\n",
    "\n",
    "            #sequence stuff                \n",
    "            for distance in list_of_surrounding_contexts: \n",
    "                seq_around = str(alignment[0,site[1]-1:site[1]+1+1].seq)\n",
    "                if seq_around != '': \n",
    "                    seq_around = str(alignment[0,site[1]-distance:site[1]+distance+1].seq)\n",
    "                    Acount = seq_around.count('a')+seq_around.count(\"A\")\n",
    "                    Gcount = seq_around.count('g')+seq_around.count(\"G\")\n",
    "                    Ccount = seq_around.count('c')+seq_around.count(\"C\")\n",
    "                    Tcount = seq_around.count('t')+seq_around.count(\"T\")\n",
    "                    Apercent = Acount/len(seq_around)\n",
    "                    Gpercent = Gcount/len(seq_around)\n",
    "                    Cpercent = Ccount/len(seq_around)\n",
    "                    Tpercent = Tcount/len(seq_around)\n",
    "                    row.extend([Apercent, Gpercent, Cpercent, Tpercent])\n",
    "                else: \n",
    "                    row.extend(['NA','NA','NA','NA'])\n",
    "                    list_no_seq_at_site.append(site)\n",
    "            #print(header\n",
    "            #print(row)          \n",
    "            #print(len(row))\n",
    "            row_string = str()\n",
    "            for i in range(0,len(row)): \n",
    "                row_string = row_string+str(row[i])+\"\\t\"\n",
    "            row_string = row_string.rstrip(\"\\t\")\n",
    "            row_string = row_string+\"\\n\"\n",
    "            f.write(row_string)\n",
    "print(len(list_sites_outOfBufferRange))"
   ]
  },
  {
   "cell_type": "markdown",
   "id": "0325f56b-5db9-48f9-98a7-da299e9499cf",
   "metadata": {},
   "source": [
    "## ** 1.7 printing error output of the model ** "
   ]
  },
  {
   "cell_type": "code",
   "execution_count": 15,
   "id": "6bb2a9c7-7401-4162-8633-93b1acb5465e",
   "metadata": {},
   "outputs": [
    {
     "name": "stdout",
     "output_type": "stream",
     "text": [
      "65\n",
      "4\n",
      "0\n"
     ]
    }
   ],
   "source": [
    "print(len(list_sites_outOfBufferRange))\n",
    "print(len(alignment_discordant))\n",
    "print(len( list_no_seq_at_site))"
   ]
  },
  {
   "cell_type": "code",
   "execution_count": 20,
   "id": "e0a82c98-e004-4636-be15-d82e97d1d652",
   "metadata": {},
   "outputs": [
    {
     "data": {
      "text/plain": [
       "\"gAG     chromosome      start   fake_end                          file_ID  \\\\\\n319       chr1  142126165  142126166  ID_6_individual_1_single-cell_4   \\n\\n    Reference_allele Variant_allele       VAF Gene_name      Region AA COSMIC  \\\\\\n319                A              G  0.333333         -  intergenic  -      -   \\n\\n    Species Gender Age(years)                            Tissue/Cell_type  \\\\\\n319   human   male         31  blood(bone_marrow_mononuclear_cells,CD34+)   \\n\\n             Single-cell_genomics_biotechnology/Method  \\\\\\n319  whole_genome_sequencing(iPSC_based_single-cell...   \\n\\n                                Control_sample/tissue  \\n319  blood(bone_marrow_mononuclear_cells,CD34+)(bulk)   318 ['chr1', 142126165, 1]\""
      ]
     },
     "execution_count": 20,
     "metadata": {},
     "output_type": "execute_result"
    }
   ],
   "source": [
    "(alignment_discordant[0])"
   ]
  },
  {
   "cell_type": "code",
   "execution_count": 22,
   "id": "642de236-072d-45a2-9142-3195f4356ceb",
   "metadata": {},
   "outputs": [
    {
     "data": {
      "text/plain": [
       "'GCG'"
      ]
     },
     "execution_count": 22,
     "metadata": {},
     "output_type": "execute_result"
    }
   ],
   "source": [
    "old_triplet"
   ]
  },
  {
   "cell_type": "code",
   "execution_count": 21,
   "id": "bbfdbb7d-7035-4322-9444-6a42932cac3f",
   "metadata": {},
   "outputs": [
    {
     "data": {
      "text/html": [
       "<div>\n",
       "<style scoped>\n",
       "    .dataframe tbody tr th:only-of-type {\n",
       "        vertical-align: middle;\n",
       "    }\n",
       "\n",
       "    .dataframe tbody tr th {\n",
       "        vertical-align: top;\n",
       "    }\n",
       "\n",
       "    .dataframe thead th {\n",
       "        text-align: right;\n",
       "    }\n",
       "</style>\n",
       "<table border=\"1\" class=\"dataframe\">\n",
       "  <thead>\n",
       "    <tr style=\"text-align: right;\">\n",
       "      <th></th>\n",
       "      <th>chromosome</th>\n",
       "      <th>start</th>\n",
       "      <th>fake_end</th>\n",
       "      <th>file_ID</th>\n",
       "      <th>Reference_allele</th>\n",
       "      <th>Variant_allele</th>\n",
       "      <th>VAF</th>\n",
       "      <th>Gene_name</th>\n",
       "      <th>Region</th>\n",
       "      <th>AA</th>\n",
       "      <th>COSMIC</th>\n",
       "      <th>Species</th>\n",
       "      <th>Gender</th>\n",
       "      <th>Age(years)</th>\n",
       "      <th>Tissue/Cell_type</th>\n",
       "      <th>Single-cell_genomics_biotechnology/Method</th>\n",
       "      <th>Control_sample/tissue</th>\n",
       "    </tr>\n",
       "  </thead>\n",
       "  <tbody>\n",
       "    <tr>\n",
       "      <th>4905</th>\n",
       "      <td>chr22</td>\n",
       "      <td>48723308</td>\n",
       "      <td>48723309</td>\n",
       "      <td>ID_1_individual_1_single-cell_2</td>\n",
       "      <td>C</td>\n",
       "      <td>T</td>\n",
       "      <td>0.57</td>\n",
       "      <td>-</td>\n",
       "      <td>intergenic</td>\n",
       "      <td>-</td>\n",
       "      <td>-</td>\n",
       "      <td>human</td>\n",
       "      <td>female</td>\n",
       "      <td>73</td>\n",
       "      <td>blood(hematopoietic_stem/progenitor_cells,HSPCs)</td>\n",
       "      <td>whole_genome_sequencing(single-stem-cell_clona...</td>\n",
       "      <td>bone_marrow_mononuclear_cells</td>\n",
       "    </tr>\n",
       "  </tbody>\n",
       "</table>\n",
       "</div>"
      ],
      "text/plain": [
       "     chromosome     start  fake_end                          file_ID  \\\n",
       "4905      chr22  48723308  48723309  ID_1_individual_1_single-cell_2   \n",
       "\n",
       "     Reference_allele Variant_allele   VAF Gene_name      Region AA COSMIC  \\\n",
       "4905                C              T  0.57         -  intergenic  -      -   \n",
       "\n",
       "     Species  Gender Age(years)  \\\n",
       "4905   human  female         73   \n",
       "\n",
       "                                      Tissue/Cell_type  \\\n",
       "4905  blood(hematopoietic_stem/progenitor_cells,HSPCs)   \n",
       "\n",
       "              Single-cell_genomics_biotechnology/Method  \\\n",
       "4905  whole_genome_sequencing(single-stem-cell_clona...   \n",
       "\n",
       "              Control_sample/tissue  \n",
       "4905  bone_marrow_mononuclear_cells  "
      ]
     },
     "execution_count": 21,
     "metadata": {},
     "output_type": "execute_result"
    }
   ],
   "source": [
    "mutation_row"
   ]
  }
 ],
 "metadata": {
  "kernelspec": {
   "display_name": "Python [conda env:.conda-mutability] *",
   "language": "python",
   "name": "conda-env-.conda-mutability-py"
  },
  "language_info": {
   "codemirror_mode": {
    "name": "ipython",
    "version": 3
   },
   "file_extension": ".py",
   "mimetype": "text/x-python",
   "name": "python",
   "nbconvert_exporter": "python",
   "pygments_lexer": "ipython3",
   "version": "3.9.6"
  }
 },
 "nbformat": 4,
 "nbformat_minor": 5
}
