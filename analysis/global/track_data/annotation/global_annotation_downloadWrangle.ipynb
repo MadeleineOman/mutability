{
 "cells": [
  {
   "cell_type": "markdown",
   "id": "2fa8a55e",
   "metadata": {},
   "source": [
    "# global annotations file download wrangle~~~~~~~~~~~~~~~~~~~~~~~~~~~~~~~~~~~~~~~~~~~~~~~~~\n",
    "- downloaded from: \n",
    "    - GRCh38_latest_genomic.gff.gz : \n",
    "        - https://www.ncbi.nlm.nih.gov/genome/guide/human/\n",
    "        - \"RefSeq Reference Genome Annotation\" \"GRCh38\"\n",
    "    - ncbi refseq -->chr# conversion \n",
    "        - https://hgdownload.soe.ucsc.edu/goldenPath/hg38/database/\n",
    "        - description of this file: (at https://hgdownload.cse.ucsc.edu/goldenpath/hg38/bigZips/) \n",
    "            - Sequence names^^^^^^^^^^^^^^\n",
    "            - For historical reasons, what UCSC calls \"chr1\", Ensembl calls \"1\" and NCBI calls \"NC_000067.6\". The sequences are identical though. To map between UCSC, Ensembl and NCBI names, use our table \"chromAlias\", available via our Table Browser or as file: \n",
    "                - https://hgdownload.cse.ucsc.edu/goldenPath/mm10/database/chromAlias.txt.gz\n",
    "        - wrong link to file, so replaced \"mm10\" (mouse) to the human hg38\n",
    "    - gencode.v39.annotation.gff3.gz : \n",
    "        - https://www.gencodegenes.org/human/\n",
    "        - \"Comprehensive gene annotation\" \"Gff3\" \n",
    "- download date: \n",
    "    - check the wget output \n",
    "        - wget_output.txt = ncbi \n",
    "        - wget_output1.txt = gencode \n",
    "- genome build \n",
    "    - both GRCh38 --> converto to hg18. \n",
    "- file format & head: \n"
   ]
  },
  {
   "cell_type": "code",
   "execution_count": 1,
   "id": "720b69f2",
   "metadata": {},
   "outputs": [],
   "source": [
    "# !mkdir ../../../../data/global/track_data/annotation/"
   ]
  },
  {
   "cell_type": "code",
   "execution_count": 2,
   "id": "fde7d84d",
   "metadata": {},
   "outputs": [],
   "source": [
    "%%bash\n",
    "cd ../../../../\n",
    "wget https://ftp.ncbi.nlm.nih.gov/refseq/H_sapiens/annotation/GRCh38_latest/refseq_identifiers/GRCh38_latest_genomic.gff.gz -P data/global/track_data/annotation/ -o data/global/track_data/annotation/wget_ouput.txt\n",
    "    "
   ]
  },
  {
   "cell_type": "code",
   "execution_count": 21,
   "id": "9ef671c9",
   "metadata": {
    "tags": []
   },
   "outputs": [],
   "source": [
    "%%bash \n",
    "cd ../../../../\n",
    "zcat data/global/track_data/annotation/GRCh38_latest_genomic.gff.gz | grep -v \"#\" | awk '{print $3}' | sort | uniq -c > data/global/track_data/annotation/GRCh38_latest_genomic_summary.txt"
   ]
  },
  {
   "cell_type": "code",
   "execution_count": 17,
   "id": "27cab3b2",
   "metadata": {},
   "outputs": [],
   "source": [
    "%%bash \n",
    "cd ../../../../\n",
    "wget https://ftp.ebi.ac.uk/pub/databases/gencode/Gencode_human/release_39/gencode.v39.annotation.gff3.gz -P data/global/track_data/annotation/ -o data/global/track_data/annotation/wget_ouput1.txt"
   ]
  },
  {
   "cell_type": "code",
   "execution_count": 22,
   "id": "9102b3c5",
   "metadata": {
    "tags": []
   },
   "outputs": [],
   "source": [
    "%%bash \n",
    "cd ../../../../\n",
    "zcat data/global/track_data/annotation/gencode.v39.annotation.gff3.gz | grep -v \"#\" | awk '{print $3}' | sort | uniq -c > data/global/track_data/annotation/gencode.v39.annotation_summary.txt"
   ]
  },
  {
   "cell_type": "markdown",
   "id": "aca6e3d7",
   "metadata": {},
   "source": [
    "## **converting the ncbi refseq into chr#**"
   ]
  },
  {
   "cell_type": "code",
   "execution_count": 33,
   "id": "e5678df3",
   "metadata": {},
   "outputs": [
    {
     "name": "stdout",
     "output_type": "stream",
     "text": [
      "--2022-03-28 16:33:59--  https://hgdownload.soe.ucsc.edu/goldenPath/hg38/database/chromAlias.txt.gz\n",
      "Resolving hgdownload.soe.ucsc.edu (hgdownload.soe.ucsc.edu)... 128.114.119.163\n",
      "Connecting to hgdownload.soe.ucsc.edu (hgdownload.soe.ucsc.edu)|128.114.119.163|:443... connected.\n",
      "HTTP request sent, awaiting response... 200 OK\n",
      "Length: 12065 (12K) [application/x-gzip]\n",
      "Saving to: ‘../../../../data/global/track_data/annotation/chromAlias.txt.gz’\n",
      "\n",
      "100%[======================================>] 12,065      --.-K/s   in 0s      \n",
      "\n",
      "2022-03-28 16:34:00 (84.5 MB/s) - ‘../../../../data/global/track_data/annotation/chromAlias.txt.gz’ saved [12065/12065]\n",
      "\n"
     ]
    }
   ],
   "source": [
    "!wget https://hgdownload.soe.ucsc.edu/goldenPath/hg38/database/chromAlias.txt.gz  -P ../../../../data/global/track_data/annotation/"
   ]
  },
  {
   "cell_type": "code",
   "execution_count": 1,
   "id": "161afd46",
   "metadata": {},
   "outputs": [],
   "source": [
    "import gzip\n",
    "with gzip.open(\"../../../../data/global/track_data/annotation/GRCh38_latest_genomic.gff.gz\", \"rt\") as handle:\n",
    "        ncbi_annotation_lines = handle.readlines()\n",
    "with gzip.open(\"../../../../data/global/track_data/annotation/chromAlias.txt.gz\", \"rt\") as handle:\n",
    "        conversion_lines = handle.readlines()"
   ]
  },
  {
   "cell_type": "code",
   "execution_count": 2,
   "id": "b8ef9ee0",
   "metadata": {},
   "outputs": [],
   "source": [
    "conversion_dict = {}\n",
    "for line in conversion_lines: \n",
    "    if \"refseq\" in line:\n",
    "        conversion_dict[line.split()[0]] = line.split()[1]\n",
    "del(conversion_lines)"
   ]
  },
  {
   "cell_type": "code",
   "execution_count": 3,
   "id": "e10b0e12",
   "metadata": {},
   "outputs": [],
   "source": [
    "assert len(set(list(conversion_dict.values()))) == len(conversion_dict.values())# no duplicates\n",
    "assert len(set(list(conversion_dict.keys()))) == len(conversion_dict.keys())#no duplicates "
   ]
  },
  {
   "cell_type": "code",
   "execution_count": 4,
   "id": "901174fc",
   "metadata": {
    "tags": []
   },
   "outputs": [],
   "source": [
    "from datetime import datetime\n",
    "timestamp = datetime.now().strftime(\"%Y/%m/%d\").replace(\"/\", \"_\").replace(\":\", \"_\")\n",
    "with open('../../../../data/global/track_data/annotation/GRCh38_latest_genomic_converted.gff'.format(t=timestamp), 'w') as f: \n",
    "    for i,line in enumerate(ncbi_annotation_lines): \n",
    "        if line[0] != \"#\" : # i already double checked that this doesnt leave out some annotation lines\n",
    "            line_split = line.split(\"\\t\")\n",
    "            refseq,source,feature,start,end,value_1,strand,value_2,ID = line_split\n",
    "            chr_n = conversion_dict[refseq]\n",
    "            string_to_write = chr_n+\"\\t\"+source+\"\\t\"+feature+\"\\t\"+start+\"\\t\"+end+\"\\t\"+value_1+\"\\t\"+strand+\"\\t\"+value_2+\"\\t\"+refseq+\"\\t\"+ID\n",
    "            string_to_write = string_to_write.replace(\" \",\"_\")\n",
    "            f.write(string_to_write)"
   ]
  },
  {
   "cell_type": "markdown",
   "id": "cb5d4900",
   "metadata": {},
   "source": [
    "# **combine**"
   ]
  },
  {
   "cell_type": "code",
   "execution_count": 7,
   "id": "27a664d7",
   "metadata": {},
   "outputs": [],
   "source": [
    "! cat ../../../../data/global/track_data/annotation/GRCh38_latest_genomic_converted.gff > ../../../../data/global/track_data/annotation/global_annotation.gff\n"
   ]
  },
  {
   "cell_type": "code",
   "execution_count": 11,
   "id": "698d0a23",
   "metadata": {},
   "outputs": [],
   "source": [
    "%%bash \n",
    "cd ../../../../\n",
    "zcat data/global/track_data/annotation/gencode.v39.annotation.gff3.gz | grep -v \"#\" >> data/global/track_data/annotation/global_annotation.gff"
   ]
  },
  {
   "cell_type": "code",
   "execution_count": 13,
   "id": "f7c0dc83",
   "metadata": {},
   "outputs": [],
   "source": [
    "%%bash \n",
    "cd ../../../../\n",
    "sort -k1,1 -k4,4n data/global/track_data/annotation/global_annotation.gff >  data/global/track_data/annotation/global_annotation_sorted.gff"
   ]
  },
  {
   "cell_type": "code",
   "execution_count": 14,
   "id": "b0ed66cf",
   "metadata": {},
   "outputs": [],
   "source": [
    "%%bash \n",
    "cd ../../../../\n",
    "bgzip data/global/track_data/annotation/global_annotation_sorted.gff"
   ]
  },
  {
   "cell_type": "code",
   "execution_count": 15,
   "id": "7820db5b",
   "metadata": {
    "tags": []
   },
   "outputs": [],
   "source": [
    "%%bash \n",
    "cd ../../../../\n",
    "tabix -p gff data/global/track_data/annotation/global_annotation_sorted.gff.gz"
   ]
  },
  {
   "cell_type": "code",
   "execution_count": 19,
   "id": "ace94760",
   "metadata": {},
   "outputs": [
    {
     "name": "stdout",
     "output_type": "stream",
     "text": [
      "chr1\tRefSeq\tregion\t1\t248956422\t.\t+\t.\tNC_000001.11\tID=NC_000001.11:1..248956422;Dbxref=taxon:9606;Name=1;chromosome=1;gbkey=Src;genome=chromosome;mol_type=genomic_DNA\n"
     ]
    }
   ],
   "source": [
    "%%bash \n",
    "cd ../../../../\n",
    "tabix  data/global/track_data/annotation/global_annotation_sorted.gff.gz chr1:1000-10000"
   ]
  },
  {
   "cell_type": "code",
   "execution_count": 1,
   "id": "33f41774",
   "metadata": {},
   "outputs": [
    {
     "name": "stdout",
     "output_type": "stream",
     "text": [
      "chr1\tRefSeq\tregion\t1\t248956422\t.\t+\t.\tNC_000001.11\tID=NC_000001.11:1..248956422;Dbxref=taxon:9606;Name=1;chromosome=1;gbkey=Src;genome=chromosome;mol_type=genomic_DNA\n",
      "chr1\tHAVANA\texon\t11869\t12227\t.\t+\t.\tID=exon:ENST00000456328.2:1;Parent=ENST00000456328.2;gene_id=ENSG00000223972.5;transcript_id=ENST00000456328.2;gene_type=transcribed_unprocessed_pseudogene;gene_name=DDX11L1;transcript_type=processed_transcript;transcript_name=DDX11L1-202;exon_number=1;exon_id=ENSE00002234944.1;level=2;transcript_support_level=1;hgnc_id=HGNC:37102;tag=basic;havana_gene=OTTHUMG00000000961.2;havana_transcript=OTTHUMT00000362751.1\n",
      "chr1\tHAVANA\tgene\t11869\t14409\t.\t+\t.\tID=ENSG00000223972.5;gene_id=ENSG00000223972.5;gene_type=transcribed_unprocessed_pseudogene;gene_name=DDX11L1;level=2;hgnc_id=HGNC:37102;havana_gene=OTTHUMG00000000961.2\n",
      "chr1\tHAVANA\ttranscript\t11869\t14409\t.\t+\t.\tID=ENST00000456328.2;Parent=ENSG00000223972.5;gene_id=ENSG00000223972.5;transcript_id=ENST00000456328.2;gene_type=transcribed_unprocessed_pseudogene;gene_name=DDX11L1;transcript_type=processed_transcript;transcript_name=DDX11L1-202;level=2;transcript_support_level=1;hgnc_id=HGNC:37102;tag=basic;havana_gene=OTTHUMG00000000961.2;havana_transcript=OTTHUMT00000362751.1\n",
      "chr1\tBestRefSeq\texon\t11874\t12227\t.\t+\t.\tNC_000001.11\tID=exon-NR_046018.2-1;Parent=rna-NR_046018.2;Dbxref=GeneID:100287102,Genbank:NR_046018.2,HGNC:HGNC:37102;gbkey=misc_RNA;gene=DDX11L1;product=DEAD/H-box_helicase_11_like_1_(pseudogene);pseudo=true;transcript_id=NR_046018.2\n",
      "chr1\tBestRefSeq\tpseudogene\t11874\t14409\t.\t+\t.\tNC_000001.11\tID=gene-DDX11L1;Dbxref=GeneID:100287102,HGNC:HGNC:37102;Name=DDX11L1;description=DEAD/H-box_helicase_11_like_1_(pseudogene);gbkey=Gene;gene=DDX11L1;gene_biotype=transcribed_pseudogene;pseudo=true\n",
      "chr1\tBestRefSeq\ttranscript\t11874\t14409\t.\t+\t.\tNC_000001.11\tID=rna-NR_046018.2;Parent=gene-DDX11L1;Dbxref=GeneID:100287102,Genbank:NR_046018.2,HGNC:HGNC:37102;Name=NR_046018.2;gbkey=misc_RNA;gene=DDX11L1;product=DEAD/H-box_helicase_11_like_1_(pseudogene);pseudo=true;transcript_id=NR_046018.2\n",
      "chr1\tHAVANA\texon\t12010\t12057\t.\t+\t.\tID=exon:ENST00000450305.2:1;Parent=ENST00000450305.2;gene_id=ENSG00000223972.5;transcript_id=ENST00000450305.2;gene_type=transcribed_unprocessed_pseudogene;gene_name=DDX11L1;transcript_type=transcribed_unprocessed_pseudogene;transcript_name=DDX11L1-201;exon_number=1;exon_id=ENSE00001948541.1;level=2;transcript_support_level=NA;hgnc_id=HGNC:37102;ont=PGO:0000005,PGO:0000019;tag=basic,Ensembl_canonical;havana_gene=OTTHUMG00000000961.2;havana_transcript=OTTHUMT00000002844.2\n",
      "chr1\tHAVANA\ttranscript\t12010\t13670\t.\t+\t.\tID=ENST00000450305.2;Parent=ENSG00000223972.5;gene_id=ENSG00000223972.5;transcript_id=ENST00000450305.2;gene_type=transcribed_unprocessed_pseudogene;gene_name=DDX11L1;transcript_type=transcribed_unprocessed_pseudogene;transcript_name=DDX11L1-201;level=2;transcript_support_level=NA;hgnc_id=HGNC:37102;ont=PGO:0000005,PGO:0000019;tag=basic,Ensembl_canonical;havana_gene=OTTHUMG00000000961.2;havana_transcript=OTTHUMT00000002844.2\n",
      "chr1\tHAVANA\texon\t12179\t12227\t.\t+\t.\tID=exon:ENST00000450305.2:2;Parent=ENST00000450305.2;gene_id=ENSG00000223972.5;transcript_id=ENST00000450305.2;gene_type=transcribed_unprocessed_pseudogene;gene_name=DDX11L1;transcript_type=transcribed_unprocessed_pseudogene;transcript_name=DDX11L1-201;exon_number=2;exon_id=ENSE00001671638.2;level=2;transcript_support_level=NA;hgnc_id=HGNC:37102;ont=PGO:0000005,PGO:0000019;tag=basic,Ensembl_canonical;havana_gene=OTTHUMG00000000961.2;havana_transcript=OTTHUMT00000002844.2\n",
      "\n",
      "gzip: stdout: Broken pipe\n"
     ]
    }
   ],
   "source": [
    "! zcat ../../../../data/global/track_data/annotation/global_annotation_sorted.gff.gz | head "
   ]
  },
  {
   "cell_type": "code",
   "execution_count": null,
   "id": "766ef8c1",
   "metadata": {},
   "outputs": [],
   "source": []
  },
  {
   "cell_type": "code",
   "execution_count": null,
   "id": "837bf9e1",
   "metadata": {},
   "outputs": [],
   "source": []
  },
  {
   "cell_type": "code",
   "execution_count": null,
   "id": "0da8b5f1",
   "metadata": {},
   "outputs": [],
   "source": []
  },
  {
   "cell_type": "code",
   "execution_count": null,
   "id": "efffc119",
   "metadata": {},
   "outputs": [],
   "source": []
  },
  {
   "cell_type": "code",
   "execution_count": null,
   "id": "fc49dc1d",
   "metadata": {},
   "outputs": [],
   "source": []
  },
  {
   "cell_type": "code",
   "execution_count": null,
   "id": "a96458fb",
   "metadata": {},
   "outputs": [],
   "source": []
  },
  {
   "cell_type": "code",
   "execution_count": null,
   "id": "97feca4a",
   "metadata": {},
   "outputs": [],
   "source": []
  },
  {
   "cell_type": "code",
   "execution_count": null,
   "id": "ca28e210",
   "metadata": {},
   "outputs": [],
   "source": []
  },
  {
   "cell_type": "code",
   "execution_count": null,
   "id": "ef36a9a4",
   "metadata": {},
   "outputs": [],
   "source": []
  },
  {
   "cell_type": "code",
   "execution_count": null,
   "id": "b6648253",
   "metadata": {},
   "outputs": [],
   "source": [
    "[RNA|codon|transcript|gene|CDS|exon|cDNA|CDS]"
   ]
  },
  {
   "cell_type": "code",
   "execution_count": 4,
   "id": "a83da974",
   "metadata": {},
   "outputs": [],
   "source": [
    "%%bash \n",
    "cd ../../../../data/global/track_data/annotation/\n",
    "zcat global_annotation_sorted.gff.gz | sed 's/\\t/,/g' > global_annotation_sorted.csv"
   ]
  },
  {
   "cell_type": "code",
   "execution_count": 16,
   "id": "d9ce7c20",
   "metadata": {},
   "outputs": [],
   "source": [
    "%%bash \n",
    "cd ../../../../data/global/track_data/annotation/\n",
    "zcat global_annotation_sorted.gff.gz | grep -E \"chr[0-9]{1,2},.{6,20},telomerase_RNA|lnc_RNA|mRNA|ncRNA|miRNA|tRNA|vault_RNA|antisense_RNA|V_gene_segment|Y_RNA|RNase_MRP_RNA|RNase_P_RNA|rRNA|scRNA|snoRNA|snRNA|telomerase_RNA|start_codon|stop_codon|stop_codon_redefined_as_selenocysteine|transcript|primary_transcript|gene|D_gene_segment|J_gene_segment|C_gene_segment|CDS|exon|cDNA_match|CDS\" > gene_annotation.csv "
   ]
  },
  {
   "cell_type": "code",
   "execution_count": 17,
   "id": "b842dc10",
   "metadata": {},
   "outputs": [
    {
     "name": "stdout",
     "output_type": "stream",
     "text": [
      "     24 antisense_RNA\n",
      "     19 biological_region\n",
      "      1 CAAT_signal\n",
      "     93 CAGE_cluster\n",
      "  22914 cDNA_match\n",
      "2340298 CDS\n",
      "     24 centromere\n",
      "     43 C_gene_segment\n",
      "     61 D_gene_segment\n",
      "     12 DNaseI_hypersensitive_site\n",
      "   4546 enhancer\n",
      "     55 enhancer_blocking_element\n",
      "     12 epigenetically_modified_region\n",
      "3560714 exon\n",
      " 166248 five_prime_UTR\n",
      "     14 GC_rich_promoter_region\n",
      " 104385 gene\n",
      "      2 imprinting_control_region\n",
      "      6 insulator\n",
      "    128 J_gene_segment\n",
      "  28864 lnc_RNA\n",
      "      7 locus_control_region\n",
      "      1 microsatellite\n",
      "   3184 miRNA\n",
      "     16 mitotic_recombination_region\n",
      "    188 mobile_genetic_element\n",
      " 122549 mRNA\n",
      "     31 ncRNA\n",
      "     11 non_allelic_homologous_recombination_region\n",
      "      1 nucleotide_motif\n",
      "     30 origin_of_replication\n",
      "   2119 primary_transcript\n",
      "    410 promoter\n",
      "    566 protein_binding_site\n",
      "  18363 pseudogene\n",
      "    598 recombination_feature\n",
      "      2 repeat_instability_region\n",
      "      3 replication_regulatory_region\n",
      "      2 replication_start_site\n",
      "     19 response_element\n",
      "      1 RNase_MRP_RNA\n",
      "      1 RNase_P_RNA\n",
      "     64 rRNA\n",
      "      4 scRNA\n",
      "      3 sequence_alteration\n",
      "    346 sequence_feature\n",
      "      1 sequence_secondary_structure\n",
      "   1576 silencer\n",
      "    589 snoRNA\n",
      "     64 snRNA\n",
      "  94201 start_codon\n",
      "  87665 stop_codon\n",
      "    119 stop_codon_redefined_as_selenocysteine\n",
      "      2 TATA_box\n",
      "      1 telomerase_RNA\n",
      " 190633 three_prime_UTR\n",
      " 263444 transcript\n",
      "   1328 transcriptional_cis_regulatory_region\n",
      "    597 tRNA\n",
      "      4 vault_RNA\n",
      "    660 V_gene_segment\n",
      "      4 Y_RNA\n"
     ]
    }
   ],
   "source": [
    "%%bash \n",
    "cd ../../../../data/global/track_data/annotation/\n",
    " awk '{print $3}' gene_annotation.csv| sort | uniq -c "
   ]
  },
  {
   "cell_type": "code",
   "execution_count": 5,
   "id": "78dd9a4e",
   "metadata": {},
   "outputs": [],
   "source": [
    "test1 = open(\"../../../../data/global/track_data/annotation/global_annotation_sorted.csv\").readlines()[0:10]"
   ]
  },
  {
   "cell_type": "code",
   "execution_count": 6,
   "id": "da120ca7",
   "metadata": {},
   "outputs": [],
   "source": [
    "import re "
   ]
  },
  {
   "cell_type": "code",
   "execution_count": 7,
   "id": "d422ca17",
   "metadata": {},
   "outputs": [
    {
     "data": {
      "text/plain": [
       "'chr1,RefSeq,region,1,248956422,.,+,.,NC_000001.11,ID=NC_000001.11:1..248956422;Dbxref=taxon:9606;Name=1;chromosome=1;gbkey=Src;genome=chromosome;mol_type=genomic_DNA\\n'"
      ]
     },
     "execution_count": 7,
     "metadata": {},
     "output_type": "execute_result"
    }
   ],
   "source": [
    "test1[0]"
   ]
  },
  {
   "cell_type": "code",
   "execution_count": 13,
   "id": "f98ff9ff",
   "metadata": {},
   "outputs": [
    {
     "data": {
      "text/plain": [
       "['chr1,RefSeq,region']"
      ]
     },
     "execution_count": 13,
     "metadata": {},
     "output_type": "execute_result"
    }
   ],
   "source": [
    "re.findall(r\"chr[0-9]{1,2},.{6,20},region\",test1[0])"
   ]
  },
  {
   "cell_type": "code",
   "execution_count": null,
   "id": "0b001e88",
   "metadata": {},
   "outputs": [],
   "source": []
  }
 ],
 "metadata": {
  "kernelspec": {
   "display_name": "Python 3 (ipykernel)",
   "language": "python",
   "name": "python3"
  },
  "language_info": {
   "codemirror_mode": {
    "name": "ipython",
    "version": 3
   },
   "file_extension": ".py",
   "mimetype": "text/x-python",
   "name": "python",
   "nbconvert_exporter": "python",
   "pygments_lexer": "ipython3",
   "version": "3.9.6"
  }
 },
 "nbformat": 4,
 "nbformat_minor": 5
}
