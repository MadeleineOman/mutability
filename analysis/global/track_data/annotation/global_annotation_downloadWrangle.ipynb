{
 "cells": [
  {
   "cell_type": "markdown",
   "id": "377d0996-1eba-4895-bedd-38333888b36e",
   "metadata": {},
   "source": [
    "# global annotations file download wrangle~~~~~~~~~~~~~~~~~~~~~~~~~~~~~~~~~~~~~~~~~~~~~~~~~\n",
    "- downloaded from: \n",
    "    - GRCh38_latest_genomic.gff.gz : \n",
    "        - https://www.ncbi.nlm.nih.gov/genome/guide/human/\n",
    "        - \"RefSeq Reference Genome Annotation\" \"GRCh38\"\n",
    "    - gencode.v39.annotation.gff3.gz : \n",
    "        - https://www.gencodegenes.org/human/\n",
    "        - \"Comprehensive gene annotation\" \"Gff3\" \n",
    "- download date: \n",
    "    - check the wget output \n",
    "        - wget_output.txt = ncbi \n",
    "        - wget_output1.txt = gencode \n",
    "- genome build \n",
    "    - both GRCh38 --> converto to hg18. \n",
    "- file format & head: \n"
   ]
  },
  {
   "cell_type": "code",
   "execution_count": 1,
   "id": "ca54bd74-b557-442d-8b82-a38a5fd58975",
   "metadata": {},
   "outputs": [],
   "source": [
    "!mkdir ../../../../data/global/track_data/annotation/"
   ]
  },
  {
   "cell_type": "code",
   "execution_count": 2,
   "id": "961a9023-4709-4b31-a7f4-af5e5e8cba25",
   "metadata": {},
   "outputs": [],
   "source": [
    "%%bash\n",
    "cd ../../../../\n",
    "wget https://ftp.ncbi.nlm.nih.gov/refseq/H_sapiens/annotation/GRCh38_latest/refseq_identifiers/GRCh38_latest_genomic.gff.gz -P data/global/track_data/annotation/ -o data/global/track_data/annotation/wget_ouput.txt"
   ]
  },
  {
   "cell_type": "code",
   "execution_count": 21,
   "id": "1f2498e2-69e7-4378-b006-1dea6f9b8f3a",
   "metadata": {
    "tags": []
   },
   "outputs": [],
   "source": [
    "%%bash \n",
    "cd ../../../../\n",
    "zcat data/global/track_data/annotation/GRCh38_latest_genomic.gff.gz | grep -v \"#\" | awk '{print $3}' | sort | uniq -c > data/global/track_data/annotation/GRCh38_latest_genomic_summary.txt"
   ]
  },
  {
   "cell_type": "code",
   "execution_count": 17,
   "id": "ae32a8d3-cea9-47c9-b818-e28b37439a22",
   "metadata": {},
   "outputs": [],
   "source": [
    "%%bash \n",
    "cd ../../../../\n",
    "wget https://ftp.ebi.ac.uk/pub/databases/gencode/Gencode_human/release_39/gencode.v39.annotation.gff3.gz -P data/global/track_data/annotation/ -o data/global/track_data/annotation/wget_ouput1.txt"
   ]
  },
  {
   "cell_type": "code",
   "execution_count": 22,
   "id": "32aa315a-7541-4be1-a6d0-f84af8912143",
   "metadata": {
    "tags": []
   },
   "outputs": [],
   "source": [
    "%%bash \n",
    "cd ../../../../\n",
    "zcat data/global/track_data/annotation/gencode.v39.annotation.gff3.gz | grep -v \"#\" | awk '{print $3}' | sort | uniq -c > data/global/track_data/annotation/gencode.v39.annotation_summary.txt"
   ]
  },
  {
   "cell_type": "markdown",
   "id": "e9a55227-b446-48e8-8f1b-15ee9f66cdd4",
   "metadata": {},
   "source": [
    "## **converting the ncbi refseq into chr#**"
   ]
  },
  {
   "cell_type": "code",
   "execution_count": 33,
   "id": "09c64b36-4bb1-4cc3-818f-bb4b3edc2c3c",
   "metadata": {},
   "outputs": [
    {
     "name": "stdout",
     "output_type": "stream",
     "text": [
      "--2022-03-28 16:33:59--  https://hgdownload.soe.ucsc.edu/goldenPath/hg38/database/chromAlias.txt.gz\n",
      "Resolving hgdownload.soe.ucsc.edu (hgdownload.soe.ucsc.edu)... 128.114.119.163\n",
      "Connecting to hgdownload.soe.ucsc.edu (hgdownload.soe.ucsc.edu)|128.114.119.163|:443... connected.\n",
      "HTTP request sent, awaiting response... 200 OK\n",
      "Length: 12065 (12K) [application/x-gzip]\n",
      "Saving to: ‘../../../../data/global/track_data/annotation/chromAlias.txt.gz’\n",
      "\n",
      "100%[======================================>] 12,065      --.-K/s   in 0s      \n",
      "\n",
      "2022-03-28 16:34:00 (84.5 MB/s) - ‘../../../../data/global/track_data/annotation/chromAlias.txt.gz’ saved [12065/12065]\n",
      "\n"
     ]
    }
   ],
   "source": [
    "!wget https://hgdownload.soe.ucsc.edu/goldenPath/hg38/database/chromAlias.txt.gz  -P ../../../../data/global/track_data/annotation/"
   ]
  },
  {
   "cell_type": "code",
   "execution_count": 1,
   "id": "c17b8c37-c01d-4f4b-bd77-126039966709",
   "metadata": {},
   "outputs": [],
   "source": [
    "import gzip\n",
    "with gzip.open(\"../../../../data/global/track_data/annotation/GRCh38_latest_genomic.gff.gz\", \"rt\") as handle:\n",
    "        ncbi_annotation_lines = handle.readlines()\n",
    "with gzip.open(\"../../../../data/global/track_data/annotation/chromAlias.txt.gz\", \"rt\") as handle:\n",
    "        conversion_lines = handle.readlines()"
   ]
  },
  {
   "cell_type": "code",
   "execution_count": 2,
   "id": "cbec1076-c0ba-4b08-ba4b-900060917541",
   "metadata": {},
   "outputs": [],
   "source": [
    "conversion_dict = {}\n",
    "for line in conversion_lines: \n",
    "    if \"refseq\" in line:\n",
    "        conversion_dict[line.split()[0]] = line.split()[1]\n",
    "del(conversion_lines)"
   ]
  },
  {
   "cell_type": "code",
   "execution_count": 3,
   "id": "39c6391f-a899-4ffc-b56b-537fe104de20",
   "metadata": {},
   "outputs": [],
   "source": [
    "assert len(set(list(conversion_dict.values()))) == len(conversion_dict.values())# no duplicates\n",
    "assert len(set(list(conversion_dict.keys()))) == len(conversion_dict.keys())#no duplicates "
   ]
  },
  {
   "cell_type": "code",
   "execution_count": 4,
   "id": "f63f1118-78eb-41dd-83ac-d2bc0545ca31",
   "metadata": {
    "tags": []
   },
   "outputs": [],
   "source": [
    "from datetime import datetime\n",
    "timestamp = datetime.now().strftime(\"%Y/%m/%d\").replace(\"/\", \"_\").replace(\":\", \"_\")\n",
    "with open('../../../../data/global/track_data/annotation/GRCh38_latest_genomic_converted.gff'.format(t=timestamp), 'w') as f: \n",
    "    for i,line in enumerate(ncbi_annotation_lines): \n",
    "        if line[0] != \"#\" : # i already double checked that this doesnt leave out some annotation lines\n",
    "            line_split = line.split(\"\\t\")\n",
    "            refseq,source,feature,start,end,value_1,strand,value_2,ID = line_split\n",
    "            chr_n = conversion_dict[refseq]\n",
    "            string_to_write = chr_n+\"\\t\"+source+\"\\t\"+feature+\"\\t\"+start+\"\\t\"+end+\"\\t\"+value_1+\"\\t\"+strand+\"\\t\"+value_2+\"\\t\"+refseq+\"\\t\"+ID\n",
    "            string_to_write = string_to_write.replace(\" \",\"_\")\n",
    "            f.write(string_to_write)\n",
    "            \n",
    "            \n",
    "            \n",
    "        "
   ]
  },
  {
   "cell_type": "markdown",
   "id": "1db4608c-da2f-4c39-a444-d1137dd88e8a",
   "metadata": {},
   "source": [
    "# **combine**"
   ]
  },
  {
   "cell_type": "code",
   "execution_count": 7,
   "id": "27df94ee-846a-408d-affe-7c9280dae298",
   "metadata": {},
   "outputs": [],
   "source": [
    "! cat ../../../../data/global/track_data/annotation/GRCh38_latest_genomic_converted.gff > ../../../../data/global/track_data/annotation/global_annotation.gff\n"
   ]
  },
  {
   "cell_type": "code",
   "execution_count": 11,
   "id": "3b80f352-94d3-43d1-9523-bfd59822552e",
   "metadata": {},
   "outputs": [],
   "source": [
    "%%bash \n",
    "cd ../../../../\n",
    "zcat data/global/track_data/annotation/gencode.v39.annotation.gff3.gz | grep -v \"#\" >> data/global/track_data/annotation/global_annotation.gff"
   ]
  },
  {
   "cell_type": "code",
   "execution_count": 13,
   "id": "b53acb90-e237-4973-ae86-d605c4889114",
   "metadata": {},
   "outputs": [],
   "source": [
    "%%bash \n",
    "cd ../../../../\n",
    "sort -k1,1 -k4,4n data/global/track_data/annotation/global_annotation.gff >  data/global/track_data/annotation/global_annotation_sorted.gff"
   ]
  },
  {
   "cell_type": "code",
   "execution_count": 14,
   "id": "7558c91e-2c2d-4d56-9b9e-4a25a7907745",
   "metadata": {},
   "outputs": [],
   "source": [
    "%%bash \n",
    "cd ../../../../\n",
    "bgzip data/global/track_data/annotation/global_annotation_sorted.gff"
   ]
  },
  {
   "cell_type": "code",
   "execution_count": 75,
   "id": "ed5b8883-2dc3-4819-addb-6a7bd29d15ec",
   "metadata": {},
   "outputs": [
    {
     "name": "stdout",
     "output_type": "stream",
     "text": [
      "NC_000001.11\tCurated Genomic\texon\t100651914\t100652317\t.\t+\t.\tID=id-RPL36AP12;Parent=gene-RPL36AP12;Dbxref=GeneID:100130034,HGNC:HGNC:35897;gbkey=exon;gene=RPL36AP12;pseudo=true\n",
      "NC_000001.11\tCurated Genomic\tpseudogene\t100651914\t100652317\t.\t+\t.\tID=gene-RPL36AP12;Dbxref=GeneID:100130034,HGNC:HGNC:35897;Name=RPL36AP12;description=ribosomal protein L36a pseudogene 12;gbkey=Gene;gene=RPL36AP12;gene_biotype=pseudogene;gene_synonym=RPL36A_2_79;pseudo=true\n"
     ]
    }
   ],
   "source": [
    "%%bash \n",
    "cd ../../../../\n",
    "zgrep \"100651914\" data/global/track_data/annotation/global_annotation_sorted.gff.gz"
   ]
  },
  {
   "cell_type": "code",
   "execution_count": 15,
   "id": "2da1f31b-0776-4aee-abf7-e64b70295593",
   "metadata": {
    "tags": []
   },
   "outputs": [],
   "source": [
    "%%bash \n",
    "cd ../../../../\n",
    "tabix -p gff data/global/track_data/annotation/global_annotation_sorted.gff.gz"
   ]
  },
  {
   "cell_type": "code",
   "execution_count": 19,
   "id": "624e4450-a96d-4cca-b14d-3a1569e562db",
   "metadata": {},
   "outputs": [
    {
     "name": "stdout",
     "output_type": "stream",
     "text": [
      "chr1\tRefSeq\tregion\t1\t248956422\t.\t+\t.\tNC_000001.11\tID=NC_000001.11:1..248956422;Dbxref=taxon:9606;Name=1;chromosome=1;gbkey=Src;genome=chromosome;mol_type=genomic_DNA\n"
     ]
    }
   ],
   "source": [
    "%%bash \n",
    "cd ../../../../\n",
    "tabix  data/global/track_data/annotation/global_annotation_sorted.gff.gz chr1:1000-10000"
   ]
  }
 ],
 "metadata": {
  "kernelspec": {
   "display_name": "Python [conda env:.conda-mutability] *",
   "language": "python",
   "name": "conda-env-.conda-mutability-py"
  },
  "language_info": {
   "codemirror_mode": {
    "name": "ipython",
    "version": 3
   },
   "file_extension": ".py",
   "mimetype": "text/x-python",
   "name": "python",
   "nbconvert_exporter": "python",
   "pygments_lexer": "ipython3",
   "version": "3.9.6"
  }
 },
 "nbformat": 4,
 "nbformat_minor": 5
}
