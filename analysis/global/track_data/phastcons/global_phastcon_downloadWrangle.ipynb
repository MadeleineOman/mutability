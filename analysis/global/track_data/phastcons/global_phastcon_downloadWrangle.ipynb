{
 "cells": [
  {
   "cell_type": "markdown",
   "id": "df9ab260-f882-40ee-bb7b-184dbd98b97a",
   "metadata": {},
   "source": [
    "# **download and wrangel the phastcons global data**"
   ]
  },
  {
   "cell_type": "markdown",
   "id": "7a23e083-6b83-4068-a33e-68711b2345cf",
   "metadata": {},
   "source": [
    "- downloaded from: \n",
    "    - http://hgdownload.soe.ucsc.edu/goldenPath/hg18/phastCons44way/primates/\n",
    "- download date: \n",
    "    - lol it depends when i finally do the thing \n",
    "- genome build \n",
    "    - hg18 \n",
    "- tissue \n",
    "    - NA\n",
    "- lab method: \n",
    "    - This track shows multiple alignments of 44 vertebrate species and measurements of evolutionary conservation using two methods (phastCons and phyloP) from the PHAST package, for all species (vertebrate) and two subsets (primate and placental mammal). The multiple alignments were generated using multiz and other tools in the UCSC/Penn State Bioinformatics comparative genomics alignment pipeline. Conserved elements identified by phastCons are also displayed in this track. \n",
    "    - read more: https://genome.ucsc.edu/cgi-bin/hgTables (UCSC table browser: hg18 > comparitive genomics > conservation > primatecons > describe table schema ) \n",
    "- file format & head: \n",
    "    - wig format, turned into bed\n",
    "    - seperate chroms as the file are HUGE \n",
    "- what the data represents: \n",
    "    - PhastCons (which has been used in previous Conservation tracks) is a hidden Markov model-based method that estimates the probability that each nucleotide belongs to a conserved element, based on the multiple alignment. It considers not just each individual alignment column, but also its flanking columns. By contrast, phyloP separately measures conservation at individual columns, ignoring the effects of their neighbors. As a consequence, the phyloP plots have a less smooth appearance than the phastCons plots, with more \"texture\" at individual sites. The two methods have different strengths and weaknesses. PhastCons is sensitive to \"runs\" of conserved sites, and is therefore effective for picking out conserved elements. PhyloP, on the other hand, is more appropriate for evaluating signatures of selection at particular nucleotides or classes of nucleotides (e.g., third codon positions, or first positions of miRNA target sites). "
   ]
  },
  {
   "cell_type": "code",
   "execution_count": 42,
   "id": "796d7dfe-94c1-4fe8-86ef-40f2ca58d80d",
   "metadata": {
    "tags": []
   },
   "outputs": [
    {
     "name": "stderr",
     "output_type": "stream",
     "text": [
      "IOPub data rate exceeded.\n",
      "The Jupyter server will temporarily stop sending output\n",
      "to the client in order to avoid crashing it.\n",
      "To change this limit, set the config variable\n",
      "`--ServerApp.iopub_data_rate_limit`.\n",
      "\n",
      "Current values:\n",
      "ServerApp.iopub_data_rate_limit=1000000.0 (bytes/sec)\n",
      "ServerApp.rate_limit_window=3.0 (secs)\n",
      "\n"
     ]
    }
   ],
   "source": [
    "%%bash \n",
    "cd ../../../../\n",
    "for f in chr1 chr2 chr3 chr4 chr5 chr6 chr7 chr8 chr9 chr10 chr11 chr12 chr13 chr14 chr15 chr16 chr17 chr18 chr19 chr20 chr21 chr22; do \n",
    "    wget http://hgdownload.soe.ucsc.edu/goldenPath/hg18/phastCons44way/primates/$f.phastCons44way.primates.wigFix.gz -P data/global/track_data/phastcons/\n",
    "#     convert2bed -i wig < data/global/track_data/phastcons/$f.phastCons44way.primates.wigFix >  data/global/track_data/phastcons/phastcons_$f.bed\n",
    "#     bgzip data/global/track_data/phastcons/phastcons_$f.bed\n",
    "#     tabix -p bed data/global/track_data/phastcons/phastcons_$f.bed.gz\n",
    "done        "
   ]
  },
  {
   "cell_type": "code",
   "execution_count": 45,
   "id": "01d2b0bd-665f-4c4e-8bd4-4b7099b54dcb",
   "metadata": {
    "tags": []
   },
   "outputs": [],
   "source": [
    "%%bash \n",
    "cd ../../../../\n",
    "for f in chr1 chr2 chr3 chr4 chr5 chr6 chr7 chr8 chr9 chr10 chr11 chr12 chr13 chr14 chr15 chr16 chr17 chr18 chr19 chr20 chr21 chr22; do \n",
    "    gunzip data/global/track_data/phastcons/$f.phastCons44way.primates.wigFix.gz \n",
    "done        "
   ]
  },
  {
   "cell_type": "code",
   "execution_count": 48,
   "id": "d53fe46c-e17b-4085-af7f-244b90bc87aa",
   "metadata": {
    "tags": []
   },
   "outputs": [],
   "source": [
    "%%bash \n",
    "cd ../../../../\n",
    "for f in chr1 chr2 chr3 chr4 chr5 chr6 chr7 chr8 chr9 chr10 chr11 chr12 chr13 chr14 chr15 chr16 chr17 chr18 chr19 chr20 chr21 chr22; do \n",
    "    convert2bed -i wig < data/global/track_data/phastcons/$f.phastCons44way.primates.wigFix >  data/global/track_data/phastcons/phastcons_$f.bed\n",
    "    bgzip data/global/track_data/phastcons/phastcons_$f.bed\n",
    "done        "
   ]
  },
  {
   "cell_type": "code",
   "execution_count": null,
   "id": "1630538e-8be8-4732-9456-6ab895da0dd0",
   "metadata": {},
   "outputs": [],
   "source": [
    "%%bash \n",
    "cd ../../../../\n",
    "for f in chr1 chr2 chr3 chr4 chr5 chr6 chr7 chr8 chr9 chr10 chr11 chr12 chr13 chr14 chr15 chr16 chr17 chr18 chr19 chr20 chr21 chr22; do \n",
    "    tabix -p bed data/global/track_data/phastcons/phastcons_$f.bed.gz\n",
    "done        "
   ]
  },
  {
   "cell_type": "code",
   "execution_count": 53,
   "id": "55ab98bf-ad58-4035-bad5-36e28bac9e7e",
   "metadata": {},
   "outputs": [
    {
     "name": "stdout",
     "output_type": "stream",
     "text": [
      "rm: cannot remove ‘../../../../data/global/track_data/phastcons/*.wigFix’: No such file or directory\n"
     ]
    }
   ],
   "source": [
    "!rm  ../../../../data/global/track_data/phastcons/*.wigFix"
   ]
  }
 ],
 "metadata": {
  "kernelspec": {
   "display_name": "Python [conda env:.conda-mutability] *",
   "language": "python",
   "name": "conda-env-.conda-mutability-py"
  },
  "language_info": {
   "codemirror_mode": {
    "name": "ipython",
    "version": 3
   },
   "file_extension": ".py",
   "mimetype": "text/x-python",
   "name": "python",
   "nbconvert_exporter": "python",
   "pygments_lexer": "ipython3",
   "version": "3.9.6"
  }
 },
 "nbformat": 4,
 "nbformat_minor": 5
}
