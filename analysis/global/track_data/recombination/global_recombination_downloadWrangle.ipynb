{
 "cells": [
  {
   "cell_type": "markdown",
   "id": "8cb015e4-d700-4775-b817-2b8a86fcc796",
   "metadata": {},
   "source": [
    "# **recombination download wrangle**"
   ]
  },
  {
   "cell_type": "markdown",
   "id": "00dc2e25-c6ca-456f-8444-8aee0feae946",
   "metadata": {},
   "source": [
    "- downloaded from: \n",
    "    - manually, from the UCSC table broswer \n",
    "    - hg18 > mapping and seqeuncing > recomb rate > recombRate \n",
    "    - options: \n",
    "        - genome-wide \n",
    "        - output format = all fields from seelcted table  \n",
    "        - output file name = UCSCtableBrowser_hg18_mappingAndSequencing_recombinationRate_recombRate_manualDownload.txt \n",
    "        - filetype returned = palian text format \n",
    "    - submit, file ownload window opens and svae it to /desktop/research/projects/mutability/data/recombination/\n",
    "    - upload to data/global/track_data/recombination/\n",
    "- download date: \n",
    "    - lol it depends when i finally do the thing \n",
    "- genome build \n",
    "    - hg18 \n",
    "- tissue \n",
    "    - NA\n",
    "- lab method:  \n",
    "    - The deCODE genetic map was created at deCODE Genetics and is based on 5,136 microsatellite markers for 146 families with a total of 1,257 meiotic events. For more information on this map, see Kong, et al., 2002\n",
    "    - The recombination rate track represents calculated sex-averaged rates of recombination based on either the deCODE, Marshfield, or Genethon genetic maps.\"...\" Female- and male-specific recombination rates, as well as rates from the Marshfield and Genethon maps, can also be displayed by choosing the appropriate filter option on the track description page.\n",
    "- file format & head: \n",
    "    - OG: \n",
    "        - seems in bed format, though the spacing seems suscpicious . also lots of columns, \n",
    "        - #chrom\tchromStart\tchromEnd\tname\tdecodeAvg\tdecodeFemale\tdecodeMale\tmarshfieldAvg\tmarshfieldFemale\tmarshfieldMale\tgenethonAvg\tgenethonFemale\tgenethonMale\n",
    "        - chr1\t0\t1000000\trecombRate\t1.11892\t1.24759\t0.990242\t0\t0\t0\t0\t0\t0\n",
    "- what the data represents: \n",
    "    - Each base is assigned the recombination rate calculated by assuming a linear genetic distance across the immediately flanking genetic markers. The recombination rate assigned to each 1 Mb window is the average recombination rate of the bases contained within the window."
   ]
  },
  {
   "cell_type": "code",
   "execution_count": 2,
   "id": "57074359-7c23-4a96-8106-db2babe47ea3",
   "metadata": {},
   "outputs": [],
   "source": [
    "!mkdir ../../../../data/global/track_data/recombination/"
   ]
  },
  {
   "cell_type": "code",
   "execution_count": 28,
   "id": "d566b619-9421-4bec-8e6d-a005454723ed",
   "metadata": {},
   "outputs": [],
   "source": [
    "%%bash \n",
    "cd ../../../../\n",
    "cat data/global/track_data/recombination/UCSCtableBrowser_hg18_mappingAndSequencing_recombinationRate_recombRate_manualDownload.txt > data/global/track_data/recombination/recombination.bed"
   ]
  },
  {
   "cell_type": "code",
   "execution_count": 31,
   "id": "2b8c5cdb-4181-4192-94fd-c7a0e0909cd8",
   "metadata": {},
   "outputs": [],
   "source": [
    "%%bash \n",
    "cd ../../../../\n",
    "bgzip data/global/track_data/recombination/recombination.bed"
   ]
  },
  {
   "cell_type": "code",
   "execution_count": 32,
   "id": "7563fde2-1398-4bfa-b214-2fe7a721ca78",
   "metadata": {},
   "outputs": [],
   "source": [
    "%%bash \n",
    "cd ../../../../\n",
    "tabix -p bed data/global/track_data/recombination/recombination.bed.gz"
   ]
  }
 ],
 "metadata": {
  "kernelspec": {
   "display_name": "Python [conda env:.conda-mutability] *",
   "language": "python",
   "name": "conda-env-.conda-mutability-py"
  },
  "language_info": {
   "codemirror_mode": {
    "name": "ipython",
    "version": 3
   },
   "file_extension": ".py",
   "mimetype": "text/x-python",
   "name": "python",
   "nbconvert_exporter": "python",
   "pygments_lexer": "ipython3",
   "version": "3.9.6"
  }
 },
 "nbformat": 4,
 "nbformat_minor": 5
}
