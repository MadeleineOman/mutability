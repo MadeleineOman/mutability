{
 "cells": [
  {
   "cell_type": "code",
   "execution_count": 15,
   "id": "d56a0a22-b442-4cbf-9f67-d8619a5d36cb",
   "metadata": {},
   "outputs": [],
   "source": [
    "import pysam\n",
    "import pandas as pd\n",
    "from numpy.random import choice\n",
    "import random\n",
    "import time\n",
    "import numpy as np \n",
    "from tqdm import tqdm\n",
    "import matplotlib.pyplot as plt"
   ]
  },
  {
   "cell_type": "code",
   "execution_count": 18,
   "id": "1814cd4a-7fe7-4099-9980-dc9e7ecafc7f",
   "metadata": {},
   "outputs": [],
   "source": [
    "def shortest_distance(site,filename):\n",
    "    start_time = time.time()\n",
    "    track_output = [record for record in pysam.Tabixfile(filename).fetch(site[0])]\n",
    "    all_distances = []\n",
    "    for instance in track_output: \n",
    "        chrom,start,end,origin_name = instance.split(\"\\t\")\n",
    "        if int(start)<site[1]<int(end): \n",
    "            all_distances.append(0)\n",
    "        else: \n",
    "            all_distances.extend([abs(int(start)-site[1]),abs(int(end)-site[1])])\n",
    "    return([min(all_distances),time.time()-start_time])\n",
    "#     return(min(all_distances))"
   ]
  },
  {
   "cell_type": "code",
   "execution_count": 13,
   "id": "23fcb1b0-c9c8-45ef-befd-43971ae6738a",
   "metadata": {},
   "outputs": [
    {
     "name": "stdout",
     "output_type": "stream",
     "text": [
      "chr1\t905964\t907493\tHO_192\n",
      "chr1\t1051816\t1052506\tHO_307\n",
      "chr1\t1158816\t1161801\tHO_380\n",
      "chr1\t1186604\t1187584\tHO_402\n",
      "chr1\t1465227\t1468110\tHO_573\n",
      "chr1\t1475400\t1477938\tHO_577\n",
      "chr1\t1754647\t1755441\tHO_693\n",
      "chr1\t1973654\t1974546\tHO_802\n",
      "chr1\t2324272\t2325442\tHO_985\n",
      "chr1\t2494359\t2494956\tHO_1099\n",
      "\n",
      "gzip: stdout: Broken pipe\n"
     ]
    }
   ],
   "source": [
    "! zcat ../../../data/global/track_data/replication/main_origins.bed.gz | head "
   ]
  },
  {
   "cell_type": "markdown",
   "id": "2e819cd3-b7de-473b-b867-3fcab8af6476",
   "metadata": {},
   "source": [
    "# testing"
   ]
  },
  {
   "cell_type": "code",
   "execution_count": 16,
   "id": "5d74d0d4-c9b9-4b1d-9caf-b5c7f7fae5c7",
   "metadata": {},
   "outputs": [],
   "source": [
    "sites=[]\n",
    "#get chrom length information so I can perform weighted choice for non-mut site selection\"\n",
    "ChromLengths = pd.read_csv(tmp_file_dir+'data/global/sequence/hg38_chromosomelengths.csv') #read in the csv file of hg38 chrom lengths I found on the internets \n",
    "total_length=0 #lets sum (get the total length) \n",
    "for length in list(ChromLengths.Length): \n",
    "    total_length+=int(length.replace(\",\",\"\"))\n",
    "\n",
    "#build dictionary to store porbability \n",
    "dict_lengths = {}#creat emepty dictionary \n",
    "for x in range (0,22): \n",
    "        tmp_index = x +1\n",
    "        length = str(ChromLengths[x:x+1]).split()[4]\n",
    "        length = length.replace(\",\", \"\")\n",
    "        length = int(length)\n",
    "        dict_lengths[\"chr\"+str(tmp_index)] = length\n",
    "\n",
    "#make the porbability of choosing a chrom based on length \n",
    "list_chroms = ['chr' + str(i) for i in range(1, 23)]\n",
    "list_chrom_probabilities = []\n",
    "for chrom in list_chroms: \n",
    "    list_chrom_probabilities.append(dict_lengths[chrom]/total_length)\n",
    "list_chrom_probabilities[0] = list_chrom_probabilities[0]+1-sum(list_chrom_probabilities) # adds the 0.00000001 left from rounding errors to the chr1 so sum adds perfectly to 1. \n",
    "assert(sum(list_chrom_probabilities)==1)\n",
    "\n",
    "#perfrom the non-mutant site draw \n",
    "number_nonmuts = 10000\n",
    "chrom_draw = choice(list_chroms, number_nonmuts,p=list_chrom_probabilities)\n",
    "\n",
    "# print(tissue,\"make the sites list with the chr# and site\" )\n",
    "for i in (range(1,23)): \n",
    "    chrom = \"chr\"+str(i)\n",
    "    chrom_nchoose = list(chrom_draw).count(\"chr\"+str(i))\n",
    "    chrom_sites_chosen = random.sample(range(1, dict_lengths[chrom]), chrom_nchoose) #without duplucates \n",
    "    for j in chrom_sites_chosen: \n",
    "        sites.append([chrom,j,0])# the 0 if for the mutation status column. 0 = no "
   ]
  },
  {
   "cell_type": "code",
   "execution_count": 19,
   "id": "9e107ba2-2a0e-463a-bb9f-8567b8d5f0b6",
   "metadata": {},
   "outputs": [
    {
     "name": "stderr",
     "output_type": "stream",
     "text": [
      "100%|██████████████████████████████████████████████████████████████████████████████████████████████████████████████████████████████████████████████| 1000/1000 [00:06<00:00, 143.85it/s]\n"
     ]
    }
   ],
   "source": [
    "tmp_file_dir = \"../../../\"\n",
    "filename = tmp_file_dir+\"data/global/track_data/replication/main_origins.bed.gz\"\n",
    "distances = []\n",
    "first_times = []\n",
    "second_times = []\n",
    "for site in tqdm(sites[:1000]):\n",
    "    distances.append(shortest_distance(site,filename)[0])\n",
    "    first_times.append(shortest_distance(site,filename)[1])"
   ]
  },
  {
   "cell_type": "code",
   "execution_count": 21,
   "id": "4f401bc2-c13c-42a5-831e-c71c15da82a4",
   "metadata": {},
   "outputs": [
    {
     "name": "stderr",
     "output_type": "stream",
     "text": [
      "100%|███████████████████████████████████████████████████████████████████████████████████████████████████████████████████████████████████████████████| 1000/1000 [02:24<00:00,  6.91it/s]\n"
     ]
    }
   ],
   "source": [
    "tmp_file_dir = \"../../../\"\n",
    "filename = tmp_file_dir+\"data/global/track_data/replication/all_origins.bed.gz\"\n",
    "first_all_distances = []\n",
    "first_all_times = []\n",
    "second_all_times = []\n",
    "for site in tqdm(sites[:1000]):\n",
    "    first_all_distances.append(shortest_distance(site,filename)[0])\n",
    "    first_all_times.append(shortest_distance(site,filename)[1])"
   ]
  },
  {
   "cell_type": "code",
   "execution_count": 25,
   "id": "2e250eea-f955-41b8-ab49-b1e8baf8ff21",
   "metadata": {},
   "outputs": [
    {
     "data": {
      "text/plain": [
       "(array([ 67.,  56.,  15., 183., 451., 218.,   7.,   2.,   0.,   1.]),\n",
       " array([0.06391287, 0.0655441 , 0.06717534, 0.06880658, 0.07043781,\n",
       "        0.07206905, 0.07370028, 0.07533152, 0.07696276, 0.07859399,\n",
       "        0.08022523]),\n",
       " <BarContainer object of 10 artists>)"
      ]
     },
     "execution_count": 25,
     "metadata": {},
     "output_type": "execute_result"
    },
    {
     "data": {
      "image/png": "[encoded data removed]",
      "text/plain": [
       "<Figure size 432x288 with 1 Axes>"
      ]
     },
     "metadata": {
      "needs_background": "light"
     },
     "output_type": "display_data"
    }
   ],
   "source": [
    "plt.hist(first_all_times)"
   ]
  },
  {
   "cell_type": "code",
   "execution_count": 23,
   "id": "a37d55a3-0b61-43dc-8a58-17e2408db745",
   "metadata": {},
   "outputs": [
    {
     "data": {
      "text/plain": [
       "0.00342464017868042"
      ]
     },
     "execution_count": 23,
     "metadata": {},
     "output_type": "execute_result"
    }
   ],
   "source": [
    "np.mean(first_times)"
   ]
  }
 ],
 "metadata": {
  "kernelspec": {
   "display_name": "Python [conda env:.conda-mutability] *",
   "language": "python",
   "name": "conda-env-.conda-mutability-py"
  },
  "language_info": {
   "codemirror_mode": {
    "name": "ipython",
    "version": 3
   },
   "file_extension": ".py",
   "mimetype": "text/x-python",
   "name": "python",
   "nbconvert_exporter": "python",
   "pygments_lexer": "ipython3",
   "version": "3.9.6"
  }
 },
 "nbformat": 4,
 "nbformat_minor": 5
}
