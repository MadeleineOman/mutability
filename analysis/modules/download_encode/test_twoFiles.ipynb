{
 "cells": [
  {
   "cell_type": "code",
   "execution_count": null,
   "id": "8a45ae4c-bd00-492f-a8a1-d902f9ced633",
   "metadata": {},
   "outputs": [],
   "source": [
    "%%bash \n",
    "cd ../../../\n",
    "#first agrument = tissue \n",
    "#second argument = predictor \n",
    "#thir argument = filename1 --> no file ext (ie not .bigWig)\n",
    "#fourht argument =  filename 2 --> no file ext (ie not .bigWig)\n",
    "#fifth argument = web link to file1\n",
    "#sixth argument = web link to file 2 \n",
    "\n",
    "#download and convert file 1 \n",
    "wget $5 -P data/$1/track_data/$2/ -o data/$1/track_data/$2/$3_wget_output.txt\n",
    "data/applications/UCSC_genomeBrowser_Blat/bigWigToBedGraph data/$1/track_data/$2/$3.bigWig data/$1/track_data/$2/$2_hg38_$3.bed\n",
    "rm data/$1/track_data/$2/$3.bigWig\n",
    "echo \"wget and convert file 1 \\n\"\n"
   ]
  },
  {
   "cell_type": "code",
   "execution_count": null,
   "id": "4d0ed99a-6f2a-4126-a927-c5ea5a9550d5",
   "metadata": {},
   "outputs": [],
   "source": [
    "%%bash \n",
    "cd ../../../\n",
    "#download and convert file 2 \n",
    "wget $6 -P data/$1/track_data/$2/ -o data/$1/track_data/$2/$4_wget_output.txt\n",
    "data/applications/UCSC_genomeBrowser_Blat/bigWigToBedGraph data/$1/track_data/$2/$4.bigWig data/$1/track_data/$2/$2_hg38_$4.bed\n",
    "rm data/$1/track_data/$2/$4.bigWig\n",
    "echo \"wget and convert file 2 \\n\""
   ]
  },
  {
   "cell_type": "code",
   "execution_count": null,
   "id": "adb370e3-526a-4d08-8911-2b83cb96180d",
   "metadata": {},
   "outputs": [],
   "source": [
    "\n",
    "\n",
    "#merge the two files \n",
    "cat data/$1/track_data/$2/$2_hg38_$3.bed > data/$1/track_data/$2/$2_hg38.bed\n",
    "wc -l data/$1/track_data/$2/$2_hg38.bed\n",
    "echo \"lines in the first file\"\n",
    "cat data/$1/track_data/$2/$2_hg38_$4.bed >> data/$1/track_data/$2/$2_hg38.bed\n",
    "wc -l  data/$1/track_data/$2/$2_hg38.bed\n",
    "echo \"lines in the merged file after adding second file\"\n",
    "\n",
    "# wc -l data/$1/track_data/$2/$2.bed\n",
    "\n",
    "# prepr for liftovber: get the liftover chain files (n eed to do it in 2 steps, no hg38-->hg18 chain file exists....)\n",
    "wget https://hgdownload.soe.ucsc.edu/goldenPath/hg38/liftOver/hg38ToHg19.over.chain.gz -P data/$1/track_data/$2/ -o data/$1/track_data/$2/hg38ToHg19_wget_output.txt\n",
    "wget http://hgdownload.soe.ucsc.edu/goldenPath/hg19/liftOver/hg19ToHg18.over.chain.gz -P data/$1/track_data/$2/ -o data/$1/track_data/$2/hg19ToHg18_wget_output.txt\n",
    "\n",
    "# #liftvoer hg38-->19 \n",
    "data/applications/UCSC_genomeBrowser_Blat/liftOver data/$1/track_data/$2/$2_hg38.bed data/$1/track_data/$2/hg38ToHg19.over.chain.gz data/$1/track_data/$2/$2_hg19.bed  data/$1/track_data/$2/$2_unliftgedhg38.bed\n",
    "wc -l data/$1/track_data/$2/$2_hg19.bed\n",
    "rm data/$1/track_data/$2/$2_hg38.bed #removing the unused file\n",
    "# # echo \"19M rows lost in hg38-->hg19 liftover out of 218M\"\n",
    "\n",
    "# #liftover hg19-->18 \n",
    "data/applications/UCSC_genomeBrowser_Blat/liftOver data/$1/track_data/$2/$2_hg19.bed data/$1/track_data/$2/hg19ToHg18.over.chain.gz data/$1/track_data/$2/$2_unsorted.bed  data/$1/track_data/$2/$2_unliftgedhg19.bed\n",
    "rm data/$1/track_data/$2/$2_hg19.bed #removing the unused file \n",
    "wc -l data/$1/track_data/$2/$2_unsorted.bed\n",
    "# # echo \"450k rows lost in hg19-->hg18 liftover out of 218M\"\n",
    "\n",
    "# #sort\n",
    "sort -k1,1 -k2,2n data/$1/track_data/$2/$2_unsorted.bed > data/$1/track_data/$2/$2.bed \n",
    "wc -l data/$1/track_data/$2/$2.bed\n",
    "rm data/$1/track_data/$2/$2_unsorted.bed\n",
    "\n",
    "# bgzip and tabix \n",
    "bgzip data/$1/track_data/$2/$2.bed\n",
    "tabix -p bed data/$1/track_data/$2/$2.bed.gz\n"
   ]
  }
 ],
 "metadata": {
  "kernelspec": {
   "display_name": "Python [conda env:.conda-mutability] *",
   "language": "python",
   "name": "conda-env-.conda-mutability-py"
  },
  "language_info": {
   "codemirror_mode": {
    "name": "ipython",
    "version": 3
   },
   "file_extension": ".py",
   "mimetype": "text/x-python",
   "name": "python",
   "nbconvert_exporter": "python",
   "pygments_lexer": "ipython3",
   "version": "3.9.6"
  }
 },
 "nbformat": 4,
 "nbformat_minor": 5
}
