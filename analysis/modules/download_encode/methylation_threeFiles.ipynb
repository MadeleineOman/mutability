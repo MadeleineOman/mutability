{
 "cells": [
  {
   "cell_type": "code",
   "execution_count": null,
   "id": "5db6c153-3a38-493b-a495-22fd2c0a6f93",
   "metadata": {},
   "outputs": [],
   "source": [
    "### blood methylation download wrangle \n",
    "\n",
    "# - genome build \n",
    "#     - GrCh38\n",
    "# - lab method:  \n",
    "#     - WG bisulfite seqeuncing --> turns cytosines into uracil but not methylated cytosines. then WGS to see where there are still Cs \n",
    "#     - read more : https://www.encodeproject.org/documents/964e2676-d0be-4b5d-aeec-f4f02310b221/@@download/attachment/WGBS%20pipeline%20overview.pdf\n",
    "# - file format & head: \n",
    "#     - OG: bigbed format (type of condesned binary) \n",
    "# - what the data represents: \n",
    "#     - Description of bedMethyl file: The bedMethyl file is a bed9+2 file containing the number of reads and the percent methylation. Each column represents the following: \n",
    "#         1. Reference chromosome or scaffold \n",
    "#         2. Start position in chromosome \n",
    "#         3. End position in chromosome \n",
    "#         4. Name of item \n",
    "#         5. Score from 0-1000. Capped number of reads \n",
    "#         6. Strandedness, plus (+), minus (-), or unknown (.) \n",
    "#         7. Start of where display should be thick (start codon) \n",
    "#         8. End of where display should be thick (stop codon) \n",
    "#         9. Color value (RGB) \n",
    "#         10. Coverage, or number of reads \n",
    "#         11. Percentage of reads that show methylation at this position in the genome \n",
    "\n",
    "\n",
    "#wget \n",
    "wget https://www.encodeproject.org/files/$2/@@download/$2.bigBed -P data/$1/track_data/methylation/ -o data/$1/track_data/methylation/wget_output_CHG.txt\n",
    "wget https://www.encodeproject.org/files/$3/@@download/$3.bigBed -P data/$1/track_data/methylation/ -o data/$1/track_data/methylation/wget_output_CHH.txt\n",
    "wget https://www.encodeproject.org/files/$4/@@download/$4.bigBed -P data/$1/track_data/methylation/ -o data/$1/track_data/methylation/wget_output_CpG.txt\n",
    "\n",
    "#convert to bed \n",
    "echo $1 \"converting to bed\" \n",
    "data/applications/UCSC_genomeBrowser_Blat/bigBedToBed data/$1/track_data/methylation/$2.bigBed data/$1/track_data/methylation/methylation_CHG_hg38.bed\n",
    "data/applications/UCSC_genomeBrowser_Blat/bigBedToBed data/$1/track_data/methylation/$3.bigBed data/$1/track_data/methylation/methylation_CHH_hg38.bed\n",
    "data/applications/UCSC_genomeBrowser_Blat/bigBedToBed data/$1/track_data/methylation/$4.bigBed data/$1/track_data/methylation/methylation_CpG_hg38.bed\n",
    "rm data/$1/track_data/methylation/$2.bigBed\n",
    "rm data/$1/track_data/methylation/$3.bigBed\n",
    "rm data/$1/track_data/methylation/$4.bigBed\n",
    "\n",
    "#prepare for liftover \n",
    "awk '{print $1\"\\t\"$2\"\\t\"$3\"\\t\"$4\"|\"$5\"|\"$6\"|\"$7\"|\"$8\"|\"$9\"|\"$10\"|\"$11\"|\"$12\"|\"$13\"|\"$14}' data/$1/track_data/methylation/methylation_CHG_hg38.bed > data/$1/track_data/methylation/methylation_CHG_hg38_preppedLiftover.bed\n",
    "awk '{print $1\"\\t\"$2\"\\t\"$3\"\\t\"$4\"|\"$5\"|\"$6\"|\"$7\"|\"$8\"|\"$9\"|\"$10\"|\"$11\"|\"$12\"|\"$13\"|\"$14}' data/$1/track_data/methylation/methylation_CHH_hg38.bed > data/$1/track_data/methylation/methylation_CHH_hg38_preppedLiftover.bed\n",
    "awk '{print $1\"\\t\"$2\"\\t\"$3\"\\t\"$4\"|\"$5\"|\"$6\"|\"$7\"|\"$8\"|\"$9\"|\"$10\"|\"$11\"|\"$12\"|\"$13\"|\"$14}' data/$1/track_data/methylation/methylation_CpG_hg38.bed > data/$1/track_data/methylation/methylation_CpG_hg38_preppedLiftover.bed\n",
    "rm data/$1/track_data/methylation/methylation_CHG_hg38.bed\n",
    "rm data/$1/track_data/methylation/methylation_CHH_hg38.bed\n",
    "rm data/$1/track_data/methylation/methylation_CpG_hg38.bed\n",
    "\n",
    "# #liftvoer hg38-->19 \n",
    "echo $1 \"lifting over hg38-->hg19\"\n",
    "data/applications/UCSC_genomeBrowser_Blat/liftOver data/$1/track_data/methylation/methylation_CHG_hg38_preppedLiftover.bed analysis/modules/download_encode/hg38ToHg19.over.chain.gz data/$1/track_data/methylation/methylation_CHG_hg19.bed  data/$1/track_data/methylation/methylation_CHG_unliftgedhg38.bed\n",
    "data/applications/UCSC_genomeBrowser_Blat/liftOver data/$1/track_data/methylation/methylation_CHH_hg38_preppedLiftover.bed analysis/modules/download_encode/hg38ToHg19.over.chain.gz data/$1/track_data/methylation/methylation_CHH_hg19.bed  data/$1/track_data/methylation/methylation_CHH_unliftgedhg38.bed\n",
    "data/applications/UCSC_genomeBrowser_Blat/liftOver data/$1/track_data/methylation/methylation_CpG_hg38_preppedLiftover.bed analysis/modules/download_encode/hg38ToHg19.over.chain.gz data/$1/track_data/methylation/methylation_CpG_hg19.bed  data/$1/track_data/methylation/methylation_CpG_unliftgedhg38.bed\n",
    "rm data/$1/track_data/methylation/methylation_CHG_hg38_preppedLiftover.bed \n",
    "rm data/$1/track_data/methylation/methylation_CHH_hg38_preppedLiftover.bed\n",
    "rm data/$1/track_data/methylation/methylation_CpG_hg38_preppedLiftover.bed\n",
    "\n",
    "# #liftvoer hg19-->18 \n",
    "echo $1 \"lifting over hg19-->hg18\"\n",
    "data/applications/UCSC_genomeBrowser_Blat/liftOver data/$1/track_data/methylation/methylation_CHG_hg19.bed analysis/modules/download_encode/hg19ToHg18.over.chain.gz data/$1/track_data/methylation/methylation_CHG_hg18.bed  data/$1/track_data/methylation/methylation_CHG_unliftgedhg19.bed\n",
    "data/applications/UCSC_genomeBrowser_Blat/liftOver data/$1/track_data/methylation/methylation_CHH_hg19.bed analysis/modules/download_encode/hg19ToHg18.over.chain.gz data/$1/track_data/methylation/methylation_CHH_hg18.bed  data/$1/track_data/methylation/methylation_CHH_unliftgedhg19.bed\n",
    "data/applications/UCSC_genomeBrowser_Blat/liftOver data/$1/track_data/methylation/methylation_CpG_hg19.bed analysis/modules/download_encode/hg19ToHg18.over.chain.gz data/$1/track_data/methylation/methylation_CpG_hg18.bed  data/$1/track_data/methylation/methylation_CpG_unliftgedhg19.bed\n",
    "rm data/$1/track_data/methylation/methylation_CHG_hg19.bed \n",
    "rm data/$1/track_data/methylation/methylation_CHH_hg19.bed\n",
    "rm data/$1/track_data/methylation/methylation_CpG_hg19.bed\n",
    "\n",
    "#bcombine and sort \n",
    "echo $1 \"combining \"\n",
    "cat data/$1/track_data/methylation/methylation_CHG_hg18.bed > data/$1/track_data/methylation/methylation.bed \n",
    "cat data/$1/track_data/methylation/methylation_CHH_hg18.bed >> data/$1/track_data/methylation/methylation.bed \n",
    "cat data/$1/track_data/methylation/methylation_CpG_hg18.bed >> data/$1/track_data/methylation/methylation.bed \n",
    "rm data/$1/track_data/methylation/methylation_CHG_hg18.bed \n",
    "rm data/$1/track_data/methylation/methylation_CHH_hg18.bed \n",
    "rm data/$1/track_data/methylation/methylation_CpG_hg18.bed \n",
    "\n",
    "echo $1 \"sorting\"\n",
    "sort -k1,1V -k2,2n -o data/$1/track_data/methylation/methylation.bed data/$1/track_data/methylation/methylation.bed \n",
    "#the sort resulted in \"chrom bloacks not continuous\" . apparently a probablem with sorting the chrom name. can add -V (-k1,1V) to enforce good sort \n",
    "\n",
    "#tabix \n",
    "echo $1 \"tabixing\"\n",
    "bgzip data/$1/track_data/methylation/methylation.bed\n",
    "tabix -s 1 -b 2 -e 3 data/$1/track_data/methylation/methylation.bed.gz\n"
   ]
  },
  {
   "cell_type": "markdown",
   "id": "3878f3ec-b37c-46e0-8fa7-e33a2dd9dc32",
   "metadata": {},
   "source": [
    "# testing the actual coverage "
   ]
  },
  {
   "cell_type": "code",
   "execution_count": 20,
   "id": "ea709e9e-daa8-4485-a4f3-efa5639c27c0",
   "metadata": {},
   "outputs": [
    {
     "name": "stderr",
     "output_type": "stream",
     "text": [
      "IOPub data rate exceeded.\n",
      "The Jupyter server will temporarily stop sending output\n",
      "to the client in order to avoid crashing it.\n",
      "To change this limit, set the config variable\n",
      "`--ServerApp.iopub_data_rate_limit`.\n",
      "\n",
      "Current values:\n",
      "ServerApp.iopub_data_rate_limit=1000000.0 (bytes/sec)\n",
      "ServerApp.rate_limit_window=3.0 (secs)\n",
      "\n"
     ]
    }
   ],
   "source": [
    "%%bash \n",
    "cd ../../../data/blood/track_data/methylation/\n",
    "wget https://www.encodeproject.org/files/ENCFF133QNK/@@download/ENCFF133QNK.bam "
   ]
  },
  {
   "cell_type": "code",
   "execution_count": 24,
   "id": "b29f0782-8001-4993-bafa-c012ac1635b8",
   "metadata": {},
   "outputs": [],
   "source": [
    "import pysam\n",
    "samfile = pysam.AlignmentFile(\"../../../data/blood/track_data/methylation/ENCFF133QNK.bam\", \"rb\")"
   ]
  },
  {
   "cell_type": "code",
   "execution_count": 23,
   "id": "240116ef-b996-4d82-9d82-ac0f2be23fe3",
   "metadata": {},
   "outputs": [],
   "source": [
    "%%bash \n",
    "cd ../../../data/blood/track_data/methylation/\n",
    "samtools index ENCFF133QNK.bam"
   ]
  },
  {
   "cell_type": "code",
   "execution_count": 31,
   "id": "21c2e74c-45ff-4f42-abfd-8f389035a0bc",
   "metadata": {},
   "outputs": [],
   "source": [
    "samfile_len = 0\n",
    "for x in (samfile.fetch(\"chr1\", \t948425, \t948426)): \n",
    "    samfile_len+=1"
   ]
  },
  {
   "cell_type": "code",
   "execution_count": 95,
   "id": "71728e1a-e7a5-42a2-8dcf-bca8a72c5a69",
   "metadata": {},
   "outputs": [
    {
     "data": {
      "text/plain": [
       "62"
      ]
     },
     "execution_count": 95,
     "metadata": {},
     "output_type": "execute_result"
    }
   ],
   "source": [
    "samfile_len"
   ]
  },
  {
   "cell_type": "code",
   "execution_count": 33,
   "id": "b0e1814c-febb-4996-91a5-a48ab8e41320",
   "metadata": {},
   "outputs": [],
   "source": [
    "#created in the linear model nbotebook \n",
    "c_trips_df = open(\"../../../data/blood/track_data/methylation/predDf_ctrips.csv\").readlines()"
   ]
  },
  {
   "cell_type": "code",
   "execution_count": 35,
   "id": "3d84cead-430d-4114-a3e3-9526abb86239",
   "metadata": {},
   "outputs": [
    {
     "data": {
      "text/plain": [
       "'\"\",\"Chromosome\",\"site\",\"triplet\",\"methylation_precent.0\",\"methylation_coverage.0\"\\n'"
      ]
     },
     "execution_count": 35,
     "metadata": {},
     "output_type": "execute_result"
    }
   ],
   "source": [
    "(c_trips_df)[0]"
   ]
  },
  {
   "cell_type": "code",
   "execution_count": 72,
   "id": "d13c4f79-03ae-4f95-90be-df0e3ab0ebe1",
   "metadata": {},
   "outputs": [],
   "source": [
    "samfile_lens = []\n",
    "coverages = []\n",
    "for i,line in enumerate(c_trips_df[1:]):\n",
    "    line = line.replace(\"\\\"\",\"\")\n",
    "    line=line.replace(\"\\n\",\"\")\n",
    "    c_split = line.split(\",\")\n",
    "    chrom = c_split[1]\n",
    "    site=int(c_split[2])\n",
    "    triplet = c_split[3]\n",
    "    if c_split[4] in [\"no_percent_data\",'infsuff_coverage'] :\n",
    "        continue\n",
    "    else: \n",
    "        percent = float(c_split[4])\n",
    "        coverage = float(c_split[5])\n",
    "        samfile_len = 0\n",
    "        for x in (samfile.fetch(chrom, site,site+1)): \n",
    "            samfile_len+=1\n",
    "        samfile_lens.append(samfile_len)\n",
    "        coverages.append(coverage)\n",
    "#     if i == 13: \n",
    "#         break "
   ]
  },
  {
   "cell_type": "code",
   "execution_count": 73,
   "id": "b40a717a-760f-44bb-8cfd-645c45a27a67",
   "metadata": {},
   "outputs": [],
   "source": [
    "assert(len(coverages)==len(samfile_lens))"
   ]
  },
  {
   "cell_type": "code",
   "execution_count": 49,
   "id": "a30408d4-7789-4a25-92a7-ecd4cb80388d",
   "metadata": {},
   "outputs": [],
   "source": []
  },
  {
   "cell_type": "code",
   "execution_count": 79,
   "id": "1c42e758-5b2a-4263-96c2-b7b05bd7fa66",
   "metadata": {},
   "outputs": [
    {
     "data": {
      "text/plain": [
       "Text(0.5, 1.0, 'bamfile coverage histogram')"
      ]
     },
     "execution_count": 79,
     "metadata": {},
     "output_type": "execute_result"
    },
    {
     "data": {
      "image/png": "[encoded data removed]",
      "text/plain": [
       "<Figure size 432x288 with 1 Axes>"
      ]
     },
     "metadata": {
      "needs_background": "light"
     },
     "output_type": "display_data"
    }
   ],
   "source": [
    "import matplotlib.pyplot as plt \n",
    "plt.hist(samfile_lens)\n",
    "plt.title(\"bamfile coverage histogram\")"
   ]
  },
  {
   "cell_type": "code",
   "execution_count": 80,
   "id": "2f8d3c5b-a9dc-47c5-bad4-1b494d05f21f",
   "metadata": {},
   "outputs": [
    {
     "data": {
      "text/plain": [
       "Text(0.5, 1.0, 'coverage after processing histogram')"
      ]
     },
     "execution_count": 80,
     "metadata": {},
     "output_type": "execute_result"
    },
    {
     "data": {
      "image/png": "[encoded data removed]",
      "text/plain": [
       "<Figure size 432x288 with 1 Axes>"
      ]
     },
     "metadata": {
      "needs_background": "light"
     },
     "output_type": "display_data"
    }
   ],
   "source": [
    "plt.hist(coverages)\n",
    "plt.title(\"coverage after processing histogram\")"
   ]
  },
  {
   "cell_type": "code",
   "execution_count": 94,
   "id": "6e770310-154d-4e21-9191-82f0f2321742",
   "metadata": {},
   "outputs": [
    {
     "data": {
      "image/png": "[encoded data removed]",
      "text/plain": [
       "<Figure size 432x288 with 1 Axes>"
      ]
     },
     "metadata": {
      "needs_background": "light"
     },
     "output_type": "display_data"
    }
   ],
   "source": [
    "plt.scatter(coverages,samfile_lens)\n",
    "plt.xlabel(\"after processing coverage\")\n",
    "plt.ylabel(\"bam coverages\")\n",
    "plt.ylim([0, 100])\n",
    "# plt.vlines(10,ymin=3,ymax=10,color=\"black\")\n",
    "# plt.vlines(30,ymin=3,ymax=30,color=\"black\")\n",
    "# plt.vlines(40,ymin=3,ymax=40,color=\"black\")\n",
    "# plt.vlines(20,ymin=3,ymax=20,color=\"black\")\n",
    "# plt.hlines(10,xmin=3,xmax=10,color=\"black\")\n",
    "# plt.hlines(20,xmin=3,xmax=20,color=\"black\")\n",
    "# plt.hlines(30,xmin=3,xmax=30,color=\"black\")\n",
    "# plt.hlines(40,xmin=3,xmax=40,color=\"black\")\n",
    "plt.show()"
   ]
  },
  {
   "cell_type": "code",
   "execution_count": null,
   "id": "1848cdd9-3335-4868-815c-5cfffd44691e",
   "metadata": {},
   "outputs": [],
   "source": [
    "c_split"
   ]
  },
  {
   "cell_type": "code",
   "execution_count": 42,
   "id": "794bcd40-e193-443c-a6c4-3ae83a4207ad",
   "metadata": {},
   "outputs": [],
   "source": [
    "samfile_len = 0\n",
    "for x in (samfile.fetch(chrom, site,site+1)): \n",
    "    samfile_len+=1"
   ]
  },
  {
   "cell_type": "code",
   "execution_count": 43,
   "id": "907da8cf-d830-4ee3-af24-5f4d5682bca3",
   "metadata": {},
   "outputs": [
    {
     "data": {
      "text/plain": [
       "9"
      ]
     },
     "execution_count": 43,
     "metadata": {},
     "output_type": "execute_result"
    }
   ],
   "source": [
    "samfile_len"
   ]
  },
  {
   "cell_type": "markdown",
   "id": "9cd46016-f9c8-4e97-b1a2-fab78add3a0a",
   "metadata": {},
   "source": [
    "# getting vaerage coverage "
   ]
  },
  {
   "cell_type": "code",
   "execution_count": 28,
   "id": "58af0bb4-8c16-43c7-b100-c9d1797d06e9",
   "metadata": {},
   "outputs": [
    {
     "name": "stdout",
     "output_type": "stream",
     "text": [
      "\n",
      "gzip: ../../../data/blood/track_data/methylation/methylation.bed.gz: decompression OK, trailing garbage ignored\n"
     ]
    }
   ],
   "source": [
    "!zcat ../../../data/blood/track_data/methylation/methylation.bed.gz | awk  -F'[\\t|]' '{print $10}' > blood_ncoverage.txt"
   ]
  },
  {
   "cell_type": "code",
   "execution_count": 11,
   "id": "06d41ea1-7757-422e-b85a-8badd7ffa16c",
   "metadata": {},
   "outputs": [
    {
     "name": "stdout",
     "output_type": "stream",
     "text": [
      "chr1\t469\t470\t\"0\"|3|-|10469|10470|255,155,0|3|66|CG|CG|3\n",
      "chr1\t471\t472\t\"0\"|3|-|10471|10472|155,255,0|3|33|CG|CG|3\n",
      "chr1\t472\t473\t\"0\"|2|-|10472|10473|0,255,0|2|0|CCG|CCG|1\n",
      "chr1\t481\t482\t\"0\"|2|-|10481|10482|0,255,0|2|0|CTG|CTG|1\n",
      "chr1\t484\t485\t\"0\"|1|-|10484|10485|255,0,0|1|100|CG|CG|2\n",
      "chr1\t485\t486\t\"0\"|1|-|10485|10486|0,255,0|1|0|CCG|CCG|1\n",
      "chr1\t489\t490\t\"0\"|2|-|10489|10490|255,0,0|2|100|CG|CG|4\n",
      "chr1\t493\t494\t\"0\"|1|-|10493|10494|255,0,0|1|100|CG|CG|4\n",
      "chr1\t494\t495\t\"0\"|1|+|10494|10495|0,255,0|1|0|CCC|CCC|5\n",
      "chr1\t495\t496\t\"0\"|1|+|10495|10496|0,255,0|1|0|CCG|CCG|5\n",
      "awk: cmd. line:1: (FILENAME=- FNR=778) fatal: print to \"standard output\" failed (Broken pipe)\n",
      "\n",
      "gzip: stdout: Broken pipe\n"
     ]
    }
   ],
   "source": [
    "!zcat ../../../data/blood/track_data/methylation/methylation.bed.gz | awk  -F'[\\t|]' '{print $0}' | head "
   ]
  },
  {
   "cell_type": "code",
   "execution_count": 16,
   "id": "a1f81c40-34ca-4eb3-a3b3-82825c9a7145",
   "metadata": {},
   "outputs": [
    {
     "name": "stdout",
     "output_type": "stream",
     "text": [
      "awk: cmd. line:1: (FILENAME=- FNR=1001473) fatal: print to \"standard output\" failed (Broken pipe)\n",
      "\n",
      "gzip: stdout: Broken pipe\n",
      "1000000 \"0\"\n"
     ]
    }
   ],
   "source": [
    "!zcat ../../../data/blood/track_data/methylation/methylation.bed.gz | awk  -F'[\\t|]' '{print $4}' | head -n 1000000 | sort | uniq -c "
   ]
  },
  {
   "cell_type": "code",
   "execution_count": 19,
   "id": "39ee1f36-62ea-46cc-ab49-43d5c3e13243",
   "metadata": {
    "collapsed": true,
    "jupyter": {
     "outputs_hidden": true
    },
    "tags": []
   },
   "outputs": [
    {
     "name": "stdout",
     "output_type": "stream",
     "text": [
      "awk: cmd. line:1: (FILENAME=- FNR=1001106) fatal: print to \"standard output\" failed (Broken pipe)\n",
      "\n",
      "gzip: stdout: Broken pipe\n",
      "  46296 10\t10\n",
      "      2 101\t101\n",
      "      4 102\t102\n",
      "      3 103\t103\n",
      "      2 104\t104\n",
      "      2 105\t105\n",
      "      3 106\t106\n",
      "      5 107\t107\n",
      "      4 108\t108\n",
      "  92297 1\t1\n",
      "  44962 11\t11\n",
      "      1 111\t111\n",
      "      1 112\t112\n",
      "      1 113\t113\n",
      "      4 116\t116\n",
      "      4 117\t117\n",
      "      3 118\t118\n",
      "      1 119\t119\n",
      "      1 120\t120\n",
      "  43070 12\t12\n",
      "      3 122\t122\n",
      "      4 123\t123\n",
      "      5 124\t124\n",
      "      1 125\t125\n",
      "      4 126\t126\n",
      "      3 127\t127\n",
      "      1 128\t128\n",
      "      1 129\t129\n",
      "  40699 13\t13\n",
      "      1 132\t132\n",
      "      2 133\t133\n",
      "      1 134\t134\n",
      "      1 135\t135\n",
      "      2 136\t136\n",
      "      2 138\t138\n",
      "      1 141\t141\n",
      "  38615 14\t14\n",
      "      1 143\t143\n",
      "      2 145\t145\n",
      "      2 146\t146\n",
      "      1 148\t148\n",
      "      1 150\t150\n",
      "  35476 15\t15\n",
      "      3 152\t152\n",
      "      1 153\t153\n",
      "      1 154\t154\n",
      "      2 155\t155\n",
      "      1 157\t157\n",
      "      1 161\t161\n",
      "  32392 16\t16\n",
      "      1 162\t162\n",
      "      1 168\t168\n",
      "      2 169\t169\n",
      "  28465 17\t17\n",
      "      2 176\t176\n",
      "      1 177\t177\n",
      "  25119 18\t18\n",
      "      2 187\t187\n",
      "      1 188\t188\n",
      "  21551 19\t19\n",
      "      2 192\t192\n",
      "      1 194\t194\n",
      "      1 197\t197\n",
      "      1 199\t199\n",
      "      2 200\t200\n",
      "  18326 20\t20\n",
      "      1 203\t203\n",
      "      2 204\t204\n",
      "  15751 21\t21\n",
      "      2 212\t212\n",
      "      1 214\t214\n",
      "      1 216\t216\n",
      "  73059 2\t2\n",
      "  13168 22\t22\n",
      "      1 225\t225\n",
      "      1 227\t227\n",
      "      1 228\t228\n",
      "      1 230\t230\n",
      "      2 232\t232\n",
      "  11112 23\t23\n",
      "      1 237\t237\n",
      "      1 239\t239\n",
      "      1 240\t240\n",
      "   9042 24\t24\n",
      "      1 245\t245\n",
      "      2 248\t248\n",
      "   7239 25\t25\n",
      "   5634 26\t26\n",
      "      1 264\t264\n",
      "      1 265\t265\n",
      "      1 267\t267\n",
      "      1 269\t269\n",
      "      2 270\t270\n",
      "   4422 27\t27\n",
      "      1 273\t273\n",
      "      1 280\t280\n",
      "   3477 28\t28\n",
      "   2744 29\t29\n",
      "   2166 30\t30\n",
      "   1696 31\t31\n",
      "   1377 32\t32\n",
      "  63789 3\t3\n",
      "   1038 33\t33\n",
      "    837 34\t34\n",
      "    714 35\t35\n",
      "    527 36\t36\n",
      "    425 37\t37\n",
      "    366 38\t38\n",
      "    267 39\t39\n",
      "    224 40\t40\n",
      "    175 41\t41\n",
      "    147 42\t42\n",
      "    113 43\t43\n",
      "  58881 4\t4\n",
      "     86 44\t44\n",
      "    105 45\t45\n",
      "     89 46\t46\n",
      "     67 47\t47\n",
      "     61 48\t48\n",
      "     63 49\t49\n",
      "     70 50\t50\n",
      "     54 51\t51\n",
      "     55 52\t52\n",
      "     49 53\t53\n",
      "     40 54\t54\n",
      "  54784 5\t5\n",
      "     40 55\t55\n",
      "     24 56\t56\n",
      "     24 57\t57\n",
      "     28 58\t58\n",
      "     21 59\t59\n",
      "     18 60\t60\n",
      "     26 61\t61\n",
      "     20 62\t62\n",
      "     12 63\t63\n",
      "     11 64\t64\n",
      "     10 65\t65\n",
      "  52425 6\t6\n",
      "      9 66\t66\n",
      "      7 67\t67\n",
      "      9 68\t68\n",
      "     13 69\t69\n",
      "      6 70\t70\n",
      "     10 71\t71\n",
      "      8 72\t72\n",
      "      6 73\t73\n",
      "      4 74\t74\n",
      "      5 75\t75\n",
      "      6 76\t76\n",
      "  50287 7\t7\n",
      "      5 77\t77\n",
      "      2 78\t78\n",
      "      4 79\t79\n",
      "      2 80\t80\n",
      "      4 81\t81\n",
      "      1 82\t82\n",
      "      2 83\t83\n",
      "      1 84\t84\n",
      "      2 87\t87\n",
      "  48576 8\t8\n",
      "      2 91\t91\n",
      "      1 92\t92\n",
      "      3 98\t98\n",
      "  47050 9\t9\n",
      "      2 99\t99\n"
     ]
    }
   ],
   "source": [
    "!zcat ../../../data/blood/track_data/methylation/methylation.bed.gz | awk  -F'[\\t|]' '{print $5\"\\t\"$10}' | head -n 1000000 | sort | uniq -c "
   ]
  },
  {
   "cell_type": "code",
   "execution_count": 15,
   "id": "a90fcfd5-c759-4581-971f-4c9b38161926",
   "metadata": {},
   "outputs": [
    {
     "name": "stdout",
     "output_type": "stream",
     "text": [
      "3\n",
      "3\n",
      "2\n",
      "2\n",
      "1\n",
      "1\n",
      "2\n",
      "1\n",
      "1\n",
      "1\n",
      "awk: cmd. line:1: (FILENAME=- FNR=3899) fatal: print to \"standard output\" failed (Broken pipe)\n",
      "\n",
      "gzip: stdout: Broken pipe\n"
     ]
    }
   ],
   "source": [
    "!zcat ../../../data/blood/track_data/methylation/methylation.bed.gz | awk  -F'[\\t|]' '{print $10}' | head "
   ]
  },
  {
   "cell_type": "code",
   "execution_count": 1,
   "id": "623d28fb-f4e3-458f-8f75-70ea0b498314",
   "metadata": {},
   "outputs": [],
   "source": [
    "import numpy as np \n",
    "import random "
   ]
  },
  {
   "cell_type": "code",
   "execution_count": 2,
   "id": "b06eb86f-dd51-42b6-bf86-e46bde511698",
   "metadata": {},
   "outputs": [],
   "source": [
    "test_coverage = open(\"blood_ncoverage.txt\").readlines()"
   ]
  },
  {
   "cell_type": "code",
   "execution_count": 3,
   "id": "564141fb-1aba-4de8-845a-f72da57db856",
   "metadata": {},
   "outputs": [],
   "source": [
    "test_coverage = random.sample(test_coverage,1000000)"
   ]
  },
  {
   "cell_type": "code",
   "execution_count": 4,
   "id": "a676ba34-bd2f-43a4-b242-0a2900ffbbc3",
   "metadata": {},
   "outputs": [],
   "source": [
    "for i,line in enumerate(test_coverage): \n",
    "    test_coverage[i] = int(line.rstrip(\"\\n\"))"
   ]
  },
  {
   "cell_type": "code",
   "execution_count": 5,
   "id": "6d5b5a4e-41b1-4125-8035-d88878cb46c9",
   "metadata": {},
   "outputs": [
    {
     "data": {
      "text/plain": [
       "7.192821"
      ]
     },
     "execution_count": 5,
     "metadata": {},
     "output_type": "execute_result"
    }
   ],
   "source": [
    "np.mean(test_coverage)"
   ]
  },
  {
   "cell_type": "code",
   "execution_count": 6,
   "id": "5b28f109-c1c4-4317-a64d-0de2b507e19b",
   "metadata": {},
   "outputs": [
    {
     "data": {
      "text/plain": [
       "5.0"
      ]
     },
     "execution_count": 6,
     "metadata": {},
     "output_type": "execute_result"
    }
   ],
   "source": [
    "np.median(test_coverage)"
   ]
  },
  {
   "cell_type": "code",
   "execution_count": 7,
   "id": "154daa44-9cb4-4c57-84d0-c4f85ccd9af1",
   "metadata": {},
   "outputs": [],
   "source": [
    "import matplotlib.pyplot as plt"
   ]
  },
  {
   "cell_type": "code",
   "execution_count": 8,
   "id": "1aade794-aff0-4a01-b61b-81bb2be891ea",
   "metadata": {},
   "outputs": [
    {
     "data": {
      "text/plain": [
       "(array([9.99991e+05, 4.00000e+00, 2.00000e+00, 0.00000e+00, 1.00000e+00,\n",
       "        0.00000e+00, 1.00000e+00, 0.00000e+00, 0.00000e+00, 1.00000e+00]),\n",
       " array([1.0000e+00, 4.1270e+02, 8.2440e+02, 1.2361e+03, 1.6478e+03,\n",
       "        2.0595e+03, 2.4712e+03, 2.8829e+03, 3.2946e+03, 3.7063e+03,\n",
       "        4.1180e+03]),\n",
       " <BarContainer object of 10 artists>)"
      ]
     },
     "execution_count": 8,
     "metadata": {},
     "output_type": "execute_result"
    },
    {
     "data": {
      "image/png": "[encoded data removed]",
      "text/plain": [
       "<Figure size 432x288 with 1 Axes>"
      ]
     },
     "metadata": {
      "needs_background": "light"
     },
     "output_type": "display_data"
    }
   ],
   "source": [
    "plt.hist(test_coverage)"
   ]
  },
  {
   "cell_type": "code",
   "execution_count": 9,
   "id": "3ca68c8b-4a77-4d3d-9574-d00d0b1b9af7",
   "metadata": {},
   "outputs": [],
   "source": [
    "count_10 = 0\n",
    "for x in test_coverage: \n",
    "    if x >= 10 : \n",
    "        count_10 += 1"
   ]
  },
  {
   "cell_type": "code",
   "execution_count": 10,
   "id": "9d3eb1a7-1741-43e9-893f-c87e1af2be58",
   "metadata": {},
   "outputs": [
    {
     "data": {
      "text/plain": [
       "0.273879"
      ]
     },
     "execution_count": 10,
     "metadata": {},
     "output_type": "execute_result"
    }
   ],
   "source": [
    "count_10/len(test_coverage)"
   ]
  },
  {
   "cell_type": "code",
   "execution_count": 11,
   "id": "c4bd4bab-f31a-47bd-adf1-451b1d8c289e",
   "metadata": {},
   "outputs": [
    {
     "data": {
      "text/plain": [
       "4118"
      ]
     },
     "execution_count": 11,
     "metadata": {},
     "output_type": "execute_result"
    }
   ],
   "source": [
    "np.max(test_coverage)"
   ]
  },
  {
   "cell_type": "markdown",
   "id": "2dcca21e-7821-420c-b8a9-305020d0ace9",
   "metadata": {},
   "source": [
    " # chnaging the methylation output for the createdf "
   ]
  },
  {
   "cell_type": "code",
   "execution_count": 2,
   "id": "1c17ffd2-f1ae-4abb-adce-99faf6ee00c8",
   "metadata": {},
   "outputs": [],
   "source": [
    "from Bio import AlignIO\n",
    "import pysam \n",
    "import gzip\n",
    "from numpy.random import choice\n",
    "import numpy as np "
   ]
  },
  {
   "cell_type": "code",
   "execution_count": 3,
   "id": "824339ee-4658-46ad-9a40-647c56f056f1",
   "metadata": {},
   "outputs": [],
   "source": [
    "filename_tmp =\"../../../\"+\"data/global/sequence/chr1.fa.gz\"\n",
    "with gzip.open(filename_tmp, \"rt\") as handle:\n",
    "    alignment = (AlignIO.read(handle,\"fasta\"))"
   ]
  },
  {
   "cell_type": "code",
   "execution_count": 8,
   "id": "eeb4827d-b49f-4539-8cbe-007e004b69a5",
   "metadata": {
    "tags": []
   },
   "outputs": [
    {
     "name": "stdout",
     "output_type": "stream",
     "text": [
      "1 ['chr1', 4129241, 1, 'no_percent_data', 'no_coverage_data']\n",
      "10 ['chr1', 4129241, 1, 'no_percent_data', 'no_coverage_data', 0.0, 25.0]\n"
     ]
    },
    {
     "name": "stderr",
     "output_type": "stream",
     "text": [
      "[W::hts_idx_load3] The index file is older than the data file: ../../../data/blood/track_data/methylation/methylation.bed.gz.tbi\n",
      "[W::hts_idx_load3] The index file is older than the data file: ../../../data/blood/track_data/methylation/methylation.bed.gz.tbi\n"
     ]
    }
   ],
   "source": [
    "filename = \"../../../data/blood/track_data/methylation/methylation.bed.gz\"\n",
    "site = ['chr1', 4129241, 1]\n",
    "list_of_surrounding_contexts = [1,10]\n",
    "row = ['chr1', 4129241, 1]\n",
    "error_log = str()\n",
    "\n",
    "for distance in list_of_surrounding_contexts: \n",
    "\n",
    "    track_output = [record for record in pysam.Tabixfile(filename).fetch(site[0], site[1]-distance, site[1]+1+distance)]\n",
    "    if track_output: \n",
    "        if distance in [0,1]: \n",
    "            record_pres = False\n",
    "            next_door = False\n",
    "            for record in track_output: \n",
    "                if int(record.split(\"\\t\")[1]) == site[1]: \n",
    "                    record_pres =True\n",
    "                    num_reads_at_site,percent_methylated = record.split(\"|\")[6:8]\n",
    "                    row.extend([percent_methylated,num_reads_at_site])\n",
    "                elif int(record.split(\"\\t\")[1]) in [site[1]-1,site[1]+1]: next_door = True\n",
    "            if not record_pres and next_door==False: #the track_output is empty\n",
    "                error_log += (str(\"methylation track output empty \"+site[0]+\" \"+str(site[1])+\"\\n\"))\n",
    "                print(\"errorlog\")\n",
    "        else: \n",
    "            num_reads_list = []\n",
    "            percent_methyl_list = []\n",
    "            for record in track_output:\n",
    "                num_reads_at_site,percent_methylated = record.split(\"|\")[6:8]\n",
    "                num_reads_list.append(int(num_reads_at_site))\n",
    "                percent_methyl_list.append(float(percent_methylated))\n",
    "        row.extend([np.mean(percent_methyl_list),np.mean(num_reads_list)])\n",
    "    else: \n",
    "        if alignment[0][site[1]].upper() == \"C\": \n",
    "            error_log += (str(\"c site doesnt have data \"+site[0]+\" \"+str(site[1])+\"\\n\"))\n",
    "        row.extend([\"no_percent_data\",\"no_coverage_data\"])\n",
    "    print(distance, row)"
   ]
  },
  {
   "cell_type": "code",
   "execution_count": 9,
   "id": "c84b2c02-38c3-426c-991d-8129f9cef213",
   "metadata": {},
   "outputs": [
    {
     "data": {
      "text/plain": [
       "['chr1\\t4129232\\t4129233\\t\"0\"|25|-|4169312|4169313|0,255,0|25|0|CTG|CTG|2']"
      ]
     },
     "execution_count": 9,
     "metadata": {},
     "output_type": "execute_result"
    }
   ],
   "source": [
    "track_output"
   ]
  },
  {
   "cell_type": "code",
   "execution_count": 7,
   "id": "be6bb5ae-2d45-48f5-bdb2-6487b166a98f",
   "metadata": {},
   "outputs": [
    {
     "ename": "TypeError",
     "evalue": "can only concatenate str (not \"tuple\") to str",
     "output_type": "error",
     "traceback": [
      "\u001b[0;31m---------------------------------------------------------------------------\u001b[0m",
      "\u001b[0;31mTypeError\u001b[0m                                 Traceback (most recent call last)",
      "\u001b[0;32m/tmp/ipykernel_38905/3256880351.py\u001b[0m in \u001b[0;36m<module>\u001b[0;34m\u001b[0m\n\u001b[1;32m      1\u001b[0m \u001b[0mtest_string\u001b[0m \u001b[0;34m=\u001b[0m \u001b[0mstr\u001b[0m\u001b[0;34m(\u001b[0m\u001b[0;34m)\u001b[0m\u001b[0;34m\u001b[0m\u001b[0;34m\u001b[0m\u001b[0m\n\u001b[0;32m----> 2\u001b[0;31m \u001b[0mtest_string\u001b[0m \u001b[0;34m+=\u001b[0m \u001b[0;34m(\u001b[0m\u001b[0;34m\"c site doesnt have data \"\u001b[0m\u001b[0;34m,\u001b[0m\u001b[0msite\u001b[0m\u001b[0;34m[\u001b[0m\u001b[0;36m0\u001b[0m\u001b[0;34m]\u001b[0m\u001b[0;34m,\u001b[0m\u001b[0;34m\" \"\u001b[0m\u001b[0;34m,\u001b[0m\u001b[0mstr\u001b[0m\u001b[0;34m(\u001b[0m\u001b[0msite\u001b[0m\u001b[0;34m[\u001b[0m\u001b[0;36m1\u001b[0m\u001b[0;34m]\u001b[0m\u001b[0;34m)\u001b[0m\u001b[0;34m,\u001b[0m\u001b[0;34m\"\\n\"\u001b[0m\u001b[0;34m)\u001b[0m\u001b[0;34m\u001b[0m\u001b[0;34m\u001b[0m\u001b[0m\n\u001b[0m",
      "\u001b[0;31mTypeError\u001b[0m: can only concatenate str (not \"tuple\") to str"
     ]
    }
   ],
   "source": [
    "test_string = str()\n",
    "test_string += str(\"c site doesnt have data \",site[0],\" \",str(site[1]),\"\\n\")"
   ]
  },
  {
   "cell_type": "code",
   "execution_count": 41,
   "id": "bb847c8b-cf6f-47ae-b47a-c2e32b99b4fc",
   "metadata": {},
   "outputs": [
    {
     "data": {
      "text/plain": [
       "([0.0], [25])"
      ]
     },
     "execution_count": 41,
     "metadata": {},
     "output_type": "execute_result"
    }
   ],
   "source": [
    "percent_methyl_list,num_reads_list"
   ]
  },
  {
   "cell_type": "code",
   "execution_count": 42,
   "id": "22421945-33e4-4d07-9600-b1a87efab347",
   "metadata": {},
   "outputs": [
    {
     "data": {
      "text/plain": [
       "'25'"
      ]
     },
     "execution_count": 42,
     "metadata": {},
     "output_type": "execute_result"
    }
   ],
   "source": [
    "num_reads_at_site"
   ]
  },
  {
   "cell_type": "code",
   "execution_count": 28,
   "id": "7fd4e0fa-4567-4ebc-a7ab-478d0704ac30",
   "metadata": {},
   "outputs": [
    {
     "name": "stderr",
     "output_type": "stream",
     "text": [
      "[W::hts_idx_load3] The index file is older than the data file: ../../../data/blood/track_data/methylation/methylation.bed.gz.tbi\n"
     ]
    },
    {
     "data": {
      "text/plain": [
       "['chr1\\t4129232\\t4129233\\t\"0\"|25|-|4169312|4169313|0,255,0|25|0|CTG|CTG|2']"
      ]
     },
     "execution_count": 28,
     "metadata": {},
     "output_type": "execute_result"
    }
   ],
   "source": [
    "[record for record in pysam.Tabixfile(filename).fetch(site[0], site[1]-10, site[1]+1+10)]"
   ]
  }
 ],
 "metadata": {
  "kernelspec": {
   "display_name": "Python [conda env:.conda-mutability] *",
   "language": "python",
   "name": "conda-env-.conda-mutability-py"
  },
  "language_info": {
   "codemirror_mode": {
    "name": "ipython",
    "version": 3
   },
   "file_extension": ".py",
   "mimetype": "text/x-python",
   "name": "python",
   "nbconvert_exporter": "python",
   "pygments_lexer": "ipython3",
   "version": "3.9.6"
  }
 },
 "nbformat": 4,
 "nbformat_minor": 5
}
