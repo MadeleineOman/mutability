{
 "cells": [
  {
   "cell_type": "code",
   "execution_count": 1,
   "id": "c876b717-4b03-4640-883b-add2d53d6bce",
   "metadata": {
    "collapsed": true,
    "jupyter": {
     "outputs_hidden": true
    },
    "tags": []
   },
   "outputs": [
    {
     "name": "stderr",
     "output_type": "stream",
     "text": [
      "\n",
      "Attaching package: ‘dplyr’\n",
      "\n",
      "\n",
      "The following objects are masked from ‘package:stats’:\n",
      "\n",
      "    filter, lag\n",
      "\n",
      "\n",
      "The following objects are masked from ‘package:base’:\n",
      "\n",
      "    intersect, setdiff, setequal, union\n",
      "\n",
      "\n"
     ]
    }
   ],
   "source": [
    "# library(glmnet)\n",
    "library(dplyr)"
   ]
  },
  {
   "cell_type": "code",
   "execution_count": 40,
   "id": "c78a96b5-1d69-4467-95f3-55afbe45e629",
   "metadata": {},
   "outputs": [
    {
     "name": "stderr",
     "output_type": "stream",
     "text": [
      "Warning message in predict.lm(object, newdata, se.fit, scale = 1, type = if (type == :\n",
      "“prediction from a rank-deficient fit may be misleading”\n"
     ]
    }
   ],
   "source": [
    "# tissue = args[1]\n",
    "tissue = \"blood\"\n",
    "# tissue_predOn = args[2]\n",
    "tissue_predOn = \"germline\"\n",
    "# model_name = args[3]\n",
    "model_name = \"model3\"\n",
    "tmp_file_path = \"../../../\"\n",
    "\n",
    "if ((tissue_predOn == \"liver\")&&(tissue != \"liver\")){\n",
    "    load(paste(tmp_file_path,\"data/\",tissue,\"/objects/\",model_name,\"/\",tissue,\"_onLiver_model.RData\",sep=\"\"))#model\n",
    "}else{\n",
    "    load(paste(tmp_file_path,\"data/\",tissue,\"/objects/\",model_name,\"/\",tissue,\"_model.RData\",sep=\"\"))#model\n",
    "}\n",
    "if ((tissue_predOn != \"liver\")&&(tissue == \"liver\")){\n",
    "    load(paste(tmp_file_path,\"data/\",tissue_predOn,\"/objects/\",model_name,\"/\",tissue_predOn,\"_onLiver_samples_sites_test.RData\",sep=\"\"))#sample_sites_test\n",
    "    all_data <- read.csv(paste(tmp_file_path,\"data/\",tissue_predOn,\"/dataframes/\",model_name,\"/\",tissue_predOn,\"_onLiver_all_data_readyForPrediction.csv\",sep=\"\"),header=TRUE)\n",
    "}else{\n",
    "    load(paste(tmp_file_path,\"data/\",tissue_predOn,\"/objects/\",model_name,\"/\",tissue_predOn,\"_samples_sites_test.RData\",sep=\"\"))#sample_sites_test\n",
    "    all_data <- read.csv(paste(tmp_file_path,\"data/\",tissue_predOn,\"/dataframes/\",model_name,\"/\",tissue_predOn,\"_all_data_readyForPrediction.csv\",sep=\"\"),header=TRUE)\n",
    "}\n",
    "    \n",
    "\n",
    "probs <- predict.glm(model, all_data[sample_sites_test,], type=\"response\")\n",
    "probs_df <- data.frame(x = probs)\n",
    "\n",
    "#binding the predicted proabilities to the OG data (but the test sites only)\n",
    "probs_df <- probs_df %>%\n",
    "    bind_cols(all_data[sample_sites_test,])\n",
    "\n",
    "#renaming the glm_probs coloumn\n",
    "colnames(probs_df ) <- replace(colnames(probs_df ), 1, \"glm_probs\")\n",
    "\n",
    "#writing to file \n",
    "filename = paste(tmp_file_path,\"data/\",tissue,\"/dataframes/\",model_name,\"/\",tissue,\"_on_\",tissue_predOn,\"_ProbabilityDf.csv\",sep=\"\")#this sep is for the filename string\n",
    "write.csv(probs_df ,filename, row.names = FALSE)"
   ]
  }
 ],
 "metadata": {
  "kernelspec": {
   "display_name": "R [conda env:.conda-mutability] *",
   "language": "R",
   "name": "conda-env-.conda-mutability-r"
  },
  "language_info": {
   "codemirror_mode": "r",
   "file_extension": ".r",
   "mimetype": "text/x-r-source",
   "name": "R",
   "pygments_lexer": "r",
   "version": "4.0.5"
  }
 },
 "nbformat": 4,
 "nbformat_minor": 5
}
