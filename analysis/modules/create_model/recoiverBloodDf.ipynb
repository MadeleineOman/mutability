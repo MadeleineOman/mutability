{
 "cells": [
  {
   "cell_type": "markdown",
   "id": "628c6232-1fa6-4f56-aa8b-fa92886ed53e",
   "metadata": {},
   "source": [
    "# recovering the blood df \n",
    "- want only blood tissue tracks\n",
    "- recovering from predictorDf_allTissueSpecTracks.txt file (has all tissue specific tracks "
   ]
  },
  {
   "cell_type": "code",
   "execution_count": 5,
   "id": "ceda70d0-c2ed-438a-8a0f-5e128919de92",
   "metadata": {},
   "outputs": [],
   "source": [
    "import re"
   ]
  },
  {
   "cell_type": "code",
   "execution_count": 15,
   "id": "8c355a88-3cff-4bcc-a00f-67537f129592",
   "metadata": {
    "tags": []
   },
   "outputs": [],
   "source": [
    "import pandas as pd"
   ]
  },
  {
   "cell_type": "code",
   "execution_count": 2,
   "id": "0e0a3284-b1e2-4d58-8408-7e879319b1e0",
   "metadata": {},
   "outputs": [],
   "source": [
    "#find the indices of the coloumsn i want to remove: all those that contains germline, liver, skin \n",
    "blood_all_lines = open(\"../../../data/blood/dataframes/model7/predictorDf_allTissueSpecTracks.txt\").readlines()[0]"
   ]
  },
  {
   "cell_type": "code",
   "execution_count": 10,
   "id": "ec49d164-a0e7-40be-845c-7bf96d3f5062",
   "metadata": {},
   "outputs": [],
   "source": [
    "germline_indices = [i for i,value in enumerate(blood_all_lines.split()) if \"germline\" in value]\n",
    "liver_indices = [i for i,value in enumerate(blood_all_lines.split()) if \"liver\" in value]\n",
    "skin_indices = [i for i,value in enumerate(blood_all_lines.split()) if \"skin\" in value]"
   ]
  },
  {
   "cell_type": "code",
   "execution_count": 13,
   "id": "548865fa-80fc-46b0-90c7-c451b0a8fd1a",
   "metadata": {},
   "outputs": [],
   "source": [
    "indices_to_rm = germline_indices + liver_indices+ skin_indices"
   ]
  },
  {
   "cell_type": "markdown",
   "id": "63b2a64b-594c-424b-b3b9-20d5e2aa0f20",
   "metadata": {},
   "source": [
    "**read in the df**"
   ]
  },
  {
   "cell_type": "code",
   "execution_count": 16,
   "id": "3472ebe3-a48c-4f28-bb4c-fd56fa5ed6f0",
   "metadata": {},
   "outputs": [],
   "source": [
    "blood_all_df = pd.read_table(\"../../../data/blood/dataframes/model7/predictorDf_allTissueSpecTracks.txt\")"
   ]
  },
  {
   "cell_type": "code",
   "execution_count": 26,
   "id": "5f63aa5f-d23f-499f-99bb-2ff9c1fc4bb9",
   "metadata": {},
   "outputs": [],
   "source": [
    "blood_only_df = blood_all_df.drop(blood_all_df.columns[indices_to_rm],axis=1)#https://sparkbyexamples.com/pandas/pandas-drop-multiple-columns-by-index/"
   ]
  },
  {
   "cell_type": "markdown",
   "id": "ce1577ef-1999-437b-bee2-10550d645026",
   "metadata": {},
   "source": [
    "**rename the  cols to not have \"blood\" in them**"
   ]
  },
  {
   "cell_type": "code",
   "execution_count": 30,
   "id": "38a03b3b-aaf0-4d8f-b784-93afe9dc971b",
   "metadata": {},
   "outputs": [],
   "source": [
    "new_colnames = []\n",
    "for colname in (blood_only_df.columns): \n",
    "    if \"blood\" in colname: \n",
    "        colname = colname.replace(\"_blood\", \"\")#https://www.w3schools.com/python/ref_string_replace.asp\n",
    "    new_colnames.append(colname)"
   ]
  },
  {
   "cell_type": "code",
   "execution_count": 32,
   "id": "0264141b-23f5-4741-a2be-473b92a08f26",
   "metadata": {},
   "outputs": [],
   "source": [
    "blood_only_df.columns = new_colnames"
   ]
  },
  {
   "cell_type": "code",
   "execution_count": 36,
   "id": "64eb5415-3257-4d81-afe1-ba2c2ae6d7d1",
   "metadata": {},
   "outputs": [],
   "source": [
    "blood_only_df.to_csv(\"../../../data/blood/dataframes/model7/predictorDf.txt\", sep ='\\t')"
   ]
  }
 ],
 "metadata": {
  "kernelspec": {
   "display_name": "Python [conda env:.conda-mutability] *",
   "language": "python",
   "name": "conda-env-.conda-mutability-py"
  },
  "language_info": {
   "codemirror_mode": {
    "name": "ipython",
    "version": 3
   },
   "file_extension": ".py",
   "mimetype": "text/x-python",
   "name": "python",
   "nbconvert_exporter": "python",
   "pygments_lexer": "ipython3",
   "version": "3.9.6"
  }
 },
 "nbformat": 4,
 "nbformat_minor": 5
}
