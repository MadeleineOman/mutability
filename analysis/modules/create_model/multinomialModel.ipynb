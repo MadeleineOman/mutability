{
 "cells": [
  {
   "cell_type": "markdown",
   "id": "43693d12-7917-4c6c-bd8a-66f52d04a57c",
   "metadata": {},
   "source": [
    "# **multinomial random tree classifier for the whole model**"
   ]
  },
  {
   "cell_type": "code",
   "execution_count": 58,
   "id": "708cfccc-53fa-4ef4-96c7-7500c056bda6",
   "metadata": {},
   "outputs": [],
   "source": [
    "import pandas as pd \n",
    "import numpy as np \n",
    "import random\n",
    "from sklearn.ensemble import RandomForestClassifier\n",
    "# from sklearn.ensemble import RandomForestRegressor\n",
    "from sklearn.model_selection import train_test_split\n",
    "from sklearn.metrics import accuracy_score\n",
    "import matplotlib.pyplot as plt \n",
    "from sklearn import datasets\n",
    "\n",
    "#following a multinomial clasification tutorial \n",
    "#https://www.codementor.io/@agarrahul01/multiclass-classification-using-random-forest-on-scikit-learn-library-hkk4lwawu\n",
    "# from sklearn.model_selection import train_test_split\n",
    "from sklearn.preprocessing import StandardScaler\n",
    "# from sklearn.ensemble import RandomForestClassifier\n",
    "from sklearn.metrics import confusion_matrix\n",
    "import re\n",
    "# from sklearn.externals import joblib"
   ]
  },
  {
   "cell_type": "code",
   "execution_count": 95,
   "id": "4539e983-bbbb-4ab4-ba9c-83dc3c92a5f6",
   "metadata": {},
   "outputs": [],
   "source": [
    "model_name = \"model7\"\n",
    "tmp_file_path = \"../../../\"\n",
    "model_desc = \"_allTissueSpecTracks_bloodEquiv_noMethyl\"\n",
    "onlyMuts=True\n",
    "standardizeMethod = \"together\"\n",
    "tissue=\"global\"\n",
    "noTissueSpecPreds = False\n",
    "error_log = model_desc+\", standardize method = \"+standardizeMethod+ \", only muts:  \"+str(onlyMuts)+\"\\n\""
   ]
  },
  {
   "cell_type": "code",
   "execution_count": 96,
   "id": "13da190b-7013-4ff3-a2ab-1fa141046d09",
   "metadata": {},
   "outputs": [],
   "source": [
    "if standardizeMethod == \"together\": \n",
    "    all_data = pd.read_csv(\"{p}data/global/dataframes/{m}/global_all_data_readyForPrediction{d}.csv\".format(p=tmp_file_path,m=model_name,d=model_desc))\n",
    "elif standardizeMethod == \"seperate\":\n",
    "    #load df \n",
    "    blood_df = pd.read_csv(\"{p}data/blood/dataframes/{m}/blood_forLiver_all_data_readyForPrediction.csv\".format(p=tmp_file_path,m=model_name))\n",
    "    germline_df = pd.read_csv(\"{p}data/germline/dataframes/{m}/germline_forLiver_all_data_readyForPrediction.csv\".format(p=tmp_file_path,m=model_name))\n",
    "    skin_df = pd.read_csv(\"{p}data/skin/dataframes/{m}/skin_forLiver_all_data_readyForPrediction.csv\".format(p=tmp_file_path,m=model_name))\n",
    "    liver_df = pd.read_csv(\"{p}data/liver/dataframes/{m}/liver_all_data_readyForPrediction.csv\".format(p=tmp_file_path,m=model_name))\n",
    "    #sample larger models down to blood nrow \n",
    "    germline_df =germline_df.sample(n=blood_df.shape[0])\n",
    "    liver_df =liver_df.sample(n=blood_df.shape[0])\n",
    "    skin_df =skin_df.sample(n=blood_df.shape[0])\n",
    "    #create a column to disinguish which tissue is which before merging \n",
    "    blood_df[\"tissue\"]=\"blood\"\n",
    "    germline_df[\"tissue\"]=\"germline\"\n",
    "    liver_df[\"tissue\"]=\"liver\"\n",
    "    skin_df[\"tissue\"]=\"skin\"\n",
    "    #merging the tissue data \n",
    "    all_data = pd.concat([blood_df,germline_df])\n",
    "    all_data = pd.concat([all_data, liver_df])\n",
    "    all_data = pd.concat([all_data,skin_df])\n",
    "    #stadardizing the binary columns! (they were individually  standardized but we dont want that)\n",
    "    #ok which columns are binary and need ot be edited? \n",
    "    binary_cols = []\n",
    "    for feature in all_data.columns:\n",
    "        if re.findall(r\"(hromosome)|(riplet)|(nnotation)|(pGisland)|(methyl)\",feature): \n",
    "            binary_cols.append(feature)\n",
    "    #convertisng the contunuous (previously standardized) values back to binary \n",
    "    #(here, -1 and 1) where -1 = \"not\" and 1 = \"yes\"\n",
    "    for feature in all_data.columns: \n",
    "        if feature in binary_cols: \n",
    "            all_data[[feature]] = all_data[[feature]]/abs(all_data[[feature]])\n",
    "    #double checking the conversion worked \n",
    "    for feature in binary_cols: \n",
    "        col_index = all_data.columns.get_loc(feature)\n",
    "        col_values = all_data.iloc[:,col_index].values\n",
    "        assert set(list(col_values)) == {-1,1} #maes sure all the binary cols have either -1 or 1 as values \n"
   ]
  },
  {
   "cell_type": "code",
   "execution_count": 97,
   "id": "e1c801d4-e0c7-4e0a-acf8-110aa82d20f9",
   "metadata": {},
   "outputs": [
    {
     "data": {
      "text/plain": [
       "Index(['Unnamed: 0', 'Chromosomechr10', 'Chromosomechr11', 'Chromosomechr12',\n",
       "       'Chromosomechr13', 'Chromosomechr14', 'Chromosomechr15',\n",
       "       'Chromosomechr16', 'Chromosomechr17', 'Chromosomechr18',\n",
       "       ...\n",
       "       'DNAse_germline.0', 'DNAse_germline.100', 'DNAse_germline.10000',\n",
       "       'Transcription_germline.0', 'Transcription_germline.100',\n",
       "       'Transcription_germline.10000', 'GC_content.100', 'GC_content.10000',\n",
       "       'mutation_status', 'tissue'],\n",
       "      dtype='object', length=144)"
      ]
     },
     "execution_count": 97,
     "metadata": {},
     "output_type": "execute_result"
    }
   ],
   "source": [
    "all_data.columns"
   ]
  },
  {
   "cell_type": "code",
   "execution_count": 98,
   "id": "c491e268-f4bf-4b7b-8ab2-28c65a23aa0e",
   "metadata": {},
   "outputs": [],
   "source": [
    "if noTissueSpecPreds: \n",
    "    all_data = all_data.filter(regex=\"(Chrom|trip|recom|Repeats|annot|dist_rep|CpG|GC_content|mutation|tissue|Unnam)\")#https://stackoverflow.com/questions/30808430/how-to-select-columns-from-dataframe-by-regex\n",
    "    model_desc = model_desc+\"_noTissueSpecPreds\"\n",
    "    "
   ]
  },
  {
   "cell_type": "code",
   "execution_count": 99,
   "id": "34dc2096-0106-45ee-8115-8013cf09102d",
   "metadata": {},
   "outputs": [],
   "source": [
    "#remove annoying column \n",
    "all_data= all_data.drop(columns=['Unnamed: 0'])\n",
    "\n",
    "if onlyMuts==True:\n",
    "    all_data = all_data[all_data.mutation_status==1]\n",
    "    all_data = all_data.drop(columns=[\"mutation_status\"])\n",
    "    model_desc=model_desc+\"_onlyMuts\"\n",
    "else: model_desc=model_desc+\"_mutsAndNon\"\n",
    "    "
   ]
  },
  {
   "cell_type": "code",
   "execution_count": 100,
   "id": "da401b09-5847-4b4f-b1bd-d3f71803bfcf",
   "metadata": {},
   "outputs": [],
   "source": [
    "# code previously from when i was sleting for previous all_data = all_data[(all_data.tissue == \"skin\")|(all_data.tissue == \"germline\")]"
   ]
  },
  {
   "cell_type": "code",
   "execution_count": 101,
   "id": "891b2817-0c68-4430-b5f9-7b590ba27086",
   "metadata": {},
   "outputs": [],
   "source": [
    "#need to convert the dependant class into number representation\n",
    "factor = pd.factorize(all_data['tissue'])\n",
    "all_data.tissue = factor[0]\n",
    "definitions = factor[1]"
   ]
  },
  {
   "cell_type": "code",
   "execution_count": 102,
   "id": "f04a321c-49b6-43c0-80a5-63f5513503af",
   "metadata": {},
   "outputs": [],
   "source": [
    "#seperating the predictors from response\n",
    "ncol = (all_data.shape[1])\n",
    "X = all_data.iloc[:,0:ncol-1].values\n",
    "y = all_data.iloc[:,ncol-1].values"
   ]
  },
  {
   "cell_type": "code",
   "execution_count": 103,
   "id": "5f5d255a-828f-4677-a8c4-57419d002f00",
   "metadata": {},
   "outputs": [
    {
     "data": {
      "text/plain": [
       "'_allTissueSpecTracks_bloodEquiv_noMethyl_onlyMuts'"
      ]
     },
     "execution_count": 103,
     "metadata": {},
     "output_type": "execute_result"
    }
   ],
   "source": [
    "model_desc"
   ]
  },
  {
   "cell_type": "code",
   "execution_count": 104,
   "id": "e71149ce-826e-489d-88a4-f217272dc429",
   "metadata": {},
   "outputs": [],
   "source": [
    "\n",
    "#getting the testing and training data \n",
    "X_train, X_test, y_train, y_test = train_test_split(X, y, test_size = 0.2, random_state = 21)"
   ]
  },
  {
   "cell_type": "code",
   "execution_count": 105,
   "id": "10c156ea-b005-441e-a526-07f023dcffb1",
   "metadata": {},
   "outputs": [],
   "source": [
    "\n",
    "#scaling\n",
    "scaler = StandardScaler()\n",
    "X_train = scaler.fit_transform(X_train)\n",
    "X_test = scaler.transform(X_test)\n",
    "#the actual model \n",
    "classifier = RandomForestClassifier(n_estimators = 10, criterion = 'entropy', random_state = 42)\n",
    "classifier.fit(X_train, y_train)\n",
    "#analysing accuracy: tyhe confusion matrix\n",
    "y_pred = classifier.predict(X_test)\n",
    "reversefactor = dict(zip(range(4),definitions))#Reverse factorize (converting y_pred from 0s,1s and 2s to Iris-setosa, Iris-versicolor and Iris-virginica\n",
    "y_test = np.vectorize(reversefactor.get)(y_test)\n",
    "y_pred = np.vectorize(reversefactor.get)(y_pred)\n",
    "confusion_matrix = pd.crosstab(y_test, y_pred, rownames=['Actual Tissue'], colnames=['Predicted Tissue'])\n",
    "confusion_matrix.to_csv(\"{f}data/{t}/dataframes/{m}/multinomModelConfusionMatrix{d}.csv\".format(f=tmp_file_path,t=tissue,m=model_name,d=model_desc))"
   ]
  },
  {
   "cell_type": "code",
   "execution_count": 106,
   "id": "3e7689ea-349c-463a-9286-4ce5b081645f",
   "metadata": {},
   "outputs": [
    {
     "data": {
      "text/html": [
       "<div>\n",
       "<style scoped>\n",
       "    .dataframe tbody tr th:only-of-type {\n",
       "        vertical-align: middle;\n",
       "    }\n",
       "\n",
       "    .dataframe tbody tr th {\n",
       "        vertical-align: top;\n",
       "    }\n",
       "\n",
       "    .dataframe thead th {\n",
       "        text-align: right;\n",
       "    }\n",
       "</style>\n",
       "<table border=\"1\" class=\"dataframe\">\n",
       "  <thead>\n",
       "    <tr style=\"text-align: right;\">\n",
       "      <th>Predicted Tissue</th>\n",
       "      <th>blood</th>\n",
       "      <th>germline</th>\n",
       "      <th>liver</th>\n",
       "      <th>skin</th>\n",
       "    </tr>\n",
       "    <tr>\n",
       "      <th>Actual Tissue</th>\n",
       "      <th></th>\n",
       "      <th></th>\n",
       "      <th></th>\n",
       "      <th></th>\n",
       "    </tr>\n",
       "  </thead>\n",
       "  <tbody>\n",
       "    <tr>\n",
       "      <th>blood</th>\n",
       "      <td>656</td>\n",
       "      <td>404</td>\n",
       "      <td>350</td>\n",
       "      <td>292</td>\n",
       "    </tr>\n",
       "    <tr>\n",
       "      <th>germline</th>\n",
       "      <td>542</td>\n",
       "      <td>515</td>\n",
       "      <td>351</td>\n",
       "      <td>227</td>\n",
       "    </tr>\n",
       "    <tr>\n",
       "      <th>liver</th>\n",
       "      <td>561</td>\n",
       "      <td>466</td>\n",
       "      <td>378</td>\n",
       "      <td>287</td>\n",
       "    </tr>\n",
       "    <tr>\n",
       "      <th>skin</th>\n",
       "      <td>497</td>\n",
       "      <td>339</td>\n",
       "      <td>319</td>\n",
       "      <td>555</td>\n",
       "    </tr>\n",
       "  </tbody>\n",
       "</table>\n",
       "</div>"
      ],
      "text/plain": [
       "Predicted Tissue  blood  germline  liver  skin\n",
       "Actual Tissue                                 \n",
       "blood               656       404    350   292\n",
       "germline            542       515    351   227\n",
       "liver               561       466    378   287\n",
       "skin                497       339    319   555"
      ]
     },
     "execution_count": 106,
     "metadata": {},
     "output_type": "execute_result"
    }
   ],
   "source": [
    "confusion_matrix"
   ]
  },
  {
   "cell_type": "code",
   "execution_count": 93,
   "id": "5895969a-838c-4fe7-a59d-bda19c35c90c",
   "metadata": {},
   "outputs": [
    {
     "data": {
      "text/html": [
       "<div>\n",
       "<style scoped>\n",
       "    .dataframe tbody tr th:only-of-type {\n",
       "        vertical-align: middle;\n",
       "    }\n",
       "\n",
       "    .dataframe tbody tr th {\n",
       "        vertical-align: top;\n",
       "    }\n",
       "\n",
       "    .dataframe thead th {\n",
       "        text-align: right;\n",
       "    }\n",
       "</style>\n",
       "<table border=\"1\" class=\"dataframe\">\n",
       "  <thead>\n",
       "    <tr style=\"text-align: right;\">\n",
       "      <th>Predicted Tissue</th>\n",
       "      <th>blood</th>\n",
       "      <th>germline</th>\n",
       "      <th>liver</th>\n",
       "      <th>skin</th>\n",
       "    </tr>\n",
       "    <tr>\n",
       "      <th>Actual Tissue</th>\n",
       "      <th></th>\n",
       "      <th></th>\n",
       "      <th></th>\n",
       "      <th></th>\n",
       "    </tr>\n",
       "  </thead>\n",
       "  <tbody>\n",
       "    <tr>\n",
       "      <th>blood</th>\n",
       "      <td>1085</td>\n",
       "      <td>38</td>\n",
       "      <td>29</td>\n",
       "      <td>65</td>\n",
       "    </tr>\n",
       "    <tr>\n",
       "      <th>germline</th>\n",
       "      <td>8</td>\n",
       "      <td>1483</td>\n",
       "      <td>25</td>\n",
       "      <td>9</td>\n",
       "    </tr>\n",
       "    <tr>\n",
       "      <th>liver</th>\n",
       "      <td>28</td>\n",
       "      <td>65</td>\n",
       "      <td>1566</td>\n",
       "      <td>28</td>\n",
       "    </tr>\n",
       "    <tr>\n",
       "      <th>skin</th>\n",
       "      <td>66</td>\n",
       "      <td>20</td>\n",
       "      <td>52</td>\n",
       "      <td>1437</td>\n",
       "    </tr>\n",
       "  </tbody>\n",
       "</table>\n",
       "</div>"
      ],
      "text/plain": [
       "Predicted Tissue  blood  germline  liver  skin\n",
       "Actual Tissue                                 \n",
       "blood              1085        38     29    65\n",
       "germline              8      1483     25     9\n",
       "liver                28        65   1566    28\n",
       "skin                 66        20     52  1437"
      ]
     },
     "execution_count": 93,
     "metadata": {},
     "output_type": "execute_result"
    }
   ],
   "source": [
    "confusion_matrix"
   ]
  },
  {
   "cell_type": "code",
   "execution_count": 47,
   "id": "cc24b3bb-22e4-4ca1-aeda-e4643e024179",
   "metadata": {},
   "outputs": [
    {
     "data": {
      "text/html": [
       "<div>\n",
       "<style scoped>\n",
       "    .dataframe tbody tr th:only-of-type {\n",
       "        vertical-align: middle;\n",
       "    }\n",
       "\n",
       "    .dataframe tbody tr th {\n",
       "        vertical-align: top;\n",
       "    }\n",
       "\n",
       "    .dataframe thead th {\n",
       "        text-align: right;\n",
       "    }\n",
       "</style>\n",
       "<table border=\"1\" class=\"dataframe\">\n",
       "  <thead>\n",
       "    <tr style=\"text-align: right;\">\n",
       "      <th>Predicted Tissue</th>\n",
       "      <th>blood</th>\n",
       "      <th>germline</th>\n",
       "      <th>liver</th>\n",
       "      <th>skin</th>\n",
       "    </tr>\n",
       "    <tr>\n",
       "      <th>Actual Tissue</th>\n",
       "      <th></th>\n",
       "      <th></th>\n",
       "      <th></th>\n",
       "      <th></th>\n",
       "    </tr>\n",
       "  </thead>\n",
       "  <tbody>\n",
       "    <tr>\n",
       "      <th>blood</th>\n",
       "      <td>656</td>\n",
       "      <td>404</td>\n",
       "      <td>350</td>\n",
       "      <td>292</td>\n",
       "    </tr>\n",
       "    <tr>\n",
       "      <th>germline</th>\n",
       "      <td>542</td>\n",
       "      <td>515</td>\n",
       "      <td>351</td>\n",
       "      <td>227</td>\n",
       "    </tr>\n",
       "    <tr>\n",
       "      <th>liver</th>\n",
       "      <td>561</td>\n",
       "      <td>466</td>\n",
       "      <td>378</td>\n",
       "      <td>287</td>\n",
       "    </tr>\n",
       "    <tr>\n",
       "      <th>skin</th>\n",
       "      <td>497</td>\n",
       "      <td>339</td>\n",
       "      <td>319</td>\n",
       "      <td>555</td>\n",
       "    </tr>\n",
       "  </tbody>\n",
       "</table>\n",
       "</div>"
      ],
      "text/plain": [
       "Predicted Tissue  blood  germline  liver  skin\n",
       "Actual Tissue                                 \n",
       "blood               656       404    350   292\n",
       "germline            542       515    351   227\n",
       "liver               561       466    378   287\n",
       "skin                497       339    319   555"
      ]
     },
     "execution_count": 47,
     "metadata": {},
     "output_type": "execute_result"
    }
   ],
   "source": [
    "confusion_matrix"
   ]
  },
  {
   "cell_type": "code",
   "execution_count": 107,
   "id": "5e31e80d-dcc5-41cb-9a5d-f0982294cec2",
   "metadata": {},
   "outputs": [
    {
     "name": "stdout",
     "output_type": "stream",
     "text": [
      "blood  specificity 0.682\n",
      "germline  specificity 0.763\n",
      "liver  specificity 0.798\n",
      "skin  specificity 0.84\n",
      "blood  sensitivity 0.385\n",
      "germline  sensitivity 0.315\n",
      "liver  sensitivity 0.223\n",
      "skin  sensitivity 0.325\n"
     ]
    }
   ],
   "source": [
    "def get_sensitivity(df,tissue):\n",
    "    \"\"\"input a df, get out the sensitivity for the tissue of interest \n",
    "    note the row names have to be the actuall tissue and colnames = predicted tissue\"\"\"\n",
    "    tissues = list(definitions) #the definitions already stores the tissues\n",
    "    tissues.remove(tissue)\n",
    "    P = sum(df.loc[[tissue]].values[0])\n",
    "    TP = df.loc[[tissue]][[tissue]].values[0][0]\n",
    "    return(TP/P)\n",
    "def get_specificity(df,tissue):\n",
    "    \"\"\"input a df and a tissue, and you'll get the specificity: TN/N\n",
    "    note the row names have to be the actuall tissue and colnames = predicted tissue\"\"\"\n",
    "    tissues = list(definitions) #the definitions already stores the tissues\n",
    "    tissues.remove(tissue)\n",
    "    N=sum(df.loc[tissues].sum(axis=1))\n",
    "    TN = sum(df.loc[tissues][tissues].sum(axis=1))\n",
    "    return(TN/N)\n",
    "for tissue in list(definitions):\n",
    "    print(tissue,\" specificity\", round(get_specificity(confusion_matrix,tissue),3))\n",
    "    error_log += tissue+\" specificity \"+str(round(get_specificity(confusion_matrix,tissue),3))+\"\\n\"\n",
    "for tissue in list(definitions):\n",
    "    print(tissue,\" sensitivity\", round(get_sensitivity(confusion_matrix,tissue),3))\n",
    "    error_log += tissue+\" sensitivity \"+ str(round(get_sensitivity(confusion_matrix,tissue),3))+\"\\n\""
   ]
  },
  {
   "cell_type": "code",
   "execution_count": 108,
   "id": "57cc905e-7e3c-4e62-92f1-1e6eb00c9889",
   "metadata": {},
   "outputs": [],
   "source": [
    "#extracting feature names and making them human easthetically pleasing for the plot \n",
    "features = all_data.columns\n",
    "for i,feature in enumerate(features): \n",
    "    features[i]\n",
    "feature_name_improve = {}\n",
    "for feature in features: \n",
    "    feature_name_improve[feature] = feature\n",
    "features=list(features)\n",
    "for i,feature in enumerate(features): \n",
    "    feature = re.sub(r\"(.100)$\",\" at 100bp\",feature)\n",
    "    feature=re.sub(r\"(.10000)$\",\" at 10kbp\",feature)\n",
    "    feature =re.sub(r\"dist_rep_org_all\",\"Distance to any RO\",feature)\n",
    "    feature=re.sub(r\"dist_rep_org_main\",\"Distance to main ROs\",feature)\n",
    "    feature=re.sub(r\"Annotation\",\"Annotation: \",feature)\n",
    "    feature=re.sub(r\"Chromosome\",\"Chromosome: \",feature)\n",
    "    feature=re.sub(r\"Triplet\",\"Triplet: \",feature)\n",
    "    feature=re.sub(r\"GC_content\",\"GC content\",feature)\n",
    "    \n",
    "    feature=feature[0].upper()+feature[1:]#capitalize first letter\n",
    "    features[i] = feature"
   ]
  },
  {
   "cell_type": "code",
   "execution_count": 109,
   "id": "444c0f01-0a76-42d7-985d-8d4a994f800f",
   "metadata": {},
   "outputs": [],
   "source": [
    "import matplotlib.patches as mpatches"
   ]
  },
  {
   "cell_type": "code",
   "execution_count": 111,
   "id": "fe92107c-70f6-4042-be76-4b241d2138ec",
   "metadata": {},
   "outputs": [
    {
     "name": "stdout",
     "output_type": "stream",
     "text": [
      "Site no match!!\n"
     ]
    },
    {
     "data": {
      "image/png": "[encoded data removed]",
      "text/plain": [
       "<Figure size 432x288 with 1 Axes>"
      ]
     },
     "metadata": {
      "needs_background": "light"
     },
     "output_type": "display_data"
    }
   ],
   "source": [
    "#plotting the importances \n",
    "\n",
    "importances= classifier.feature_importances_\n",
    "indices = np.argsort(importances)[-22:]\n",
    "types = []\n",
    "for feature in [features[i] for i in indices]: \n",
    "    if re.search(r\"percent\",feature):types.append(\"sequence\")\n",
    "    elif re.search(r\"Chromosome\",feature):types.append(\"sequence\")\n",
    "    elif re.search(r\"Repeats\",feature):types.append(\"sequence\")\n",
    "    elif re.search(r\"site\",feature):types.append(\"sequence\")\n",
    "    elif re.search(r\"annot\",feature):types.append(\"sequence\")\n",
    "    elif re.search(r\"content\",feature):types.append(\"sequence\")\n",
    "    elif re.search(r\"CpG\",feature):types.append(\"sequence\")\n",
    "\n",
    "    elif re.search(r\"riplet\",feature):types.append(\"triplet\")\n",
    "\n",
    "    elif re.search(r\"DNAse\",feature):types.append(\"tissue_specific\")\n",
    "    elif re.search(r\"Transcription\",feature):types.append(\"tissue_specific\")\n",
    "    elif re.search(r\"H3k\",feature):types.append(\"tissue_specific\")\n",
    "    elif re.search(r\"methyl\",feature):types.append(\"tissue_specific\")\n",
    "\n",
    "    elif re.search(r\"ecomb\",feature):types.append(\"global\")\n",
    "    elif re.search(r\"amin\",feature):types.append(\"global\")\n",
    "    elif re.search(r\"eplication\",feature):types.append(\"global\")\n",
    "    elif re.search(r\"istance\",feature):types.append(\"global\")\n",
    "\n",
    "    elif re.search(r\"ntercept\",feature):types.append(\"intercept\")\n",
    "    else: print(feature,\"no match!!\")\n",
    "type_color_translate_dict = {\"triplet\":\"mediumpurple\",\"sequence\":'olivedrab',\"tissue_specific\":'lightseagreen',\"global\":'lightcoral'}\n",
    "colors = [type_color_translate_dict[type] for type in types]\n",
    "# plt.title(\"fueature importnace: {t}\".format(t=tissue))\n",
    "plt.barh(range(len(indices)),importances[indices],color=colors,align=\"center\")\n",
    "plt.yticks(range(len(indices)),[features[i] for i in indices])\n",
    "plt.xlabel(\"Relative importance\")\n",
    "plt.tight_layout()\n",
    "TS_patch = mpatches.Patch(color='lightseagreen', label='Tissue specific')#https://stackoverflow.com/questions/39500265/how-to-manually-create-a-legend\n",
    "G_patch = mpatches.Patch(color='lightcoral', label='Global')\n",
    "T_patch = mpatches.Patch(color='mediumpurple', label='Triplet')\n",
    "S_patch = mpatches.Patch(color='olivedrab', label='Sequence')\n",
    "plt.legend(handles=[TS_patch,G_patch,T_patch,S_patch])\n",
    "# plt.show()\n",
    "plt.savefig(\"{t}/analysis/global/plots/{m}/regtreeImportances{d}.pdf\".format(t=tmp_file_path,m=model_name,d=model_desc))  "
   ]
  },
  {
   "cell_type": "markdown",
   "id": "b5e6abe9-8f06-496d-942c-3ec0d1f5edf2",
   "metadata": {},
   "source": [
    "# scratch "
   ]
  },
  {
   "cell_type": "code",
   "execution_count": 151,
   "id": "46e699a6-5ca6-449b-84b5-5d619ee89f8c",
   "metadata": {},
   "outputs": [],
   "source": []
  },
  {
   "cell_type": "code",
   "execution_count": 166,
   "id": "393057f5-1e7e-4116-982c-c812469f028c",
   "metadata": {
    "tags": []
   },
   "outputs": [
    {
     "ename": "TypeError",
     "evalue": "can only concatenate str (not \"numpy.int64\") to str",
     "output_type": "error",
     "traceback": [
      "\u001b[0;31m---------------------------------------------------------------------------\u001b[0m",
      "\u001b[0;31mTypeError\u001b[0m                                 Traceback (most recent call last)",
      "\u001b[0;32m/tmp/ipykernel_33583/2114691655.py\u001b[0m in \u001b[0;36m<module>\u001b[0;34m\u001b[0m\n\u001b[1;32m      5\u001b[0m \u001b[0;34m\u001b[0m\u001b[0m\n\u001b[1;32m      6\u001b[0m \u001b[0;31m# Export as dot file\u001b[0m\u001b[0;34m\u001b[0m\u001b[0;34m\u001b[0m\u001b[0;34m\u001b[0m\u001b[0m\n\u001b[0;32m----> 7\u001b[0;31m plot_tree(classifier.estimators_[5], \n\u001b[0m\u001b[1;32m      8\u001b[0m         \u001b[0mfeature_names\u001b[0m \u001b[0;34m=\u001b[0m \u001b[0mlist\u001b[0m\u001b[0;34m(\u001b[0m\u001b[0mall_data\u001b[0m\u001b[0;34m.\u001b[0m\u001b[0miloc\u001b[0m\u001b[0;34m[\u001b[0m\u001b[0;34m:\u001b[0m\u001b[0;34m,\u001b[0m\u001b[0;36m0\u001b[0m\u001b[0;34m:\u001b[0m\u001b[0mncol\u001b[0m\u001b[0;34m-\u001b[0m\u001b[0;36m1\u001b[0m\u001b[0;34m]\u001b[0m\u001b[0;34m.\u001b[0m\u001b[0mcolumns\u001b[0m\u001b[0;34m)\u001b[0m\u001b[0;34m,\u001b[0m\u001b[0;34m\u001b[0m\u001b[0;34m\u001b[0m\u001b[0m\n\u001b[1;32m      9\u001b[0m         \u001b[0mclass_names\u001b[0m \u001b[0;34m=\u001b[0m \u001b[0my\u001b[0m\u001b[0;34m,\u001b[0m\u001b[0;34m\u001b[0m\u001b[0;34m\u001b[0m\u001b[0m\n",
      "\u001b[0;32m~/.conda/envs/mutability/lib/python3.9/site-packages/sklearn/tree/_export.py\u001b[0m in \u001b[0;36mplot_tree\u001b[0;34m(decision_tree, max_depth, feature_names, class_names, label, filled, impurity, node_ids, proportion, rounded, precision, ax, fontsize)\u001b[0m\n\u001b[1;32m    193\u001b[0m         \u001b[0mfontsize\u001b[0m\u001b[0;34m=\u001b[0m\u001b[0mfontsize\u001b[0m\u001b[0;34m,\u001b[0m\u001b[0;34m\u001b[0m\u001b[0;34m\u001b[0m\u001b[0m\n\u001b[1;32m    194\u001b[0m     )\n\u001b[0;32m--> 195\u001b[0;31m     \u001b[0;32mreturn\u001b[0m \u001b[0mexporter\u001b[0m\u001b[0;34m.\u001b[0m\u001b[0mexport\u001b[0m\u001b[0;34m(\u001b[0m\u001b[0mdecision_tree\u001b[0m\u001b[0;34m,\u001b[0m \u001b[0max\u001b[0m\u001b[0;34m=\u001b[0m\u001b[0max\u001b[0m\u001b[0;34m)\u001b[0m\u001b[0;34m\u001b[0m\u001b[0;34m\u001b[0m\u001b[0m\n\u001b[0m\u001b[1;32m    196\u001b[0m \u001b[0;34m\u001b[0m\u001b[0m\n\u001b[1;32m    197\u001b[0m \u001b[0;34m\u001b[0m\u001b[0m\n",
      "\u001b[0;32m~/.conda/envs/mutability/lib/python3.9/site-packages/sklearn/tree/_export.py\u001b[0m in \u001b[0;36mexport\u001b[0;34m(self, decision_tree, ax)\u001b[0m\n\u001b[1;32m    654\u001b[0m         \u001b[0max\u001b[0m\u001b[0;34m.\u001b[0m\u001b[0mclear\u001b[0m\u001b[0;34m(\u001b[0m\u001b[0;34m)\u001b[0m\u001b[0;34m\u001b[0m\u001b[0;34m\u001b[0m\u001b[0m\n\u001b[1;32m    655\u001b[0m         \u001b[0max\u001b[0m\u001b[0;34m.\u001b[0m\u001b[0mset_axis_off\u001b[0m\u001b[0;34m(\u001b[0m\u001b[0;34m)\u001b[0m\u001b[0;34m\u001b[0m\u001b[0;34m\u001b[0m\u001b[0m\n\u001b[0;32m--> 656\u001b[0;31m         \u001b[0mmy_tree\u001b[0m \u001b[0;34m=\u001b[0m \u001b[0mself\u001b[0m\u001b[0;34m.\u001b[0m\u001b[0m_make_tree\u001b[0m\u001b[0;34m(\u001b[0m\u001b[0;36m0\u001b[0m\u001b[0;34m,\u001b[0m \u001b[0mdecision_tree\u001b[0m\u001b[0;34m.\u001b[0m\u001b[0mtree_\u001b[0m\u001b[0;34m,\u001b[0m \u001b[0mdecision_tree\u001b[0m\u001b[0;34m.\u001b[0m\u001b[0mcriterion\u001b[0m\u001b[0;34m)\u001b[0m\u001b[0;34m\u001b[0m\u001b[0;34m\u001b[0m\u001b[0m\n\u001b[0m\u001b[1;32m    657\u001b[0m         \u001b[0mdraw_tree\u001b[0m \u001b[0;34m=\u001b[0m \u001b[0mbuchheim\u001b[0m\u001b[0;34m(\u001b[0m\u001b[0mmy_tree\u001b[0m\u001b[0;34m)\u001b[0m\u001b[0;34m\u001b[0m\u001b[0;34m\u001b[0m\u001b[0m\n\u001b[1;32m    658\u001b[0m \u001b[0;34m\u001b[0m\u001b[0m\n",
      "\u001b[0;32m~/.conda/envs/mutability/lib/python3.9/site-packages/sklearn/tree/_export.py\u001b[0m in \u001b[0;36m_make_tree\u001b[0;34m(self, node_id, et, criterion, depth)\u001b[0m\n\u001b[1;32m    630\u001b[0m         \u001b[0;31m# traverses _tree.Tree recursively, builds intermediate\u001b[0m\u001b[0;34m\u001b[0m\u001b[0;34m\u001b[0m\u001b[0;34m\u001b[0m\u001b[0m\n\u001b[1;32m    631\u001b[0m         \u001b[0;31m# \"_reingold_tilford.Tree\" object\u001b[0m\u001b[0;34m\u001b[0m\u001b[0;34m\u001b[0m\u001b[0;34m\u001b[0m\u001b[0m\n\u001b[0;32m--> 632\u001b[0;31m         \u001b[0mname\u001b[0m \u001b[0;34m=\u001b[0m \u001b[0mself\u001b[0m\u001b[0;34m.\u001b[0m\u001b[0mnode_to_str\u001b[0m\u001b[0;34m(\u001b[0m\u001b[0met\u001b[0m\u001b[0;34m,\u001b[0m \u001b[0mnode_id\u001b[0m\u001b[0;34m,\u001b[0m \u001b[0mcriterion\u001b[0m\u001b[0;34m=\u001b[0m\u001b[0mcriterion\u001b[0m\u001b[0;34m)\u001b[0m\u001b[0;34m\u001b[0m\u001b[0;34m\u001b[0m\u001b[0m\n\u001b[0m\u001b[1;32m    633\u001b[0m         if et.children_left[node_id] != _tree.TREE_LEAF and (\n\u001b[1;32m    634\u001b[0m             \u001b[0mself\u001b[0m\u001b[0;34m.\u001b[0m\u001b[0mmax_depth\u001b[0m \u001b[0;32mis\u001b[0m \u001b[0;32mNone\u001b[0m \u001b[0;32mor\u001b[0m \u001b[0mdepth\u001b[0m \u001b[0;34m<=\u001b[0m \u001b[0mself\u001b[0m\u001b[0;34m.\u001b[0m\u001b[0mmax_depth\u001b[0m\u001b[0;34m\u001b[0m\u001b[0;34m\u001b[0m\u001b[0m\n",
      "\u001b[0;32m~/.conda/envs/mutability/lib/python3.9/site-packages/sklearn/tree/_export.py\u001b[0m in \u001b[0;36mnode_to_str\u001b[0;34m(self, tree, node_id, criterion)\u001b[0m\n\u001b[1;32m    372\u001b[0m                     \u001b[0mcharacters\u001b[0m\u001b[0;34m[\u001b[0m\u001b[0;36m2\u001b[0m\u001b[0;34m]\u001b[0m\u001b[0;34m,\u001b[0m\u001b[0;34m\u001b[0m\u001b[0;34m\u001b[0m\u001b[0m\n\u001b[1;32m    373\u001b[0m                 )\n\u001b[0;32m--> 374\u001b[0;31m             \u001b[0mnode_string\u001b[0m \u001b[0;34m+=\u001b[0m \u001b[0mclass_name\u001b[0m\u001b[0;34m\u001b[0m\u001b[0;34m\u001b[0m\u001b[0m\n\u001b[0m\u001b[1;32m    375\u001b[0m \u001b[0;34m\u001b[0m\u001b[0m\n\u001b[1;32m    376\u001b[0m         \u001b[0;31m# Clean up any trailing newlines\u001b[0m\u001b[0;34m\u001b[0m\u001b[0;34m\u001b[0m\u001b[0;34m\u001b[0m\u001b[0m\n",
      "\u001b[0;31mTypeError\u001b[0m: can only concatenate str (not \"numpy.int64\") to str"
     ]
    },
    {
     "data": {
      "image/png": "[encoded data removed]",
      "text/plain": [
       "<Figure size 432x288 with 1 Axes>"
      ]
     },
     "metadata": {
      "needs_background": "light"
     },
     "output_type": "display_data"
    }
   ],
   "source": [
    "# https://towardsdatascience.com/4-ways-to-visualize-individual-decision-trees-in-a-random-forest-7a9beda1d1b7\n",
    "from sklearn.tree import plot_tree\n",
    "# Extract single tree\n",
    "estimator = classifier.estimators_[5]\n",
    "\n",
    "# Export as dot file\n",
    "plot_tree(classifier.estimators_[5], \n",
    "        feature_names = list(all_data.iloc[:,0:ncol-1].columns),\n",
    "        class_names = y,\n",
    "        filled=True, impurity=True, \n",
    "        rounded=True)\n",
    "\n"
   ]
  },
  {
   "cell_type": "code",
   "execution_count": 159,
   "id": "f50d5d42-39bf-4b37-a348-6c8482644b42",
   "metadata": {
    "collapsed": true,
    "jupyter": {
     "outputs_hidden": true
    },
    "tags": []
   },
   "outputs": [
    {
     "data": {
      "text/plain": [
       "['Chromosomechr10',\n",
       " 'Chromosomechr11',\n",
       " 'Chromosomechr12',\n",
       " 'Chromosomechr13',\n",
       " 'Chromosomechr14',\n",
       " 'Chromosomechr15',\n",
       " 'Chromosomechr16',\n",
       " 'Chromosomechr17',\n",
       " 'Chromosomechr18',\n",
       " 'Chromosomechr19',\n",
       " 'Chromosomechr2',\n",
       " 'Chromosomechr20',\n",
       " 'Chromosomechr21',\n",
       " 'Chromosomechr22',\n",
       " 'Chromosomechr3',\n",
       " 'Chromosomechr4',\n",
       " 'Chromosomechr5',\n",
       " 'Chromosomechr6',\n",
       " 'Chromosomechr7',\n",
       " 'Chromosomechr8',\n",
       " 'Chromosomechr9',\n",
       " 'tripletACC',\n",
       " 'tripletACG',\n",
       " 'tripletACT',\n",
       " 'tripletATA',\n",
       " 'tripletATC',\n",
       " 'tripletATG',\n",
       " 'tripletATT',\n",
       " 'tripletCCA',\n",
       " 'tripletCCC',\n",
       " 'tripletCCG',\n",
       " 'tripletCCT',\n",
       " 'tripletCTA',\n",
       " 'tripletCTC',\n",
       " 'tripletCTG',\n",
       " 'tripletCTT',\n",
       " 'tripletGCA',\n",
       " 'tripletGCC',\n",
       " 'tripletGCG',\n",
       " 'tripletGCT',\n",
       " 'tripletGTA',\n",
       " 'tripletGTC',\n",
       " 'tripletGTG',\n",
       " 'tripletGTT',\n",
       " 'tripletTCA',\n",
       " 'tripletTCC',\n",
       " 'tripletTCG',\n",
       " 'tripletTCT',\n",
       " 'tripletTTA',\n",
       " 'tripletTTC',\n",
       " 'tripletTTG',\n",
       " 'tripletTTT',\n",
       " 'H3k27.10000',\n",
       " 'H3k4me1.10000',\n",
       " 'H3k4me3.10000',\n",
       " 'DNAse.100',\n",
       " 'Transcription.10000',\n",
       " 'H3k36me3.10000',\n",
       " 'laminB1.0',\n",
       " 'laminB1.100',\n",
       " 'laminB1.10000',\n",
       " 'recombination.10000',\n",
       " 'Repeats.0',\n",
       " 'Repeats.10000',\n",
       " 'annotationregulatory',\n",
       " 'annotationtranscribed',\n",
       " 'annotationUTR3',\n",
       " 'annotationUTR5',\n",
       " 'dist_rep_org_main',\n",
       " 'dist_rep_org_all',\n",
       " 'CpGislandnot',\n",
       " 'CpGislandshore',\n",
       " 'GC_content.100',\n",
       " 'GC_content.10000',\n",
       " 'methylableyes']"
      ]
     },
     "execution_count": 159,
     "metadata": {},
     "output_type": "execute_result"
    }
   ],
   "source": [
    "list(all_data.iloc[:,0:ncol-1].columns)"
   ]
  },
  {
   "cell_type": "code",
   "execution_count": 155,
   "id": "42dc281f-2260-42c9-8e41-0a1f30ae462c",
   "metadata": {},
   "outputs": [],
   "source": [
    "from sklearn.datasets import load_wine"
   ]
  },
  {
   "cell_type": "code",
   "execution_count": 157,
   "id": "cb9ca5bb-6d73-4ae3-a617-4402ed225c83",
   "metadata": {},
   "outputs": [],
   "source": [
    "wine = load_wine()"
   ]
  },
  {
   "cell_type": "code",
   "execution_count": 161,
   "id": "177dfe39-a132-41ff-baed-4d1882aa89dd",
   "metadata": {},
   "outputs": [
    {
     "data": {
      "text/plain": [
       "array([0, 0, 0, ..., 3, 3, 3])"
      ]
     },
     "execution_count": 161,
     "metadata": {},
     "output_type": "execute_result"
    }
   ],
   "source": [
    "y"
   ]
  },
  {
   "cell_type": "code",
   "execution_count": 160,
   "id": "739830df-e697-4d0a-91e5-c84a4ee58dff",
   "metadata": {},
   "outputs": [
    {
     "data": {
      "text/plain": [
       "array([0, 0, 0, 0, 0, 0, 0, 0, 0, 0, 0, 0, 0, 0, 0, 0, 0, 0, 0, 0, 0, 0,\n",
       "       0, 0, 0, 0, 0, 0, 0, 0, 0, 0, 0, 0, 0, 0, 0, 0, 0, 0, 0, 0, 0, 0,\n",
       "       0, 0, 0, 0, 0, 0, 0, 0, 0, 0, 0, 0, 0, 0, 0, 1, 1, 1, 1, 1, 1, 1,\n",
       "       1, 1, 1, 1, 1, 1, 1, 1, 1, 1, 1, 1, 1, 1, 1, 1, 1, 1, 1, 1, 1, 1,\n",
       "       1, 1, 1, 1, 1, 1, 1, 1, 1, 1, 1, 1, 1, 1, 1, 1, 1, 1, 1, 1, 1, 1,\n",
       "       1, 1, 1, 1, 1, 1, 1, 1, 1, 1, 1, 1, 1, 1, 1, 1, 1, 1, 1, 1, 2, 2,\n",
       "       2, 2, 2, 2, 2, 2, 2, 2, 2, 2, 2, 2, 2, 2, 2, 2, 2, 2, 2, 2, 2, 2,\n",
       "       2, 2, 2, 2, 2, 2, 2, 2, 2, 2, 2, 2, 2, 2, 2, 2, 2, 2, 2, 2, 2, 2,\n",
       "       2, 2])"
      ]
     },
     "execution_count": 160,
     "metadata": {},
     "output_type": "execute_result"
    }
   ],
   "source": [
    "wine.target"
   ]
  },
  {
   "cell_type": "code",
   "execution_count": 2,
   "id": "e3c29a7e-c4c6-42ff-aca8-20ac5afe1c52",
   "metadata": {},
   "outputs": [],
   "source": [
    "# iris = datasets.load_iris()\n",
    "# X = iris.data[:, 2:]\n",
    "# y = iris.target\n",
    "# X_train, X_test, y_train, y_test = train_test_split(X, y, test_size=0.3, random_state=1, stratify=y)\n",
    "\n",
    "# forest = RandomForestClassifier(criterion='gini',n_estimators=5,random_state=1,n_jobs=2)\n",
    "# # Fit the model\n",
    "# #\n",
    "# forest.fit(X_train, y_train)\n",
    "# # Measure model performance\n",
    "# #\n",
    "# y_pred = forest.predict(X_test)\n",
    "# print('Accuracy: %.3f' % accuracy_score(y_test, y_pred))"
   ]
  }
 ],
 "metadata": {
  "kernelspec": {
   "display_name": "Python [conda env:.conda-mutability] *",
   "language": "python",
   "name": "conda-env-.conda-mutability-py"
  },
  "language_info": {
   "codemirror_mode": {
    "name": "ipython",
    "version": 3
   },
   "file_extension": ".py",
   "mimetype": "text/x-python",
   "name": "python",
   "nbconvert_exporter": "python",
   "pygments_lexer": "ipython3",
   "version": "3.9.6"
  }
 },
 "nbformat": 4,
 "nbformat_minor": 5
}
