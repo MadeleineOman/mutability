{
 "cells": [
  {
   "cell_type": "markdown",
   "id": "43693d12-7917-4c6c-bd8a-66f52d04a57c",
   "metadata": {},
   "source": [
    "# **multinomial random tree classifier for the whole model**"
   ]
  },
  {
   "cell_type": "code",
   "execution_count": 1,
   "id": "708cfccc-53fa-4ef4-96c7-7500c056bda6",
   "metadata": {},
   "outputs": [],
   "source": [
    "import pandas as pd \n",
    "import numpy as np \n",
    "import random\n",
    "from sklearn.ensemble import RandomForestClassifier\n",
    "# from sklearn.ensemble import RandomForestRegressor\n",
    "from sklearn.model_selection import train_test_split\n",
    "from sklearn.metrics import accuracy_score\n",
    "import matplotlib.pyplot as plt \n",
    "from sklearn import datasets\n",
    "\n",
    "#following a multinomial clasification tutorial \n",
    "#https://www.codementor.io/@agarrahul01/multiclass-classification-using-random-forest-on-scikit-learn-library-hkk4lwawu\n",
    "# from sklearn.model_selection import train_test_split\n",
    "from sklearn.preprocessing import StandardScaler\n",
    "# from sklearn.ensemble import RandomForestClassifier\n",
    "from sklearn.metrics import confusion_matrix\n",
    "# from sklearn.externals import joblib"
   ]
  },
  {
   "cell_type": "code",
   "execution_count": 2,
   "id": "4539e983-bbbb-4ab4-ba9c-83dc3c92a5f6",
   "metadata": {},
   "outputs": [],
   "source": [
    "model_name = \"model7\"\n",
    "tmp_file_path = \"../../../\"\n",
    "model_desc = \"_bloodEquiv\"\n",
    "onlyMuts=True\n",
    "#load data \n",
    "all_data = pd.read_csv(\"{p}data/global/dataframes/{m}/global_all_data_readyForPrediction{d}.csv\".format(p=tmp_file_path,m=model_name,d=model_desc))\n",
    "all_data= all_data.drop(columns=['Unnamed: 0'])\n",
    "\n",
    "if onlyMuts==True:\n",
    "    all_data = all_data[all_data.mutation_status==1]\n",
    "    all_data = all_data.drop(columns=[\"mutation_status\"])\n",
    "    model_desc=model_desc+\"_onlyMuts\"\n",
    "else: model_desc=model_desc+\"_mutsAndNon\"\n",
    "    \n",
    "# "
   ]
  },
  {
   "cell_type": "code",
   "execution_count": 3,
   "id": "10c156ea-b005-441e-a526-07f023dcffb1",
   "metadata": {},
   "outputs": [],
   "source": [
    "#need to convert the dependant class into number representation\n",
    "factor = pd.factorize(all_data['tissue'])\n",
    "all_data.tissue = factor[0]\n",
    "definitions = factor[1]"
   ]
  },
  {
   "cell_type": "code",
   "execution_count": 4,
   "id": "8bf53abd-b4d7-4fb5-bd90-65c6bce6f810",
   "metadata": {},
   "outputs": [],
   "source": [
    "ncol = (all_data.shape[1])\n",
    "X = all_data.iloc[:,0:ncol-1].values\n",
    "y = all_data.iloc[:,ncol-1].values"
   ]
  },
  {
   "cell_type": "code",
   "execution_count": 5,
   "id": "f22d5a77-a27d-4db9-aa72-510657734558",
   "metadata": {},
   "outputs": [],
   "source": [
    "X_train, X_test, y_train, y_test = train_test_split(X, y, test_size = 0.2, random_state = 21)"
   ]
  },
  {
   "cell_type": "code",
   "execution_count": 6,
   "id": "b54ddb71-ecb8-4858-8e01-a9b7b3acbb77",
   "metadata": {},
   "outputs": [],
   "source": [
    "scaler = StandardScaler()\n",
    "X_train = scaler.fit_transform(X_train)\n",
    "X_test = scaler.transform(X_test)"
   ]
  },
  {
   "cell_type": "code",
   "execution_count": 7,
   "id": "615f5551-034f-4966-bfc7-00bfa767b681",
   "metadata": {},
   "outputs": [
    {
     "data": {
      "text/html": [
       "<style>#sk-container-id-1 {color: black;background-color: white;}#sk-container-id-1 pre{padding: 0;}#sk-container-id-1 div.sk-toggleable {background-color: white;}#sk-container-id-1 label.sk-toggleable__label {cursor: pointer;display: block;width: 100%;margin-bottom: 0;padding: 0.3em;box-sizing: border-box;text-align: center;}#sk-container-id-1 label.sk-toggleable__label-arrow:before {content: \"▸\";float: left;margin-right: 0.25em;color: #696969;}#sk-container-id-1 label.sk-toggleable__label-arrow:hover:before {color: black;}#sk-container-id-1 div.sk-estimator:hover label.sk-toggleable__label-arrow:before {color: black;}#sk-container-id-1 div.sk-toggleable__content {max-height: 0;max-width: 0;overflow: hidden;text-align: left;background-color: #f0f8ff;}#sk-container-id-1 div.sk-toggleable__content pre {margin: 0.2em;color: black;border-radius: 0.25em;background-color: #f0f8ff;}#sk-container-id-1 input.sk-toggleable__control:checked~div.sk-toggleable__content {max-height: 200px;max-width: 100%;overflow: auto;}#sk-container-id-1 input.sk-toggleable__control:checked~label.sk-toggleable__label-arrow:before {content: \"▾\";}#sk-container-id-1 div.sk-estimator input.sk-toggleable__control:checked~label.sk-toggleable__label {background-color: #d4ebff;}#sk-container-id-1 div.sk-label input.sk-toggleable__control:checked~label.sk-toggleable__label {background-color: #d4ebff;}#sk-container-id-1 input.sk-hidden--visually {border: 0;clip: rect(1px 1px 1px 1px);clip: rect(1px, 1px, 1px, 1px);height: 1px;margin: -1px;overflow: hidden;padding: 0;position: absolute;width: 1px;}#sk-container-id-1 div.sk-estimator {font-family: monospace;background-color: #f0f8ff;border: 1px dotted black;border-radius: 0.25em;box-sizing: border-box;margin-bottom: 0.5em;}#sk-container-id-1 div.sk-estimator:hover {background-color: #d4ebff;}#sk-container-id-1 div.sk-parallel-item::after {content: \"\";width: 100%;border-bottom: 1px solid gray;flex-grow: 1;}#sk-container-id-1 div.sk-label:hover label.sk-toggleable__label {background-color: #d4ebff;}#sk-container-id-1 div.sk-serial::before {content: \"\";position: absolute;border-left: 1px solid gray;box-sizing: border-box;top: 0;bottom: 0;left: 50%;z-index: 0;}#sk-container-id-1 div.sk-serial {display: flex;flex-direction: column;align-items: center;background-color: white;padding-right: 0.2em;padding-left: 0.2em;position: relative;}#sk-container-id-1 div.sk-item {position: relative;z-index: 1;}#sk-container-id-1 div.sk-parallel {display: flex;align-items: stretch;justify-content: center;background-color: white;position: relative;}#sk-container-id-1 div.sk-item::before, #sk-container-id-1 div.sk-parallel-item::before {content: \"\";position: absolute;border-left: 1px solid gray;box-sizing: border-box;top: 0;bottom: 0;left: 50%;z-index: -1;}#sk-container-id-1 div.sk-parallel-item {display: flex;flex-direction: column;z-index: 1;position: relative;background-color: white;}#sk-container-id-1 div.sk-parallel-item:first-child::after {align-self: flex-end;width: 50%;}#sk-container-id-1 div.sk-parallel-item:last-child::after {align-self: flex-start;width: 50%;}#sk-container-id-1 div.sk-parallel-item:only-child::after {width: 0;}#sk-container-id-1 div.sk-dashed-wrapped {border: 1px dashed gray;margin: 0 0.4em 0.5em 0.4em;box-sizing: border-box;padding-bottom: 0.4em;background-color: white;}#sk-container-id-1 div.sk-label label {font-family: monospace;font-weight: bold;display: inline-block;line-height: 1.2em;}#sk-container-id-1 div.sk-label-container {text-align: center;}#sk-container-id-1 div.sk-container {/* jupyter's `normalize.less` sets `[hidden] { display: none; }` but bootstrap.min.css set `[hidden] { display: none !important; }` so we also need the `!important` here to be able to override the default hidden behavior on the sphinx rendered scikit-learn.org. See: https://github.com/scikit-learn/scikit-learn/issues/21755 */display: inline-block !important;position: relative;}#sk-container-id-1 div.sk-text-repr-fallback {display: none;}</style><div id=\"sk-container-id-1\" class=\"sk-top-container\"><div class=\"sk-text-repr-fallback\"><pre>RandomForestClassifier(criterion=&#x27;entropy&#x27;, n_estimators=10, random_state=42)</pre><b>In a Jupyter environment, please rerun this cell to show the HTML representation or trust the notebook. <br />On GitHub, the HTML representation is unable to render, please try loading this page with nbviewer.org.</b></div><div class=\"sk-container\" hidden><div class=\"sk-item\"><div class=\"sk-estimator sk-toggleable\"><input class=\"sk-toggleable__control sk-hidden--visually\" id=\"sk-estimator-id-1\" type=\"checkbox\" checked><label for=\"sk-estimator-id-1\" class=\"sk-toggleable__label sk-toggleable__label-arrow\">RandomForestClassifier</label><div class=\"sk-toggleable__content\"><pre>RandomForestClassifier(criterion=&#x27;entropy&#x27;, n_estimators=10, random_state=42)</pre></div></div></div></div></div>"
      ],
      "text/plain": [
       "RandomForestClassifier(criterion='entropy', n_estimators=10, random_state=42)"
      ]
     },
     "execution_count": 7,
     "metadata": {},
     "output_type": "execute_result"
    }
   ],
   "source": [
    "classifier = RandomForestClassifier(n_estimators = 10, criterion = 'entropy', random_state = 42)\n",
    "classifier.fit(X_train, y_train)"
   ]
  },
  {
   "cell_type": "code",
   "execution_count": 25,
   "id": "40211243-0bcd-4512-b1d2-9e8b06cbf877",
   "metadata": {},
   "outputs": [
    {
     "data": {
      "text/plain": [
       "Index(['blood', 'germline', 'liver', 'skin'], dtype='object')"
      ]
     },
     "execution_count": 25,
     "metadata": {},
     "output_type": "execute_result"
    }
   ],
   "source": [
    "definitions"
   ]
  },
  {
   "cell_type": "code",
   "execution_count": 8,
   "id": "286c2935-500a-4d78-98f2-9837f123f14a",
   "metadata": {},
   "outputs": [
    {
     "name": "stdout",
     "output_type": "stream",
     "text": [
      "Predicted Tissue  blood  germline  liver  skin\n",
      "Actual Tissue                                 \n",
      "blood              1085        38     29    65\n",
      "germline              8      1483     25     9\n",
      "liver                28        65   1566    28\n",
      "skin                 66        20     52  1437\n"
     ]
    }
   ],
   "source": [
    "y_pred = classifier.predict(X_test)\n",
    "#Reverse factorize (converting y_pred from 0s,1s and 2s to Iris-setosa, Iris-versicolor and Iris-virginica\n",
    "reversefactor = dict(zip(range(4),definitions))\n",
    "y_test = np.vectorize(reversefactor.get)(y_test)\n",
    "y_pred = np.vectorize(reversefactor.get)(y_pred)"
   ]
  },
  {
   "cell_type": "code",
   "execution_count": 12,
   "id": "8a539558-b1a3-4260-afb3-ba3bd3b7ea5a",
   "metadata": {},
   "outputs": [],
   "source": [
    "# Making the Confusion Matrix\n",
    "confusion_matrix = pd.crosstab(y_test, y_pred, rownames=['Actual Tissue'], colnames=['Predicted Tissue'])"
   ]
  },
  {
   "cell_type": "code",
   "execution_count": 26,
   "id": "9b38acee-35d2-43a7-adb5-5074de75d186",
   "metadata": {},
   "outputs": [],
   "source": [
    "test1 = [\"blood\",\"germline\",\"liver\"]"
   ]
  },
  {
   "cell_type": "code",
   "execution_count": 38,
   "id": "2e5ca995-1850-4661-99fc-2d90dce1336a",
   "metadata": {},
   "outputs": [
    {
     "data": {
      "text/plain": [
       "1575"
      ]
     },
     "execution_count": 38,
     "metadata": {},
     "output_type": "execute_result"
    }
   ],
   "source": [
    "sum(confusion_matrix.loc[[\"skin\"]].values[0])"
   ]
  },
  {
   "cell_type": "code",
   "execution_count": 53,
   "id": "3d596b69-6de3-4454-acc7-f68d197c28c0",
   "metadata": {},
   "outputs": [
    {
     "data": {
      "text/html": [
       "<div>\n",
       "<style scoped>\n",
       "    .dataframe tbody tr th:only-of-type {\n",
       "        vertical-align: middle;\n",
       "    }\n",
       "\n",
       "    .dataframe tbody tr th {\n",
       "        vertical-align: top;\n",
       "    }\n",
       "\n",
       "    .dataframe thead th {\n",
       "        text-align: right;\n",
       "    }\n",
       "</style>\n",
       "<table border=\"1\" class=\"dataframe\">\n",
       "  <thead>\n",
       "    <tr style=\"text-align: right;\">\n",
       "      <th>Predicted Tissue</th>\n",
       "      <th>blood</th>\n",
       "      <th>germline</th>\n",
       "      <th>liver</th>\n",
       "      <th>skin</th>\n",
       "    </tr>\n",
       "    <tr>\n",
       "      <th>Actual Tissue</th>\n",
       "      <th></th>\n",
       "      <th></th>\n",
       "      <th></th>\n",
       "      <th></th>\n",
       "    </tr>\n",
       "  </thead>\n",
       "  <tbody>\n",
       "    <tr>\n",
       "      <th>blood</th>\n",
       "      <td>1085</td>\n",
       "      <td>38</td>\n",
       "      <td>29</td>\n",
       "      <td>65</td>\n",
       "    </tr>\n",
       "    <tr>\n",
       "      <th>germline</th>\n",
       "      <td>8</td>\n",
       "      <td>1483</td>\n",
       "      <td>25</td>\n",
       "      <td>9</td>\n",
       "    </tr>\n",
       "    <tr>\n",
       "      <th>liver</th>\n",
       "      <td>28</td>\n",
       "      <td>65</td>\n",
       "      <td>1566</td>\n",
       "      <td>28</td>\n",
       "    </tr>\n",
       "    <tr>\n",
       "      <th>skin</th>\n",
       "      <td>66</td>\n",
       "      <td>20</td>\n",
       "      <td>52</td>\n",
       "      <td>1437</td>\n",
       "    </tr>\n",
       "  </tbody>\n",
       "</table>\n",
       "</div>"
      ],
      "text/plain": [
       "Predicted Tissue  blood  germline  liver  skin\n",
       "Actual Tissue                                 \n",
       "blood              1085        38     29    65\n",
       "germline              8      1483     25     9\n",
       "liver                28        65   1566    28\n",
       "skin                 66        20     52  1437"
      ]
     },
     "execution_count": 53,
     "metadata": {},
     "output_type": "execute_result"
    }
   ],
   "source": [
    "confusion_matrix"
   ]
  },
  {
   "cell_type": "code",
   "execution_count": null,
   "id": "588f98b7-a3a3-423d-96fa-9f07f75091a3",
   "metadata": {},
   "outputs": [],
   "source": []
  },
  {
   "cell_type": "code",
   "execution_count": 47,
   "id": "5e31e80d-dcc5-41cb-9a5d-f0982294cec2",
   "metadata": {},
   "outputs": [],
   "source": [
    "def get_sensitivity(df,tissue):\n",
    "    \"\"\"input a df, get out the sensitivity for the tissue of interest \n",
    "    note the row names have to be the actuall tissue and colnames = predicted tissue\"\"\"\n",
    "    tissues = list(definitions) #the definitions already stores the tissues\n",
    "    tissues.remove(tissue)\n",
    "    P = sum(df.loc[[tissue]].values[0])\n",
    "    TP = df.loc[[tissue]][[tissue]].values[0][0]\n",
    "    return(TP/P)"
   ]
  },
  {
   "cell_type": "code",
   "execution_count": 73,
   "id": "d9ee46cc-bb7a-48f1-acb6-31d91134896a",
   "metadata": {},
   "outputs": [],
   "source": [
    "def get_specificity(df,tissue):\n",
    "    \"\"\"input a df and a tissue, and you'll get the specificity: TN/N\n",
    "    note the row names have to be the actuall tissue and colnames = predicted tissue\"\"\"\n",
    "    tissues = list(definitions) #the definitions already stores the tissues\n",
    "    tissues.remove(tissue)\n",
    "    N=sum(df.loc[tissues].sum(axis=1))\n",
    "    TN = sum(df.loc[tissues][tissues].sum(axis=1))\n",
    "    return(TN/N)"
   ]
  },
  {
   "cell_type": "code",
   "execution_count": null,
   "id": "069e6374-2180-461a-8e49-ba2fcbb87d3e",
   "metadata": {},
   "outputs": [],
   "source": [
    "confusion_matrix.loc[[c]]"
   ]
  },
  {
   "cell_type": "code",
   "execution_count": 76,
   "id": "2467736e-f55e-4bb6-9758-e3a5a530907b",
   "metadata": {},
   "outputs": [
    {
     "name": "stdout",
     "output_type": "stream",
     "text": [
      "blood  specificity 0.979\n",
      "germline  specificity 0.973\n",
      "liver  specificity 0.975\n",
      "skin  specificity 0.977\n"
     ]
    }
   ],
   "source": [
    "for tissue in list(definitions):\n",
    "    print(tissue,\" specificity\", round(get_specificity(confusion_matrix,tissue),3))"
   ]
  },
  {
   "cell_type": "code",
   "execution_count": 52,
   "id": "2852cc35-8eee-4c77-b778-c7463073e348",
   "metadata": {},
   "outputs": [
    {
     "name": "stdout",
     "output_type": "stream",
     "text": [
      "blood  sensitivity 0.892\n",
      "germline  sensitivity 0.972\n",
      "liver  sensitivity 0.928\n",
      "skin  sensitivity 0.912\n"
     ]
    }
   ],
   "source": [
    "for tissue in list(definitions):\n",
    "    print(tissue,\" sensitivity\", round(get_sensitivity(confusion_matrix,tissue),3))"
   ]
  },
  {
   "cell_type": "code",
   "execution_count": 50,
   "id": "441c1262-1dd7-4903-ba13-7566dd2b317f",
   "metadata": {},
   "outputs": [
    {
     "data": {
      "text/plain": [
       "('skin sensitivity', 0.912)"
      ]
     },
     "execution_count": 50,
     "metadata": {},
     "output_type": "execute_result"
    }
   ],
   "source": [
    "\"skin sensitivity\", round(get_sensitivity(confusion_matrix,\"skin\"),3)"
   ]
  },
  {
   "cell_type": "code",
   "execution_count": 17,
   "id": "f660f161-3fe0-4320-be87-7e53a453b217",
   "metadata": {},
   "outputs": [
    {
     "data": {
      "text/plain": [
       "Index(['blood', 'germline', 'liver', 'skin'], dtype='object', name='Actual Tissue')"
      ]
     },
     "execution_count": 17,
     "metadata": {},
     "output_type": "execute_result"
    }
   ],
   "source": [
    "confusion_matrix.index"
   ]
  },
  {
   "cell_type": "code",
   "execution_count": 9,
   "id": "ad8a2a02-cf07-48e2-aa19-5f2a60c1cb9d",
   "metadata": {},
   "outputs": [],
   "source": [
    "features = all_data.columns\n",
    "importances= classifier.feature_importances_"
   ]
  },
  {
   "cell_type": "code",
   "execution_count": 11,
   "id": "fe92107c-70f6-4042-be76-4b241d2138ec",
   "metadata": {},
   "outputs": [
    {
     "data": {
      "image/png": "[encoded data removed]",
      "text/plain": [
       "<Figure size 432x288 with 1 Axes>"
      ]
     },
     "metadata": {
      "needs_background": "light"
     },
     "output_type": "display_data"
    }
   ],
   "source": [
    "indices = np.argsort(importances)[-20:]\n",
    "# plt.title(\"fueature importnace: {t}\".format(t=tissue))\n",
    "plt.barh(range(len(indices)),importances[indices],color='b',align=\"center\")\n",
    "plt.yticks(range(len(indices)),[features[i] for i in indices])\n",
    "plt.xlabel(\"relative importance\")\n",
    "plt.show()"
   ]
  },
  {
   "cell_type": "markdown",
   "id": "b5e6abe9-8f06-496d-942c-3ec0d1f5edf2",
   "metadata": {},
   "source": [
    "# scratch "
   ]
  },
  {
   "cell_type": "code",
   "execution_count": null,
   "id": "ae99c43b-df31-4036-8c25-e59368cb7c57",
   "metadata": {},
   "outputs": [],
   "source": [
    "# blood_df = pd.read_csv(\"{p}data/blood/dataframes/{m}/blood_forLiver_all_data_readyForPrediction{d}.csv\".format(p=tmp_file_path,m=model_name,d=model_desc))\n",
    "# germline_df = pd.read_csv(\"{p}data/germline/dataframes/{m}/germline_forLiver_all_data_readyForPrediction{d}.csv\".format(p=tmp_file_path,m=model_name,d=model_desc))\n",
    "# skin_df = pd.read_csv(\"{p}data/skin/dataframes/{m}/skin_forLiver_all_data_readyForPrediction{d}.csv\".format(p=tmp_file_path,m=model_name,d=model_desc))\n",
    "# liver_df = pd.read_csv(\"{p}data/liver/dataframes/{m}/liver_all_data_readyForPrediction{d}.csv\".format(p=tmp_file_path,m=model_name,d=model_desc))\n",
    "\n",
    "# blood_df[\"tissue\"]=\"blood\"\n",
    "# germline_df[\"tissue\"]=\"germline\"\n",
    "# liver_df[\"tissue\"]=\"liver\"\n",
    "# skin_df[\"tissue\"]=\"skin\"\n",
    "\n",
    "# all_data = pd.concat([blood_df,germline_df])\n",
    "# all_data = pd.concat([all_data, liver_df])\n",
    "# all_data = pd.concat([all_data,skin_df])\n"
   ]
  },
  {
   "cell_type": "code",
   "execution_count": 2,
   "id": "e3c29a7e-c4c6-42ff-aca8-20ac5afe1c52",
   "metadata": {},
   "outputs": [],
   "source": [
    "# iris = datasets.load_iris()\n",
    "# X = iris.data[:, 2:]\n",
    "# y = iris.target\n",
    "# X_train, X_test, y_train, y_test = train_test_split(X, y, test_size=0.3, random_state=1, stratify=y)\n",
    "\n",
    "# forest = RandomForestClassifier(criterion='gini',n_estimators=5,random_state=1,n_jobs=2)\n",
    "# # Fit the model\n",
    "# #\n",
    "# forest.fit(X_train, y_train)\n",
    "# # Measure model performance\n",
    "# #\n",
    "# y_pred = forest.predict(X_test)\n",
    "# print('Accuracy: %.3f' % accuracy_score(y_test, y_pred))"
   ]
  }
 ],
 "metadata": {
  "kernelspec": {
   "display_name": "Python [conda env:.conda-mutability] *",
   "language": "python",
   "name": "conda-env-.conda-mutability-py"
  },
  "language_info": {
   "codemirror_mode": {
    "name": "ipython",
    "version": 3
   },
   "file_extension": ".py",
   "mimetype": "text/x-python",
   "name": "python",
   "nbconvert_exporter": "python",
   "pygments_lexer": "ipython3",
   "version": "3.9.6"
  }
 },
 "nbformat": 4,
 "nbformat_minor": 5
}
