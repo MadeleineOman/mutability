{
 "cells": [
  {
   "cell_type": "code",
   "execution_count": 29,
   "id": "bb3829a6-278e-46cb-9fd4-5f3c9ba6f5b1",
   "metadata": {
    "tags": []
   },
   "outputs": [
    {
     "name": "stderr",
     "output_type": "stream",
     "text": [
      "Warning message in plot.new():\n",
      "“Cannot open temporary file '/tmp/Rtmpcnav8t/pdf1701347ad82ec' for compression (reason: No such file or directory); compression has been turned off for this device”\n"
     ]
    },
    {
     "data": {
      "text/html": [
       "<strong>png:</strong> 2"
      ],
      "text/latex": [
       "\\textbf{png:} 2"
      ],
      "text/markdown": [
       "**png:** 2"
      ],
      "text/plain": [
       "png \n",
       "  2 "
      ]
     },
     "metadata": {},
     "output_type": "display_data"
    },
    {
     "name": "stderr",
     "output_type": "stream",
     "text": [
      "Warning message in plot.new():\n",
      "“Cannot open temporary file '/tmp/Rtmpcnav8t/pdf170138a632fa' for compression (reason: No such file or directory); compression has been turned off for this device”\n"
     ]
    },
    {
     "data": {
      "text/html": [
       "<strong>png:</strong> 2"
      ],
      "text/latex": [
       "\\textbf{png:} 2"
      ],
      "text/markdown": [
       "**png:** 2"
      ],
      "text/plain": [
       "png \n",
       "  2 "
      ]
     },
     "metadata": {},
     "output_type": "display_data"
    },
    {
     "name": "stderr",
     "output_type": "stream",
     "text": [
      "Warning message in plot.new():\n",
      "“Cannot open temporary file '/tmp/Rtmpcnav8t/pdf1701371d7d4f7' for compression (reason: No such file or directory); compression has been turned off for this device”\n"
     ]
    },
    {
     "data": {
      "text/html": [
       "<strong>png:</strong> 2"
      ],
      "text/latex": [
       "\\textbf{png:} 2"
      ],
      "text/markdown": [
       "**png:** 2"
      ],
      "text/plain": [
       "png \n",
       "  2 "
      ]
     },
     "metadata": {},
     "output_type": "display_data"
    },
    {
     "name": "stderr",
     "output_type": "stream",
     "text": [
      "Warning message in plot.new():\n",
      "“Cannot open temporary file '/tmp/Rtmpcnav8t/pdf170135f64ba8c' for compression (reason: No such file or directory); compression has been turned off for this device”\n"
     ]
    },
    {
     "data": {
      "text/html": [
       "<strong>png:</strong> 2"
      ],
      "text/latex": [
       "\\textbf{png:} 2"
      ],
      "text/markdown": [
       "**png:** 2"
      ],
      "text/plain": [
       "png \n",
       "  2 "
      ]
     },
     "metadata": {},
     "output_type": "display_data"
    },
    {
     "name": "stderr",
     "output_type": "stream",
     "text": [
      "Warning message in plot.new():\n",
      "“Cannot open temporary file '/tmp/Rtmpcnav8t/pdf170137ae23369' for compression (reason: No such file or directory); compression has been turned off for this device”\n"
     ]
    },
    {
     "data": {
      "text/html": [
       "<strong>png:</strong> 2"
      ],
      "text/latex": [
       "\\textbf{png:} 2"
      ],
      "text/markdown": [
       "**png:** 2"
      ],
      "text/plain": [
       "png \n",
       "  2 "
      ]
     },
     "metadata": {},
     "output_type": "display_data"
    },
    {
     "name": "stdout",
     "output_type": "stream",
     "text": [
      "[1] \"bootstrap started\"\n"
     ]
    },
    {
     "data": {
      "text/html": [
       "<style>\n",
       ".list-inline {list-style: none; margin:0; padding: 0}\n",
       ".list-inline>li {display: inline-block}\n",
       ".list-inline>li:not(:last-child)::after {content: \"\\00b7\"; padding: 0 .5ex}\n",
       "</style>\n",
       "<ol class=list-inline><li>'bootstrap took 2408.087 seconds'</li><li>'bootstrap took 3048.236 seconds'</li><li>'bootstrap took 81.4830000000075 seconds'</li><li>'bootstrap took 0 seconds'</li><li>'bootstrap took 0 seconds'</li></ol>\n"
      ],
      "text/latex": [
       "\\begin{enumerate*}\n",
       "\\item 'bootstrap took 2408.087 seconds'\n",
       "\\item 'bootstrap took 3048.236 seconds'\n",
       "\\item 'bootstrap took 81.4830000000075 seconds'\n",
       "\\item 'bootstrap took 0 seconds'\n",
       "\\item 'bootstrap took 0 seconds'\n",
       "\\end{enumerate*}\n"
      ],
      "text/markdown": [
       "1. 'bootstrap took 2408.087 seconds'\n",
       "2. 'bootstrap took 3048.236 seconds'\n",
       "3. 'bootstrap took 81.4830000000075 seconds'\n",
       "4. 'bootstrap took 0 seconds'\n",
       "5. 'bootstrap took 0 seconds'\n",
       "\n",
       "\n"
      ],
      "text/plain": [
       "[1] \"bootstrap took 2408.087 seconds\"        \n",
       "[2] \"bootstrap took 3048.236 seconds\"        \n",
       "[3] \"bootstrap took 81.4830000000075 seconds\"\n",
       "[4] \"bootstrap took 0 seconds\"               \n",
       "[5] \"bootstrap took 0 seconds\"               "
      ]
     },
     "metadata": {},
     "output_type": "display_data"
    },
    {
     "name": "stderr",
     "output_type": "stream",
     "text": [
      "Warning message in plot.new():\n",
      "“Cannot open temporary file '/tmp/Rtmpcnav8t/pdf17013127828' for compression (reason: No such file or directory); compression has been turned off for this device”\n"
     ]
    },
    {
     "data": {
      "text/html": [
       "<strong>png:</strong> 2"
      ],
      "text/latex": [
       "\\textbf{png:} 2"
      ],
      "text/markdown": [
       "**png:** 2"
      ],
      "text/plain": [
       "png \n",
       "  2 "
      ]
     },
     "metadata": {},
     "output_type": "display_data"
    },
    {
     "name": "stderr",
     "output_type": "stream",
     "text": [
      "Warning message in plot.new():\n",
      "“Cannot open temporary file '/tmp/Rtmpcnav8t/pdf170133af4f00b' for compression (reason: No such file or directory); compression has been turned off for this device”\n",
      "Warning message in plot.new():\n",
      "“Cannot open temporary file '/tmp/Rtmpcnav8t/pdf170131982df7e' for compression (reason: No such file or directory); compression has been turned off for this device”\n"
     ]
    },
    {
     "name": "stdout",
     "output_type": "stream",
     "text": [
      "[1] \"started forLiver bootstrap\"\n"
     ]
    },
    {
     "name": "stderr",
     "output_type": "stream",
     "text": [
      "Warning message in plot.new():\n",
      "“Cannot open temporary file '/tmp/Rtmpcnav8t/pdf170137ce9ef56' for compression (reason: No such file or directory); compression has been turned off for this device”\n"
     ]
    },
    {
     "data": {
      "text/html": [
       "<strong>png:</strong> 2"
      ],
      "text/latex": [
       "\\textbf{png:} 2"
      ],
      "text/markdown": [
       "**png:** 2"
      ],
      "text/plain": [
       "png \n",
       "  2 "
      ]
     },
     "metadata": {},
     "output_type": "display_data"
    }
   ],
   "source": [
    "library(dplyr)\n",
    "# library(glmnet)\n",
    "library(stringr)\n",
    "library(stringi)\n",
    "library(corrplot)\n",
    "library(rlang)\n",
    "\n",
    "args = commandArgs(trailingOnly=TRUE)\n",
    "# tissue = args[1]\n",
    "# model_name = args[2]\n",
    "tissue = \"blood\"\n",
    "model_name = \"model3\"\n",
    "tmp_file_path = \"../../../\"\n",
    "\n",
    "error_output_file = paste(tmp_file_path,\"data/\",tissue,\"/objects/\",model_name,\"/\",tissue,\"_create_model_text_output.txt\",sep=\"\")\n",
    "cat(\"output for the create_model notebook\",file=error_output_file,sep=\"\\n\")\n",
    "\n",
    "#import the data \n",
    "input_filePath = paste(tmp_file_path,\"data/\",tissue,\"/dataframes/\",model_name,\"/predictorDf.txt\",sep=\"\")\n",
    "all_data <- read.table(input_filePath, header = TRUE,sep=\"\\t\")\n",
    "\n",
    "#this if conditional accounts for the accidental mix up in the smallest scale: \n",
    "#sometimes the sclae is 0-bases around (at the site), while sometimes its 1-base around (triplet) \n",
    "if (\".0\" %in% unique(str_extract(colnames(all_data),\"[.][0-9]*\"))) {\n",
    "        all_data <- all_data %>%\n",
    "            mutate(GC_content.0 = Gpercent.0+Cpercent.0) %>%\n",
    "            mutate(GC_content.100 = Gpercent.100+Cpercent.100) %>% \n",
    "            mutate(GC_content.10000 = Gpercent.10000+Cpercent.10000)\n",
    "        all_data <- all_data[,!(names(all_data) %in% c(\"site\",'Apercent.0','Gpercent.0','Cpercent.0','Tpercent.0',\n",
    "                                               'Apercent.100','Gpercent.100','Cpercent.100','Tpercent.100',\n",
    "                                               'Apercent.10000','Gpercent.10000','Cpercent.10000','Tpercent.10000'))]\n",
    "}else if (\".1\" %in% unique(str_extract(colnames(all_data),\"[.][0-9]*\"))){\n",
    "    all_data <- all_data %>%\n",
    "        mutate(GC_content.1 = Gpercent.1+Cpercent.1) %>%\n",
    "        mutate(GC_content.100 = Gpercent.100+Cpercent.100) %>% \n",
    "        mutate(GC_content.10000 = Gpercent.10000+Cpercent.10000)\n",
    "    all_data <- all_data[,!(names(all_data) %in% c(\"site\",'Apercent.1','Gpercent.1','Cpercent.1','Tpercent.1',\n",
    "                                               'Apercent.100','Gpercent.100','Cpercent.100','Tpercent.100',\n",
    "                                               'Apercent.10000','Gpercent.10000','Cpercent.10000','Tpercent.10000'))]\n",
    "}\n",
    "\n",
    "#editing the triplets \n",
    "all_data$triplet <- toupper(all_data$triplet)\n",
    "#filter for rows that dont have NNN as the triplet --> write the details to file \n",
    "cat(paste(nrow(all_data[all_data$triplet == \"NNN\",]), \"rows removed due to N in triplet, \",sep=\" \"),file=error_output_file,sep=\"\\n\",append=TRUE)\n",
    "all_data <- all_data[all_data$triplet != \"NNN\",]\n",
    "cat(paste(nrow(all_data),\"rows left\",sep=\" \"),file=error_output_file,sep=\"\\n\",append=TRUE)\n",
    "\n",
    "#how many mutations and sites \n",
    "#printing the mutation ratio to file \n",
    "string_to_print = paste(\"mut/normal ratio: \",nrow(all_data[all_data$mutation_status == \"1\",])/nrow(all_data),sep=\" \")\n",
    "cat(string_to_print,file=error_output_file,sep=\"\\n\",append=TRUE)\n",
    "#printing the total mutations included to file \n",
    "string_to_print = paste(\"n muts = \", nrow(all_data[all_data$mutation_status == \"1\",]),sep=\" \")\n",
    "cat(string_to_print,file=error_output_file,sep=\"\\n\",append=TRUE)\n",
    "#printing the total rows included to file \n",
    "string_to_print = paste(\"total nrow\", nrow(all_data),sep=\" \")\n",
    "cat(string_to_print,file=error_output_file,sep=\"\\n\",append=TRUE)\n",
    "\n",
    "#converting 64-->32 triplets \n",
    "rc_removeAG <- function(dna){\n",
    "    middle_base = substr(dna, 2, 2)\n",
    "    if(middle_base %in% c(\"A\",\"G\")){\n",
    "        dna <- stri_reverse(chartr(\"acgtACGT\", \"tgcaTGCA\", dna))}\n",
    "    return(dna)\n",
    "}#substring slicing https://www.johnmyleswhite.com/notebook/2009/02/25/text-processing-in-r/\n",
    "all_data$triplet <- unlist(lapply(as.character(all_data$triplet),rc_removeAG)) #need unlistto turn the list into a vector \n",
    "\n",
    "\n",
    "#check for problems with levels / column tye etc. \n",
    "all_data$triplet <- as.character(all_data$triplet) #need to convert to char so the as.factor properly reducs to 64 levels after the removal of 'triplets\" longer than 3\n",
    "string_to_print = paste(nrow(all_data[nchar(as.character(all_data$triplet))!=3,]),\"rows removed due to triplet larger than 3 in length \",sep=\" \")\n",
    "cat(string_to_print,file=error_output_file,sep=\"\\n\",append=TRUE)\n",
    "all_data <- all_data[nchar(all_data$triplet)==3,] #make sure only including triplets \n",
    "string_to_print=paste(nrow(all_data),\" rows left\", sept = \" \")\n",
    "cat(string_to_print,file=error_output_file,sep=\"\\n\",append=TRUE)\n",
    "\n",
    "#editing the annotation colun --> ignored into non_transcribed \n",
    "all_data$annotation <- gsub(\"ignored\",\"not_transcribed\",all_data$annotation)\n",
    "all_data$annotation <- gsub(\"protein_binding\",\"not_transcribed\",all_data$annotation)#there are so few protein binding sites that we may as well omit \n",
    "#rerplacing with \"not_transcribed\" is fine as they are the last level before non_transcribed in the annotation module \n",
    "\n",
    "\n",
    "#factorizing the columns \n",
    "all_data$mutation_status <- as.factor(all_data$mutation_status)\n",
    "all_data$triplet <- as.factor(all_data$triplet)\n",
    "all_data$Chromosome <- as.factor(all_data$Chromosome)\n",
    "all_data$annotation <- as.factor(all_data$annotation)\n",
    "\n",
    "#checking that the factor variables are correct (mutation status, triplets, chroms) --> will raise error if not true \n",
    "# stopifnot(length(levels(all_data$mutation_status)) == 2)\n",
    "stopifnot(length(levels(all_data$triplet))==32)\n",
    "stopifnot(length(levels(all_data$Chromosome))==22)\n",
    "\n",
    "#if germline, then edit out the female and make the male the default ( i used to include both female and male) \n",
    "if (tissue == \"germline\"){\n",
    "    all_data <- select(all_data,-matches(\"female\")) \n",
    "    colnames(all_data)<- str_replace_all(colnames(all_data), \"_male\", \"\")\n",
    "}\n",
    "\n",
    "#na omit and checking how many rows were removed \n",
    "string_to_print = paste(nrow(all_data)- nrow(na.omit(all_data)), \"lost to NA values, \", nrow(na.omit(all_data)),\" rows remain after\",sep=\" \")\n",
    "cat(string_to_print,file=error_output_file,sep=\"\\n\",append=TRUE)\n",
    "all_data <- na.omit(all_data)\n",
    "\n",
    "#printing the categorical mut ratios\n",
    "cat(\"chromosome mutation distributions\",file=error_output_file,sep=\"\\n\",append=TRUE)\n",
    "test_df<-as.data.frame(table(all_data$mutation_status, all_data$Chromosome))\n",
    "colnames(test_df) <- c(\"mut_stat\",\"Chromosome\",\"Freq\")\n",
    "for (cur_annot in levels(all_data$Chromosome)) {\n",
    "    string_to_print = (paste(cur_annot,round(filter(test_df, (Chromosome==cur_annot)&(mut_stat ==1))$Freq / sum(filter(test_df, (Chromosome==cur_annot))$Freq),digits=3),sep=\"  \\t\"))\n",
    "    cat(string_to_print,file=error_output_file,sep=\"\\n\",append=TRUE)\n",
    "} \n",
    "cat(\"annotation mutation distributions\",file=error_output_file,sep=\"\\n\",append=TRUE)\n",
    "test_df<-as.data.frame(table(all_data$mutation_status, all_data$annotation))\n",
    "colnames(test_df) <- c(\"mut_stat\",\"annotation\",\"Freq\")\n",
    "for (cur_annot in levels(all_data$annotation)) {\n",
    "    string_to_print = (paste(cur_annot,round(filter(test_df, (annotation==cur_annot)&(mut_stat ==1))$Freq/sum(filter(test_df,(annotation==cur_annot))$Freq),digits=3),sep=\"  \\t\"))\n",
    "    cat(string_to_print,file=error_output_file,sep=\"\\n\",append=TRUE)\n",
    "} \n",
    "cat(\"triplet mutation distributions\",file=error_output_file,sep=\"\\n\",append=TRUE)\n",
    "test_df<-as.data.frame(table(all_data$mutation_status, all_data$triplet))\n",
    "colnames(test_df) <- c(\"mut_stat\",\"triplet\",\"Freq\")\n",
    "for (cur_annot in levels(all_data$triplet)) {\n",
    "    string_to_print = (paste(cur_annot,round(filter(test_df, (triplet==cur_annot)&(mut_stat ==1))$Freq / sum(filter(test_df, (triplet==cur_annot))$Freq),digits=3),sep=\"  \\t\"))\n",
    "    cat(string_to_print,file=error_output_file,sep=\"\\n\",append=TRUE)\n",
    "} \n",
    "\n",
    "\n",
    "#distributions ~~~~~~~~~~~~~~~~~~~~~\n",
    "#getting only numeric \n",
    "num_cols <- colnames(all_data[,unlist(lapply(all_data, is.numeric), use.names = FALSE)])#https://stackoverflow.com/questions/5863097/selecting-only-numeric-columns-from-a-data-frame\n",
    "\n",
    "pdf(paste(paste(tmp_file_path,\"analysis/\",tissue,\"/plots/\",model_name,\"/\",tissue,\"_predictor_distributions.pdf\", sep=\"\")))\n",
    "for (cur_pred in num_cols){\n",
    "    cur_data = all_data[,cur_pred]\n",
    "    title = paste(cur_pred,\"\\nsd:\",round(sd(cur_data),digits=2), \" mean:\", round(mean(cur_data),digits=2), \" median:\",round(median(cur_data),digits=2),\" min,max:\",round(min(cur_data),digits=5),\",\",max(round(cur_data,digits=2)))\n",
    "    hist(cur_data, main=title,breaks=20)\n",
    "}\n",
    "dev.off()\n",
    "pdf(paste(paste(tmp_file_path,\"analysis/\",tissue,\"/plots/\",model_name,\"/\",tissue,\"_predictor_distributions_remove0.pdf\", sep=\"\")))\n",
    "for (cur_pred in num_cols){\n",
    "    cur_data = filter(all_data,!!sym(cur_pred)>0)[,cur_pred]# get r to handle strign as value https://stackoverflow.com/questions/48219732/pass-a-string-as-variable-name-in-dplyrfilter\n",
    "    title = paste(cur_pred,\"\\nsd:\",round(sd(cur_data),digits=2), \" mean:\", round(mean(cur_data),digits=2), \" median:\",round(median(cur_data),digits=2),\" min,max:\",round(min(cur_data),digits=5),\",\",max(round(cur_data,digits=2)))\n",
    "    hist(cur_data, main=title,breaks=20)\n",
    "}\n",
    "dev.off()\n",
    "\n",
    "#STANDARDIZING~~~~~~~~~~~~~~~~~~~~~~~~~~~~\n",
    "if (tissue==\"liver\") {\n",
    "all_data[4:33] <- as.data.frame(scale(all_data[4:33], center=TRUE, scale=TRUE))\n",
    "all_data[35:37] <- as.data.frame(scale(all_data[35:37], center=TRUE, scale=TRUE))\n",
    "} else {\n",
    "all_data[4:36] <- as.data.frame(scale(all_data[4:36], center=TRUE, scale=TRUE))\n",
    "all_data[38:40] <- as.data.frame(scale(all_data[38:40], center=TRUE, scale=TRUE))\n",
    "}\n",
    "\n",
    "sample_sites_train <- sample (1:nrow(all_data), nrow(all_data)/2) \n",
    "sample_sites_test = c(1:nrow(all_data))[-sample_sites_train]\n",
    "\n",
    "#creating and saving the corplot \n",
    "num_data <- na.omit(subset(all_data, select=-c(Chromosome,triplet,annotation)))\n",
    "num_data$mutation_status <- as.numeric(num_data$mutation_status)\n",
    "num_cor <- cor(num_data)\n",
    "filename = paste(tmp_file_path,\"analysis/\",tissue,\"/plots/\",model_name,\"/\",tissue,\"_corPlot.pdf\", sep=\"\")\n",
    "pdf(filename)\n",
    "corrplot(num_cor,method = \"color\",type=\"upper\",number.cex=0.5,tl.cex = 0.5,main=tissue)\n",
    "dev.off() \n",
    "\n",
    "#CORRELATION ANALYSIS ~~~~~~~~~~~~~~~~~~~~~~~~~~~~~~~~~~~~~~~~~~~~~~~~~~~~~~~~~~~~~~\n",
    "#create the correlation df and \n",
    "cor_df <- as.data.frame(which(num_cor >=0.8,arr.ind=T))\n",
    "cor_df$col_name <- colnames(num_cor)[cor_df$col]  #insert tyhe col names \n",
    "testFunc <- function(a, b) round(num_cor[a,b],digits=3)#https://stackoverflow.com/questions/15059076/call-apply-like-function-on-each-row-of-dataframe-with-multiple-arguments-from-e\n",
    "cor_df$cor_val <- apply(cor_df[,c('row','col')], 1, function(y) testFunc(y['row'],y['col'])) #insert the value of the correlatnio \n",
    "#exclude the self corelations and convert row names into a col \n",
    "cor_df<- filter(as.data.frame(cor_df),row!=col)[,c(\"col_name\",\"cor_val\")]\n",
    "cor_df<- tibble::rownames_to_column(cor_df, \"row_name\")\n",
    "#reorder the var names into alphabetical order \n",
    "testFunc <- function(a,b) paste(str_sort(c(a,b)),sep=\"-\")[1]\n",
    "cor_df$first_name <- apply(cor_df,1,function(y) testFunc(y['row_name'],y['col_name']))\n",
    "testFunc <- function(a,b) paste(str_sort(c(a,b)),sep=\"-\")[2]\n",
    "cor_df$last_name <- apply(cor_df,1,function(y) testFunc(y['row_name'],y['col_name']))\n",
    "#subset cols\n",
    "cor_df <- cor_df[,c(\"first_name\",\"last_name\",\"cor_val\")]\n",
    "#doing soem strign replace to maker the distinct below applicable \n",
    "cor_df <- data.frame(lapply(cor_df, function(x) {gsub(\"1[.]1\", \"1\", x)}))\n",
    "cor_df <- data.frame(lapply(cor_df, function(x) {gsub(\"[.]2\", \"\", x)}))\n",
    "cor_df <- data.frame(lapply(cor_df, function(x) {gsub(\"0[.]1\", \"0\", x)}))\n",
    "#remove the duplicates and reorder for legibility \n",
    "cor_df <- distinct(cor_df)\n",
    "cor_df <- cor_df[order(cor_df$first_name),]\n",
    "#save to file \n",
    "filename = paste(tmp_file_path,\"data/\",tissue,\"/dataframes/\",model_name,\"/\",tissue,\"_fullModel_corTable_above0.8.csv\", sep=\"\")\n",
    "write.csv(cor_df,filename, row.names = FALSE)\n",
    "                          \n",
    "#REMOVING CORRELATED VARIABLES \n",
    "if (tissue ==\"liver\"){ #liver need its own b/c no H3k36me3/H3k27me3\n",
    "    all_data <- all_data[,c(\"Chromosome\",\"triplet\",\"mutation_status\",\n",
    "                            'H3k27.10000','H3k4me1.10000','H3k4me3.10000',\"Transcription.10000\",\"Replication.10000\",\"recombination.10000\",\"DNAse.100\",\n",
    "                            'laminB1.1','laminB1.100','laminB1.10000', \"Repeats.1\",\"Repeats.100\",\"Repeats.10000\",\"GC_content.1\",\"GC_content.100\",\"GC_content.10000\",\"annotation\")]\n",
    "}else{\n",
    "        all_data <- all_data[,c(\"Chromosome\",\"triplet\",\"mutation_status\",\n",
    "                            'H3k27.10000','H3k4me1.10000','H3k4me3.10000','H3k27me3.10000','H3k36me3.10000',\"Transcription.10000\",\"Replication.10000\",\"recombination.10000\",\"DNAse.100\",\n",
    "                            'laminB1.1','laminB1.100','laminB1.10000', \"Repeats.1\",\"Repeats.100\",\"Repeats.10000\",\"GC_content.1\",\"GC_content.100\",\"GC_content.10000\",\"annotation\")]\n",
    "}\n",
    "\n",
    "#MAKING A MODEL ~~~~~~~~~~~~~~~~~~~~~~~~~~~~~~~~~~~~~~~~~\n",
    "model <- glm(mutation_status~., data=all_data[sample_sites_train,],family=\"binomial\")\n",
    "\n",
    "#saving the model variables \n",
    "filename = paste(tmp_file_path,\"data/\",tissue,\"/objects/\",model_name,\"/\",tissue,\"_model.RData\", sep=\"\") #model \n",
    "save(model, file=filename)\n",
    "filename =paste(tmp_file_path,\"data/\",tissue,\"/objects/\",model_name,\"/\",tissue,\"_samples_sites_test.RData\", sep=\"\")#sample sites test \n",
    "save(sample_sites_test , file=filename)\n",
    "filename =paste(tmp_file_path,\"data/\",tissue,\"/dataframes/\",model_name,\"/\",tissue,\"_all_data_readyForPrediction.csv\", sep=\"\")\n",
    "write.csv(all_data,filename)\n",
    "                          \n",
    "#checing the assumptions.. though idk how to read \n",
    "pdf(paste(tmp_file_path,\"analysis/\",tissue,\"/plots/\",model_name,\"/\",tissue,\"_model_diagnostics.pdf\", sep=\"\"))\n",
    "plot(model)\n",
    "dev.off() \n",
    "#checking for linearity one at a time... \n",
    "pdf(paste(tmp_file_path,\"analysis/\",tissue,\"/plots/\",model_name,\"/\",tissue,\"_model_diagnostics_checkingLinearity.pdf\", sep=\"\"))\n",
    "for (pred_name in colnames(all_data)){\n",
    "    plot(model$linear.predictors ~ all_data[sample_sites_train,][,pred_name],main=pred_name)\n",
    "}\n",
    "dev.off()\n",
    "\n",
    "#analyze the coeficients~~~~~~~~~~~~~~~~~~~~~~~~~~~~~~~~~~~~~~~~~~~~~~~~~~~~~~~~~~~~~~~~~~~~~~~~~~~~~\n",
    "#first the whole model \n",
    "coefs <- coef(summary(model))\n",
    "coef_df <- as.data.frame(coefs)\n",
    "colnames(coef_df) <- c(\"value\",\"std_err\",\"z_val\",\"p_val\")\n",
    "coef_df<- tibble::rownames_to_column(coef_df, \"name\") # https://stackoverflow.com/questions/29511215/convert-row-names-into-first-column\n",
    "coef_df_ordered <- coef_df[order(-coef_df$value),]#https://www.statmethods.net/management/sorting.html\n",
    "filename = paste(tmp_file_path,\"data/\",tissue,\"/dataframes/\",model_name,\"/\",tissue,\"_coefDF.csv\",sep=\"\")#this sep is for the filename string\n",
    "write.csv(coef_df_ordered,filename,row.names=FALSE)\n",
    "\n",
    "#BOOTSTRAP                         \n",
    "#my bootstrapping help https://stackoverflow.com/questions/54749641/bootstrapping-with-glm-model\n",
    "coef_df<- as.data.frame(\"names\" <- names(coef(model)))\n",
    "colnames(coef_df) <- c(\"name\")\n",
    "\n",
    "print(\"bootstrap started\")\n",
    "plm <- proc.time()\n",
    "for (i in 1:100){\n",
    "    sample_sites_train_cur <- sample(sample_sites_train,size=length(sample_sites_train),replace=TRUE)\n",
    "    cur_data <- all_data[sample_sites_train_cur,]\n",
    "    model<- glm(mutation_status~., data=cur_data,family=\"binomial\")\n",
    "\n",
    "    cur_coef_df <- as.data.frame(coef(model))\n",
    "    colnames(cur_coef_df) <- c(paste(\"value_\",i,sep=\"\"))\n",
    "    cur_coef_df<- tibble::rownames_to_column(cur_coef_df, \"name\") # https://stackoverflow.com/questions/29511215/convert-row-names-into-first-column\n",
    "    coef_df <- merge(coef_df,cur_coef_df)\n",
    "}\n",
    "paste(\"bootstrap took\",proc.time()-plm,\"seconds\",sep=\" \")\n",
    "\n",
    "#getting the mean and quantiles into a df for plotting \n",
    "coef_df$mean_est <- rowMeans(coef_df[,2:101],na.rm=TRUE)\n",
    "quantile_df <- data.frame(coef_df$name,t(apply(coef_df[,2:101],1,quantile,c(0.025,0.975),na.rm=TRUE)))#https://stackoverflow.com/questions/54749641/bootstrapping-with-glm-model\n",
    "colnames(quantile_df) <- c(\"name\",\"quant025\",\"quant975\")\n",
    "bootstrap_df<- merge(coef_df,quantile_df)\n",
    "filename <- paste(tmp_file_path,\"data/\",tissue,\"/dataframes/\",model_name,\"/\",tissue,\"_coefDF_bootstrap.csv\",sep=\"\")\n",
    "write.csv(bootstrap_df,filename,row.names=FALSE)\n",
    "\n",
    "#distribtuion analysis \n",
    "sign_preds = replicate(nrow(bootstrap_df),\"not\")\n",
    "sign_preds[bootstrap_df$quant025 * bootstrap_df$quant975 >0 ] = \"yes\"\n",
    "bootstrap_df$significant <- sign_preds\n",
    "num_cols <- colnames(all_data[,unlist(lapply(all_data, is.numeric), use.names = FALSE)])#https://stackoverflow.com/questions/5863097/selecting-only-numeric-columns-from-a-data-frame\n",
    "#making the pllots \n",
    "pdf(paste(paste(tmp_file_path,\"analysis/\",tissue,\"/plots/\",model_name,\"/\",tissue,\"_predictor_distributions_unCor_includedModel.pdf\", sep=\"\")))\n",
    "for (cur_pred in num_cols){\n",
    "    cur_data = all_data[,cur_pred]\n",
    "    title = paste(cur_pred,\"\\nsd:\",round(sd(cur_data),digits=2), \" mean:\", round(mean(cur_data),digits=2), \" median:\",round(median(cur_data),digits=2),\n",
    "                  \" min,max:\",round(min(cur_data),digits=5),\",\",max(round(cur_data,digits=2)),\n",
    "                  \"\\nboostrap mean est:\",round(filter(bootstrap_df, name==cur_pred)$mean_est,digits=5), \"singificant?:\", filter(bootstrap_df, name==cur_pred)$significant)\n",
    "    hist(cur_data, main=title,breaks=20)\n",
    "}\n",
    "dev.off()\n",
    "                          \n",
    "                          \n",
    "#CREATING MODELS FOR THE LIVER TISSUE ~~~~~~~~~~~~~~~~~~~~~~~~~~~~~~~~~~~~~~~~~~~~~~~~~~~~~~~~~~~~~~~~~~~~~~~~~~~~~~~~~~~~~~~~~~~~~~~\n",
    "if (tissue != \"liver\"){\n",
    "    all_data <- all_data[,c(\"Chromosome\",\"triplet\",\"mutation_status\",\n",
    "                            'H3k27.10000','H3k4me1.10000','H3k4me3.10000','H3k27me3.10000','H3k36me3.10000',\"Transcription.10000\",\"Replication.10000\",\"recombination.10000\",\"DNAse.100\",\n",
    "                            'laminB1.1','laminB1.100','laminB1.10000', \"Repeats.1\",\"Repeats.100\",\"Repeats.10000\",\"GC_content.1\",\"GC_content.100\",\"GC_content.10000\",\"annotation\")]\n",
    "\n",
    "    #one whole model for \n",
    "    model <- glm(mutation_status~., data=all_data[sample_sites_train,],family=\"binomial\")\n",
    "\n",
    "    #saving the model variables \n",
    "    filename = paste(tmp_file_path,\"data/\",tissue,\"/objects/\",model_name,\"/\",tissue,\"_forLiver_model.RData\", sep=\"\") #model \n",
    "    save(model, file=filename)\n",
    "    filename =paste(tmp_file_path,\"data/\",tissue,\"/objects/\",model_name,\"/\",tissue,\"_forLiver_samples_sites_test.RData\", sep=\"\")#sample sites test \n",
    "    save(sample_sites_test , file=filename)\n",
    "    filename =paste(tmp_file_path,\"data/\",tissue,\"/dataframes/\",model_name,\"/\",tissue,\"_forLiver_all_data_readyForPrediction.csv\", sep=\"\")\n",
    "    write.csv(all_data,filename)\n",
    "\n",
    "    #analyze the coeficients~~~~~~~~~~~~~~~~~~~~~~~~~~~~~~~~~~~~~~~~~~~~~~~~~~~~~~~~~~~~~~~~~~~~~~~~~~~~~\n",
    "    coefs <- coef(summary(model))\n",
    "    coef_df <- as.data.frame(coefs)\n",
    "    colnames(coef_df) <- c(\"value\",\"std_err\",\"z_val\",\"p_val\")\n",
    "    coef_df<- tibble::rownames_to_column(coef_df, \"name\") # https://stackoverflow.com/questions/29511215/convert-row-names-into-first-column\n",
    "    coef_df_ordered <- coef_df[order(-coef_df$value),]#https://www.statmethods.net/management/sorting.html\n",
    "    filename = paste(tmp_file_path,\"data/\",tissue,\"/dataframes/\",model_name,\"/\",tissue,\"_forLiver_coefDF.csv\",sep=\"\")#this sep is for the filename string\n",
    "    write.csv(coef_df_ordered,filename,row.names=FALSE)\n",
    "\n",
    "    #MODEL DIAGNOSTICS \n",
    "    #checing the assumptions.. though idk how to read \n",
    "    pdf(paste(tmp_file_path,\"analysis/\",tissue,\"/plots/\",model_name,\"/\",tissue,\"_forLiver_model_diagnostics.pdf\", sep=\"\"))\n",
    "    plot(model)\n",
    "    dev.off() \n",
    "    #checking for linearity one at a time... \n",
    "    pdf(paste(tmp_file_path,\"analysis/\",tissue,\"/plots/\",model_name,\"/\",tissue,\"_forLiver_model_diagnostics_checkingLinearity.pdf\", sep=\"\"))\n",
    "    for (pred_name in colnames(all_data)){\n",
    "        plot(model$linear.predictors ~ all_data[sample_sites_train,][,pred_name],main=pred_name)\n",
    "    }\n",
    "    dev.off()\n",
    "\n",
    "    #BOOTSTRAP \n",
    "    #my bootstrapping help https://stackoverflow.com/questions/54749641/bootstrapping-with-glm-model\n",
    "    coef_df<- as.data.frame(\"names\" <- names(coef(model)))\n",
    "    colnames(coef_df) <- c(\"name\")\n",
    "    print(\"started forLiver bootstrap\")\n",
    "    plm <- proc.time()\n",
    "    for (i in 1:100){\n",
    "        sample_sites_train_cur <- sample(sample_sites_train,size=length(sample_sites_train),replace=TRUE)\n",
    "        cur_data <- all_data[sample_sites_train_cur,]\n",
    "        model<- glm(mutation_status~., data=cur_data,family=\"binomial\")\n",
    "\n",
    "        cur_coef_df <- as.data.frame(coef(model))\n",
    "        colnames(cur_coef_df) <- c(paste(\"value_\",i,sep=\"\"))\n",
    "        cur_coef_df<- tibble::rownames_to_column(cur_coef_df, \"name\") # https://stackoverflow.com/questions/29511215/convert-row-names-into-first-column\n",
    "        coef_df <- merge(coef_df,cur_coef_df)\n",
    "    }\n",
    "    paste(\"forLiver bootstrap took\",proc.time()-plm,\"seconds\",sep=\" \")\n",
    "\n",
    "    #getting the mean and quantiles into a df for plotting \n",
    "    coef_df$mean_est <- rowMeans(coef_df[,2:101],na.rm=TRUE)\n",
    "    quantile_df <- data.frame(coef_df$name,t(apply(coef_df[,2:101],1,quantile,c(0.025,0.975),na.rm=TRUE)))#https://stackoverflow.com/questions/54749641/bootstrapping-with-glm-model\n",
    "    colnames(quantile_df) <- c(\"name\",\"quant025\",\"quant975\")\n",
    "    bootstrap_df<- merge(coef_df,quantile_df)\n",
    "    filename <- paste(tmp_file_path,\"data/\",tissue,\"/dataframes/\",model_name,\"/\",tissue,\"_forLiver_coefDF_bootstrap.csv\",sep=\"\")\n",
    "    write.csv(bootstrap_df,filename,row.names=FALSE)\n",
    "\n",
    "    #creating a significant column \n",
    "    sign_preds = replicate(nrow(bootstrap_df),\"not\")\n",
    "    sign_preds[bootstrap_df$quant025 * bootstrap_df$quant975 >0 ] = \"yes\"\n",
    "    bootstrap_df$significant <- sign_preds\n",
    "\n",
    "    num_cols <- colnames(all_data[,unlist(lapply(all_data, is.numeric), use.names = FALSE)])#https://stackoverflow.com/questions/5863097/selecting-only-numeric-columns-from-a-data-frame\n",
    "    #making the pllots \n",
    "    pdf(paste(paste(tmp_file_path,\"analysis/\",tissue,\"/plots/\",model_name,\"/\",tissue,\"_forLiver_predictor_distributions_unCor_includedModel.pdf\", sep=\"\")))\n",
    "    for (cur_pred in num_cols){\n",
    "        cur_data = all_data[,cur_pred]\n",
    "        title = paste(cur_pred,\"\\nsd:\",round(sd(cur_data),digits=2), \" mean:\", round(mean(cur_data),digits=2), \" median:\",round(median(cur_data),digits=2),\n",
    "                      \" min,max:\",round(min(cur_data),digits=5),\",\",max(round(cur_data,digits=2)),\n",
    "                      \"\\nboostrap mean est:\",round(filter(bootstrap_df, name==cur_pred)$mean_est,digits=5), \"singificant?:\", filter(bootstrap_df, name==cur_pred)$significant)\n",
    "        hist(cur_data, main=title,breaks=20)\n",
    "    }\n",
    "    dev.off()\n",
    "    #removing the 0s doesnt make any sense for standardized predictors \n",
    "}\n"
   ]
  },
  {
   "cell_type": "code",
   "execution_count": 32,
   "id": "4160a7ca-603a-4533-8c9c-32a3e97bf9d7",
   "metadata": {},
   "outputs": [
    {
     "data": {
      "text/html": [
       "<style>\n",
       ".list-inline {list-style: none; margin:0; padding: 0}\n",
       ".list-inline>li {display: inline-block}\n",
       ".list-inline>li:not(:last-child)::after {content: \"\\00b7\"; padding: 0 .5ex}\n",
       "</style>\n",
       "<ol class=list-inline><li>'name'</li><li>'value_1'</li><li>'value_2'</li><li>'value_3'</li><li>'value_4'</li><li>'value_5'</li><li>'value_6'</li><li>'value_7'</li><li>'value_8'</li><li>'value_9'</li><li>'value_10'</li><li>'value_11'</li><li>'value_12'</li><li>'value_13'</li><li>'value_14'</li><li>'value_15'</li><li>'value_16'</li><li>'value_17'</li><li>'value_18'</li><li>'value_19'</li><li>'value_20'</li><li>'value_21'</li><li>'value_22'</li><li>'value_23'</li><li>'value_24'</li><li>'value_25'</li><li>'value_26'</li><li>'value_27'</li><li>'value_28'</li><li>'value_29'</li><li>'value_30'</li><li>'value_31'</li><li>'value_32'</li><li>'value_33'</li><li>'value_34'</li><li>'value_35'</li><li>'value_36'</li><li>'value_37'</li><li>'value_38'</li><li>'value_39'</li><li>'value_40'</li><li>'value_41'</li><li>'value_42'</li><li>'value_43'</li><li>'value_44'</li><li>'value_45'</li><li>'value_46'</li><li>'value_47'</li><li>'value_48'</li><li>'value_49'</li><li>'value_50'</li><li>'value_51'</li><li>'value_52'</li><li>'value_53'</li><li>'value_54'</li><li>'value_55'</li><li>'value_56'</li><li>'value_57'</li><li>'value_58'</li><li>'value_59'</li><li>'value_60'</li><li>'value_61'</li><li>'value_62'</li><li>'value_63'</li><li>'value_64'</li><li>'value_65'</li><li>'value_66'</li><li>'value_67'</li><li>'value_68'</li><li>'value_69'</li><li>'value_70'</li><li>'value_71'</li><li>'value_72'</li><li>'value_73'</li><li>'value_74'</li><li>'value_75'</li><li>'value_76'</li><li>'value_77'</li><li>'value_78'</li><li>'value_79'</li><li>'value_80'</li><li>'value_81'</li><li>'value_82'</li><li>'value_83'</li><li>'value_84'</li><li>'value_85'</li><li>'value_86'</li><li>'value_87'</li><li>'value_88'</li><li>'value_89'</li><li>'value_90'</li><li>'value_91'</li><li>'value_92'</li><li>'value_93'</li><li>'value_94'</li><li>'value_95'</li><li>'value_96'</li><li>'value_97'</li><li>'value_98'</li><li>'value_99'</li><li>'value_100'</li><li>'mean_est'</li></ol>\n"
      ],
      "text/latex": [
       "\\begin{enumerate*}\n",
       "\\item 'name'\n",
       "\\item 'value\\_1'\n",
       "\\item 'value\\_2'\n",
       "\\item 'value\\_3'\n",
       "\\item 'value\\_4'\n",
       "\\item 'value\\_5'\n",
       "\\item 'value\\_6'\n",
       "\\item 'value\\_7'\n",
       "\\item 'value\\_8'\n",
       "\\item 'value\\_9'\n",
       "\\item 'value\\_10'\n",
       "\\item 'value\\_11'\n",
       "\\item 'value\\_12'\n",
       "\\item 'value\\_13'\n",
       "\\item 'value\\_14'\n",
       "\\item 'value\\_15'\n",
       "\\item 'value\\_16'\n",
       "\\item 'value\\_17'\n",
       "\\item 'value\\_18'\n",
       "\\item 'value\\_19'\n",
       "\\item 'value\\_20'\n",
       "\\item 'value\\_21'\n",
       "\\item 'value\\_22'\n",
       "\\item 'value\\_23'\n",
       "\\item 'value\\_24'\n",
       "\\item 'value\\_25'\n",
       "\\item 'value\\_26'\n",
       "\\item 'value\\_27'\n",
       "\\item 'value\\_28'\n",
       "\\item 'value\\_29'\n",
       "\\item 'value\\_30'\n",
       "\\item 'value\\_31'\n",
       "\\item 'value\\_32'\n",
       "\\item 'value\\_33'\n",
       "\\item 'value\\_34'\n",
       "\\item 'value\\_35'\n",
       "\\item 'value\\_36'\n",
       "\\item 'value\\_37'\n",
       "\\item 'value\\_38'\n",
       "\\item 'value\\_39'\n",
       "\\item 'value\\_40'\n",
       "\\item 'value\\_41'\n",
       "\\item 'value\\_42'\n",
       "\\item 'value\\_43'\n",
       "\\item 'value\\_44'\n",
       "\\item 'value\\_45'\n",
       "\\item 'value\\_46'\n",
       "\\item 'value\\_47'\n",
       "\\item 'value\\_48'\n",
       "\\item 'value\\_49'\n",
       "\\item 'value\\_50'\n",
       "\\item 'value\\_51'\n",
       "\\item 'value\\_52'\n",
       "\\item 'value\\_53'\n",
       "\\item 'value\\_54'\n",
       "\\item 'value\\_55'\n",
       "\\item 'value\\_56'\n",
       "\\item 'value\\_57'\n",
       "\\item 'value\\_58'\n",
       "\\item 'value\\_59'\n",
       "\\item 'value\\_60'\n",
       "\\item 'value\\_61'\n",
       "\\item 'value\\_62'\n",
       "\\item 'value\\_63'\n",
       "\\item 'value\\_64'\n",
       "\\item 'value\\_65'\n",
       "\\item 'value\\_66'\n",
       "\\item 'value\\_67'\n",
       "\\item 'value\\_68'\n",
       "\\item 'value\\_69'\n",
       "\\item 'value\\_70'\n",
       "\\item 'value\\_71'\n",
       "\\item 'value\\_72'\n",
       "\\item 'value\\_73'\n",
       "\\item 'value\\_74'\n",
       "\\item 'value\\_75'\n",
       "\\item 'value\\_76'\n",
       "\\item 'value\\_77'\n",
       "\\item 'value\\_78'\n",
       "\\item 'value\\_79'\n",
       "\\item 'value\\_80'\n",
       "\\item 'value\\_81'\n",
       "\\item 'value\\_82'\n",
       "\\item 'value\\_83'\n",
       "\\item 'value\\_84'\n",
       "\\item 'value\\_85'\n",
       "\\item 'value\\_86'\n",
       "\\item 'value\\_87'\n",
       "\\item 'value\\_88'\n",
       "\\item 'value\\_89'\n",
       "\\item 'value\\_90'\n",
       "\\item 'value\\_91'\n",
       "\\item 'value\\_92'\n",
       "\\item 'value\\_93'\n",
       "\\item 'value\\_94'\n",
       "\\item 'value\\_95'\n",
       "\\item 'value\\_96'\n",
       "\\item 'value\\_97'\n",
       "\\item 'value\\_98'\n",
       "\\item 'value\\_99'\n",
       "\\item 'value\\_100'\n",
       "\\item 'mean\\_est'\n",
       "\\end{enumerate*}\n"
      ],
      "text/markdown": [
       "1. 'name'\n",
       "2. 'value_1'\n",
       "3. 'value_2'\n",
       "4. 'value_3'\n",
       "5. 'value_4'\n",
       "6. 'value_5'\n",
       "7. 'value_6'\n",
       "8. 'value_7'\n",
       "9. 'value_8'\n",
       "10. 'value_9'\n",
       "11. 'value_10'\n",
       "12. 'value_11'\n",
       "13. 'value_12'\n",
       "14. 'value_13'\n",
       "15. 'value_14'\n",
       "16. 'value_15'\n",
       "17. 'value_16'\n",
       "18. 'value_17'\n",
       "19. 'value_18'\n",
       "20. 'value_19'\n",
       "21. 'value_20'\n",
       "22. 'value_21'\n",
       "23. 'value_22'\n",
       "24. 'value_23'\n",
       "25. 'value_24'\n",
       "26. 'value_25'\n",
       "27. 'value_26'\n",
       "28. 'value_27'\n",
       "29. 'value_28'\n",
       "30. 'value_29'\n",
       "31. 'value_30'\n",
       "32. 'value_31'\n",
       "33. 'value_32'\n",
       "34. 'value_33'\n",
       "35. 'value_34'\n",
       "36. 'value_35'\n",
       "37. 'value_36'\n",
       "38. 'value_37'\n",
       "39. 'value_38'\n",
       "40. 'value_39'\n",
       "41. 'value_40'\n",
       "42. 'value_41'\n",
       "43. 'value_42'\n",
       "44. 'value_43'\n",
       "45. 'value_44'\n",
       "46. 'value_45'\n",
       "47. 'value_46'\n",
       "48. 'value_47'\n",
       "49. 'value_48'\n",
       "50. 'value_49'\n",
       "51. 'value_50'\n",
       "52. 'value_51'\n",
       "53. 'value_52'\n",
       "54. 'value_53'\n",
       "55. 'value_54'\n",
       "56. 'value_55'\n",
       "57. 'value_56'\n",
       "58. 'value_57'\n",
       "59. 'value_58'\n",
       "60. 'value_59'\n",
       "61. 'value_60'\n",
       "62. 'value_61'\n",
       "63. 'value_62'\n",
       "64. 'value_63'\n",
       "65. 'value_64'\n",
       "66. 'value_65'\n",
       "67. 'value_66'\n",
       "68. 'value_67'\n",
       "69. 'value_68'\n",
       "70. 'value_69'\n",
       "71. 'value_70'\n",
       "72. 'value_71'\n",
       "73. 'value_72'\n",
       "74. 'value_73'\n",
       "75. 'value_74'\n",
       "76. 'value_75'\n",
       "77. 'value_76'\n",
       "78. 'value_77'\n",
       "79. 'value_78'\n",
       "80. 'value_79'\n",
       "81. 'value_80'\n",
       "82. 'value_81'\n",
       "83. 'value_82'\n",
       "84. 'value_83'\n",
       "85. 'value_84'\n",
       "86. 'value_85'\n",
       "87. 'value_86'\n",
       "88. 'value_87'\n",
       "89. 'value_88'\n",
       "90. 'value_89'\n",
       "91. 'value_90'\n",
       "92. 'value_91'\n",
       "93. 'value_92'\n",
       "94. 'value_93'\n",
       "95. 'value_94'\n",
       "96. 'value_95'\n",
       "97. 'value_96'\n",
       "98. 'value_97'\n",
       "99. 'value_98'\n",
       "100. 'value_99'\n",
       "101. 'value_100'\n",
       "102. 'mean_est'\n",
       "\n",
       "\n"
      ],
      "text/plain": [
       "  [1] \"name\"      \"value_1\"   \"value_2\"   \"value_3\"   \"value_4\"   \"value_5\"  \n",
       "  [7] \"value_6\"   \"value_7\"   \"value_8\"   \"value_9\"   \"value_10\"  \"value_11\" \n",
       " [13] \"value_12\"  \"value_13\"  \"value_14\"  \"value_15\"  \"value_16\"  \"value_17\" \n",
       " [19] \"value_18\"  \"value_19\"  \"value_20\"  \"value_21\"  \"value_22\"  \"value_23\" \n",
       " [25] \"value_24\"  \"value_25\"  \"value_26\"  \"value_27\"  \"value_28\"  \"value_29\" \n",
       " [31] \"value_30\"  \"value_31\"  \"value_32\"  \"value_33\"  \"value_34\"  \"value_35\" \n",
       " [37] \"value_36\"  \"value_37\"  \"value_38\"  \"value_39\"  \"value_40\"  \"value_41\" \n",
       " [43] \"value_42\"  \"value_43\"  \"value_44\"  \"value_45\"  \"value_46\"  \"value_47\" \n",
       " [49] \"value_48\"  \"value_49\"  \"value_50\"  \"value_51\"  \"value_52\"  \"value_53\" \n",
       " [55] \"value_54\"  \"value_55\"  \"value_56\"  \"value_57\"  \"value_58\"  \"value_59\" \n",
       " [61] \"value_60\"  \"value_61\"  \"value_62\"  \"value_63\"  \"value_64\"  \"value_65\" \n",
       " [67] \"value_66\"  \"value_67\"  \"value_68\"  \"value_69\"  \"value_70\"  \"value_71\" \n",
       " [73] \"value_72\"  \"value_73\"  \"value_74\"  \"value_75\"  \"value_76\"  \"value_77\" \n",
       " [79] \"value_78\"  \"value_79\"  \"value_80\"  \"value_81\"  \"value_82\"  \"value_83\" \n",
       " [85] \"value_84\"  \"value_85\"  \"value_86\"  \"value_87\"  \"value_88\"  \"value_89\" \n",
       " [91] \"value_90\"  \"value_91\"  \"value_92\"  \"value_93\"  \"value_94\"  \"value_95\" \n",
       " [97] \"value_96\"  \"value_97\"  \"value_98\"  \"value_99\"  \"value_100\" \"mean_est\" "
      ]
     },
     "metadata": {},
     "output_type": "display_data"
    }
   ],
   "source": [
    "colnames(coef_df)"
   ]
  },
  {
   "cell_type": "code",
   "execution_count": 40,
   "id": "f50122ae-569e-4494-b319-81ad9160faad",
   "metadata": {},
   "outputs": [],
   "source": [
    "tissue=\"skin\"\n",
    "input_filePath = paste(tmp_file_path,\"data/\",tissue,\"/dataframes/\",model_name,\"/predictorDf.txt\",sep=\"\")\n",
    "all_data <- read.table(input_filePath, header = TRUE,sep=\"\\t\")\n"
   ]
  },
  {
   "cell_type": "code",
   "execution_count": 41,
   "id": "b9b272a3-5dcb-48a3-9337-5d181a395d62",
   "metadata": {},
   "outputs": [
    {
     "data": {
      "text/plain": [
       "\n",
       "        ignored not_transcribed protein_binding      regulatory     transcribed \n",
       "         219422            2677             111            4636          446449 \n",
       "           UTR3            UTR5 \n",
       "         169291           90904 "
      ]
     },
     "metadata": {},
     "output_type": "display_data"
    }
   ],
   "source": [
    "(table(all_data$annotation))"
   ]
  },
  {
   "cell_type": "code",
   "execution_count": null,
   "id": "196e512e-94e3-462b-940a-df39991770e1",
   "metadata": {},
   "outputs": [],
   "source": []
  }
 ],
 "metadata": {
  "kernelspec": {
   "display_name": "R [conda env:.conda-mutability] *",
   "language": "R",
   "name": "conda-env-.conda-mutability-r"
  },
  "language_info": {
   "codemirror_mode": "r",
   "file_extension": ".r",
   "mimetype": "text/x-r-source",
   "name": "R",
   "pygments_lexer": "r",
   "version": "4.0.5"
  }
 },
 "nbformat": 4,
 "nbformat_minor": 5
}
