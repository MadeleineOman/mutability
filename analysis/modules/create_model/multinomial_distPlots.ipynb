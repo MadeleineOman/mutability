{
 "cells": [
  {
   "cell_type": "code",
   "execution_count": 6,
   "id": "0c037774-a1ae-4182-928b-86f5ec94d305",
   "metadata": {},
   "outputs": [
    {
     "name": "stderr",
     "output_type": "stream",
     "text": [
      "\n",
      "Attaching package: ‘dplyr’\n",
      "\n",
      "\n",
      "The following objects are masked from ‘package:stats’:\n",
      "\n",
      "    filter, lag\n",
      "\n",
      "\n",
      "The following objects are masked from ‘package:base’:\n",
      "\n",
      "    intersect, setdiff, setequal, union\n",
      "\n",
      "\n"
     ]
    }
   ],
   "source": [
    "library(dplyr)\n",
    "library(ggplot2)\n",
    "library(patchwork)"
   ]
  },
  {
   "cell_type": "code",
   "execution_count": 54,
   "id": "3af439a3-477c-4bea-a41f-1c87c1e8b501",
   "metadata": {},
   "outputs": [],
   "source": [
    "library(stringr)"
   ]
  },
  {
   "cell_type": "code",
   "execution_count": 55,
   "id": "9760bcd7-c4b7-430f-a364-5a53ca540d1f",
   "metadata": {},
   "outputs": [
    {
     "data": {
      "text/html": [
       "TRUE"
      ],
      "text/latex": [
       "TRUE"
      ],
      "text/markdown": [
       "TRUE"
      ],
      "text/plain": [
       "[1] TRUE"
      ]
     },
     "metadata": {},
     "output_type": "display_data"
    }
   ],
   "source": [
    "str_detect(\"helloJohnson\",\"hello\")"
   ]
  },
  {
   "cell_type": "code",
   "execution_count": 7,
   "id": "2f9e9feb-b407-4c8a-88c2-54dba8c0adfd",
   "metadata": {},
   "outputs": [],
   "source": [
    "tmp_file_path = \"../../../\"\n",
    "model_name = \"model7\"\n",
    "model_desc=\"_bloodEquiv\""
   ]
  },
  {
   "cell_type": "code",
   "execution_count": 8,
   "id": "a37e0f58-76ec-4580-be02-1c26412958ac",
   "metadata": {},
   "outputs": [],
   "source": [
    "all_data <- read.csv(paste(tmp_file_path,\"data/global/dataframes/\",model_name,\"/global_all_data_readyForPrediction\",model_desc,\".csv\",sep=\"\"))"
   ]
  },
  {
   "cell_type": "code",
   "execution_count": 9,
   "id": "1b515c00-b2db-487a-9e81-cd76b8ade251",
   "metadata": {},
   "outputs": [
    {
     "data": {
      "text/html": [
       "<style>\n",
       ".list-inline {list-style: none; margin:0; padding: 0}\n",
       ".list-inline>li {display: inline-block}\n",
       ".list-inline>li:not(:last-child)::after {content: \"\\00b7\"; padding: 0 .5ex}\n",
       "</style>\n",
       "<ol class=list-inline><li>'X'</li><li>'Chromosomechr10'</li><li>'Chromosomechr11'</li><li>'Chromosomechr12'</li><li>'Chromosomechr13'</li><li>'Chromosomechr14'</li><li>'Chromosomechr15'</li><li>'Chromosomechr16'</li><li>'Chromosomechr17'</li><li>'Chromosomechr18'</li><li>'Chromosomechr19'</li><li>'Chromosomechr2'</li><li>'Chromosomechr20'</li><li>'Chromosomechr21'</li><li>'Chromosomechr22'</li><li>'Chromosomechr3'</li><li>'Chromosomechr4'</li><li>'Chromosomechr5'</li><li>'Chromosomechr6'</li><li>'Chromosomechr7'</li><li>'Chromosomechr8'</li><li>'Chromosomechr9'</li><li>'tripletACC'</li><li>'tripletACG'</li><li>'tripletACT'</li><li>'tripletATA'</li><li>'tripletATC'</li><li>'tripletATG'</li><li>'tripletATT'</li><li>'tripletCCA'</li><li>'tripletCCC'</li><li>'tripletCCG'</li><li>'tripletCCT'</li><li>'tripletCTA'</li><li>'tripletCTC'</li><li>'tripletCTG'</li><li>'tripletCTT'</li><li>'tripletGCA'</li><li>'tripletGCC'</li><li>'tripletGCG'</li><li>'tripletGCT'</li><li>'tripletGTA'</li><li>'tripletGTC'</li><li>'tripletGTG'</li><li>'tripletGTT'</li><li>'tripletTCA'</li><li>'tripletTCC'</li><li>'tripletTCG'</li><li>'tripletTCT'</li><li>'tripletTTA'</li><li>'tripletTTC'</li><li>'tripletTTG'</li><li>'tripletTTT'</li><li>'H3k27.10000'</li><li>'H3k4me1.10000'</li><li>'H3k4me3.10000'</li><li>'DNAse.100'</li><li>'Transcription.10000'</li><li>'H3k36me3.10000'</li><li>'laminB1.0'</li><li>'laminB1.100'</li><li>'laminB1.10000'</li><li>'recombination.10000'</li><li>'Repeats.0'</li><li>'Repeats.10000'</li><li>'annotationregulatory'</li><li>'annotationtranscribed'</li><li>'annotationUTR3'</li><li>'annotationUTR5'</li><li>'dist_rep_org_main'</li><li>'dist_rep_org_all'</li><li>'CpGislandnot'</li><li>'CpGislandshore'</li><li>'GC_content.100'</li><li>'GC_content.10000'</li><li>'methylableyes'</li><li>'mutation_status'</li><li>'tissue'</li></ol>\n"
      ],
      "text/latex": [
       "\\begin{enumerate*}\n",
       "\\item 'X'\n",
       "\\item 'Chromosomechr10'\n",
       "\\item 'Chromosomechr11'\n",
       "\\item 'Chromosomechr12'\n",
       "\\item 'Chromosomechr13'\n",
       "\\item 'Chromosomechr14'\n",
       "\\item 'Chromosomechr15'\n",
       "\\item 'Chromosomechr16'\n",
       "\\item 'Chromosomechr17'\n",
       "\\item 'Chromosomechr18'\n",
       "\\item 'Chromosomechr19'\n",
       "\\item 'Chromosomechr2'\n",
       "\\item 'Chromosomechr20'\n",
       "\\item 'Chromosomechr21'\n",
       "\\item 'Chromosomechr22'\n",
       "\\item 'Chromosomechr3'\n",
       "\\item 'Chromosomechr4'\n",
       "\\item 'Chromosomechr5'\n",
       "\\item 'Chromosomechr6'\n",
       "\\item 'Chromosomechr7'\n",
       "\\item 'Chromosomechr8'\n",
       "\\item 'Chromosomechr9'\n",
       "\\item 'tripletACC'\n",
       "\\item 'tripletACG'\n",
       "\\item 'tripletACT'\n",
       "\\item 'tripletATA'\n",
       "\\item 'tripletATC'\n",
       "\\item 'tripletATG'\n",
       "\\item 'tripletATT'\n",
       "\\item 'tripletCCA'\n",
       "\\item 'tripletCCC'\n",
       "\\item 'tripletCCG'\n",
       "\\item 'tripletCCT'\n",
       "\\item 'tripletCTA'\n",
       "\\item 'tripletCTC'\n",
       "\\item 'tripletCTG'\n",
       "\\item 'tripletCTT'\n",
       "\\item 'tripletGCA'\n",
       "\\item 'tripletGCC'\n",
       "\\item 'tripletGCG'\n",
       "\\item 'tripletGCT'\n",
       "\\item 'tripletGTA'\n",
       "\\item 'tripletGTC'\n",
       "\\item 'tripletGTG'\n",
       "\\item 'tripletGTT'\n",
       "\\item 'tripletTCA'\n",
       "\\item 'tripletTCC'\n",
       "\\item 'tripletTCG'\n",
       "\\item 'tripletTCT'\n",
       "\\item 'tripletTTA'\n",
       "\\item 'tripletTTC'\n",
       "\\item 'tripletTTG'\n",
       "\\item 'tripletTTT'\n",
       "\\item 'H3k27.10000'\n",
       "\\item 'H3k4me1.10000'\n",
       "\\item 'H3k4me3.10000'\n",
       "\\item 'DNAse.100'\n",
       "\\item 'Transcription.10000'\n",
       "\\item 'H3k36me3.10000'\n",
       "\\item 'laminB1.0'\n",
       "\\item 'laminB1.100'\n",
       "\\item 'laminB1.10000'\n",
       "\\item 'recombination.10000'\n",
       "\\item 'Repeats.0'\n",
       "\\item 'Repeats.10000'\n",
       "\\item 'annotationregulatory'\n",
       "\\item 'annotationtranscribed'\n",
       "\\item 'annotationUTR3'\n",
       "\\item 'annotationUTR5'\n",
       "\\item 'dist\\_rep\\_org\\_main'\n",
       "\\item 'dist\\_rep\\_org\\_all'\n",
       "\\item 'CpGislandnot'\n",
       "\\item 'CpGislandshore'\n",
       "\\item 'GC\\_content.100'\n",
       "\\item 'GC\\_content.10000'\n",
       "\\item 'methylableyes'\n",
       "\\item 'mutation\\_status'\n",
       "\\item 'tissue'\n",
       "\\end{enumerate*}\n"
      ],
      "text/markdown": [
       "1. 'X'\n",
       "2. 'Chromosomechr10'\n",
       "3. 'Chromosomechr11'\n",
       "4. 'Chromosomechr12'\n",
       "5. 'Chromosomechr13'\n",
       "6. 'Chromosomechr14'\n",
       "7. 'Chromosomechr15'\n",
       "8. 'Chromosomechr16'\n",
       "9. 'Chromosomechr17'\n",
       "10. 'Chromosomechr18'\n",
       "11. 'Chromosomechr19'\n",
       "12. 'Chromosomechr2'\n",
       "13. 'Chromosomechr20'\n",
       "14. 'Chromosomechr21'\n",
       "15. 'Chromosomechr22'\n",
       "16. 'Chromosomechr3'\n",
       "17. 'Chromosomechr4'\n",
       "18. 'Chromosomechr5'\n",
       "19. 'Chromosomechr6'\n",
       "20. 'Chromosomechr7'\n",
       "21. 'Chromosomechr8'\n",
       "22. 'Chromosomechr9'\n",
       "23. 'tripletACC'\n",
       "24. 'tripletACG'\n",
       "25. 'tripletACT'\n",
       "26. 'tripletATA'\n",
       "27. 'tripletATC'\n",
       "28. 'tripletATG'\n",
       "29. 'tripletATT'\n",
       "30. 'tripletCCA'\n",
       "31. 'tripletCCC'\n",
       "32. 'tripletCCG'\n",
       "33. 'tripletCCT'\n",
       "34. 'tripletCTA'\n",
       "35. 'tripletCTC'\n",
       "36. 'tripletCTG'\n",
       "37. 'tripletCTT'\n",
       "38. 'tripletGCA'\n",
       "39. 'tripletGCC'\n",
       "40. 'tripletGCG'\n",
       "41. 'tripletGCT'\n",
       "42. 'tripletGTA'\n",
       "43. 'tripletGTC'\n",
       "44. 'tripletGTG'\n",
       "45. 'tripletGTT'\n",
       "46. 'tripletTCA'\n",
       "47. 'tripletTCC'\n",
       "48. 'tripletTCG'\n",
       "49. 'tripletTCT'\n",
       "50. 'tripletTTA'\n",
       "51. 'tripletTTC'\n",
       "52. 'tripletTTG'\n",
       "53. 'tripletTTT'\n",
       "54. 'H3k27.10000'\n",
       "55. 'H3k4me1.10000'\n",
       "56. 'H3k4me3.10000'\n",
       "57. 'DNAse.100'\n",
       "58. 'Transcription.10000'\n",
       "59. 'H3k36me3.10000'\n",
       "60. 'laminB1.0'\n",
       "61. 'laminB1.100'\n",
       "62. 'laminB1.10000'\n",
       "63. 'recombination.10000'\n",
       "64. 'Repeats.0'\n",
       "65. 'Repeats.10000'\n",
       "66. 'annotationregulatory'\n",
       "67. 'annotationtranscribed'\n",
       "68. 'annotationUTR3'\n",
       "69. 'annotationUTR5'\n",
       "70. 'dist_rep_org_main'\n",
       "71. 'dist_rep_org_all'\n",
       "72. 'CpGislandnot'\n",
       "73. 'CpGislandshore'\n",
       "74. 'GC_content.100'\n",
       "75. 'GC_content.10000'\n",
       "76. 'methylableyes'\n",
       "77. 'mutation_status'\n",
       "78. 'tissue'\n",
       "\n",
       "\n"
      ],
      "text/plain": [
       " [1] \"X\"                     \"Chromosomechr10\"       \"Chromosomechr11\"      \n",
       " [4] \"Chromosomechr12\"       \"Chromosomechr13\"       \"Chromosomechr14\"      \n",
       " [7] \"Chromosomechr15\"       \"Chromosomechr16\"       \"Chromosomechr17\"      \n",
       "[10] \"Chromosomechr18\"       \"Chromosomechr19\"       \"Chromosomechr2\"       \n",
       "[13] \"Chromosomechr20\"       \"Chromosomechr21\"       \"Chromosomechr22\"      \n",
       "[16] \"Chromosomechr3\"        \"Chromosomechr4\"        \"Chromosomechr5\"       \n",
       "[19] \"Chromosomechr6\"        \"Chromosomechr7\"        \"Chromosomechr8\"       \n",
       "[22] \"Chromosomechr9\"        \"tripletACC\"            \"tripletACG\"           \n",
       "[25] \"tripletACT\"            \"tripletATA\"            \"tripletATC\"           \n",
       "[28] \"tripletATG\"            \"tripletATT\"            \"tripletCCA\"           \n",
       "[31] \"tripletCCC\"            \"tripletCCG\"            \"tripletCCT\"           \n",
       "[34] \"tripletCTA\"            \"tripletCTC\"            \"tripletCTG\"           \n",
       "[37] \"tripletCTT\"            \"tripletGCA\"            \"tripletGCC\"           \n",
       "[40] \"tripletGCG\"            \"tripletGCT\"            \"tripletGTA\"           \n",
       "[43] \"tripletGTC\"            \"tripletGTG\"            \"tripletGTT\"           \n",
       "[46] \"tripletTCA\"            \"tripletTCC\"            \"tripletTCG\"           \n",
       "[49] \"tripletTCT\"            \"tripletTTA\"            \"tripletTTC\"           \n",
       "[52] \"tripletTTG\"            \"tripletTTT\"            \"H3k27.10000\"          \n",
       "[55] \"H3k4me1.10000\"         \"H3k4me3.10000\"         \"DNAse.100\"            \n",
       "[58] \"Transcription.10000\"   \"H3k36me3.10000\"        \"laminB1.0\"            \n",
       "[61] \"laminB1.100\"           \"laminB1.10000\"         \"recombination.10000\"  \n",
       "[64] \"Repeats.0\"             \"Repeats.10000\"         \"annotationregulatory\" \n",
       "[67] \"annotationtranscribed\" \"annotationUTR3\"        \"annotationUTR5\"       \n",
       "[70] \"dist_rep_org_main\"     \"dist_rep_org_all\"      \"CpGislandnot\"         \n",
       "[73] \"CpGislandshore\"        \"GC_content.100\"        \"GC_content.10000\"     \n",
       "[76] \"methylableyes\"         \"mutation_status\"       \"tissue\"               "
      ]
     },
     "metadata": {},
     "output_type": "display_data"
    }
   ],
   "source": [
    "colnames(all_data)"
   ]
  },
  {
   "cell_type": "code",
   "execution_count": 43,
   "id": "9fafda01-ca1d-4ecd-b05b-da388fdff1cc",
   "metadata": {
    "collapsed": true,
    "jupyter": {
     "outputs_hidden": true
    },
    "tags": []
   },
   "outputs": [
    {
     "name": "stderr",
     "output_type": "stream",
     "text": [
      "`stat_bin()` using `bins = 30`. Pick better value with `binwidth`.\n",
      "\n"
     ]
    },
    {
     "data": {
      "image/png": "[encoded data removed]",
      "text/plain": [
       "plot without title"
      ]
     },
     "metadata": {
      "image/png": {
       "height": 420,
       "width": 420
      }
     },
     "output_type": "display_data"
    }
   ],
   "source": [
    "ggplot(all_data,aes(x=H3k4me3.10000,fill=tissue,color=tissue))+\n",
    "    geom_histogram(position=\"dodge\")+\n",
    "#     geom_density()\n",
    "    ggtitle(\"H3k4me3.10000 histogram\")"
   ]
  },
  {
   "cell_type": "code",
   "execution_count": 34,
   "id": "fe9f2c1b-a47f-4d6e-bd82-597c87aafbd2",
   "metadata": {
    "tags": []
   },
   "outputs": [],
   "source": [
    "all_data_noMuts <- all_data %>% filter(mutation_status==0)\n",
    "all_data_onlyMuts <- all_data %>% filter(mutation_status==1)"
   ]
  },
  {
   "cell_type": "code",
   "execution_count": 43,
   "id": "ad64c7ba-8a2d-486a-ae88-97d8208a38e1",
   "metadata": {
    "collapsed": true,
    "jupyter": {
     "outputs_hidden": true
    },
    "tags": []
   },
   "outputs": [
    {
     "name": "stderr",
     "output_type": "stream",
     "text": [
      "`stat_bin()` using `bins = 30`. Pick better value with `binwidth`.\n",
      "\n",
      "`stat_bin()` using `bins = 30`. Pick better value with `binwidth`.\n",
      "\n",
      "`stat_bin()` using `bins = 30`. Pick better value with `binwidth`.\n",
      "\n",
      "`stat_bin()` using `bins = 30`. Pick better value with `binwidth`.\n",
      "\n",
      "`stat_bin()` using `bins = 30`. Pick better value with `binwidth`.\n",
      "\n",
      "`stat_bin()` using `bins = 30`. Pick better value with `binwidth`.\n",
      "\n",
      "`stat_bin()` using `bins = 30`. Pick better value with `binwidth`.\n",
      "\n",
      "`stat_bin()` using `bins = 30`. Pick better value with `binwidth`.\n",
      "\n",
      "`stat_bin()` using `bins = 30`. Pick better value with `binwidth`.\n",
      "\n",
      "`stat_bin()` using `bins = 30`. Pick better value with `binwidth`.\n",
      "\n",
      "`stat_bin()` using `bins = 30`. Pick better value with `binwidth`.\n",
      "\n",
      "`stat_bin()` using `bins = 30`. Pick better value with `binwidth`.\n",
      "\n",
      "`stat_bin()` using `bins = 30`. Pick better value with `binwidth`.\n",
      "\n",
      "`stat_bin()` using `bins = 30`. Pick better value with `binwidth`.\n",
      "\n",
      "`stat_bin()` using `bins = 30`. Pick better value with `binwidth`.\n",
      "\n",
      "`stat_bin()` using `bins = 30`. Pick better value with `binwidth`.\n",
      "\n",
      "`stat_bin()` using `bins = 30`. Pick better value with `binwidth`.\n",
      "\n",
      "`stat_bin()` using `bins = 30`. Pick better value with `binwidth`.\n",
      "\n",
      "`stat_bin()` using `bins = 30`. Pick better value with `binwidth`.\n",
      "\n",
      "`stat_bin()` using `bins = 30`. Pick better value with `binwidth`.\n",
      "\n",
      "`stat_bin()` using `bins = 30`. Pick better value with `binwidth`.\n",
      "\n"
     ]
    }
   ],
   "source": [
    "p1 <- ggplot(all_data,aes(x=H3k27.10000,fill=tissue,color=tissue))+geom_histogram(position=\"dodge\")+ggtitle(\"H3k27ac.10000 histogram all sites\")\n",
    "p2 <- ggplot(all_data_noMuts,aes(x=H3k27.10000,fill=tissue,color=tissue))+geom_histogram(position=\"dodge\")+ggtitle(\"H3k27ac.10000 histogram no muts\")\n",
    "p3 <- ggplot(all_data_onlyMuts,aes(x=H3k27.10000,fill=tissue,color=tissue))+geom_histogram(position=\"dodge\")+ggtitle(\"H3k27ac.10000 histogram only muts\")\n",
    "\n",
    "p4 <- ggplot(all_data,aes(x=H3k4me1.10000,fill=tissue,color=tissue))+geom_histogram(position=\"dodge\")+ggtitle(\"H3k4me1.10000 histogram all sites\")\n",
    "p5 <- ggplot(all_data_noMuts,aes(x=H3k4me1.10000,fill=tissue,color=tissue))+geom_histogram(position=\"dodge\")+ggtitle(\"H3k4me1.10000 histogram no muts\")\n",
    "p6 <- ggplot(all_data_onlyMuts,aes(x=H3k4me1.10000,fill=tissue,color=tissue))+geom_histogram(position=\"dodge\")+ggtitle(\"H3k4me1.10000 histogram only muts\")\n",
    "\n",
    "p7 <- ggplot(all_data,aes(x=H3k4me3.10000,fill=tissue,color=tissue))+geom_histogram(position=\"dodge\")+ggtitle(\"H3k4me3.10000 histogram all sites\")\n",
    "p8 <- ggplot(all_data_noMuts,aes(x=H3k4me3.10000,fill=tissue,color=tissue))+geom_histogram(position=\"dodge\")+ggtitle(\"H3k4me3.10000 histogram no muts\")\n",
    "p9 <- ggplot(all_data_onlyMuts,aes(x=H3k4me3.10000,fill=tissue,color=tissue))+geom_histogram(position=\"dodge\")+ggtitle(\"H3k4me3.10000 histogram only muts\")\n",
    "\n",
    "p10 <- ggplot(all_data,aes(x=H3k36me3.10000,fill=tissue,color=tissue))+geom_histogram(position=\"dodge\")+ggtitle(\"H3k36me3.10000 histogram all sites\")\n",
    "p11 <- ggplot(all_data_noMuts,aes(x=H3k36me3.10000,fill=tissue,color=tissue))+geom_histogram(position=\"dodge\")+ggtitle(\"H3k36me3.10000 histogram no muts\")\n",
    "p12 <- ggplot(all_data_onlyMuts,aes(x=H3k36me3.10000,fill=tissue,color=tissue))+geom_histogram(position=\"dodge\")+ggtitle(\"H3k36me3.10000 histogram only muts\")\n",
    "\n",
    "p13 <- ggplot(all_data,aes(x=Transcription.10000,fill=tissue,color=tissue))+geom_histogram(position=\"dodge\")+ggtitle(\"Transcription.10000 histogram all sites\")\n",
    "p14 <- ggplot(all_data_noMuts,aes(x=Transcription.10000,fill=tissue,color=tissue))+geom_histogram(position=\"dodge\")+ggtitle(\"Transcription.10000 histogram no muts\")\n",
    "p15 <- ggplot(all_data_onlyMuts,aes(x=Transcription.10000,fill=tissue,color=tissue))+geom_histogram(position=\"dodge\")+ggtitle(\"Transcription.10000 histogram only muts\")\n",
    "\n",
    "p16 <- ggplot(all_data,aes(x=DNAse.100,fill=tissue,color=tissue))+geom_histogram(position=\"dodge\")+ggtitle(\"DNAse.100 histogram all sites\")\n",
    "p17 <- ggplot(all_data_noMuts,aes(x=DNAse.100,fill=tissue,color=tissue))+geom_histogram(position=\"dodge\")+ggtitle(\"DNAse.100 histogram no muts\")\n",
    "p18 <- ggplot(all_data_onlyMuts,aes(x=DNAse.100,fill=tissue,color=tissue))+geom_histogram(position=\"dodge\")+ggtitle(\"DNAse.100 histogram only muts\")\n",
    "\n",
    "p19 <- ggplot(all_data,aes(x=laminB1.0,fill=tissue,color=tissue))+geom_histogram(position=\"dodge\")+ggtitle(\"LaminB1.0 histogram all sites\")\n",
    "p20 <- ggplot(all_data_noMuts,aes(x=laminB1.0,fill=tissue,color=tissue))+geom_histogram(position=\"dodge\")+ggtitle(\"LaminB1.0 histogram no muts\")\n",
    "p21 <- ggplot(all_data_onlyMuts,aes(x=laminB1.0,fill=tissue,color=tissue))+geom_histogram(position=\"dodge\")+ggtitle(\"LaminB1.0 histogram only muts\")\n",
    "\n",
    "p <- p1+p2+p3+p4+p5+p6+p7+p8+p9+p10+p11+p12+p13+p14+p15+p16+p17+p18+p19+p20+p21+plot_layout(ncol = 3)#https://patchwork.data-imaginist.com/articles/guides/layout.html\n",
    "ggsave(plot = p, width = 15, height = 35, dpi = 300, filename=paste(tmp_file_path,\"analysis/global/plots/\",model_name,\"/multiCompPredDistributions_dodge\",model_desc,\".pdf\",sep=\"\"))\n"
   ]
  },
  {
   "cell_type": "markdown",
   "id": "3a33c379-57e9-4861-82fc-084efb6f3c5b",
   "metadata": {},
   "source": [
    "# **now plot mut vs non mut for each tissue and each preidctor seperately**"
   ]
  },
  {
   "cell_type": "code",
   "execution_count": 4,
   "id": "ebebee59-08e4-4c27-93a0-9138912842dc",
   "metadata": {},
   "outputs": [],
   "source": [
    "all_data <- read.csv(paste(tmp_file_path,\"data/global/dataframes/\",model_name,\"/global_all_data_readyForPrediction\",model_desc,\".csv\",sep=\"\"))"
   ]
  },
  {
   "cell_type": "code",
   "execution_count": 58,
   "id": "c407ab74-44b8-4ce6-9bdd-a39dabd22a13",
   "metadata": {},
   "outputs": [
    {
     "name": "stderr",
     "output_type": "stream",
     "text": [
      "`stat_bin()` using `bins = 30`. Pick better value with `binwidth`.\n",
      "\n"
     ]
    },
    {
     "name": "stdout",
     "output_type": "stream",
     "text": [
      "[1] \"H3k27.10000 skin\"\n"
     ]
    },
    {
     "name": "stderr",
     "output_type": "stream",
     "text": [
      "`stat_bin()` using `bins = 30`. Pick better value with `binwidth`.\n",
      "\n"
     ]
    },
    {
     "name": "stdout",
     "output_type": "stream",
     "text": [
      "[1] \"H3k27.10000 blood\"\n"
     ]
    },
    {
     "name": "stderr",
     "output_type": "stream",
     "text": [
      "`stat_bin()` using `bins = 30`. Pick better value with `binwidth`.\n",
      "\n"
     ]
    },
    {
     "name": "stdout",
     "output_type": "stream",
     "text": [
      "[1] \"H3k27.10000 liver\"\n"
     ]
    },
    {
     "name": "stderr",
     "output_type": "stream",
     "text": [
      "`stat_bin()` using `bins = 30`. Pick better value with `binwidth`.\n",
      "\n"
     ]
    },
    {
     "name": "stdout",
     "output_type": "stream",
     "text": [
      "[1] \"H3k27.10000 germline\"\n"
     ]
    },
    {
     "name": "stderr",
     "output_type": "stream",
     "text": [
      "`stat_bin()` using `bins = 30`. Pick better value with `binwidth`.\n",
      "\n"
     ]
    },
    {
     "name": "stdout",
     "output_type": "stream",
     "text": [
      "[1] \"H3k4me1.10000 skin\"\n"
     ]
    },
    {
     "name": "stderr",
     "output_type": "stream",
     "text": [
      "`stat_bin()` using `bins = 30`. Pick better value with `binwidth`.\n",
      "\n"
     ]
    },
    {
     "name": "stdout",
     "output_type": "stream",
     "text": [
      "[1] \"H3k4me1.10000 blood\"\n"
     ]
    },
    {
     "name": "stderr",
     "output_type": "stream",
     "text": [
      "`stat_bin()` using `bins = 30`. Pick better value with `binwidth`.\n",
      "\n"
     ]
    },
    {
     "name": "stdout",
     "output_type": "stream",
     "text": [
      "[1] \"H3k4me1.10000 liver\"\n"
     ]
    },
    {
     "name": "stderr",
     "output_type": "stream",
     "text": [
      "`stat_bin()` using `bins = 30`. Pick better value with `binwidth`.\n",
      "\n"
     ]
    },
    {
     "name": "stdout",
     "output_type": "stream",
     "text": [
      "[1] \"H3k4me1.10000 germline\"\n"
     ]
    },
    {
     "name": "stderr",
     "output_type": "stream",
     "text": [
      "`stat_bin()` using `bins = 30`. Pick better value with `binwidth`.\n",
      "\n"
     ]
    },
    {
     "name": "stdout",
     "output_type": "stream",
     "text": [
      "[1] \"H3k4me3.10000 skin\"\n"
     ]
    },
    {
     "name": "stderr",
     "output_type": "stream",
     "text": [
      "`stat_bin()` using `bins = 30`. Pick better value with `binwidth`.\n",
      "\n"
     ]
    },
    {
     "name": "stdout",
     "output_type": "stream",
     "text": [
      "[1] \"H3k4me3.10000 blood\"\n"
     ]
    },
    {
     "name": "stderr",
     "output_type": "stream",
     "text": [
      "`stat_bin()` using `bins = 30`. Pick better value with `binwidth`.\n",
      "\n"
     ]
    },
    {
     "name": "stdout",
     "output_type": "stream",
     "text": [
      "[1] \"H3k4me3.10000 liver\"\n"
     ]
    },
    {
     "name": "stderr",
     "output_type": "stream",
     "text": [
      "`stat_bin()` using `bins = 30`. Pick better value with `binwidth`.\n",
      "\n"
     ]
    },
    {
     "name": "stdout",
     "output_type": "stream",
     "text": [
      "[1] \"H3k4me3.10000 germline\"\n"
     ]
    },
    {
     "name": "stderr",
     "output_type": "stream",
     "text": [
      "`stat_bin()` using `bins = 30`. Pick better value with `binwidth`.\n",
      "\n"
     ]
    },
    {
     "name": "stdout",
     "output_type": "stream",
     "text": [
      "[1] \"DNAse.100 skin\"\n"
     ]
    },
    {
     "name": "stderr",
     "output_type": "stream",
     "text": [
      "`stat_bin()` using `bins = 30`. Pick better value with `binwidth`.\n",
      "\n"
     ]
    },
    {
     "name": "stdout",
     "output_type": "stream",
     "text": [
      "[1] \"DNAse.100 blood\"\n"
     ]
    },
    {
     "name": "stderr",
     "output_type": "stream",
     "text": [
      "`stat_bin()` using `bins = 30`. Pick better value with `binwidth`.\n",
      "\n"
     ]
    },
    {
     "name": "stdout",
     "output_type": "stream",
     "text": [
      "[1] \"DNAse.100 liver\"\n"
     ]
    },
    {
     "name": "stderr",
     "output_type": "stream",
     "text": [
      "`stat_bin()` using `bins = 30`. Pick better value with `binwidth`.\n",
      "\n"
     ]
    },
    {
     "name": "stdout",
     "output_type": "stream",
     "text": [
      "[1] \"DNAse.100 germline\"\n"
     ]
    },
    {
     "name": "stderr",
     "output_type": "stream",
     "text": [
      "`stat_bin()` using `bins = 30`. Pick better value with `binwidth`.\n",
      "\n"
     ]
    },
    {
     "name": "stdout",
     "output_type": "stream",
     "text": [
      "[1] \"Transcription.10000 skin\"\n"
     ]
    },
    {
     "name": "stderr",
     "output_type": "stream",
     "text": [
      "`stat_bin()` using `bins = 30`. Pick better value with `binwidth`.\n",
      "\n"
     ]
    },
    {
     "name": "stdout",
     "output_type": "stream",
     "text": [
      "[1] \"Transcription.10000 blood\"\n"
     ]
    },
    {
     "name": "stderr",
     "output_type": "stream",
     "text": [
      "`stat_bin()` using `bins = 30`. Pick better value with `binwidth`.\n",
      "\n"
     ]
    },
    {
     "name": "stdout",
     "output_type": "stream",
     "text": [
      "[1] \"Transcription.10000 liver\"\n"
     ]
    },
    {
     "name": "stderr",
     "output_type": "stream",
     "text": [
      "`stat_bin()` using `bins = 30`. Pick better value with `binwidth`.\n",
      "\n"
     ]
    },
    {
     "name": "stdout",
     "output_type": "stream",
     "text": [
      "[1] \"Transcription.10000 germline\"\n"
     ]
    },
    {
     "name": "stderr",
     "output_type": "stream",
     "text": [
      "`stat_bin()` using `bins = 30`. Pick better value with `binwidth`.\n",
      "\n"
     ]
    },
    {
     "name": "stdout",
     "output_type": "stream",
     "text": [
      "[1] \"H3k36me3.10000 skin\"\n"
     ]
    },
    {
     "name": "stderr",
     "output_type": "stream",
     "text": [
      "`stat_bin()` using `bins = 30`. Pick better value with `binwidth`.\n",
      "\n"
     ]
    },
    {
     "name": "stdout",
     "output_type": "stream",
     "text": [
      "[1] \"H3k36me3.10000 blood\"\n"
     ]
    },
    {
     "name": "stderr",
     "output_type": "stream",
     "text": [
      "`stat_bin()` using `bins = 30`. Pick better value with `binwidth`.\n",
      "\n"
     ]
    },
    {
     "name": "stdout",
     "output_type": "stream",
     "text": [
      "[1] \"H3k36me3.10000 liver\"\n"
     ]
    },
    {
     "name": "stderr",
     "output_type": "stream",
     "text": [
      "`stat_bin()` using `bins = 30`. Pick better value with `binwidth`.\n",
      "\n"
     ]
    },
    {
     "name": "stdout",
     "output_type": "stream",
     "text": [
      "[1] \"H3k36me3.10000 germline\"\n"
     ]
    },
    {
     "name": "stderr",
     "output_type": "stream",
     "text": [
      "`stat_bin()` using `bins = 30`. Pick better value with `binwidth`.\n",
      "\n"
     ]
    },
    {
     "name": "stdout",
     "output_type": "stream",
     "text": [
      "[1] \"laminB1.0 skin\"\n"
     ]
    },
    {
     "name": "stderr",
     "output_type": "stream",
     "text": [
      "`stat_bin()` using `bins = 30`. Pick better value with `binwidth`.\n",
      "\n"
     ]
    },
    {
     "name": "stdout",
     "output_type": "stream",
     "text": [
      "[1] \"laminB1.0 blood\"\n"
     ]
    },
    {
     "name": "stderr",
     "output_type": "stream",
     "text": [
      "`stat_bin()` using `bins = 30`. Pick better value with `binwidth`.\n",
      "\n"
     ]
    },
    {
     "name": "stdout",
     "output_type": "stream",
     "text": [
      "[1] \"laminB1.0 liver\"\n"
     ]
    },
    {
     "name": "stderr",
     "output_type": "stream",
     "text": [
      "`stat_bin()` using `bins = 30`. Pick better value with `binwidth`.\n",
      "\n"
     ]
    },
    {
     "name": "stdout",
     "output_type": "stream",
     "text": [
      "[1] \"laminB1.0 germline\"\n"
     ]
    },
    {
     "data": {
      "text/html": [
       "<strong>png:</strong> 2"
      ],
      "text/latex": [
       "\\textbf{png:} 2"
      ],
      "text/markdown": [
       "**png:** 2"
      ],
      "text/plain": [
       "png \n",
       "  2 "
      ]
     },
     "metadata": {},
     "output_type": "display_data"
    }
   ],
   "source": [
    "all_data$mutation_status<-as.factor(all_data$mutation_status)\n",
    "tissues = c(\"skin\",\"blood\",\"liver\",\"germline\")\n",
    "preds_to_plot <- c('H3k27.10000','H3k4me1.10000','H3k4me3.10000','DNAse.100','Transcription.10000','H3k36me3.10000','laminB1.0')\n",
    "pdf(paste(tmp_file_path,\"analysis/global/plots/\",model_name,\"/multiCompPredDistributions_dodge\",model_desc,\"_mutVsNonDirectComp.pdf\",sep=\"\"))\n",
    "for (predictor in preds_to_plot){\n",
    "    for (i in c(1:length(tissues))){\n",
    "        tissue = tissues[i]\n",
    "        p<- print(ggplot(all_data[all_data$tissue==\"blood\",],aes_string(x=predictor,color=\"mutation_status\", fill=\"mutation_status\"))+#https://www.rdocumentation.org/packages/ggplot2/versions/1.0.0/topics/aes_string\n",
    "            geom_histogram(position=\"dodge\")+\n",
    "        #     geom_density()\n",
    "            ggtitle(paste(predictor, tissue,\"histogram\")))\n",
    "        print(paste(predictor,tissue))\n",
    "}}\n",
    "dev.off()"
   ]
  }
 ],
 "metadata": {
  "kernelspec": {
   "display_name": "R [conda env:.conda-mutability] *",
   "language": "R",
   "name": "conda-env-.conda-mutability-r"
  },
  "language_info": {
   "codemirror_mode": "r",
   "file_extension": ".r",
   "mimetype": "text/x-r-source",
   "name": "R",
   "pygments_lexer": "r",
   "version": "4.0.5"
  }
 },
 "nbformat": 4,
 "nbformat_minor": 5
}
