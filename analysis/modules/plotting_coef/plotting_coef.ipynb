{
 "cells": [
  {
   "cell_type": "code",
   "execution_count": 1,
   "id": "ab22d171-bc92-4352-a22d-aeda3cff3124",
   "metadata": {},
   "outputs": [
    {
     "name": "stderr",
     "output_type": "stream",
     "text": [
      "\n",
      "Attaching package: ‘dplyr’\n",
      "\n",
      "\n",
      "The following objects are masked from ‘package:stats’:\n",
      "\n",
      "    filter, lag\n",
      "\n",
      "\n",
      "The following objects are masked from ‘package:base’:\n",
      "\n",
      "    intersect, setdiff, setequal, union\n",
      "\n",
      "\n"
     ]
    }
   ],
   "source": [
    "library(dplyr)\n",
    "library(ggplot2)\n",
    "library(stringr)\n"
   ]
  },
  {
   "cell_type": "markdown",
   "id": "fb492829-da81-4387-a369-7c93d07759db",
   "metadata": {},
   "source": [
    "# **scatter plot and compare all tissue coefs**"
   ]
  },
  {
   "cell_type": "code",
   "execution_count": 2,
   "id": "ecf4062a-3405-4cf9-887a-a01a47544ebd",
   "metadata": {},
   "outputs": [],
   "source": [
    "tmp_file_path = \"../../../\""
   ]
  },
  {
   "cell_type": "code",
   "execution_count": 127,
   "id": "42af7233-f505-47e4-a058-35229e20071a",
   "metadata": {},
   "outputs": [],
   "source": [
    "# args = commandArgs(trailingOnly=TRUE)\n",
    "# tissue = args[1]\n",
    "# tissue_predOn = args[2]\n",
    "# model_name = args[3]\n",
    "tissue = \"germline\"\n",
    "tissue_predOn = \"blood\"\n",
    "model_name = \"model3\"\n",
    "\n",
    "\n",
    "#reading in data\n",
    "if (tissue_predOn ==\"liver\"){ #oif conditional as different files to compare to liver \n",
    "    tissue_coefs <- read.csv(paste(tmp_file_path,\"data/\",tissue,\"/dataframes/\",model_name,\"/\",tissue,\"_onLiver_coefDF_bootstrap.csv\",sep=\"\"))\n",
    "}else{tissue_coefs <- read.csv(paste(tmp_file_path,\"data/\",tissue,\"/dataframes/\",model_name,\"/\",tissue,\"_coefDF_bootstrap.csv\",sep=\"\"))}\n",
    "if (tissue==\"liver\"){\n",
    "   tissue_predOn_coefs <- read.csv(paste(tmp_file_path,\"data/\",tissue_predOn,\"/dataframes/\",model_name,\"/\",tissue_predOn,\"_onLiver_coefDF_bootstrap.csv\",sep=\"\"))\n",
    "}else{tissue_predOn_coefs <- read.csv(paste(tmp_file_path,\"data/\",tissue_predOn,\"/dataframes/\",model_name,\"/\",tissue_predOn,\"_coefDF_bootstrap.csv\",sep=\"\"))}\n"
   ]
  },
  {
   "cell_type": "code",
   "execution_count": 128,
   "id": "645b85ad-36eb-4eb7-b50d-74bee35335ec",
   "metadata": {},
   "outputs": [],
   "source": [
    "tissue_coefs_reduced <- data.frame(tissue_coefs$name, tissue_coefs$mean_est,tissue_coefs$quant025,tissue_coefs$quant975)\n",
    "tissue_predOn_coefs_reduced <-data.frame(tissue_predOn_coefs$name,tissue_predOn_coefs$mean_est,tissue_predOn_coefs$quant025,tissue_predOn_coefs$quant975)\n",
    "colnames(tissue_coefs_reduced) <- c(\"name\",'tissue_est','tissue_quant025','tissue_quant975')\n",
    "colnames(tissue_predOn_coefs_reduced) <- c(\"name\",'tissue_predOn_est','tissue_predOn_quant025','tissue_predOn_quant975')\n",
    "all_coefs <- merge(tissue_coefs_reduced,tissue_predOn_coefs_reduced,on=\"name\",all=T)#for some reason the dim b/t germ and blood are different so need a merge... \n",
    "colnames(all_coefs) <- c(\"name\",\"tissue_est\",\"tissue_quant025\",\"tissue_quant975\",\"tissue_predON_est\",\"tissue_predON_quant025\",\"tissue_predON_quant975\")"
   ]
  },
  {
   "cell_type": "code",
   "execution_count": 129,
   "id": "9afbd410-b19c-4746-ae49-25ccdb61a3fd",
   "metadata": {},
   "outputs": [],
   "source": [
    "#create col that categorizes \n",
    "all_coefs<-all_coefs %>%\n",
    "    mutate(type = case_when(        \n",
    "        str_detect(name, 'percent') ~ 'sequence',\n",
    "        str_detect(name, 'Chromosome') ~ 'sequence',\n",
    "        str_detect(name, 'Repeats') ~ 'sequence',\n",
    "        str_detect(name, 'site') ~ 'sequence',\n",
    "        str_detect(name, 'annot') ~ 'sequence',\n",
    "        str_detect(name, 'content') ~ 'sequence',\n",
    "        \n",
    "        str_detect(name, 'triplet') ~ 'triplet',\n",
    "        \n",
    "        str_detect(name, 'DNAse') ~ 'tissue specific',\n",
    "        str_detect(name, 'Transcription') ~ 'tissue specific',\n",
    "        str_detect(name, 'H3k') ~ 'tissue specific',\n",
    "        \n",
    "        str_detect(name, 'recomb') ~ 'global',\n",
    "        str_detect(name, 'lamin') ~ 'global',\n",
    "        str_detect(name, 'Replication') ~ 'global',\n",
    "    ))"
   ]
  },
  {
   "cell_type": "code",
   "execution_count": 130,
   "id": "add00ef4-5ffc-4138-a966-4a4e54d3d88b",
   "metadata": {},
   "outputs": [],
   "source": [
    "all_sign_coefs <- filter(all_coefs[order(-all_coefs$tissue_est),],(tissue_quant025*tissue_quant975>0)&(tissue_predON_quant025*tissue_predON_quant975>0))"
   ]
  },
  {
   "cell_type": "code",
   "execution_count": 133,
   "id": "4aba5251-b2e4-4e91-b69e-7edfabcd97e4",
   "metadata": {},
   "outputs": [
    {
     "data": {
      "text/html": [
       "'germline'"
      ],
      "text/latex": [
       "'germline'"
      ],
      "text/markdown": [
       "'germline'"
      ],
      "text/plain": [
       "[1] \"germline\""
      ]
     },
     "metadata": {},
     "output_type": "display_data"
    },
    {
     "data": {
      "text/html": [
       "'blood'"
      ],
      "text/latex": [
       "'blood'"
      ],
      "text/markdown": [
       "'blood'"
      ],
      "text/plain": [
       "[1] \"blood\""
      ]
     },
     "metadata": {},
     "output_type": "display_data"
    }
   ],
   "source": [
    "tissue\n",
    "tissue_predOn"
   ]
  },
  {
   "cell_type": "code",
   "execution_count": 134,
   "id": "fc89ae35-c419-479e-8ce0-324cef5c36a4",
   "metadata": {},
   "outputs": [
    {
     "data": {
      "text/html": [
       "<table class=\"dataframe\">\n",
       "<caption>A data.frame: 9 × 8</caption>\n",
       "<thead>\n",
       "\t<tr><th scope=col>name</th><th scope=col>tissue_est</th><th scope=col>tissue_quant025</th><th scope=col>tissue_quant975</th><th scope=col>tissue_predON_est</th><th scope=col>tissue_predON_quant025</th><th scope=col>tissue_predON_quant975</th><th scope=col>type</th></tr>\n",
       "\t<tr><th scope=col>&lt;chr&gt;</th><th scope=col>&lt;dbl&gt;</th><th scope=col>&lt;dbl&gt;</th><th scope=col>&lt;dbl&gt;</th><th scope=col>&lt;dbl&gt;</th><th scope=col>&lt;dbl&gt;</th><th scope=col>&lt;dbl&gt;</th><th scope=col>&lt;chr&gt;</th></tr>\n",
       "</thead>\n",
       "<tbody>\n",
       "\t<tr><td>Chromosomechr19    </td><td> 0.066487005</td><td>-0.01238676</td><td>0.155859802</td><td> 0.36851760</td><td> 0.018956234</td><td> 0.832334999</td><td>sequence       </td></tr>\n",
       "\t<tr><td>Chromosomechr20    </td><td> 0.036471102</td><td>-0.05156981</td><td>0.132216282</td><td> 0.44324949</td><td> 0.160226107</td><td> 0.792715465</td><td>sequence       </td></tr>\n",
       "\t<tr><td>Chromosomechr21    </td><td> 0.002166763</td><td>-0.13113256</td><td>0.114247555</td><td> 0.42719965</td><td> 0.004402058</td><td> 0.899433761</td><td>sequence       </td></tr>\n",
       "\t<tr><td>GC_content.10000   </td><td>-0.010392395</td><td>-0.03155040</td><td>0.009291421</td><td>-0.08589732</td><td>-0.164467911</td><td>-0.007996150</td><td>sequence       </td></tr>\n",
       "\t<tr><td>Transcription.10000</td><td>-0.011739381</td><td>-0.02740300</td><td>0.004818527</td><td>-0.07188264</td><td>-0.138487768</td><td>-0.002236279</td><td>tissue specific</td></tr>\n",
       "\t<tr><td>Repeats.1          </td><td>-0.015958957</td><td>-0.03467457</td><td>0.004662653</td><td> 0.28654529</td><td> 0.181391034</td><td> 0.409815863</td><td>sequence       </td></tr>\n",
       "\t<tr><td>tripletATG         </td><td>-0.019399092</td><td>-0.13324507</td><td>0.074782391</td><td>-0.98235118</td><td>-1.249375618</td><td>-0.669486140</td><td>triplet        </td></tr>\n",
       "\t<tr><td>tripletACT         </td><td>-0.058264082</td><td>-0.13279570</td><td>0.024519968</td><td>-0.59173191</td><td>-0.869105811</td><td>-0.297949852</td><td>triplet        </td></tr>\n",
       "\t<tr><td>tripletATA         </td><td>-0.058334648</td><td>-0.15778474</td><td>0.024169622</td><td>-1.13280742</td><td>-1.440290379</td><td>-0.844108491</td><td>triplet        </td></tr>\n",
       "</tbody>\n",
       "</table>\n"
      ],
      "text/latex": [
       "A data.frame: 9 × 8\n",
       "\\begin{tabular}{llllllll}\n",
       " name & tissue\\_est & tissue\\_quant025 & tissue\\_quant975 & tissue\\_predON\\_est & tissue\\_predON\\_quant025 & tissue\\_predON\\_quant975 & type\\\\\n",
       " <chr> & <dbl> & <dbl> & <dbl> & <dbl> & <dbl> & <dbl> & <chr>\\\\\n",
       "\\hline\n",
       "\t Chromosomechr19     &  0.066487005 & -0.01238676 & 0.155859802 &  0.36851760 &  0.018956234 &  0.832334999 & sequence       \\\\\n",
       "\t Chromosomechr20     &  0.036471102 & -0.05156981 & 0.132216282 &  0.44324949 &  0.160226107 &  0.792715465 & sequence       \\\\\n",
       "\t Chromosomechr21     &  0.002166763 & -0.13113256 & 0.114247555 &  0.42719965 &  0.004402058 &  0.899433761 & sequence       \\\\\n",
       "\t GC\\_content.10000    & -0.010392395 & -0.03155040 & 0.009291421 & -0.08589732 & -0.164467911 & -0.007996150 & sequence       \\\\\n",
       "\t Transcription.10000 & -0.011739381 & -0.02740300 & 0.004818527 & -0.07188264 & -0.138487768 & -0.002236279 & tissue specific\\\\\n",
       "\t Repeats.1           & -0.015958957 & -0.03467457 & 0.004662653 &  0.28654529 &  0.181391034 &  0.409815863 & sequence       \\\\\n",
       "\t tripletATG          & -0.019399092 & -0.13324507 & 0.074782391 & -0.98235118 & -1.249375618 & -0.669486140 & triplet        \\\\\n",
       "\t tripletACT          & -0.058264082 & -0.13279570 & 0.024519968 & -0.59173191 & -0.869105811 & -0.297949852 & triplet        \\\\\n",
       "\t tripletATA          & -0.058334648 & -0.15778474 & 0.024169622 & -1.13280742 & -1.440290379 & -0.844108491 & triplet        \\\\\n",
       "\\end{tabular}\n"
      ],
      "text/markdown": [
       "\n",
       "A data.frame: 9 × 8\n",
       "\n",
       "| name &lt;chr&gt; | tissue_est &lt;dbl&gt; | tissue_quant025 &lt;dbl&gt; | tissue_quant975 &lt;dbl&gt; | tissue_predON_est &lt;dbl&gt; | tissue_predON_quant025 &lt;dbl&gt; | tissue_predON_quant975 &lt;dbl&gt; | type &lt;chr&gt; |\n",
       "|---|---|---|---|---|---|---|---|\n",
       "| Chromosomechr19     |  0.066487005 | -0.01238676 | 0.155859802 |  0.36851760 |  0.018956234 |  0.832334999 | sequence        |\n",
       "| Chromosomechr20     |  0.036471102 | -0.05156981 | 0.132216282 |  0.44324949 |  0.160226107 |  0.792715465 | sequence        |\n",
       "| Chromosomechr21     |  0.002166763 | -0.13113256 | 0.114247555 |  0.42719965 |  0.004402058 |  0.899433761 | sequence        |\n",
       "| GC_content.10000    | -0.010392395 | -0.03155040 | 0.009291421 | -0.08589732 | -0.164467911 | -0.007996150 | sequence        |\n",
       "| Transcription.10000 | -0.011739381 | -0.02740300 | 0.004818527 | -0.07188264 | -0.138487768 | -0.002236279 | tissue specific |\n",
       "| Repeats.1           | -0.015958957 | -0.03467457 | 0.004662653 |  0.28654529 |  0.181391034 |  0.409815863 | sequence        |\n",
       "| tripletATG          | -0.019399092 | -0.13324507 | 0.074782391 | -0.98235118 | -1.249375618 | -0.669486140 | triplet         |\n",
       "| tripletACT          | -0.058264082 | -0.13279570 | 0.024519968 | -0.59173191 | -0.869105811 | -0.297949852 | triplet         |\n",
       "| tripletATA          | -0.058334648 | -0.15778474 | 0.024169622 | -1.13280742 | -1.440290379 | -0.844108491 | triplet         |\n",
       "\n"
      ],
      "text/plain": [
       "  name                tissue_est   tissue_quant025 tissue_quant975\n",
       "1 Chromosomechr19      0.066487005 -0.01238676     0.155859802    \n",
       "2 Chromosomechr20      0.036471102 -0.05156981     0.132216282    \n",
       "3 Chromosomechr21      0.002166763 -0.13113256     0.114247555    \n",
       "4 GC_content.10000    -0.010392395 -0.03155040     0.009291421    \n",
       "5 Transcription.10000 -0.011739381 -0.02740300     0.004818527    \n",
       "6 Repeats.1           -0.015958957 -0.03467457     0.004662653    \n",
       "7 tripletATG          -0.019399092 -0.13324507     0.074782391    \n",
       "8 tripletACT          -0.058264082 -0.13279570     0.024519968    \n",
       "9 tripletATA          -0.058334648 -0.15778474     0.024169622    \n",
       "  tissue_predON_est tissue_predON_quant025 tissue_predON_quant975\n",
       "1  0.36851760        0.018956234            0.832334999          \n",
       "2  0.44324949        0.160226107            0.792715465          \n",
       "3  0.42719965        0.004402058            0.899433761          \n",
       "4 -0.08589732       -0.164467911           -0.007996150          \n",
       "5 -0.07188264       -0.138487768           -0.002236279          \n",
       "6  0.28654529        0.181391034            0.409815863          \n",
       "7 -0.98235118       -1.249375618           -0.669486140          \n",
       "8 -0.59173191       -0.869105811           -0.297949852          \n",
       "9 -1.13280742       -1.440290379           -0.844108491          \n",
       "  type           \n",
       "1 sequence       \n",
       "2 sequence       \n",
       "3 sequence       \n",
       "4 sequence       \n",
       "5 tissue specific\n",
       "6 sequence       \n",
       "7 triplet        \n",
       "8 triplet        \n",
       "9 triplet        "
      ]
     },
     "metadata": {},
     "output_type": "display_data"
    }
   ],
   "source": [
    " filter(all_coefs[order(-all_coefs$tissue_est),],(tissue_quant025*tissue_quant975<0)&(tissue_predON_quant025*tissue_predON_quant975>0))"
   ]
  },
  {
   "cell_type": "code",
   "execution_count": 124,
   "id": "149a28f1-6d8e-4f94-916c-ae218507c155",
   "metadata": {},
   "outputs": [
    {
     "data": {
      "text/html": [
       "'germline'"
      ],
      "text/latex": [
       "'germline'"
      ],
      "text/markdown": [
       "'germline'"
      ],
      "text/plain": [
       "[1] \"germline\""
      ]
     },
     "metadata": {},
     "output_type": "display_data"
    },
    {
     "data": {
      "text/html": [
       "'skin'"
      ],
      "text/latex": [
       "'skin'"
      ],
      "text/markdown": [
       "'skin'"
      ],
      "text/plain": [
       "[1] \"skin\""
      ]
     },
     "metadata": {},
     "output_type": "display_data"
    }
   ],
   "source": [
    "tissue\n",
    "tissue_predOn"
   ]
  },
  {
   "cell_type": "code",
   "execution_count": 126,
   "id": "8dd95feb-2f14-40ad-89c6-0eea038e4d79",
   "metadata": {},
   "outputs": [
    {
     "data": {
      "text/html": [
       "<table class=\"dataframe\">\n",
       "<caption>A data.frame: 3 × 8</caption>\n",
       "<thead>\n",
       "\t<tr><th scope=col>name</th><th scope=col>tissue_est</th><th scope=col>tissue_quant025</th><th scope=col>tissue_quant975</th><th scope=col>tissue_predON_est</th><th scope=col>tissue_predON_quant025</th><th scope=col>tissue_predON_quant975</th><th scope=col>type</th></tr>\n",
       "\t<tr><th scope=col>&lt;chr&gt;</th><th scope=col>&lt;dbl&gt;</th><th scope=col>&lt;dbl&gt;</th><th scope=col>&lt;dbl&gt;</th><th scope=col>&lt;dbl&gt;</th><th scope=col>&lt;dbl&gt;</th><th scope=col>&lt;dbl&gt;</th><th scope=col>&lt;chr&gt;</th></tr>\n",
       "</thead>\n",
       "<tbody>\n",
       "\t<tr><td>Chromosomechr15</td><td>0.13408043</td><td>0.043002332</td><td>0.21640444</td><td>-0.025679332</td><td>-0.071651211</td><td>0.021496309</td><td>sequence</td></tr>\n",
       "\t<tr><td>Chromosomechr16</td><td>0.13029474</td><td>0.050125571</td><td>0.22147346</td><td> 0.030265056</td><td>-0.018764309</td><td>0.068899521</td><td>sequence</td></tr>\n",
       "\t<tr><td>laminB1.1      </td><td>0.01891168</td><td>0.005414175</td><td>0.03168239</td><td>-0.001777855</td><td>-0.008451511</td><td>0.005410309</td><td>global  </td></tr>\n",
       "</tbody>\n",
       "</table>\n"
      ],
      "text/latex": [
       "A data.frame: 3 × 8\n",
       "\\begin{tabular}{llllllll}\n",
       " name & tissue\\_est & tissue\\_quant025 & tissue\\_quant975 & tissue\\_predON\\_est & tissue\\_predON\\_quant025 & tissue\\_predON\\_quant975 & type\\\\\n",
       " <chr> & <dbl> & <dbl> & <dbl> & <dbl> & <dbl> & <dbl> & <chr>\\\\\n",
       "\\hline\n",
       "\t Chromosomechr15 & 0.13408043 & 0.043002332 & 0.21640444 & -0.025679332 & -0.071651211 & 0.021496309 & sequence\\\\\n",
       "\t Chromosomechr16 & 0.13029474 & 0.050125571 & 0.22147346 &  0.030265056 & -0.018764309 & 0.068899521 & sequence\\\\\n",
       "\t laminB1.1       & 0.01891168 & 0.005414175 & 0.03168239 & -0.001777855 & -0.008451511 & 0.005410309 & global  \\\\\n",
       "\\end{tabular}\n"
      ],
      "text/markdown": [
       "\n",
       "A data.frame: 3 × 8\n",
       "\n",
       "| name &lt;chr&gt; | tissue_est &lt;dbl&gt; | tissue_quant025 &lt;dbl&gt; | tissue_quant975 &lt;dbl&gt; | tissue_predON_est &lt;dbl&gt; | tissue_predON_quant025 &lt;dbl&gt; | tissue_predON_quant975 &lt;dbl&gt; | type &lt;chr&gt; |\n",
       "|---|---|---|---|---|---|---|---|\n",
       "| Chromosomechr15 | 0.13408043 | 0.043002332 | 0.21640444 | -0.025679332 | -0.071651211 | 0.021496309 | sequence |\n",
       "| Chromosomechr16 | 0.13029474 | 0.050125571 | 0.22147346 |  0.030265056 | -0.018764309 | 0.068899521 | sequence |\n",
       "| laminB1.1       | 0.01891168 | 0.005414175 | 0.03168239 | -0.001777855 | -0.008451511 | 0.005410309 | global   |\n",
       "\n"
      ],
      "text/plain": [
       "  name            tissue_est tissue_quant025 tissue_quant975 tissue_predON_est\n",
       "1 Chromosomechr15 0.13408043 0.043002332     0.21640444      -0.025679332     \n",
       "2 Chromosomechr16 0.13029474 0.050125571     0.22147346       0.030265056     \n",
       "3 laminB1.1       0.01891168 0.005414175     0.03168239      -0.001777855     \n",
       "  tissue_predON_quant025 tissue_predON_quant975 type    \n",
       "1 -0.071651211           0.021496309            sequence\n",
       "2 -0.018764309           0.068899521            sequence\n",
       "3 -0.008451511           0.005410309            global  "
      ]
     },
     "metadata": {},
     "output_type": "display_data"
    }
   ],
   "source": [
    " filter(all_coefs[order(-all_coefs$tissue_est),],(tissue_quant025*tissue_quant975>0)&(tissue_predON_quant025*tissue_predON_quant975<0))"
   ]
  },
  {
   "cell_type": "code",
   "execution_count": 119,
   "id": "8e17ac92-b733-4a33-8bb6-2d1956b85f02",
   "metadata": {
    "tags": []
   },
   "outputs": [
    {
     "name": "stderr",
     "output_type": "stream",
     "text": [
      "Warning message:\n",
      "“Removed 2 rows containing missing values (geom_point).”\n",
      "Saving 6.67 x 6.67 in image\n",
      "\n",
      "Warning message:\n",
      "“Removed 2 rows containing missing values (geom_point).”\n"
     ]
    },
    {
     "data": {
      "image/png": "[encoded data removed]",
      "text/plain": [
       "plot without title"
      ]
     },
     "metadata": {
      "image/png": {
       "height": 420,
       "width": 420
      }
     },
     "output_type": "display_data"
    }
   ],
   "source": [
    "\n",
    "#plotting\n",
    "ggplot(all_coefs, aes(y = tissue_est, x = tissue_predON_est)) +\n",
    "    geom_point(aes(color=type) )+\n",
    "    theme_light()+\n",
    "#     scale_y_continuous(breaks=seq(-0.75,1.75,0.75)) +\n",
    "#     scale_x_continuous(breaks=seq(-0.75,1.75,0.75)) +\n",
    "    geom_abline(intercept=0, slope=1, col=\"grey\",linetype=\"dashed\")+ #http://www.sthda.com/english/wiki/ggplot2-line-types-how-to-change-line-types-of-a-graph-in-r-software\n",
    "    geom_abline(intercept=0, slope=0, col=\"cornflowerblue\")+\n",
    "    geom_vline(xintercept=0,col=\"cornflowerblue\") + #http://www.sthda.com/english/wiki/ggplot2-add-straight-lines-to-a-plot-horizontal-vertical-and-regression-lines\n",
    "    labs(\n",
    "        x = paste(tissue_predOn,\" coefficient values\",sep=\"\"),\n",
    "        y = paste(tissue,\" coefficient values\",sep=\"\"),\n",
    "        color = \"Predictor class\"#https://stackoverflow.com/questions/14622421/how-to-change-legend-title-in-ggplot\n",
    "        ) +\n",
    "    theme(\n",
    "    axis.text = element_text(size = 20, family = 'Helvetica', color = 'black'),\n",
    "    axis.title = element_text(size = 20, family = 'Helvetica'),\n",
    "    legend.title = element_text(size=12, family = 'Helvetica'),\n",
    "    legend.text = element_text(size = 12, family = 'Helvetica')\n",
    "    )   \n",
    "ggsave(paste(tmp_file_path,\"analysis/global/plots/\",model_name,\"/coefScatter_\",tissue,\"_on_\",tissue_predOn,\".pdf\",sep=\"\"))\n",
    "\n",
    "\n"
   ]
  },
  {
   "cell_type": "code",
   "execution_count": 78,
   "id": "c5d6736b-ce8b-4739-8333-949aa35865d7",
   "metadata": {},
   "outputs": [],
   "source": [
    "\n",
    "#writing some infor on how wel they match to file \n",
    "error_output_file = paste(tmp_file_path,\"analysis/global/plots/\",model_name,\"/coefScatter_\",tissue,\"_on_\",tissue_predOn,\"_textOutput.txt\",sep=\"\")\n",
    "\n",
    "MAE = mean(abs(all_coefs$tissue_est - all_coefs$tissue_predON_est))\n",
    "string_to_print = paste(\"mean absolute error is\",round(MAE,4),sep=\" \")\n",
    "# cat(string_to_print,file=error_output_file,sep=\"\\n\",append=TRUE)\n",
    "\n",
    "fit<-lm(tissue_est~tissue_predON_est,data=all_coefs)\n",
    "string_to_print = paste(\"r-squared is\",summary(fit)$r.squared,sep=\" \")\n",
    "# cat(string_to_print,file=error_output_file,sep=\"\\n\",append=TRUE)"
   ]
  },
  {
   "cell_type": "code",
   "execution_count": 120,
   "id": "d00d62cc-b333-4e14-8331-6bcafb1e7934",
   "metadata": {},
   "outputs": [
    {
     "data": {
      "text/html": [
       "<table class=\"dataframe\">\n",
       "<caption>A data.frame: 76 × 8</caption>\n",
       "<thead>\n",
       "\t<tr><th></th><th scope=col>name</th><th scope=col>tissue_est</th><th scope=col>tissue_quant025</th><th scope=col>tissue_quant975</th><th scope=col>tissue_predON_est</th><th scope=col>tissue_predON_quant025</th><th scope=col>tissue_predON_quant975</th><th scope=col>type</th></tr>\n",
       "\t<tr><th></th><th scope=col>&lt;chr&gt;</th><th scope=col>&lt;dbl&gt;</th><th scope=col>&lt;dbl&gt;</th><th scope=col>&lt;dbl&gt;</th><th scope=col>&lt;dbl&gt;</th><th scope=col>&lt;dbl&gt;</th><th scope=col>&lt;dbl&gt;</th><th scope=col>&lt;chr&gt;</th></tr>\n",
       "</thead>\n",
       "<tbody>\n",
       "\t<tr><th scope=row>74</th><td>tripletTTC           </td><td>-1.060304835</td><td>-1.183291636</td><td>-0.971747656</td><td>-0.603603573</td><td>-0.654772648</td><td>-0.560118910</td><td>triplet        </td></tr>\n",
       "\t<tr><th scope=row>75</th><td>tripletTTG           </td><td>-0.890490965</td><td>-0.997619689</td><td>-0.797510856</td><td>-0.470806194</td><td>-0.520785114</td><td>-0.423530790</td><td>triplet        </td></tr>\n",
       "\t<tr><th scope=row>50</th><td>tripletATC           </td><td>-0.453728456</td><td>-0.553897529</td><td>-0.360823033</td><td>-0.421660906</td><td>-0.482682114</td><td>-0.365805859</td><td>triplet        </td></tr>\n",
       "\t<tr><th scope=row>76</th><td>tripletTTT           </td><td>-1.022202555</td><td>-1.104124167</td><td>-0.946423347</td><td>-0.384158210</td><td>-0.428892537</td><td>-0.345781076</td><td>triplet        </td></tr>\n",
       "\t<tr><th scope=row>59</th><td>tripletCTG           </td><td>-0.652262727</td><td>-0.746577642</td><td>-0.554998858</td><td>-0.383498646</td><td>-0.428229911</td><td>-0.339549447</td><td>triplet        </td></tr>\n",
       "\t<tr><th scope=row>60</th><td>tripletCTT           </td><td>-0.904015001</td><td>-1.015603254</td><td>-0.820338449</td><td>-0.376490262</td><td>-0.415094311</td><td>-0.331122975</td><td>triplet        </td></tr>\n",
       "\t<tr><th scope=row>1</th><td>(Intercept)          </td><td> 0.270802350</td><td> 0.198189297</td><td> 0.348125297</td><td>-0.365617713</td><td>-0.403933067</td><td>-0.327976732</td><td>NA             </td></tr>\n",
       "\t<tr><th scope=row>58</th><td>tripletCTC           </td><td>-1.022811707</td><td>-1.125888182</td><td>-0.933980482</td><td>-0.306892938</td><td>-0.359373144</td><td>-0.260266483</td><td>triplet        </td></tr>\n",
       "\t<tr><th scope=row>57</th><td>tripletCTA           </td><td>-0.771745064</td><td>-0.893144025</td><td>-0.668448766</td><td>-0.303287703</td><td>-0.363652862</td><td>-0.243617550</td><td>triplet        </td></tr>\n",
       "\t<tr><th scope=row>52</th><td>tripletATT           </td><td>-0.334287249</td><td>-0.412274901</td><td>-0.258348062</td><td>-0.284848747</td><td>-0.323740350</td><td>-0.245628730</td><td>triplet        </td></tr>\n",
       "\t<tr><th scope=row>51</th><td>tripletATG           </td><td>-0.019399092</td><td>-0.133245070</td><td> 0.074782391</td><td>-0.260217300</td><td>-0.309586491</td><td>-0.211309248</td><td>triplet        </td></tr>\n",
       "\t<tr><th scope=row>66</th><td>tripletGTC           </td><td>-0.733747505</td><td>-0.850119980</td><td>-0.604258349</td><td>-0.251318304</td><td>-0.306757912</td><td>-0.190466073</td><td>triplet        </td></tr>\n",
       "\t<tr><th scope=row>73</th><td>tripletTTA           </td><td>-0.694853745</td><td>-0.792730145</td><td>-0.611305682</td><td>-0.235544341</td><td>-0.282088995</td><td>-0.191107519</td><td>triplet        </td></tr>\n",
       "\t<tr><th scope=row>61</th><td>tripletGCA           </td><td>-0.252057724</td><td>-0.320011380</td><td>-0.155899493</td><td>-0.169223262</td><td>-0.214655605</td><td>-0.117691261</td><td>triplet        </td></tr>\n",
       "\t<tr><th scope=row>65</th><td>tripletGTA           </td><td>-0.558951744</td><td>-0.685046432</td><td>-0.465799850</td><td>-0.160851168</td><td>-0.212126994</td><td>-0.104834678</td><td>triplet        </td></tr>\n",
       "\t<tr><th scope=row>35</th><td>H3k4me1.10000        </td><td> 0.029868993</td><td> 0.004810309</td><td> 0.050196204</td><td>-0.152859714</td><td>-0.160699566</td><td>-0.143932133</td><td>tissue specific</td></tr>\n",
       "\t<tr><th scope=row>34</th><td>H3k36me3.10000       </td><td> 0.052019581</td><td> 0.040444184</td><td> 0.064138407</td><td>-0.108476520</td><td>-0.115510868</td><td>-0.100718248</td><td>tissue specific</td></tr>\n",
       "\t<tr><th scope=row>3</th><td>annotationregulatory </td><td>-0.039240014</td><td>-0.217824244</td><td> 0.126561369</td><td>-0.098492158</td><td>-0.190466810</td><td>-0.007384995</td><td>sequence       </td></tr>\n",
       "\t<tr><th scope=row>49</th><td>tripletATA           </td><td>-0.058334648</td><td>-0.157784745</td><td> 0.024169622</td><td>-0.096282213</td><td>-0.139447117</td><td>-0.047857478</td><td>triplet        </td></tr>\n",
       "\t<tr><th scope=row>6</th><td>annotationUTR5       </td><td>-0.102063713</td><td>-0.152104996</td><td>-0.053103021</td><td>-0.091105312</td><td>-0.113663287</td><td>-0.069910916</td><td>sequence       </td></tr>\n",
       "\t<tr><th scope=row>5</th><td>annotationUTR3       </td><td>-0.051317570</td><td>-0.095693498</td><td>-0.012705048</td><td>-0.084732684</td><td>-0.102923528</td><td>-0.066348395</td><td>sequence       </td></tr>\n",
       "\t<tr><th scope=row>4</th><td>annotationtranscribed</td><td>-0.052727914</td><td>-0.089022529</td><td>-0.019890154</td><td>-0.082429706</td><td>-0.098489762</td><td>-0.068867857</td><td>sequence       </td></tr>\n",
       "\t<tr><th scope=row>18</th><td>Chromosomechr20      </td><td> 0.036471102</td><td>-0.051569808</td><td> 0.132216282</td><td>-0.059967187</td><td>-0.112559651</td><td>-0.001945038</td><td>sequence       </td></tr>\n",
       "\t<tr><th scope=row>40</th><td>recombination.10000  </td><td> 0.020318273</td><td> 0.007423867</td><td> 0.032905806</td><td>-0.034046462</td><td>-0.039910386</td><td>-0.028232293</td><td>global         </td></tr>\n",
       "\t<tr><th scope=row>12</th><td>Chromosomechr15      </td><td> 0.134080434</td><td> 0.043002332</td><td> 0.216404443</td><td>-0.025679332</td><td>-0.071651211</td><td> 0.021496309</td><td>sequence       </td></tr>\n",
       "\t<tr><th scope=row>21</th><td>Chromosomechr3       </td><td> 0.033981989</td><td>-0.021569334</td><td> 0.098097085</td><td>-0.013589256</td><td>-0.044637403</td><td> 0.024026532</td><td>sequence       </td></tr>\n",
       "\t<tr><th scope=row>31</th><td>GC_content.10000     </td><td>-0.010392395</td><td>-0.031550404</td><td> 0.009291421</td><td>-0.012794121</td><td>-0.022029913</td><td>-0.003184910</td><td>sequence       </td></tr>\n",
       "\t<tr><th scope=row>28</th><td>DNAse.100            </td><td>-0.003764738</td><td>-0.016638448</td><td> 0.009845101</td><td>-0.009688459</td><td>-0.016416733</td><td>-0.003524268</td><td>tissue specific</td></tr>\n",
       "\t<tr><th scope=row>7</th><td>Chromosomechr10      </td><td> 0.016803396</td><td>-0.036017831</td><td> 0.083123187</td><td>-0.003970446</td><td>-0.047377791</td><td> 0.032833676</td><td>sequence       </td></tr>\n",
       "\t<tr><th scope=row>37</th><td>laminB1.1            </td><td> 0.018911684</td><td> 0.005414175</td><td> 0.031682391</td><td>-0.001777855</td><td>-0.008451511</td><td> 0.005410309</td><td>global         </td></tr>\n",
       "\t<tr><th scope=row>⋮</th><td>⋮</td><td>⋮</td><td>⋮</td><td>⋮</td><td>⋮</td><td>⋮</td><td>⋮</td><td>⋮</td></tr>\n",
       "\t<tr><th scope=row>20</th><td>Chromosomechr22          </td><td>-0.013433969</td><td>-0.146045802</td><td> 0.117551086</td><td>0.05498420</td><td>-0.005899941</td><td>0.11270314</td><td>sequence       </td></tr>\n",
       "\t<tr><th scope=row>14</th><td>Chromosomechr17          </td><td>-0.056539687</td><td>-0.138017402</td><td> 0.028278676</td><td>0.05650474</td><td> 0.016392983</td><td>0.09479618</td><td>sequence       </td></tr>\n",
       "\t<tr><th scope=row>19</th><td>Chromosomechr21          </td><td> 0.002166763</td><td>-0.131132558</td><td> 0.114247555</td><td>0.06082504</td><td>-0.002096030</td><td>0.14032135</td><td>sequence       </td></tr>\n",
       "\t<tr><th scope=row>24</th><td>Chromosomechr6           </td><td> 0.038451217</td><td>-0.018173784</td><td> 0.101097022</td><td>0.06517618</td><td> 0.029991963</td><td>0.10267686</td><td>sequence       </td></tr>\n",
       "\t<tr><th scope=row>26</th><td>Chromosomechr8           </td><td> 0.085258427</td><td> 0.021004456</td><td> 0.151464506</td><td>0.06755526</td><td> 0.033729571</td><td>0.10009824</td><td>sequence       </td></tr>\n",
       "\t<tr><th scope=row>30</th><td>GC_content.100           </td><td> 0.001170291</td><td>-0.013729052</td><td> 0.019072590</td><td>0.06991367</td><td> 0.062555443</td><td>0.07671595</td><td>sequence       </td></tr>\n",
       "\t<tr><th scope=row>10</th><td>Chromosomechr13          </td><td>-0.012729665</td><td>-0.096739065</td><td> 0.078359587</td><td>0.07053293</td><td> 0.034032469</td><td>0.11494818</td><td>sequence       </td></tr>\n",
       "\t<tr><th scope=row>44</th><td>Replication.10000        </td><td> 0.034774092</td><td> 0.020420368</td><td> 0.046309935</td><td>0.08900648</td><td> 0.082091897</td><td>0.09783256</td><td>global         </td></tr>\n",
       "\t<tr><th scope=row>39</th><td>laminB1.10000            </td><td> 0.017851017</td><td> 0.003712138</td><td> 0.033039081</td><td>0.10442594</td><td> 0.097000476</td><td>0.11206183</td><td>global         </td></tr>\n",
       "\t<tr><th scope=row>22</th><td>Chromosomechr4           </td><td> 0.102242743</td><td> 0.036646330</td><td> 0.163165438</td><td>0.12410788</td><td> 0.086402080</td><td>0.15785323</td><td>sequence       </td></tr>\n",
       "\t<tr><th scope=row>41</th><td>Repeats.1                </td><td>-0.015958957</td><td>-0.034674573</td><td> 0.004662653</td><td>0.17265658</td><td> 0.160202764</td><td>0.18611438</td><td>sequence       </td></tr>\n",
       "\t<tr><th scope=row>68</th><td>tripletGTT               </td><td>-0.735966318</td><td>-0.854669696</td><td>-0.633010517</td><td>0.22177768</td><td> 0.174842721</td><td>0.27426236</td><td>triplet        </td></tr>\n",
       "\t<tr><th scope=row>64</th><td>tripletGCT               </td><td>-0.202179489</td><td>-0.314663823</td><td>-0.098166649</td><td>0.22993198</td><td> 0.185865764</td><td>0.26885768</td><td>triplet        </td></tr>\n",
       "\t<tr><th scope=row>48</th><td>tripletACT               </td><td>-0.058264082</td><td>-0.132795698</td><td> 0.024519968</td><td>0.28205705</td><td> 0.240601139</td><td>0.32889403</td><td>triplet        </td></tr>\n",
       "\t<tr><th scope=row>67</th><td>tripletGTG               </td><td>-0.686495881</td><td>-0.773095360</td><td>-0.580654032</td><td>0.28235125</td><td> 0.227042962</td><td>0.33460929</td><td>triplet        </td></tr>\n",
       "\t<tr><th scope=row>16</th><td>Chromosomechr19          </td><td> 0.066487005</td><td>-0.012386759</td><td> 0.155859802</td><td>0.33078457</td><td> 0.283743837</td><td>0.37990591</td><td>sequence       </td></tr>\n",
       "\t<tr><th scope=row>2</th><td>annotationprotein_binding</td><td> 1.106831366</td><td>-0.006069751</td><td> 2.807984699</td><td>0.40731018</td><td>-0.109154698</td><td>0.99504412</td><td>sequence       </td></tr>\n",
       "\t<tr><th scope=row>46</th><td>tripletACC               </td><td> 0.172131244</td><td> 0.088424042</td><td> 0.264703448</td><td>0.45402832</td><td> 0.405581403</td><td>0.50421936</td><td>triplet        </td></tr>\n",
       "\t<tr><th scope=row>53</th><td>tripletCCA               </td><td>-0.439821600</td><td>-0.552411177</td><td>-0.365535522</td><td>0.74197174</td><td> 0.699314179</td><td>0.77772641</td><td>triplet        </td></tr>\n",
       "\t<tr><th scope=row>56</th><td>tripletCCT               </td><td>-0.208465530</td><td>-0.301066221</td><td>-0.132022957</td><td>0.87558747</td><td> 0.837227943</td><td>0.92070651</td><td>triplet        </td></tr>\n",
       "\t<tr><th scope=row>54</th><td>tripletCCC               </td><td>-0.146816707</td><td>-0.253220187</td><td>-0.045495353</td><td>1.08792921</td><td> 1.045622574</td><td>1.13457436</td><td>triplet        </td></tr>\n",
       "\t<tr><th scope=row>63</th><td>tripletGCG               </td><td> 1.933227318</td><td> 1.799261366</td><td> 2.089873170</td><td>1.11100597</td><td> 1.031827362</td><td>1.21015880</td><td>triplet        </td></tr>\n",
       "\t<tr><th scope=row>69</th><td>tripletTCA               </td><td>-0.452568199</td><td>-0.546850171</td><td>-0.374995367</td><td>1.33635099</td><td> 1.297401376</td><td>1.38071361</td><td>triplet        </td></tr>\n",
       "\t<tr><th scope=row>47</th><td>tripletACG               </td><td> 2.257657321</td><td> 2.075928327</td><td> 2.442142943</td><td>1.43035797</td><td> 1.356608107</td><td>1.51044603</td><td>triplet        </td></tr>\n",
       "\t<tr><th scope=row>72</th><td>tripletTCT               </td><td>-0.346400259</td><td>-0.450540196</td><td>-0.243411128</td><td>1.50102474</td><td> 1.467231398</td><td>1.53558356</td><td>triplet        </td></tr>\n",
       "\t<tr><th scope=row>55</th><td>tripletCCG               </td><td> 1.955639552</td><td> 1.807338644</td><td> 2.094759405</td><td>1.55444583</td><td> 1.477320641</td><td>1.62775999</td><td>triplet        </td></tr>\n",
       "\t<tr><th scope=row>70</th><td>tripletTCC               </td><td>-0.179505715</td><td>-0.277700875</td><td>-0.086946181</td><td>1.99783926</td><td> 1.955528636</td><td>2.03671462</td><td>triplet        </td></tr>\n",
       "\t<tr><th scope=row>71</th><td>tripletTCG               </td><td> 1.891864444</td><td> 1.734123918</td><td> 2.044345954</td><td>2.20444838</td><td> 2.131867489</td><td>2.26040616</td><td>triplet        </td></tr>\n",
       "\t<tr><th scope=row>29</th><td>GC_content.1             </td><td>          NA</td><td>          NA</td><td>          NA</td><td>        NA</td><td>          NA</td><td>        NA</td><td>sequence       </td></tr>\n",
       "\t<tr><th scope=row>33</th><td>H3k27me3.10000           </td><td> 0.070661160</td><td> 0.055165221</td><td> 0.085003051</td><td>        NA</td><td>          NA</td><td>        NA</td><td>tissue specific</td></tr>\n",
       "</tbody>\n",
       "</table>\n"
      ],
      "text/latex": [
       "A data.frame: 76 × 8\n",
       "\\begin{tabular}{r|llllllll}\n",
       "  & name & tissue\\_est & tissue\\_quant025 & tissue\\_quant975 & tissue\\_predON\\_est & tissue\\_predON\\_quant025 & tissue\\_predON\\_quant975 & type\\\\\n",
       "  & <chr> & <dbl> & <dbl> & <dbl> & <dbl> & <dbl> & <dbl> & <chr>\\\\\n",
       "\\hline\n",
       "\t74 & tripletTTC            & -1.060304835 & -1.183291636 & -0.971747656 & -0.603603573 & -0.654772648 & -0.560118910 & triplet        \\\\\n",
       "\t75 & tripletTTG            & -0.890490965 & -0.997619689 & -0.797510856 & -0.470806194 & -0.520785114 & -0.423530790 & triplet        \\\\\n",
       "\t50 & tripletATC            & -0.453728456 & -0.553897529 & -0.360823033 & -0.421660906 & -0.482682114 & -0.365805859 & triplet        \\\\\n",
       "\t76 & tripletTTT            & -1.022202555 & -1.104124167 & -0.946423347 & -0.384158210 & -0.428892537 & -0.345781076 & triplet        \\\\\n",
       "\t59 & tripletCTG            & -0.652262727 & -0.746577642 & -0.554998858 & -0.383498646 & -0.428229911 & -0.339549447 & triplet        \\\\\n",
       "\t60 & tripletCTT            & -0.904015001 & -1.015603254 & -0.820338449 & -0.376490262 & -0.415094311 & -0.331122975 & triplet        \\\\\n",
       "\t1 & (Intercept)           &  0.270802350 &  0.198189297 &  0.348125297 & -0.365617713 & -0.403933067 & -0.327976732 & NA             \\\\\n",
       "\t58 & tripletCTC            & -1.022811707 & -1.125888182 & -0.933980482 & -0.306892938 & -0.359373144 & -0.260266483 & triplet        \\\\\n",
       "\t57 & tripletCTA            & -0.771745064 & -0.893144025 & -0.668448766 & -0.303287703 & -0.363652862 & -0.243617550 & triplet        \\\\\n",
       "\t52 & tripletATT            & -0.334287249 & -0.412274901 & -0.258348062 & -0.284848747 & -0.323740350 & -0.245628730 & triplet        \\\\\n",
       "\t51 & tripletATG            & -0.019399092 & -0.133245070 &  0.074782391 & -0.260217300 & -0.309586491 & -0.211309248 & triplet        \\\\\n",
       "\t66 & tripletGTC            & -0.733747505 & -0.850119980 & -0.604258349 & -0.251318304 & -0.306757912 & -0.190466073 & triplet        \\\\\n",
       "\t73 & tripletTTA            & -0.694853745 & -0.792730145 & -0.611305682 & -0.235544341 & -0.282088995 & -0.191107519 & triplet        \\\\\n",
       "\t61 & tripletGCA            & -0.252057724 & -0.320011380 & -0.155899493 & -0.169223262 & -0.214655605 & -0.117691261 & triplet        \\\\\n",
       "\t65 & tripletGTA            & -0.558951744 & -0.685046432 & -0.465799850 & -0.160851168 & -0.212126994 & -0.104834678 & triplet        \\\\\n",
       "\t35 & H3k4me1.10000         &  0.029868993 &  0.004810309 &  0.050196204 & -0.152859714 & -0.160699566 & -0.143932133 & tissue specific\\\\\n",
       "\t34 & H3k36me3.10000        &  0.052019581 &  0.040444184 &  0.064138407 & -0.108476520 & -0.115510868 & -0.100718248 & tissue specific\\\\\n",
       "\t3 & annotationregulatory  & -0.039240014 & -0.217824244 &  0.126561369 & -0.098492158 & -0.190466810 & -0.007384995 & sequence       \\\\\n",
       "\t49 & tripletATA            & -0.058334648 & -0.157784745 &  0.024169622 & -0.096282213 & -0.139447117 & -0.047857478 & triplet        \\\\\n",
       "\t6 & annotationUTR5        & -0.102063713 & -0.152104996 & -0.053103021 & -0.091105312 & -0.113663287 & -0.069910916 & sequence       \\\\\n",
       "\t5 & annotationUTR3        & -0.051317570 & -0.095693498 & -0.012705048 & -0.084732684 & -0.102923528 & -0.066348395 & sequence       \\\\\n",
       "\t4 & annotationtranscribed & -0.052727914 & -0.089022529 & -0.019890154 & -0.082429706 & -0.098489762 & -0.068867857 & sequence       \\\\\n",
       "\t18 & Chromosomechr20       &  0.036471102 & -0.051569808 &  0.132216282 & -0.059967187 & -0.112559651 & -0.001945038 & sequence       \\\\\n",
       "\t40 & recombination.10000   &  0.020318273 &  0.007423867 &  0.032905806 & -0.034046462 & -0.039910386 & -0.028232293 & global         \\\\\n",
       "\t12 & Chromosomechr15       &  0.134080434 &  0.043002332 &  0.216404443 & -0.025679332 & -0.071651211 &  0.021496309 & sequence       \\\\\n",
       "\t21 & Chromosomechr3        &  0.033981989 & -0.021569334 &  0.098097085 & -0.013589256 & -0.044637403 &  0.024026532 & sequence       \\\\\n",
       "\t31 & GC\\_content.10000      & -0.010392395 & -0.031550404 &  0.009291421 & -0.012794121 & -0.022029913 & -0.003184910 & sequence       \\\\\n",
       "\t28 & DNAse.100             & -0.003764738 & -0.016638448 &  0.009845101 & -0.009688459 & -0.016416733 & -0.003524268 & tissue specific\\\\\n",
       "\t7 & Chromosomechr10       &  0.016803396 & -0.036017831 &  0.083123187 & -0.003970446 & -0.047377791 &  0.032833676 & sequence       \\\\\n",
       "\t37 & laminB1.1             &  0.018911684 &  0.005414175 &  0.031682391 & -0.001777855 & -0.008451511 &  0.005410309 & global         \\\\\n",
       "\t⋮ & ⋮ & ⋮ & ⋮ & ⋮ & ⋮ & ⋮ & ⋮ & ⋮\\\\\n",
       "\t20 & Chromosomechr22           & -0.013433969 & -0.146045802 &  0.117551086 & 0.05498420 & -0.005899941 & 0.11270314 & sequence       \\\\\n",
       "\t14 & Chromosomechr17           & -0.056539687 & -0.138017402 &  0.028278676 & 0.05650474 &  0.016392983 & 0.09479618 & sequence       \\\\\n",
       "\t19 & Chromosomechr21           &  0.002166763 & -0.131132558 &  0.114247555 & 0.06082504 & -0.002096030 & 0.14032135 & sequence       \\\\\n",
       "\t24 & Chromosomechr6            &  0.038451217 & -0.018173784 &  0.101097022 & 0.06517618 &  0.029991963 & 0.10267686 & sequence       \\\\\n",
       "\t26 & Chromosomechr8            &  0.085258427 &  0.021004456 &  0.151464506 & 0.06755526 &  0.033729571 & 0.10009824 & sequence       \\\\\n",
       "\t30 & GC\\_content.100            &  0.001170291 & -0.013729052 &  0.019072590 & 0.06991367 &  0.062555443 & 0.07671595 & sequence       \\\\\n",
       "\t10 & Chromosomechr13           & -0.012729665 & -0.096739065 &  0.078359587 & 0.07053293 &  0.034032469 & 0.11494818 & sequence       \\\\\n",
       "\t44 & Replication.10000         &  0.034774092 &  0.020420368 &  0.046309935 & 0.08900648 &  0.082091897 & 0.09783256 & global         \\\\\n",
       "\t39 & laminB1.10000             &  0.017851017 &  0.003712138 &  0.033039081 & 0.10442594 &  0.097000476 & 0.11206183 & global         \\\\\n",
       "\t22 & Chromosomechr4            &  0.102242743 &  0.036646330 &  0.163165438 & 0.12410788 &  0.086402080 & 0.15785323 & sequence       \\\\\n",
       "\t41 & Repeats.1                 & -0.015958957 & -0.034674573 &  0.004662653 & 0.17265658 &  0.160202764 & 0.18611438 & sequence       \\\\\n",
       "\t68 & tripletGTT                & -0.735966318 & -0.854669696 & -0.633010517 & 0.22177768 &  0.174842721 & 0.27426236 & triplet        \\\\\n",
       "\t64 & tripletGCT                & -0.202179489 & -0.314663823 & -0.098166649 & 0.22993198 &  0.185865764 & 0.26885768 & triplet        \\\\\n",
       "\t48 & tripletACT                & -0.058264082 & -0.132795698 &  0.024519968 & 0.28205705 &  0.240601139 & 0.32889403 & triplet        \\\\\n",
       "\t67 & tripletGTG                & -0.686495881 & -0.773095360 & -0.580654032 & 0.28235125 &  0.227042962 & 0.33460929 & triplet        \\\\\n",
       "\t16 & Chromosomechr19           &  0.066487005 & -0.012386759 &  0.155859802 & 0.33078457 &  0.283743837 & 0.37990591 & sequence       \\\\\n",
       "\t2 & annotationprotein\\_binding &  1.106831366 & -0.006069751 &  2.807984699 & 0.40731018 & -0.109154698 & 0.99504412 & sequence       \\\\\n",
       "\t46 & tripletACC                &  0.172131244 &  0.088424042 &  0.264703448 & 0.45402832 &  0.405581403 & 0.50421936 & triplet        \\\\\n",
       "\t53 & tripletCCA                & -0.439821600 & -0.552411177 & -0.365535522 & 0.74197174 &  0.699314179 & 0.77772641 & triplet        \\\\\n",
       "\t56 & tripletCCT                & -0.208465530 & -0.301066221 & -0.132022957 & 0.87558747 &  0.837227943 & 0.92070651 & triplet        \\\\\n",
       "\t54 & tripletCCC                & -0.146816707 & -0.253220187 & -0.045495353 & 1.08792921 &  1.045622574 & 1.13457436 & triplet        \\\\\n",
       "\t63 & tripletGCG                &  1.933227318 &  1.799261366 &  2.089873170 & 1.11100597 &  1.031827362 & 1.21015880 & triplet        \\\\\n",
       "\t69 & tripletTCA                & -0.452568199 & -0.546850171 & -0.374995367 & 1.33635099 &  1.297401376 & 1.38071361 & triplet        \\\\\n",
       "\t47 & tripletACG                &  2.257657321 &  2.075928327 &  2.442142943 & 1.43035797 &  1.356608107 & 1.51044603 & triplet        \\\\\n",
       "\t72 & tripletTCT                & -0.346400259 & -0.450540196 & -0.243411128 & 1.50102474 &  1.467231398 & 1.53558356 & triplet        \\\\\n",
       "\t55 & tripletCCG                &  1.955639552 &  1.807338644 &  2.094759405 & 1.55444583 &  1.477320641 & 1.62775999 & triplet        \\\\\n",
       "\t70 & tripletTCC                & -0.179505715 & -0.277700875 & -0.086946181 & 1.99783926 &  1.955528636 & 2.03671462 & triplet        \\\\\n",
       "\t71 & tripletTCG                &  1.891864444 &  1.734123918 &  2.044345954 & 2.20444838 &  2.131867489 & 2.26040616 & triplet        \\\\\n",
       "\t29 & GC\\_content.1              &           NA &           NA &           NA &         NA &           NA &         NA & sequence       \\\\\n",
       "\t33 & H3k27me3.10000            &  0.070661160 &  0.055165221 &  0.085003051 &         NA &           NA &         NA & tissue specific\\\\\n",
       "\\end{tabular}\n"
      ],
      "text/markdown": [
       "\n",
       "A data.frame: 76 × 8\n",
       "\n",
       "| <!--/--> | name &lt;chr&gt; | tissue_est &lt;dbl&gt; | tissue_quant025 &lt;dbl&gt; | tissue_quant975 &lt;dbl&gt; | tissue_predON_est &lt;dbl&gt; | tissue_predON_quant025 &lt;dbl&gt; | tissue_predON_quant975 &lt;dbl&gt; | type &lt;chr&gt; |\n",
       "|---|---|---|---|---|---|---|---|---|\n",
       "| 74 | tripletTTC            | -1.060304835 | -1.183291636 | -0.971747656 | -0.603603573 | -0.654772648 | -0.560118910 | triplet         |\n",
       "| 75 | tripletTTG            | -0.890490965 | -0.997619689 | -0.797510856 | -0.470806194 | -0.520785114 | -0.423530790 | triplet         |\n",
       "| 50 | tripletATC            | -0.453728456 | -0.553897529 | -0.360823033 | -0.421660906 | -0.482682114 | -0.365805859 | triplet         |\n",
       "| 76 | tripletTTT            | -1.022202555 | -1.104124167 | -0.946423347 | -0.384158210 | -0.428892537 | -0.345781076 | triplet         |\n",
       "| 59 | tripletCTG            | -0.652262727 | -0.746577642 | -0.554998858 | -0.383498646 | -0.428229911 | -0.339549447 | triplet         |\n",
       "| 60 | tripletCTT            | -0.904015001 | -1.015603254 | -0.820338449 | -0.376490262 | -0.415094311 | -0.331122975 | triplet         |\n",
       "| 1 | (Intercept)           |  0.270802350 |  0.198189297 |  0.348125297 | -0.365617713 | -0.403933067 | -0.327976732 | NA              |\n",
       "| 58 | tripletCTC            | -1.022811707 | -1.125888182 | -0.933980482 | -0.306892938 | -0.359373144 | -0.260266483 | triplet         |\n",
       "| 57 | tripletCTA            | -0.771745064 | -0.893144025 | -0.668448766 | -0.303287703 | -0.363652862 | -0.243617550 | triplet         |\n",
       "| 52 | tripletATT            | -0.334287249 | -0.412274901 | -0.258348062 | -0.284848747 | -0.323740350 | -0.245628730 | triplet         |\n",
       "| 51 | tripletATG            | -0.019399092 | -0.133245070 |  0.074782391 | -0.260217300 | -0.309586491 | -0.211309248 | triplet         |\n",
       "| 66 | tripletGTC            | -0.733747505 | -0.850119980 | -0.604258349 | -0.251318304 | -0.306757912 | -0.190466073 | triplet         |\n",
       "| 73 | tripletTTA            | -0.694853745 | -0.792730145 | -0.611305682 | -0.235544341 | -0.282088995 | -0.191107519 | triplet         |\n",
       "| 61 | tripletGCA            | -0.252057724 | -0.320011380 | -0.155899493 | -0.169223262 | -0.214655605 | -0.117691261 | triplet         |\n",
       "| 65 | tripletGTA            | -0.558951744 | -0.685046432 | -0.465799850 | -0.160851168 | -0.212126994 | -0.104834678 | triplet         |\n",
       "| 35 | H3k4me1.10000         |  0.029868993 |  0.004810309 |  0.050196204 | -0.152859714 | -0.160699566 | -0.143932133 | tissue specific |\n",
       "| 34 | H3k36me3.10000        |  0.052019581 |  0.040444184 |  0.064138407 | -0.108476520 | -0.115510868 | -0.100718248 | tissue specific |\n",
       "| 3 | annotationregulatory  | -0.039240014 | -0.217824244 |  0.126561369 | -0.098492158 | -0.190466810 | -0.007384995 | sequence        |\n",
       "| 49 | tripletATA            | -0.058334648 | -0.157784745 |  0.024169622 | -0.096282213 | -0.139447117 | -0.047857478 | triplet         |\n",
       "| 6 | annotationUTR5        | -0.102063713 | -0.152104996 | -0.053103021 | -0.091105312 | -0.113663287 | -0.069910916 | sequence        |\n",
       "| 5 | annotationUTR3        | -0.051317570 | -0.095693498 | -0.012705048 | -0.084732684 | -0.102923528 | -0.066348395 | sequence        |\n",
       "| 4 | annotationtranscribed | -0.052727914 | -0.089022529 | -0.019890154 | -0.082429706 | -0.098489762 | -0.068867857 | sequence        |\n",
       "| 18 | Chromosomechr20       |  0.036471102 | -0.051569808 |  0.132216282 | -0.059967187 | -0.112559651 | -0.001945038 | sequence        |\n",
       "| 40 | recombination.10000   |  0.020318273 |  0.007423867 |  0.032905806 | -0.034046462 | -0.039910386 | -0.028232293 | global          |\n",
       "| 12 | Chromosomechr15       |  0.134080434 |  0.043002332 |  0.216404443 | -0.025679332 | -0.071651211 |  0.021496309 | sequence        |\n",
       "| 21 | Chromosomechr3        |  0.033981989 | -0.021569334 |  0.098097085 | -0.013589256 | -0.044637403 |  0.024026532 | sequence        |\n",
       "| 31 | GC_content.10000      | -0.010392395 | -0.031550404 |  0.009291421 | -0.012794121 | -0.022029913 | -0.003184910 | sequence        |\n",
       "| 28 | DNAse.100             | -0.003764738 | -0.016638448 |  0.009845101 | -0.009688459 | -0.016416733 | -0.003524268 | tissue specific |\n",
       "| 7 | Chromosomechr10       |  0.016803396 | -0.036017831 |  0.083123187 | -0.003970446 | -0.047377791 |  0.032833676 | sequence        |\n",
       "| 37 | laminB1.1             |  0.018911684 |  0.005414175 |  0.031682391 | -0.001777855 | -0.008451511 |  0.005410309 | global          |\n",
       "| ⋮ | ⋮ | ⋮ | ⋮ | ⋮ | ⋮ | ⋮ | ⋮ | ⋮ |\n",
       "| 20 | Chromosomechr22           | -0.013433969 | -0.146045802 |  0.117551086 | 0.05498420 | -0.005899941 | 0.11270314 | sequence        |\n",
       "| 14 | Chromosomechr17           | -0.056539687 | -0.138017402 |  0.028278676 | 0.05650474 |  0.016392983 | 0.09479618 | sequence        |\n",
       "| 19 | Chromosomechr21           |  0.002166763 | -0.131132558 |  0.114247555 | 0.06082504 | -0.002096030 | 0.14032135 | sequence        |\n",
       "| 24 | Chromosomechr6            |  0.038451217 | -0.018173784 |  0.101097022 | 0.06517618 |  0.029991963 | 0.10267686 | sequence        |\n",
       "| 26 | Chromosomechr8            |  0.085258427 |  0.021004456 |  0.151464506 | 0.06755526 |  0.033729571 | 0.10009824 | sequence        |\n",
       "| 30 | GC_content.100            |  0.001170291 | -0.013729052 |  0.019072590 | 0.06991367 |  0.062555443 | 0.07671595 | sequence        |\n",
       "| 10 | Chromosomechr13           | -0.012729665 | -0.096739065 |  0.078359587 | 0.07053293 |  0.034032469 | 0.11494818 | sequence        |\n",
       "| 44 | Replication.10000         |  0.034774092 |  0.020420368 |  0.046309935 | 0.08900648 |  0.082091897 | 0.09783256 | global          |\n",
       "| 39 | laminB1.10000             |  0.017851017 |  0.003712138 |  0.033039081 | 0.10442594 |  0.097000476 | 0.11206183 | global          |\n",
       "| 22 | Chromosomechr4            |  0.102242743 |  0.036646330 |  0.163165438 | 0.12410788 |  0.086402080 | 0.15785323 | sequence        |\n",
       "| 41 | Repeats.1                 | -0.015958957 | -0.034674573 |  0.004662653 | 0.17265658 |  0.160202764 | 0.18611438 | sequence        |\n",
       "| 68 | tripletGTT                | -0.735966318 | -0.854669696 | -0.633010517 | 0.22177768 |  0.174842721 | 0.27426236 | triplet         |\n",
       "| 64 | tripletGCT                | -0.202179489 | -0.314663823 | -0.098166649 | 0.22993198 |  0.185865764 | 0.26885768 | triplet         |\n",
       "| 48 | tripletACT                | -0.058264082 | -0.132795698 |  0.024519968 | 0.28205705 |  0.240601139 | 0.32889403 | triplet         |\n",
       "| 67 | tripletGTG                | -0.686495881 | -0.773095360 | -0.580654032 | 0.28235125 |  0.227042962 | 0.33460929 | triplet         |\n",
       "| 16 | Chromosomechr19           |  0.066487005 | -0.012386759 |  0.155859802 | 0.33078457 |  0.283743837 | 0.37990591 | sequence        |\n",
       "| 2 | annotationprotein_binding |  1.106831366 | -0.006069751 |  2.807984699 | 0.40731018 | -0.109154698 | 0.99504412 | sequence        |\n",
       "| 46 | tripletACC                |  0.172131244 |  0.088424042 |  0.264703448 | 0.45402832 |  0.405581403 | 0.50421936 | triplet         |\n",
       "| 53 | tripletCCA                | -0.439821600 | -0.552411177 | -0.365535522 | 0.74197174 |  0.699314179 | 0.77772641 | triplet         |\n",
       "| 56 | tripletCCT                | -0.208465530 | -0.301066221 | -0.132022957 | 0.87558747 |  0.837227943 | 0.92070651 | triplet         |\n",
       "| 54 | tripletCCC                | -0.146816707 | -0.253220187 | -0.045495353 | 1.08792921 |  1.045622574 | 1.13457436 | triplet         |\n",
       "| 63 | tripletGCG                |  1.933227318 |  1.799261366 |  2.089873170 | 1.11100597 |  1.031827362 | 1.21015880 | triplet         |\n",
       "| 69 | tripletTCA                | -0.452568199 | -0.546850171 | -0.374995367 | 1.33635099 |  1.297401376 | 1.38071361 | triplet         |\n",
       "| 47 | tripletACG                |  2.257657321 |  2.075928327 |  2.442142943 | 1.43035797 |  1.356608107 | 1.51044603 | triplet         |\n",
       "| 72 | tripletTCT                | -0.346400259 | -0.450540196 | -0.243411128 | 1.50102474 |  1.467231398 | 1.53558356 | triplet         |\n",
       "| 55 | tripletCCG                |  1.955639552 |  1.807338644 |  2.094759405 | 1.55444583 |  1.477320641 | 1.62775999 | triplet         |\n",
       "| 70 | tripletTCC                | -0.179505715 | -0.277700875 | -0.086946181 | 1.99783926 |  1.955528636 | 2.03671462 | triplet         |\n",
       "| 71 | tripletTCG                |  1.891864444 |  1.734123918 |  2.044345954 | 2.20444838 |  2.131867489 | 2.26040616 | triplet         |\n",
       "| 29 | GC_content.1              |           NA |           NA |           NA |         NA |           NA |         NA | sequence        |\n",
       "| 33 | H3k27me3.10000            |  0.070661160 |  0.055165221 |  0.085003051 |         NA |           NA |         NA | tissue specific |\n",
       "\n"
      ],
      "text/plain": [
       "   name                      tissue_est   tissue_quant025 tissue_quant975\n",
       "74 tripletTTC                -1.060304835 -1.183291636    -0.971747656   \n",
       "75 tripletTTG                -0.890490965 -0.997619689    -0.797510856   \n",
       "50 tripletATC                -0.453728456 -0.553897529    -0.360823033   \n",
       "76 tripletTTT                -1.022202555 -1.104124167    -0.946423347   \n",
       "59 tripletCTG                -0.652262727 -0.746577642    -0.554998858   \n",
       "60 tripletCTT                -0.904015001 -1.015603254    -0.820338449   \n",
       "1  (Intercept)                0.270802350  0.198189297     0.348125297   \n",
       "58 tripletCTC                -1.022811707 -1.125888182    -0.933980482   \n",
       "57 tripletCTA                -0.771745064 -0.893144025    -0.668448766   \n",
       "52 tripletATT                -0.334287249 -0.412274901    -0.258348062   \n",
       "51 tripletATG                -0.019399092 -0.133245070     0.074782391   \n",
       "66 tripletGTC                -0.733747505 -0.850119980    -0.604258349   \n",
       "73 tripletTTA                -0.694853745 -0.792730145    -0.611305682   \n",
       "61 tripletGCA                -0.252057724 -0.320011380    -0.155899493   \n",
       "65 tripletGTA                -0.558951744 -0.685046432    -0.465799850   \n",
       "35 H3k4me1.10000              0.029868993  0.004810309     0.050196204   \n",
       "34 H3k36me3.10000             0.052019581  0.040444184     0.064138407   \n",
       "3  annotationregulatory      -0.039240014 -0.217824244     0.126561369   \n",
       "49 tripletATA                -0.058334648 -0.157784745     0.024169622   \n",
       "6  annotationUTR5            -0.102063713 -0.152104996    -0.053103021   \n",
       "5  annotationUTR3            -0.051317570 -0.095693498    -0.012705048   \n",
       "4  annotationtranscribed     -0.052727914 -0.089022529    -0.019890154   \n",
       "18 Chromosomechr20            0.036471102 -0.051569808     0.132216282   \n",
       "40 recombination.10000        0.020318273  0.007423867     0.032905806   \n",
       "12 Chromosomechr15            0.134080434  0.043002332     0.216404443   \n",
       "21 Chromosomechr3             0.033981989 -0.021569334     0.098097085   \n",
       "31 GC_content.10000          -0.010392395 -0.031550404     0.009291421   \n",
       "28 DNAse.100                 -0.003764738 -0.016638448     0.009845101   \n",
       "7  Chromosomechr10            0.016803396 -0.036017831     0.083123187   \n",
       "37 laminB1.1                  0.018911684  0.005414175     0.031682391   \n",
       "⋮  ⋮                         ⋮            ⋮               ⋮              \n",
       "20 Chromosomechr22           -0.013433969 -0.146045802     0.117551086   \n",
       "14 Chromosomechr17           -0.056539687 -0.138017402     0.028278676   \n",
       "19 Chromosomechr21            0.002166763 -0.131132558     0.114247555   \n",
       "24 Chromosomechr6             0.038451217 -0.018173784     0.101097022   \n",
       "26 Chromosomechr8             0.085258427  0.021004456     0.151464506   \n",
       "30 GC_content.100             0.001170291 -0.013729052     0.019072590   \n",
       "10 Chromosomechr13           -0.012729665 -0.096739065     0.078359587   \n",
       "44 Replication.10000          0.034774092  0.020420368     0.046309935   \n",
       "39 laminB1.10000              0.017851017  0.003712138     0.033039081   \n",
       "22 Chromosomechr4             0.102242743  0.036646330     0.163165438   \n",
       "41 Repeats.1                 -0.015958957 -0.034674573     0.004662653   \n",
       "68 tripletGTT                -0.735966318 -0.854669696    -0.633010517   \n",
       "64 tripletGCT                -0.202179489 -0.314663823    -0.098166649   \n",
       "48 tripletACT                -0.058264082 -0.132795698     0.024519968   \n",
       "67 tripletGTG                -0.686495881 -0.773095360    -0.580654032   \n",
       "16 Chromosomechr19            0.066487005 -0.012386759     0.155859802   \n",
       "2  annotationprotein_binding  1.106831366 -0.006069751     2.807984699   \n",
       "46 tripletACC                 0.172131244  0.088424042     0.264703448   \n",
       "53 tripletCCA                -0.439821600 -0.552411177    -0.365535522   \n",
       "56 tripletCCT                -0.208465530 -0.301066221    -0.132022957   \n",
       "54 tripletCCC                -0.146816707 -0.253220187    -0.045495353   \n",
       "63 tripletGCG                 1.933227318  1.799261366     2.089873170   \n",
       "69 tripletTCA                -0.452568199 -0.546850171    -0.374995367   \n",
       "47 tripletACG                 2.257657321  2.075928327     2.442142943   \n",
       "72 tripletTCT                -0.346400259 -0.450540196    -0.243411128   \n",
       "55 tripletCCG                 1.955639552  1.807338644     2.094759405   \n",
       "70 tripletTCC                -0.179505715 -0.277700875    -0.086946181   \n",
       "71 tripletTCG                 1.891864444  1.734123918     2.044345954   \n",
       "29 GC_content.1                        NA           NA              NA   \n",
       "33 H3k27me3.10000             0.070661160  0.055165221     0.085003051   \n",
       "   tissue_predON_est tissue_predON_quant025 tissue_predON_quant975\n",
       "74 -0.603603573      -0.654772648           -0.560118910          \n",
       "75 -0.470806194      -0.520785114           -0.423530790          \n",
       "50 -0.421660906      -0.482682114           -0.365805859          \n",
       "76 -0.384158210      -0.428892537           -0.345781076          \n",
       "59 -0.383498646      -0.428229911           -0.339549447          \n",
       "60 -0.376490262      -0.415094311           -0.331122975          \n",
       "1  -0.365617713      -0.403933067           -0.327976732          \n",
       "58 -0.306892938      -0.359373144           -0.260266483          \n",
       "57 -0.303287703      -0.363652862           -0.243617550          \n",
       "52 -0.284848747      -0.323740350           -0.245628730          \n",
       "51 -0.260217300      -0.309586491           -0.211309248          \n",
       "66 -0.251318304      -0.306757912           -0.190466073          \n",
       "73 -0.235544341      -0.282088995           -0.191107519          \n",
       "61 -0.169223262      -0.214655605           -0.117691261          \n",
       "65 -0.160851168      -0.212126994           -0.104834678          \n",
       "35 -0.152859714      -0.160699566           -0.143932133          \n",
       "34 -0.108476520      -0.115510868           -0.100718248          \n",
       "3  -0.098492158      -0.190466810           -0.007384995          \n",
       "49 -0.096282213      -0.139447117           -0.047857478          \n",
       "6  -0.091105312      -0.113663287           -0.069910916          \n",
       "5  -0.084732684      -0.102923528           -0.066348395          \n",
       "4  -0.082429706      -0.098489762           -0.068867857          \n",
       "18 -0.059967187      -0.112559651           -0.001945038          \n",
       "40 -0.034046462      -0.039910386           -0.028232293          \n",
       "12 -0.025679332      -0.071651211            0.021496309          \n",
       "21 -0.013589256      -0.044637403            0.024026532          \n",
       "31 -0.012794121      -0.022029913           -0.003184910          \n",
       "28 -0.009688459      -0.016416733           -0.003524268          \n",
       "7  -0.003970446      -0.047377791            0.032833676          \n",
       "37 -0.001777855      -0.008451511            0.005410309          \n",
       "⋮  ⋮                 ⋮                      ⋮                     \n",
       "20 0.05498420        -0.005899941           0.11270314            \n",
       "14 0.05650474         0.016392983           0.09479618            \n",
       "19 0.06082504        -0.002096030           0.14032135            \n",
       "24 0.06517618         0.029991963           0.10267686            \n",
       "26 0.06755526         0.033729571           0.10009824            \n",
       "30 0.06991367         0.062555443           0.07671595            \n",
       "10 0.07053293         0.034032469           0.11494818            \n",
       "44 0.08900648         0.082091897           0.09783256            \n",
       "39 0.10442594         0.097000476           0.11206183            \n",
       "22 0.12410788         0.086402080           0.15785323            \n",
       "41 0.17265658         0.160202764           0.18611438            \n",
       "68 0.22177768         0.174842721           0.27426236            \n",
       "64 0.22993198         0.185865764           0.26885768            \n",
       "48 0.28205705         0.240601139           0.32889403            \n",
       "67 0.28235125         0.227042962           0.33460929            \n",
       "16 0.33078457         0.283743837           0.37990591            \n",
       "2  0.40731018        -0.109154698           0.99504412            \n",
       "46 0.45402832         0.405581403           0.50421936            \n",
       "53 0.74197174         0.699314179           0.77772641            \n",
       "56 0.87558747         0.837227943           0.92070651            \n",
       "54 1.08792921         1.045622574           1.13457436            \n",
       "63 1.11100597         1.031827362           1.21015880            \n",
       "69 1.33635099         1.297401376           1.38071361            \n",
       "47 1.43035797         1.356608107           1.51044603            \n",
       "72 1.50102474         1.467231398           1.53558356            \n",
       "55 1.55444583         1.477320641           1.62775999            \n",
       "70 1.99783926         1.955528636           2.03671462            \n",
       "71 2.20444838         2.131867489           2.26040616            \n",
       "29         NA                  NA                   NA            \n",
       "33         NA                  NA                   NA            \n",
       "   type           \n",
       "74 triplet        \n",
       "75 triplet        \n",
       "50 triplet        \n",
       "76 triplet        \n",
       "59 triplet        \n",
       "60 triplet        \n",
       "1  NA             \n",
       "58 triplet        \n",
       "57 triplet        \n",
       "52 triplet        \n",
       "51 triplet        \n",
       "66 triplet        \n",
       "73 triplet        \n",
       "61 triplet        \n",
       "65 triplet        \n",
       "35 tissue specific\n",
       "34 tissue specific\n",
       "3  sequence       \n",
       "49 triplet        \n",
       "6  sequence       \n",
       "5  sequence       \n",
       "4  sequence       \n",
       "18 sequence       \n",
       "40 global         \n",
       "12 sequence       \n",
       "21 sequence       \n",
       "31 sequence       \n",
       "28 tissue specific\n",
       "7  sequence       \n",
       "37 global         \n",
       "⋮  ⋮              \n",
       "20 sequence       \n",
       "14 sequence       \n",
       "19 sequence       \n",
       "24 sequence       \n",
       "26 sequence       \n",
       "30 sequence       \n",
       "10 sequence       \n",
       "44 global         \n",
       "39 global         \n",
       "22 sequence       \n",
       "41 sequence       \n",
       "68 triplet        \n",
       "64 triplet        \n",
       "48 triplet        \n",
       "67 triplet        \n",
       "16 sequence       \n",
       "2  sequence       \n",
       "46 triplet        \n",
       "53 triplet        \n",
       "56 triplet        \n",
       "54 triplet        \n",
       "63 triplet        \n",
       "69 triplet        \n",
       "47 triplet        \n",
       "72 triplet        \n",
       "55 triplet        \n",
       "70 triplet        \n",
       "71 triplet        \n",
       "29 sequence       \n",
       "33 tissue specific"
      ]
     },
     "metadata": {},
     "output_type": "display_data"
    }
   ],
   "source": [
    "all_coefs[order(all_coefs$tissue_predON_est),]"
   ]
  },
  {
   "cell_type": "code",
   "execution_count": 121,
   "id": "a4bb641a-1d15-4a48-aa4c-012f2f5b5c6c",
   "metadata": {},
   "outputs": [
    {
     "data": {
      "text/html": [
       "'germline'"
      ],
      "text/latex": [
       "'germline'"
      ],
      "text/markdown": [
       "'germline'"
      ],
      "text/plain": [
       "[1] \"germline\""
      ]
     },
     "metadata": {},
     "output_type": "display_data"
    },
    {
     "data": {
      "text/html": [
       "'skin'"
      ],
      "text/latex": [
       "'skin'"
      ],
      "text/markdown": [
       "'skin'"
      ],
      "text/plain": [
       "[1] \"skin\""
      ]
     },
     "metadata": {},
     "output_type": "display_data"
    }
   ],
   "source": [
    "tissue\n",
    "tissue_predOn"
   ]
  },
  {
   "cell_type": "code",
   "execution_count": null,
   "id": "ebb19484-4f0d-4b55-8670-8947bedcb65b",
   "metadata": {},
   "outputs": [],
   "source": []
  },
  {
   "cell_type": "code",
   "execution_count": null,
   "id": "ce24b929-6365-497d-bb60-8ab8a7dc1805",
   "metadata": {},
   "outputs": [],
   "source": []
  },
  {
   "cell_type": "code",
   "execution_count": null,
   "id": "a3f2d970-c513-4a43-a64b-0129e9a5b477",
   "metadata": {},
   "outputs": [],
   "source": []
  },
  {
   "cell_type": "code",
   "execution_count": null,
   "id": "16c1fbe9-c97b-465f-94d3-97a9376cc1eb",
   "metadata": {},
   "outputs": [],
   "source": []
  },
  {
   "cell_type": "code",
   "execution_count": null,
   "id": "45a2eb73-128d-4e62-8b5f-c25c5bd5cab3",
   "metadata": {},
   "outputs": [],
   "source": []
  },
  {
   "cell_type": "markdown",
   "id": "769cc101-39fb-4f8b-b82d-6d6503437d3c",
   "metadata": {},
   "source": [
    "# **get the fold coomp plot**"
   ]
  },
  {
   "cell_type": "code",
   "execution_count": 8,
   "id": "0efa5436-6587-4645-8c69-20f9a9eccef8",
   "metadata": {},
   "outputs": [],
   "source": [
    "all_coefs <- all_coefs %>% \n",
    "    mutate(fold_change = tissue_coefs/tissue_predOn_coefs)  \n",
    "\n",
    "all_ceofs <- all_coefs[order(all_coefs$fold_change),] \n",
    "\n",
    "head_all_coefs <- head(all_ceofs,n=10)\n",
    "tail_all_coefs <- tail(all_ceofs,n=10)\n",
    "fold_plotting <- rbind(head_all_coefs,tail_all_coefs)\n",
    "\n",
    "posNeg_log10 <- function(number) {\n",
    "    if (number > 0) {\n",
    "         return(log10(number))\n",
    "    } else {\n",
    "         return(-log10(-number))\n",
    "    }\n",
    "}\n",
    "fold_plotting$log10_chnage <- as.numeric(lapply(fold_plotting$fold_change, posNeg_log10))\n",
    "\n"
   ]
  },
  {
   "cell_type": "code",
   "execution_count": 9,
   "id": "68e95f4d-0921-4bab-8802-2ca78212b1a1",
   "metadata": {},
   "outputs": [
    {
     "name": "stderr",
     "output_type": "stream",
     "text": [
      "Saving 6.67 x 6.67 in image\n",
      "\n"
     ]
    },
    {
     "data": {
      "image/png": "[encoded data removed]",
      "text/plain": [
       "plot without title"
      ]
     },
     "metadata": {
      "image/png": {
       "height": 420,
       "width": 420
      }
     },
     "output_type": "display_data"
    }
   ],
   "source": [
    "ggplot(data=fold_plotting,aes(x=reorder(name,log10_chnage),y=log10_chnage))+\n",
    "    geom_bar(stat=\"identity\",aes(fill=type))+\n",
    "    theme(axis.text.x = element_text(angle = 90, vjust = 0.5, hjust=1))+#https://stackoverflow.com/questions/1330989/rotating-and-spacing-axis-labels-in-ggplot2\n",
    "    ggtitle(paste(tissue,\"and\",tissue_predOn,\"coefs comparison\",sep=\" \"))\n",
    "ggsave(paste(tmp_file_path,\"analysis/global/plots/\",model_name,\"/coefFoldChange_\",tissue,\"_on_\",tissue_predOn,\".pdf\",sep=\"\"))"
   ]
  },
  {
   "cell_type": "code",
   "execution_count": null,
   "id": "473f8a1a-17e4-4213-9fa0-bccf1a1a62a4",
   "metadata": {},
   "outputs": [],
   "source": []
  }
 ],
 "metadata": {
  "kernelspec": {
   "display_name": "R [conda env:.conda-mutability] *",
   "language": "R",
   "name": "conda-env-.conda-mutability-r"
  },
  "language_info": {
   "codemirror_mode": "r",
   "file_extension": ".r",
   "mimetype": "text/x-r-source",
   "name": "R",
   "pygments_lexer": "r",
   "version": "4.0.5"
  }
 },
 "nbformat": 4,
 "nbformat_minor": 5
}
