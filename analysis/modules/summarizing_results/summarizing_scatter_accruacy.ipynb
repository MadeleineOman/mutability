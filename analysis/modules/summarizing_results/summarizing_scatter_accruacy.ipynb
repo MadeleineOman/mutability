{
 "cells": [
  {
   "cell_type": "code",
   "execution_count": 1,
   "id": "6fe14c0b-058f-45ce-9c06-024b4c4d7fd2",
   "metadata": {},
   "outputs": [
    {
     "name": "stdout",
     "output_type": "stream",
     "text": [
      "/research/projects/hsapiens/mutability/analysis/modules/summarizing_results\n"
     ]
    }
   ],
   "source": [
    "!pwd"
   ]
  },
  {
   "cell_type": "code",
   "execution_count": 2,
   "id": "5758a42c-3616-48db-89d3-18549c7fe47e",
   "metadata": {},
   "outputs": [],
   "source": [
    "import re \n",
    "import pandas as pd\n",
    "\n",
    "import sys\n",
    "\n",
    "model_name = sys.argv[1]\n",
    "model_desc = sys.argv[2]\n",
    "# model_name = \"model8\"\n",
    "# model_desc = \"_fullModel\"\n",
    "bin_size = 400\n",
    "\n",
    "tmp_path_to_files = \"\"\n",
    "\n",
    "MAE_df ={}\n",
    "MAE_df_onBins = {}\n",
    "MSE_df = {}\n",
    "r_squared_df = {}\n",
    "adj_r_squared_df = {}\n",
    "\n",
    "tissues = [\"blood\",\"germline\",\"liver\",\"skin\"]\n",
    "for tissue in tissues: \n",
    "    curtissue_MSEs =[]\n",
    "    curtissue_MAEs = []\n",
    "    curtissue_MAEs_onBins = []\n",
    "    curtissue_r_squareds = []\n",
    "    curtissue_adj_r_squareds = []\n",
    "    for tissue_predOn in tissues: \n",
    "        for line in open(\"{f}analysis/{t}/plots/{m}/{t}_on_{p}_createPlot_textOutput{d}.txt\".format(f=tmp_path_to_files,m=model_name,t=tissue,p=tissue_predOn,d=model_desc)).readlines():\n",
    "            if \"model mse predicting directly on mutations is\" in line: \n",
    "                cur_MSE = line.split()[-1].rstrip(\"\\n\")\n",
    "                curtissue_MSEs.append(cur_MSE)\n",
    "            if \"model mae predicting directly on mutations is\" in line: \n",
    "                cur_MAE = line.split()[-1].rstrip(\"\\n\")\n",
    "                curtissue_MAEs.append(cur_MAE)\n",
    "            if re.search(r\"^r-squared is\",line): # need regex for this one so doesnt match the adj r squared line\n",
    "                cur_r_squared = round(float(line.split()[-1].rstrip(\"\\n\")),3)\n",
    "                curtissue_r_squareds.append(cur_r_squared)\n",
    "            if \"adjusted r-squared\" in line: \n",
    "                cur_adj_r_squared = round(float(line.split()[-1].rstrip(\"\\n\")),3)\n",
    "                curtissue_adj_r_squareds.append(cur_adj_r_squared)\n",
    "            if \"MAE of the model on the bins\" in line: \n",
    "                cur_MAE_onBins = round(float(line.split()[-1].rstrip(\"\\n\")),3)\n",
    "                curtissue_MAEs_onBins.append(cur_MAE_onBins)\n",
    "                \n",
    "    MSE_df[tissue] = curtissue_MSEs\n",
    "    MAE_df[tissue] = curtissue_MAEs\n",
    "    MAE_df_onBins[tissue] = curtissue_MAEs_onBins\n",
    "    r_squared_df[tissue] = curtissue_r_squareds\n",
    "    adj_r_squared_df[tissue] = curtissue_adj_r_squareds\n",
    "\n",
    "    \n",
    "MSE_df = pd.DataFrame.from_dict(MSE_df,orient=\"index\")\n",
    "MSE_df.columns = [\"on_blood\",\"on_germline\",\"on_liver\",\"on_skin\"]\n",
    "MAE_df_onBins = pd.DataFrame.from_dict(MAE_df_onBins,orient=\"index\")\n",
    "MAE_df_onBins.columns = [\"on_blood\",\"on_germline\",\"on_liver\",\"on_skin\"]\n",
    "MAE_df = pd.DataFrame.from_dict(MAE_df,orient=\"index\")\n",
    "MAE_df.columns = [\"on_blood\",\"on_germline\",\"on_liver\",\"on_skin\"]\n",
    "r_squared_df = pd.DataFrame.from_dict(r_squared_df,orient=\"index\")\n",
    "r_squared_df.columns = [\"on_blood\",\"on_germline\",\"on_liver\",\"on_skin\"]\n",
    "adj_r_squared_df = pd.DataFrame.from_dict(adj_r_squared_df,orient=\"index\")\n",
    "adj_r_squared_df.columns = [\"on_blood\",\"on_germline\",\"on_liver\",\"on_skin\"]\n",
    "\n",
    "adj_r_squared_df.to_csv(\"{t}data/global/dataframes/{m}/adj_r_squared_df{d}_{b}.csv\".format(t=tmp_path_to_files,m=model_name,d=model_desc,b=bin_size))\n",
    "r_squared_df.to_csv(\"{t}data/global/dataframes/{m}/r_squared_df{d}_{b}.csv\".format(t=tmp_path_to_files,m=model_name,d=model_desc,b=bin_size))\n",
    "MAE_df.to_csv(\"{t}data/global/dataframes/{m}/MAE_df{d}_{b}.csv\".format(t=tmp_path_to_files,m=model_name,d=model_desc,b=bin_size))\n",
    "MSE_df.to_csv(\"{t}data/global/dataframes/{m}/MSE_df{d}_{b}.csv\".format(t=tmp_path_to_files,m=model_name,d=model_desc,b=bin_size))\n",
    "MAE_df_onBins.to_csv(\"{t}data/global/dataframes/{m}/MAE_df_onBins{d}_{b}.csv\".format(t=tmp_path_to_files,m=model_name,d=model_desc,b=bin_size))"
   ]
  },
  {
   "cell_type": "code",
   "execution_count": 8,
   "id": "6ef85f38-b027-4d02-8b3e-64c9eaa3a47c",
   "metadata": {},
   "outputs": [
    {
     "data": {
      "text/html": [
       "<div>\n",
       "<style scoped>\n",
       "    .dataframe tbody tr th:only-of-type {\n",
       "        vertical-align: middle;\n",
       "    }\n",
       "\n",
       "    .dataframe tbody tr th {\n",
       "        vertical-align: top;\n",
       "    }\n",
       "\n",
       "    .dataframe thead th {\n",
       "        text-align: right;\n",
       "    }\n",
       "</style>\n",
       "<table border=\"1\" class=\"dataframe\">\n",
       "  <thead>\n",
       "    <tr style=\"text-align: right;\">\n",
       "      <th></th>\n",
       "      <th>on_blood</th>\n",
       "      <th>on_germline</th>\n",
       "      <th>on_liver</th>\n",
       "      <th>on_skin</th>\n",
       "    </tr>\n",
       "  </thead>\n",
       "  <tbody>\n",
       "    <tr>\n",
       "      <th>blood</th>\n",
       "      <td>0.027</td>\n",
       "      <td>0.060</td>\n",
       "      <td>0.047</td>\n",
       "      <td>0.038</td>\n",
       "    </tr>\n",
       "    <tr>\n",
       "      <th>germline</th>\n",
       "      <td>0.045</td>\n",
       "      <td>0.018</td>\n",
       "      <td>0.043</td>\n",
       "      <td>0.073</td>\n",
       "    </tr>\n",
       "    <tr>\n",
       "      <th>liver</th>\n",
       "      <td>0.029</td>\n",
       "      <td>0.046</td>\n",
       "      <td>0.019</td>\n",
       "      <td>0.038</td>\n",
       "    </tr>\n",
       "    <tr>\n",
       "      <th>skin</th>\n",
       "      <td>0.093</td>\n",
       "      <td>0.107</td>\n",
       "      <td>0.106</td>\n",
       "      <td>0.020</td>\n",
       "    </tr>\n",
       "  </tbody>\n",
       "</table>\n",
       "</div>"
      ],
      "text/plain": [
       "          on_blood  on_germline  on_liver  on_skin\n",
       "blood        0.027        0.060     0.047    0.038\n",
       "germline     0.045        0.018     0.043    0.073\n",
       "liver        0.029        0.046     0.019    0.038\n",
       "skin         0.093        0.107     0.106    0.020"
      ]
     },
     "execution_count": 8,
     "metadata": {},
     "output_type": "execute_result"
    }
   ],
   "source": [
    "MAE_df_onBins"
   ]
  }
 ],
 "metadata": {
  "kernelspec": {
   "display_name": "Python [conda env:.conda-mutability] *",
   "language": "python",
   "name": "conda-env-.conda-mutability-py"
  },
  "language_info": {
   "codemirror_mode": {
    "name": "ipython",
    "version": 3
   },
   "file_extension": ".py",
   "mimetype": "text/x-python",
   "name": "python",
   "nbconvert_exporter": "python",
   "pygments_lexer": "ipython3",
   "version": "3.9.6"
  }
 },
 "nbformat": 4,
 "nbformat_minor": 5
}
