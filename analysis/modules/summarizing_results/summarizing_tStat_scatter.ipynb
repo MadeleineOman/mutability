{
 "cells": [
  {
   "cell_type": "code",
   "execution_count": 1,
   "id": "8efe7fd5-df52-4597-829f-702c0372b683",
   "metadata": {},
   "outputs": [
    {
     "name": "stdout",
     "output_type": "stream",
     "text": [
      "mean absolute error is 0.0671\n",
      "r-squared is 0.554298026480552\n"
     ]
    }
   ],
   "source": [
    "!head ../../../analysis/global/plots/model8/tStatScatter_blood_on_liver_textOutput_equiv_toLowest.txt"
   ]
  },
  {
   "cell_type": "code",
   "execution_count": 4,
   "id": "d9cd21e5-986a-4a2e-a711-4f33e6beaa17",
   "metadata": {},
   "outputs": [
    {
     "name": "stdout",
     "output_type": "stream",
     "text": [
      "[nan, 0.062, 0.06, 0.117] [nan, 0.579, 0.694, 0.131]\n",
      "[nan, nan, nan, nan] [nan, nan, nan, nan]\n",
      "[nan, 0.051, nan, nan] [nan, 0.598, nan, nan]\n",
      "[nan, 0.094, 0.09, nan] [nan, 0.062, 0.064, nan]\n"
     ]
    }
   ],
   "source": [
    "import pandas as pd\n",
    "import numpy as np\n",
    "\n",
    "import sys\n",
    "\n",
    "# model_name = sys.argv[1]\n",
    "# model_desc = sys.argv[2]\n",
    "model_name = \"model9\"\n",
    "model_desc = \"_equiv_toLowest\"\n",
    "\n",
    "tmp_path_to_files = \"../../../\"\n",
    "\n",
    "MAE_df ={}\n",
    "r_squared_df = {}\n",
    "\n",
    "tissues = [\"blood\",\"germline\",\"liver\",\"skin\"]\n",
    "comps_toDo = [\"blood_on_germline\",\"blood_on_liver\",\"blood_on_skin\", \"skin_on_liver\",\"skin_on_germline\",\"liver_on_germline\"]\n",
    "for tissue in tissues: \n",
    "    curtissue_MAEs = []\n",
    "    curtissue_r_squareds = []\n",
    "    for tissue_predOn in tissues: \n",
    "        if tissue+\"_on_\"+tissue_predOn in comps_toDo:  \n",
    "            for line in open(\"{f}analysis/global/plots/{m}/tStatScatter_{t}_on_{p}_textOutput{d}.txt\".format(f=tmp_path_to_files,m=model_name,t=tissue,p=tissue_predOn,d=model_desc)).readlines()[0:2]:\n",
    "                if \"mean absolute error\" in line: \n",
    "                    cur_MAE = round(float(line.split()[-1].rstrip(\"\\n\")),3)\n",
    "                    curtissue_MAEs.append(cur_MAE)\n",
    "                if \"r-squared \" in line: \n",
    "                    cur_r_squared = round(float(line.split()[-1].rstrip(\"\\n\")),3)\n",
    "                    curtissue_r_squareds.append(cur_r_squared)\n",
    "            \n",
    "        else: \n",
    "            curtissue_MAEs.append(np.nan)\n",
    "            curtissue_r_squareds.append(np.nan)\n",
    "    print(curtissue_MAEs, curtissue_r_squareds)\n",
    "    MAE_df[tissue] = curtissue_MAEs\n",
    "    r_squared_df[tissue] = curtissue_r_squareds\n",
    "    \n",
    "MAE_df = pd.DataFrame.from_dict(MAE_df,orient=\"index\")\n",
    "MAE_df.columns = [\"on_blood\",\"on_germline\",\"on_liver\",\"on_skin\"]\n",
    "r_squared_df = pd.DataFrame.from_dict(r_squared_df,orient=\"index\")\n",
    "r_squared_df.columns = [\"on_blood\",\"on_germline\",\"on_liver\",\"on_skin\"]\n",
    "    \n",
    "r_squared_df.to_csv(\"{t}data/global/dataframes/{m}/tStat_pairwaise_r_squared_df{d}.csv\".format(t=tmp_path_to_files,m=model_name,d=model_desc))\n",
    "MAE_df.to_csv(\"{t}data/global/dataframes/{m}/tStat_pairwaise_MAE_df{d}.csv\".format(t=tmp_path_to_files,m=model_name,d=model_desc))"
   ]
  },
  {
   "cell_type": "code",
   "execution_count": 2,
   "id": "7564458a-31d8-4627-b8a9-15c5e338169a",
   "metadata": {},
   "outputs": [
    {
     "data": {
      "text/html": [
       "<div>\n",
       "<style scoped>\n",
       "    .dataframe tbody tr th:only-of-type {\n",
       "        vertical-align: middle;\n",
       "    }\n",
       "\n",
       "    .dataframe tbody tr th {\n",
       "        vertical-align: top;\n",
       "    }\n",
       "\n",
       "    .dataframe thead th {\n",
       "        text-align: right;\n",
       "    }\n",
       "</style>\n",
       "<table border=\"1\" class=\"dataframe\">\n",
       "  <thead>\n",
       "    <tr style=\"text-align: right;\">\n",
       "      <th></th>\n",
       "      <th>on_blood</th>\n",
       "      <th>on_germline</th>\n",
       "      <th>on_liver</th>\n",
       "      <th>on_skin</th>\n",
       "    </tr>\n",
       "  </thead>\n",
       "  <tbody>\n",
       "    <tr>\n",
       "      <th>blood</th>\n",
       "      <td>NaN</td>\n",
       "      <td>0.062</td>\n",
       "      <td>0.06</td>\n",
       "      <td>0.117</td>\n",
       "    </tr>\n",
       "    <tr>\n",
       "      <th>germline</th>\n",
       "      <td>NaN</td>\n",
       "      <td>NaN</td>\n",
       "      <td>NaN</td>\n",
       "      <td>NaN</td>\n",
       "    </tr>\n",
       "    <tr>\n",
       "      <th>liver</th>\n",
       "      <td>NaN</td>\n",
       "      <td>0.051</td>\n",
       "      <td>NaN</td>\n",
       "      <td>NaN</td>\n",
       "    </tr>\n",
       "    <tr>\n",
       "      <th>skin</th>\n",
       "      <td>NaN</td>\n",
       "      <td>0.094</td>\n",
       "      <td>0.09</td>\n",
       "      <td>NaN</td>\n",
       "    </tr>\n",
       "  </tbody>\n",
       "</table>\n",
       "</div>"
      ],
      "text/plain": [
       "          on_blood  on_germline  on_liver  on_skin\n",
       "blood          NaN        0.062      0.06    0.117\n",
       "germline       NaN          NaN       NaN      NaN\n",
       "liver          NaN        0.051       NaN      NaN\n",
       "skin           NaN        0.094      0.09      NaN"
      ]
     },
     "execution_count": 2,
     "metadata": {},
     "output_type": "execute_result"
    }
   ],
   "source": [
    "! head ../../../data/global/dataframes/model9/tStat_pairwaise_MAE_df_equiv_toLowest.csv\n",
    "                data/global/dataframes/model9/tStat_pairwise_MAE_df_equiv_toLowest.csv "
   ]
  },
  {
   "cell_type": "code",
   "execution_count": 3,
   "id": "12dbf7e0-89d4-42be-9a9b-30dc4a671395",
   "metadata": {},
   "outputs": [
    {
     "data": {
      "text/html": [
       "<div>\n",
       "<style scoped>\n",
       "    .dataframe tbody tr th:only-of-type {\n",
       "        vertical-align: middle;\n",
       "    }\n",
       "\n",
       "    .dataframe tbody tr th {\n",
       "        vertical-align: top;\n",
       "    }\n",
       "\n",
       "    .dataframe thead th {\n",
       "        text-align: right;\n",
       "    }\n",
       "</style>\n",
       "<table border=\"1\" class=\"dataframe\">\n",
       "  <thead>\n",
       "    <tr style=\"text-align: right;\">\n",
       "      <th></th>\n",
       "      <th>on_blood</th>\n",
       "      <th>on_germline</th>\n",
       "      <th>on_liver</th>\n",
       "      <th>on_skin</th>\n",
       "    </tr>\n",
       "  </thead>\n",
       "  <tbody>\n",
       "    <tr>\n",
       "      <th>blood</th>\n",
       "      <td>NaN</td>\n",
       "      <td>0.579</td>\n",
       "      <td>0.694</td>\n",
       "      <td>0.131</td>\n",
       "    </tr>\n",
       "    <tr>\n",
       "      <th>germline</th>\n",
       "      <td>NaN</td>\n",
       "      <td>NaN</td>\n",
       "      <td>NaN</td>\n",
       "      <td>NaN</td>\n",
       "    </tr>\n",
       "    <tr>\n",
       "      <th>liver</th>\n",
       "      <td>NaN</td>\n",
       "      <td>0.598</td>\n",
       "      <td>NaN</td>\n",
       "      <td>NaN</td>\n",
       "    </tr>\n",
       "    <tr>\n",
       "      <th>skin</th>\n",
       "      <td>NaN</td>\n",
       "      <td>0.062</td>\n",
       "      <td>0.064</td>\n",
       "      <td>NaN</td>\n",
       "    </tr>\n",
       "  </tbody>\n",
       "</table>\n",
       "</div>"
      ],
      "text/plain": [
       "          on_blood  on_germline  on_liver  on_skin\n",
       "blood          NaN        0.579     0.694    0.131\n",
       "germline       NaN          NaN       NaN      NaN\n",
       "liver          NaN        0.598       NaN      NaN\n",
       "skin           NaN        0.062     0.064      NaN"
      ]
     },
     "execution_count": 3,
     "metadata": {},
     "output_type": "execute_result"
    }
   ],
   "source": [
    "r_squared_df"
   ]
  },
  {
   "cell_type": "code",
   "execution_count": null,
   "id": "59491707-7b14-4c3c-a534-f8e660cef3e0",
   "metadata": {},
   "outputs": [],
   "source": [
    "open(\"../../../analysis/global/plots/model8/tStatScatter_blood_on_germline_textOutput_equiv_toLowest.txt\")"
   ]
  },
  {
   "cell_type": "code",
   "execution_count": null,
   "id": "8611df34-14fe-4a76-b23b-95a562238a32",
   "metadata": {},
   "outputs": [],
   "source": [
    "/tStatScatter_blood_on_liver_textOutput_equiv_toLowest.txt\n",
    "/tStatScatter_blood_on_germline_textOutput_fullModel.tx"
   ]
  }
 ],
 "metadata": {
  "kernelspec": {
   "display_name": "Python [conda env:.conda-mutability] *",
   "language": "python",
   "name": "conda-env-.conda-mutability-py"
  },
  "language_info": {
   "codemirror_mode": {
    "name": "ipython",
    "version": 3
   },
   "file_extension": ".py",
   "mimetype": "text/x-python",
   "name": "python",
   "nbconvert_exporter": "python",
   "pygments_lexer": "ipython3",
   "version": "3.9.6"
  }
 },
 "nbformat": 4,
 "nbformat_minor": 5
}
